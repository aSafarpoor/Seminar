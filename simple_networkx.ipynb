{
  "nbformat": 4,
  "nbformat_minor": 0,
  "metadata": {
    "colab": {
      "name": "simple networkx.ipynb",
      "provenance": [],
      "collapsed_sections": [
        "_Kx3kMWxScUq",
        "XzQpcJTWSb0p",
        "fEi2_qYX8XUr",
        "zPXXJDpeA9Nt"
      ],
      "authorship_tag": "ABX9TyNCUetMPYCD9jK944VSL/Fo",
      "include_colab_link": true
    },
    "kernelspec": {
      "name": "python3",
      "display_name": "Python 3"
    },
    "language_info": {
      "name": "python"
    }
  },
  "cells": [
    {
      "cell_type": "markdown",
      "metadata": {
        "id": "view-in-github",
        "colab_type": "text"
      },
      "source": [
        "<a href=\"https://colab.research.google.com/github/aSafarpoor/Seminar/blob/main/simple_networkx.ipynb\" target=\"_parent\"><img src=\"https://colab.research.google.com/assets/colab-badge.svg\" alt=\"Open In Colab\"/></a>"
      ]
    },
    {
      "cell_type": "code",
      "source": [
        "import json\n",
        "from tqdm import tqdm\n",
        "import random\n",
        "from collections import Counter\n",
        "import pandas as pd\n",
        "import numpy as np\n",
        "import pickle"
      ],
      "metadata": {
        "id": "Z400ixCItKw7"
      },
      "execution_count": null,
      "outputs": []
    },
    {
      "cell_type": "markdown",
      "source": [
        "#simple using nx"
      ],
      "metadata": {
        "id": "zJwfbvwtJZxf"
      }
    },
    {
      "cell_type": "code",
      "source": [
        "import networkx as nx\n",
        "import matplotlib.pyplot as plt"
      ],
      "metadata": {
        "id": "u-QnH2q6IVte"
      },
      "execution_count": 42,
      "outputs": []
    },
    {
      "cell_type": "code",
      "source": [
        "G = nx.Graph()\n",
        "\n",
        "G.add_nodes_from(['A','B','C','D'],type ='c')\n",
        "G.add_nodes_from([1,2,3],type ='int')\n",
        "\n",
        "G.add_edge('A', 'B', weight=4, type='t1')\n",
        "G.add_edge('B', 'D', weight=2, type='t1')\n",
        "G.add_edge('A', 'C', weight=3, type='t2')\n",
        "G.add_edge('C', 'D', weight=4, type='t2')\n",
        "\n",
        "nx.shortest_path(G, 'A', 'D', weight='weight')"
      ],
      "metadata": {
        "colab": {
          "base_uri": "https://localhost:8080/"
        },
        "id": "vZyksCWBD2ZW",
        "outputId": "749a576b-1dff-44b9-9e96-285ac6b8c2b0"
      },
      "execution_count": 33,
      "outputs": [
        {
          "output_type": "execute_result",
          "data": {
            "text/plain": [
              "['A', 'B', 'D']"
            ]
          },
          "metadata": {},
          "execution_count": 33
        }
      ]
    },
    {
      "cell_type": "code",
      "source": [
        "for n, nbrs in G.adj.items():\n",
        "   for nbr, eattr in nbrs.items():\n",
        "       wt = eattr['weight']\n",
        "       print(n,nbr,wt,eattr)"
      ],
      "metadata": {
        "colab": {
          "base_uri": "https://localhost:8080/"
        },
        "id": "-PRBWbRYJwZH",
        "outputId": "081e80ee-0db0-4ce4-9ff8-25c2b9b60250"
      },
      "execution_count": 36,
      "outputs": [
        {
          "output_type": "stream",
          "name": "stdout",
          "text": [
            "A B 4 {'weight': 4, 'type': 't1'}\n",
            "A C 3 {'weight': 3, 'type': 't2'}\n",
            "B A 4 {'weight': 4, 'type': 't1'}\n",
            "B D 2 {'weight': 2, 'type': 't1'}\n",
            "C A 3 {'weight': 3, 'type': 't2'}\n",
            "C D 4 {'weight': 4, 'type': 't2'}\n",
            "D B 2 {'weight': 2, 'type': 't1'}\n",
            "D C 4 {'weight': 4, 'type': 't2'}\n"
          ]
        }
      ]
    },
    {
      "cell_type": "code",
      "source": [
        "G.adj['A']"
      ],
      "metadata": {
        "colab": {
          "base_uri": "https://localhost:8080/"
        },
        "id": "_Cm-vB6dJ3TB",
        "outputId": "27ec4951-a5c0-4a40-8cff-fb29d5d0007b"
      },
      "execution_count": 37,
      "outputs": [
        {
          "output_type": "execute_result",
          "data": {
            "text/plain": [
              "AtlasView({'B': {'weight': 4, 'type': 't1'}, 'C': {'weight': 3, 'type': 't2'}})"
            ]
          },
          "metadata": {},
          "execution_count": 37
        }
      ]
    },
    {
      "cell_type": "code",
      "source": [
        "CG = nx.complete_graph(n=10)\n",
        "print(CG.nodes)\n",
        "print(CG.edges)"
      ],
      "metadata": {
        "colab": {
          "base_uri": "https://localhost:8080/"
        },
        "id": "jgW_o3ZvJ3VZ",
        "outputId": "8040ba6a-f1af-4bd7-ae17-4e8ab143413a"
      },
      "execution_count": 40,
      "outputs": [
        {
          "output_type": "stream",
          "name": "stdout",
          "text": [
            "[0, 1, 2, 3, 4, 5, 6, 7, 8, 9]\n",
            "[(0, 1), (0, 2), (0, 3), (0, 4), (0, 5), (0, 6), (0, 7), (0, 8), (0, 9), (1, 2), (1, 3), (1, 4), (1, 5), (1, 6), (1, 7), (1, 8), (1, 9), (2, 3), (2, 4), (2, 5), (2, 6), (2, 7), (2, 8), (2, 9), (3, 4), (3, 5), (3, 6), (3, 7), (3, 8), (3, 9), (4, 5), (4, 6), (4, 7), (4, 8), (4, 9), (5, 6), (5, 7), (5, 8), (5, 9), (6, 7), (6, 8), (6, 9), (7, 8), (7, 9), (8, 9)]\n"
          ]
        }
      ]
    },
    {
      "cell_type": "code",
      "source": [
        "subax1 = plt.subplot(121)\n",
        "nx.draw(G, with_labels=True, font_weight='bold')\n",
        "subax2 = plt.subplot(122)\n",
        "nx.draw_shell(CG, with_labels=True, font_weight='bold')"
      ],
      "metadata": {
        "colab": {
          "base_uri": "https://localhost:8080/",
          "height": 247
        },
        "id": "K_L1x1oNLqFf",
        "outputId": "42abe74d-ab94-41a4-9a59-a144f595ac0b"
      },
      "execution_count": 43,
      "outputs": [
        {
          "output_type": "display_data",
          "data": {
            "image/png": "[encoded data removed]",
            "text/plain": [
              "<Figure size 432x288 with 2 Axes>"
            ]
          },
          "metadata": {}
        }
      ]
    },
    {
      "cell_type": "markdown",
      "source": [
        "# phase 2: best neighbour"
      ],
      "metadata": {
        "id": "MMtpFC6mM5po"
      }
    },
    {
      "cell_type": "code",
      "source": [
        "G = nx.Graph()\n",
        "\n",
        "G.add_edge(\"a\", \"b\", weight=0.6, type='T')\n",
        "G.add_edge(\"a\", \"c\", weight=0.2, type='T')\n",
        "G.add_edge(\"c\", \"d\", weight=0.1, type='T')\n",
        "G.add_edge(\"c\", \"e\", weight=0.7, type='Z')\n",
        "G.add_edge(\"c\", \"f\", weight=0.9, type='Z')\n",
        "G.add_edge(\"a\", \"d\", weight=0.3, type='Z')\n",
        "G.add_edge(\"a\", \"d\", weight=0.4, type='Z')\n",
        "G.add_edge(\"a\", \"d\", weight=0.3, type='ZT')\n",
        "\n",
        "\n",
        "c = 0 \n",
        "for (u, v, d) in G.edges(data=True):\n",
        "    print (c,'-->', u, v, d)\n",
        "    c+=1 "
      ],
      "metadata": {
        "colab": {
          "base_uri": "https://localhost:8080/"
        },
        "id": "fztGPyPSMK-_",
        "outputId": "d8384e13-b384-471c-c834-b759eea32699"
      },
      "execution_count": 49,
      "outputs": [
        {
          "output_type": "stream",
          "name": "stdout",
          "text": [
            "0 --> a b {'weight': 0.6, 'type': 'T'}\n",
            "1 --> a c {'weight': 0.2, 'type': 'T'}\n",
            "2 --> a d {'weight': 0.3, 'type': 'ZT'}\n",
            "3 --> c d {'weight': 0.1, 'type': 'T'}\n",
            "4 --> c e {'weight': 0.7, 'type': 'Z'}\n",
            "5 --> c f {'weight': 0.9, 'type': 'Z'}\n"
          ]
        }
      ]
    },
    {
      "cell_type": "code",
      "source": [
        "G.adj['a']"
      ],
      "metadata": {
        "colab": {
          "base_uri": "https://localhost:8080/"
        },
        "id": "gMnvDFfVOyfI",
        "outputId": "5f03912b-0cfb-405b-ee53-9b334a553abc"
      },
      "execution_count": 52,
      "outputs": [
        {
          "output_type": "execute_result",
          "data": {
            "text/plain": [
              "AtlasView({'b': {'weight': 0.6, 'type': 'T'}, 'c': {'weight': 0.2, 'type': 'T'}, 'd': {'weight': 0.3, 'type': 'ZT'}})"
            ]
          },
          "metadata": {},
          "execution_count": 52
        }
      ]
    },
    {
      "cell_type": "code",
      "source": [
        "for nbr in G.adj['a']:\n",
        "    print(nbr,G.adj['a'][nbr]['weight'])"
      ],
      "metadata": {
        "colab": {
          "base_uri": "https://localhost:8080/"
        },
        "id": "WCdpbdXWNl05",
        "outputId": "f7c8d0c9-03f0-4e66-8fe4-2a97307a9808"
      },
      "execution_count": 54,
      "outputs": [
        {
          "output_type": "stream",
          "name": "stdout",
          "text": [
            "b 0.6\n",
            "c 0.2\n",
            "d 0.3\n"
          ]
        }
      ]
    },
    {
      "cell_type": "code",
      "source": [
        ""
      ],
      "metadata": {
        "id": "WYXFYjUiOpwZ"
      },
      "execution_count": null,
      "outputs": []
    }
  ]
}