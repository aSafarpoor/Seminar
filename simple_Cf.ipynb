{
  "nbformat": 4,
  "nbformat_minor": 0,
  "metadata": {
    "colab": {
      "name": "simple Cf.ipynb",
      "provenance": [],
      "collapsed_sections": [],
      "authorship_tag": "ABX9TyM1eDaa4m9pSjlym4FcZSZ5",
      "include_colab_link": true
    },
    "kernelspec": {
      "name": "python3",
      "display_name": "Python 3"
    },
    "language_info": {
      "name": "python"
    }
  },
  "cells": [
    {
      "cell_type": "markdown",
      "metadata": {
        "id": "view-in-github",
        "colab_type": "text"
      },
      "source": [
        "<a href=\"https://colab.research.google.com/github/aSafarpoor/Seminar/blob/main/simple_Cf.ipynb\" target=\"_parent\"><img src=\"https://colab.research.google.com/assets/colab-badge.svg\" alt=\"Open In Colab\"/></a>"
      ]
    },
    {
      "cell_type": "code",
      "execution_count": null,
      "metadata": {
        "id": "pdv3D3EXle9g"
      },
      "outputs": [],
      "source": [
        "import json\n",
        "from tqdm import tqdm\n",
        "import random\n",
        "from collections import Counter\n",
        "import pandas as pd\n",
        "import numpy as np\n",
        "import pickle\n",
        "import matplotlib.pyplot as plt"
      ]
    },
    {
      "cell_type": "code",
      "source": [
        "from google.colab import drive\n",
        "drive.mount('/content/drive')"
      ],
      "metadata": {
        "colab": {
          "base_uri": "https://localhost:8080/"
        },
        "id": "-lJ9Pwp0lkdw",
        "outputId": "f8f29bcd-438f-4b33-c781-a8edd22ecc32"
      },
      "execution_count": null,
      "outputs": [
        {
          "output_type": "stream",
          "name": "stdout",
          "text": [
            "Mounted at /content/drive\n"
          ]
        }
      ]
    },
    {
      "cell_type": "code",
      "source": [
        "%cd drive\n",
        "%cd MyDrive\n",
        "%cd Seminar\n",
        "!ls"
      ],
      "metadata": {
        "colab": {
          "base_uri": "https://localhost:8080/"
        },
        "id": "xoRvNiIrllPb",
        "outputId": "058722bb-85ec-4509-b129-16e918b4127e"
      },
      "execution_count": null,
      "outputs": [
        {
          "output_type": "stream",
          "name": "stdout",
          "text": [
            "/content/drive\n",
            "/content/drive/MyDrive\n",
            "/content/drive/MyDrive/Seminar\n",
            "AMAZON_FASHION.json\t     ml-1m.test.negative  runs\n",
            "AMAZON_FASHION.json.gz\t     ml-1m.test.rating\t  test.csv\n",
            "embedded_text.p\t\t     ml-1m.train.rating   train.csv\n",
            "meta_AMAZON_FASHION.json     model.bin\t\t  train.gsheet\n",
            "meta_AMAZON_FASHION.json.gz  model_plot.png\t  user_item_matrix.p\n",
            "meta_data.p\t\t     models\t\t  user_tweets.p\n"
          ]
        }
      ]
    },
    {
      "cell_type": "code",
      "source": [
        "tweets = []\n",
        "for line in open('AMAZON_FASHION.json', 'r'):\n",
        "    tweets.append(json.loads(line))"
      ],
      "metadata": {
        "id": "Br7SQHu9nQ08"
      },
      "execution_count": null,
      "outputs": []
    },
    {
      "cell_type": "code",
      "source": [
        "len(tweets) , '\\n' , tweets[0]"
      ],
      "metadata": {
        "colab": {
          "base_uri": "https://localhost:8080/"
        },
        "id": "1vPMCMWunyla",
        "outputId": "b3f47f75-0b16-4b88-ce43-8d4fe9132b8a"
      },
      "execution_count": null,
      "outputs": [
        {
          "output_type": "execute_result",
          "data": {
            "text/plain": [
              "(883636,\n",
              " '\\n',\n",
              " {'asin': '7106116521',\n",
              "  'overall': 5.0,\n",
              "  'reviewText': 'Exactly what I needed.',\n",
              "  'reviewTime': '10 20, 2014',\n",
              "  'reviewerID': 'A1D4G1SNUZWQOT',\n",
              "  'reviewerName': 'Tracy',\n",
              "  'summary': 'perfect replacements!!',\n",
              "  'unixReviewTime': 1413763200,\n",
              "  'verified': True})"
            ]
          },
          "metadata": {},
          "execution_count": 5
        }
      ]
    },
    {
      "cell_type": "code",
      "source": [
        "df = pd.DataFrame(tweets)"
      ],
      "metadata": {
        "id": "-XNkA-K0n3wZ"
      },
      "execution_count": null,
      "outputs": []
    },
    {
      "cell_type": "code",
      "source": [
        "df = df[['asin','overall','reviewerID']]"
      ],
      "metadata": {
        "id": "UJG_KeSpodmJ"
      },
      "execution_count": null,
      "outputs": []
    },
    {
      "cell_type": "code",
      "source": [
        "df"
      ],
      "metadata": {
        "colab": {
          "base_uri": "https://localhost:8080/",
          "height": 423
        },
        "id": "yWkd90CQo5Pp",
        "outputId": "97946721-9b1d-40fb-8c08-2567b5298b23"
      },
      "execution_count": null,
      "outputs": [
        {
          "output_type": "execute_result",
          "data": {
            "text/plain": [
              "              asin  overall      reviewerID\n",
              "0       7106116521      5.0  A1D4G1SNUZWQOT\n",
              "1       7106116521      2.0  A3DDWDH9PX2YX2\n",
              "2       7106116521      4.0  A2MWC41EW7XL15\n",
              "3       7106116521      2.0  A2UH2QQ275NV45\n",
              "4       7106116521      3.0   A89F3LQADZBS5\n",
              "...            ...      ...             ...\n",
              "883631  B01HJHTH5U      5.0  A1ZSB2Q144UTEY\n",
              "883632  B01HJHTH5U      5.0  A2CCDV0J5VB6F2\n",
              "883633  B01HJHTH5U      3.0  A3O90PACS7B61K\n",
              "883634  B01HJHF97K      3.0  A2HO94I89U3LNH\n",
              "883635  B01HJG5NMW      5.0  A2RSX9E79DUHRX\n",
              "\n",
              "[883636 rows x 3 columns]"
            ],
            "text/html": [
              "\n",
              "  <div id=\"df-86695fea-0c8a-4d0b-9a5c-7ddd83516d2d\">\n",
              "    <div class=\"colab-df-container\">\n",
              "      <div>\n",
              "<style scoped>\n",
              "    .dataframe tbody tr th:only-of-type {\n",
              "        vertical-align: middle;\n",
              "    }\n",
              "\n",
              "    .dataframe tbody tr th {\n",
              "        vertical-align: top;\n",
              "    }\n",
              "\n",
              "    .dataframe thead th {\n",
              "        text-align: right;\n",
              "    }\n",
              "</style>\n",
              "<table border=\"1\" class=\"dataframe\">\n",
              "  <thead>\n",
              "    <tr style=\"text-align: right;\">\n",
              "      <th></th>\n",
              "      <th>asin</th>\n",
              "      <th>overall</th>\n",
              "      <th>reviewerID</th>\n",
              "    </tr>\n",
              "  </thead>\n",
              "  <tbody>\n",
              "    <tr>\n",
              "      <th>0</th>\n",
              "      <td>7106116521</td>\n",
              "      <td>5.0</td>\n",
              "      <td>A1D4G1SNUZWQOT</td>\n",
              "    </tr>\n",
              "    <tr>\n",
              "      <th>1</th>\n",
              "      <td>7106116521</td>\n",
              "      <td>2.0</td>\n",
              "      <td>A3DDWDH9PX2YX2</td>\n",
              "    </tr>\n",
              "    <tr>\n",
              "      <th>2</th>\n",
              "      <td>7106116521</td>\n",
              "      <td>4.0</td>\n",
              "      <td>A2MWC41EW7XL15</td>\n",
              "    </tr>\n",
              "    <tr>\n",
              "      <th>3</th>\n",
              "      <td>7106116521</td>\n",
              "      <td>2.0</td>\n",
              "      <td>A2UH2QQ275NV45</td>\n",
              "    </tr>\n",
              "    <tr>\n",
              "      <th>4</th>\n",
              "      <td>7106116521</td>\n",
              "      <td>3.0</td>\n",
              "      <td>A89F3LQADZBS5</td>\n",
              "    </tr>\n",
              "    <tr>\n",
              "      <th>...</th>\n",
              "      <td>...</td>\n",
              "      <td>...</td>\n",
              "      <td>...</td>\n",
              "    </tr>\n",
              "    <tr>\n",
              "      <th>883631</th>\n",
              "      <td>B01HJHTH5U</td>\n",
              "      <td>5.0</td>\n",
              "      <td>A1ZSB2Q144UTEY</td>\n",
              "    </tr>\n",
              "    <tr>\n",
              "      <th>883632</th>\n",
              "      <td>B01HJHTH5U</td>\n",
              "      <td>5.0</td>\n",
              "      <td>A2CCDV0J5VB6F2</td>\n",
              "    </tr>\n",
              "    <tr>\n",
              "      <th>883633</th>\n",
              "      <td>B01HJHTH5U</td>\n",
              "      <td>3.0</td>\n",
              "      <td>A3O90PACS7B61K</td>\n",
              "    </tr>\n",
              "    <tr>\n",
              "      <th>883634</th>\n",
              "      <td>B01HJHF97K</td>\n",
              "      <td>3.0</td>\n",
              "      <td>A2HO94I89U3LNH</td>\n",
              "    </tr>\n",
              "    <tr>\n",
              "      <th>883635</th>\n",
              "      <td>B01HJG5NMW</td>\n",
              "      <td>5.0</td>\n",
              "      <td>A2RSX9E79DUHRX</td>\n",
              "    </tr>\n",
              "  </tbody>\n",
              "</table>\n",
              "<p>883636 rows × 3 columns</p>\n",
              "</div>\n",
              "      <button class=\"colab-df-convert\" onclick=\"convertToInteractive('df-86695fea-0c8a-4d0b-9a5c-7ddd83516d2d')\"\n",
              "              title=\"Convert this dataframe to an interactive table.\"\n",
              "              style=\"display:none;\">\n",
              "        \n",
              "  <svg xmlns=\"http://www.w3.org/2000/svg\" height=\"24px\"viewBox=\"0 0 24 24\"\n",
              "       width=\"24px\">\n",
              "    <path d=\"M0 0h24v24H0V0z\" fill=\"none\"/>\n",
              "    <path d=\"M18.56 5.44l.94 2.06.94-2.06 2.06-.94-2.06-.94-.94-2.06-.94 2.06-2.06.94zm-11 1L8.5 8.5l.94-2.06 2.06-.94-2.06-.94L8.5 2.5l-.94 2.06-2.06.94zm10 10l.94 2.06.94-2.06 2.06-.94-2.06-.94-.94-2.06-.94 2.06-2.06.94z\"/><path d=\"M17.41 7.96l-1.37-1.37c-.4-.4-.92-.59-1.43-.59-.52 0-1.04.2-1.43.59L10.3 9.45l-7.72 7.72c-.78.78-.78 2.05 0 2.83L4 21.41c.39.39.9.59 1.41.59.51 0 1.02-.2 1.41-.59l7.78-7.78 2.81-2.81c.8-.78.8-2.07 0-2.86zM5.41 20L4 18.59l7.72-7.72 1.47 1.35L5.41 20z\"/>\n",
              "  </svg>\n",
              "      </button>\n",
              "      \n",
              "  <style>\n",
              "    .colab-df-container {\n",
              "      display:flex;\n",
              "      flex-wrap:wrap;\n",
              "      gap: 12px;\n",
              "    }\n",
              "\n",
              "    .colab-df-convert {\n",
              "      background-color: #E8F0FE;\n",
              "      border: none;\n",
              "      border-radius: 50%;\n",
              "      cursor: pointer;\n",
              "      display: none;\n",
              "      fill: #1967D2;\n",
              "      height: 32px;\n",
              "      padding: 0 0 0 0;\n",
              "      width: 32px;\n",
              "    }\n",
              "\n",
              "    .colab-df-convert:hover {\n",
              "      background-color: #E2EBFA;\n",
              "      box-shadow: 0px 1px 2px rgba(60, 64, 67, 0.3), 0px 1px 3px 1px rgba(60, 64, 67, 0.15);\n",
              "      fill: #174EA6;\n",
              "    }\n",
              "\n",
              "    [theme=dark] .colab-df-convert {\n",
              "      background-color: #3B4455;\n",
              "      fill: #D2E3FC;\n",
              "    }\n",
              "\n",
              "    [theme=dark] .colab-df-convert:hover {\n",
              "      background-color: #434B5C;\n",
              "      box-shadow: 0px 1px 3px 1px rgba(0, 0, 0, 0.15);\n",
              "      filter: drop-shadow(0px 1px 2px rgba(0, 0, 0, 0.3));\n",
              "      fill: #FFFFFF;\n",
              "    }\n",
              "  </style>\n",
              "\n",
              "      <script>\n",
              "        const buttonEl =\n",
              "          document.querySelector('#df-86695fea-0c8a-4d0b-9a5c-7ddd83516d2d button.colab-df-convert');\n",
              "        buttonEl.style.display =\n",
              "          google.colab.kernel.accessAllowed ? 'block' : 'none';\n",
              "\n",
              "        async function convertToInteractive(key) {\n",
              "          const element = document.querySelector('#df-86695fea-0c8a-4d0b-9a5c-7ddd83516d2d');\n",
              "          const dataTable =\n",
              "            await google.colab.kernel.invokeFunction('convertToInteractive',\n",
              "                                                     [key], {});\n",
              "          if (!dataTable) return;\n",
              "\n",
              "          const docLinkHtml = 'Like what you see? Visit the ' +\n",
              "            '<a target=\"_blank\" href=https://colab.research.google.com/notebooks/data_table.ipynb>data table notebook</a>'\n",
              "            + ' to learn more about interactive tables.';\n",
              "          element.innerHTML = '';\n",
              "          dataTable['output_type'] = 'display_data';\n",
              "          await google.colab.output.renderOutput(dataTable, element);\n",
              "          const docLink = document.createElement('div');\n",
              "          docLink.innerHTML = docLinkHtml;\n",
              "          element.appendChild(docLink);\n",
              "        }\n",
              "      </script>\n",
              "    </div>\n",
              "  </div>\n",
              "  "
            ]
          },
          "metadata": {},
          "execution_count": 12
        }
      ]
    },
    {
      "cell_type": "code",
      "source": [
        "users=list(set(df.reviewerID))\n",
        "items=list(set(df.asin))\n",
        "print(' users:',len(users),'\\n items:',len(items),'\\n relations:',len(df),'\\n','sparsity percentage:',\n",
        "      round(len(df)/(len(users)*len(items))*100,5),'\\n','mean degree for users:',round(len(df)/len(users),3),\n",
        "      '\\n','mean degree for users:',round(2*len(df)/(len(users)+len(items)),3))"
      ],
      "metadata": {
        "colab": {
          "base_uri": "https://localhost:8080/"
        },
        "id": "Ldw30kY4o5z5",
        "outputId": "af0c7365-2dc2-4c6f-a05b-3e1973eb94be"
      },
      "execution_count": null,
      "outputs": [
        {
          "output_type": "stream",
          "name": "stdout",
          "text": [
            " users: 749233 \n",
            " items: 186189 \n",
            " relations: 883636 \n",
            " sparsity percentage: 0.00063 \n",
            " mean degree for users: 1.179 \n",
            " mean degree for users: 1.889\n"
          ]
        }
      ]
    },
    {
      "cell_type": "code",
      "source": [
        "def item2id_convertor(items):\n",
        "    d = {}\n",
        "    c = 0\n",
        "    for i in items:\n",
        "        d[i]=c\n",
        "        d[c]=i\n",
        "        c+=1\n",
        "    return d\n",
        "\n",
        "ditem = item2id_convertor(items)"
      ],
      "metadata": {
        "id": "CsmhCHh1sZpG"
      },
      "execution_count": null,
      "outputs": []
    },
    {
      "cell_type": "code",
      "source": [
        "threshold = 2"
      ],
      "metadata": {
        "id": "bBIYpfTJtcb1"
      },
      "execution_count": null,
      "outputs": []
    },
    {
      "cell_type": "code",
      "source": [
        "dicuseritem = {}\n",
        "for row in tqdm(df.iterrows()):\n",
        "    i = row[1].asin\n",
        "    u = row[1].reviewerID\n",
        "    i_id = ditem[i]\n",
        "    r = row[1].overall\n",
        "\n",
        "    if r>=threshold:\n",
        "        if u in dicuseritem:\n",
        "            dicuseritem[u].append(i_id)\n",
        "        else:\n",
        "            dicuseritem[u]=[i_id]"
      ],
      "metadata": {
        "colab": {
          "base_uri": "https://localhost:8080/"
        },
        "id": "0bsoQq4VqKK4",
        "outputId": "cd80c068-30a2-44ee-f9c9-efd5115ad2e5"
      },
      "execution_count": null,
      "outputs": [
        {
          "output_type": "stream",
          "name": "stderr",
          "text": [
            "883636it [01:41, 8697.10it/s] \n"
          ]
        }
      ]
    },
    {
      "cell_type": "code",
      "source": [
        "def cosine_similarity(a,b):\n",
        "    l = len(a)\n",
        "    c = 0\n",
        "    for i in a:\n",
        "        if i in b:\n",
        "            c+=1\n",
        "    return(c*1000/l)"
      ],
      "metadata": {
        "id": "Wp7_Kv4kuYmU"
      },
      "execution_count": null,
      "outputs": []
    },
    {
      "cell_type": "code",
      "source": [
        "h = np.zeros(1000)\n",
        "for row in dicuseritem.values():\n",
        "    h[len(row)]+=1\n",
        "\n",
        "for i in range(1,10):\n",
        "    print(i,'-->',int(h[i]))\n",
        "\n",
        "for c in range(10,100):\n",
        "    plt.bar(c,h[c])"
      ],
      "metadata": {
        "colab": {
          "base_uri": "https://localhost:8080/",
          "height": 429
        },
        "id": "XJRzzVHlvAUT",
        "outputId": "85db6ec5-b366-40dd-f92a-c5c36e6ba663"
      },
      "execution_count": null,
      "outputs": [
        {
          "output_type": "stream",
          "name": "stdout",
          "text": [
            "1 --> 579559\n",
            "2 --> 62240\n",
            "3 --> 11435\n",
            "4 --> 4435\n",
            "5 --> 1415\n",
            "6 --> 632\n",
            "7 --> 312\n",
            "8 --> 463\n",
            "9 --> 114\n"
          ]
        },
        {
          "output_type": "display_data",
          "data": {
            "text/plain": [
              "<Figure size 432x288 with 1 Axes>"
            ],
            "image/png": "[encoded data removed]"
          },
          "metadata": {
            "needs_background": "light"
          }
        }
      ]
    },
    {
      "cell_type": "code",
      "source": [
        "def recmmender(u1,users,dicuseritem):\n",
        "    most_similar_user = -1\n",
        "    max_similarity_score = -1\n",
        "\n",
        "    if u1 not in dicuseritem:\n",
        "        print(\"cold-start\\n\")\n",
        "        return \"\"\n",
        "\n",
        "    u1sorteditemlist = dicuseritem[u1][:]\n",
        "    u1sorteditemlist.sort()\n",
        "\n",
        "    for user in users:\n",
        "        if u1 == user:\n",
        "            continue\n",
        "        try:\n",
        "            temp = dicuseritem[user][:]\n",
        "            temp.sort()\n",
        "            if u1sorteditemlist == dicuseritem[user]:\n",
        "                continue\n",
        "            score = cosine_similarity(u1sorteditemlist,dicuseritem[user])\n",
        "            if score > max_similarity_score:\n",
        "                max_similarity_score = score\n",
        "                most_similar_user = user\n",
        "        except:\n",
        "            pass\n",
        "\n",
        "    return max_similarity_score,user"
      ],
      "metadata": {
        "id": "C8UI_ZaUwjmi"
      },
      "execution_count": null,
      "outputs": []
    },
    {
      "cell_type": "code",
      "source": [
        "most_simialr = []\n",
        "for u in tqdm(users[:10]):\n",
        "    most_simialr.append(recmmender(u,users,dicuseritem))"
      ],
      "metadata": {
        "colab": {
          "base_uri": "https://localhost:8080/"
        },
        "id": "tUFV2IVQ83I5",
        "outputId": "db192da1-26ed-4f9c-ff60-a3738baedaec"
      },
      "execution_count": null,
      "outputs": [
        {
          "output_type": "stream",
          "name": "stderr",
          "text": [
            " 70%|███████   | 7/10 [00:09<00:03,  1.26s/it]"
          ]
        },
        {
          "output_type": "stream",
          "name": "stdout",
          "text": [
            "cold-start\n",
            "\n"
          ]
        },
        {
          "output_type": "stream",
          "name": "stderr",
          "text": [
            "100%|██████████| 10/10 [00:12<00:00,  1.24s/it]\n"
          ]
        }
      ]
    },
    {
      "cell_type": "code",
      "source": [
        "for i in most_simialr:\n",
        "    print(i)"
      ],
      "metadata": {
        "colab": {
          "base_uri": "https://localhost:8080/"
        },
        "id": "zQVZeWK085fX",
        "outputId": "f9396a94-c1f5-43cf-8b36-1e0099dbe819"
      },
      "execution_count": null,
      "outputs": [
        {
          "output_type": "stream",
          "name": "stdout",
          "text": [
            "(0.0, 'A30UUHRQUEXNLL')\n",
            "(1000.0, 'A30UUHRQUEXNLL')\n",
            "(1000.0, 'A30UUHRQUEXNLL')\n",
            "(0.0, 'A30UUHRQUEXNLL')\n",
            "(1000.0, 'A30UUHRQUEXNLL')\n",
            "(1000.0, 'A30UUHRQUEXNLL')\n",
            "(0.0, 'A30UUHRQUEXNLL')\n",
            "\n",
            "(1000.0, 'A30UUHRQUEXNLL')\n",
            "(1000.0, 'A30UUHRQUEXNLL')\n"
          ]
        }
      ]
    },
    {
      "cell_type": "code",
      "source": [
        ""
      ],
      "metadata": {
        "id": "_7Qip43YAcx0"
      },
      "execution_count": null,
      "outputs": []
    }
  ]
}