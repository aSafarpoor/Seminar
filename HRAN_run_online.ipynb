{
  "nbformat": 4,
  "nbformat_minor": 0,
  "metadata": {
    "colab": {
      "name": "HRAN-run online.ipynb",
      "provenance": [],
      "authorship_tag": "ABX9TyPbUF7gM3xM0c93TjVJ5UpI",
      "include_colab_link": true
    },
    "kernelspec": {
      "name": "python3",
      "display_name": "Python 3"
    },
    "language_info": {
      "name": "python"
    },
    "accelerator": "GPU"
  },
  "cells": [
    {
      "cell_type": "markdown",
      "metadata": {
        "id": "view-in-github",
        "colab_type": "text"
      },
      "source": [
        "<a href=\"https://colab.research.google.com/github/aSafarpoor/Seminar/blob/main/HRAN_run_online.ipynb\" target=\"_parent\"><img src=\"https://colab.research.google.com/assets/colab-badge.svg\" alt=\"Open In Colab\"/></a>"
      ]
    },
    {
      "cell_type": "code",
      "source": [
        "from matplotlib import pyplot as plt"
      ],
      "metadata": {
        "id": "Io7_1gqIPpPQ"
      },
      "execution_count": 21,
      "outputs": []
    },
    {
      "cell_type": "code",
      "execution_count": 1,
      "metadata": {
        "id": "GSyrBidi60zX",
        "colab": {
          "base_uri": "https://localhost:8080/"
        },
        "outputId": "a10012a5-5a24-47a9-b507-a1335b4c7608"
      },
      "outputs": [
        {
          "output_type": "stream",
          "name": "stdout",
          "text": [
            "Mounted at /content/drive\n"
          ]
        }
      ],
      "source": [
        "from google.colab import drive\n",
        "drive.mount('/content/drive')"
      ]
    },
    {
      "cell_type": "code",
      "source": [
        "%cd drive/MyDrive/MSc/codes/HRAN\n",
        "%ls"
      ],
      "metadata": {
        "colab": {
          "base_uri": "https://localhost:8080/"
        },
        "id": "qrULkbUAIsCP",
        "outputId": "da2622a2-c4ff-460a-a435-ca947d910d6b"
      },
      "execution_count": 13,
      "outputs": [
        {
          "output_type": "stream",
          "name": "stdout",
          "text": [
            "[Errno 2] No such file or directory: 'drive/MyDrive/MSc/codes/HRAN'\n",
            "/content/drive/MyDrive/MSc/codes/HRAN\n",
            "\u001b[0m\u001b[01;34mdata\u001b[0m/  hran.py  load_data.py  main.py  \u001b[01;34m__pycache__\u001b[0m/  \u001b[01;34mresults\u001b[0m/  train_eval.py\n"
          ]
        }
      ]
    },
    {
      "cell_type": "code",
      "source": [
        "!python main.py"
      ],
      "metadata": {
        "colab": {
          "base_uri": "https://localhost:8080/"
        },
        "id": "mfLFHZqWJdWr",
        "outputId": "5adf94d2-ae30-4641-8388-38d81ed385d0"
      },
      "execution_count": 14,
      "outputs": [
        {
          "output_type": "stream",
          "name": "stdout",
          "text": [
            "Namespace(batch_size=64, decay_rate=1.0, ent_vec_dim=100, feature_map_dropout=0.2, filt_h=1, filt_w=7, get_best_results=True, get_complex_results=False, hidden_dropout=0.3, in_channels=1, input_dropout=0.2, label_smoothing=0.1, learning_rate=0.001, model_name='HRAN', num_iterations=1500, num_to_eval=5, optimizer_method='RAdam', out_channels=36, rel_vec_dim=200)\n",
            "data set: \n",
            "data set: 14134 number of relations: 22\n",
            "data set: 53472 data set: 1216 data set: 1202\n",
            "----- Start training -----\n",
            "iteration:  1  /  1500\n",
            "523it [00:40, 12.98it/s]\n",
            "/usr/local/lib/python3.7/dist-packages/torch/optim/lr_scheduler.py:156: UserWarning: The epoch parameter in `scheduler.step()` was not necessary and is being deprecated where possible. Please use `scheduler.step()` to step the scheduler. During the deprecation, if epoch is different from None, the closed form is used instead of the new chainable form, where available. Please open an issue if you are unable to replicate your use case: https://github.com/pytorch/pytorch/issues/new/choose.\n",
            "  warnings.warn(EPOCH_DEPRECATION_WARNING, UserWarning)\n",
            "Iteration:0   epoch loss: 250.14647   time cost: 40.306\n",
            "iteration:  2  /  1500\n",
            "523it [00:40, 12.94it/s]\n",
            "Iteration:1   epoch loss: 9.15665   time cost: 40.432\n",
            "iteration:  3  /  1500\n",
            "523it [00:40, 12.84it/s]\n",
            "Iteration:2   epoch loss: 4.25961   time cost: 40.722\n",
            "iteration:  4  /  1500\n",
            "523it [00:40, 12.77it/s]\n",
            "Iteration:3   epoch loss: 2.83511   time cost: 40.968\n",
            "iteration:  5  /  1500\n",
            "523it [00:41, 12.75it/s]\n",
            "Iteration:4   epoch loss: 2.20054   time cost: 41.030\n",
            "----- Test_data evaluation -----\n",
            "----- [HRAN]: [] results -----\n",
            "Hits  @10: 0.001, Best  Hits @10: 0.001\n",
            "Hits   @3: 0.000, Best  Hits  @3: 0.000\n",
            "Hits   @1: 0.000, Best  Hits  @1: 0.000\n",
            "MR : 6705.393, Best MR : 6705.393\n",
            "MRR: 0.001, Best MRR: 0.001\n",
            "iteration:  6  /  1500\n",
            "523it [00:40, 12.77it/s]\n",
            "Iteration:5   epoch loss: 1.88157   time cost: 40.967\n",
            "iteration:  7  /  1500\n",
            "523it [00:41, 12.70it/s]\n",
            "Iteration:6   epoch loss: 1.94755   time cost: 41.189\n",
            "iteration:  8  /  1500\n",
            "523it [00:41, 12.68it/s]\n",
            "Iteration:7   epoch loss: 1.76472   time cost: 41.246\n",
            "iteration:  9  /  1500\n",
            "523it [00:41, 12.65it/s]\n",
            "Iteration:8   epoch loss: 1.62306   time cost: 41.336\n",
            "iteration:  10  /  1500\n",
            "523it [00:41, 12.67it/s]\n",
            "Iteration:9   epoch loss: 1.62649   time cost: 41.272\n",
            "----- Test_data evaluation -----\n",
            "----- [HRAN]: [] results -----\n",
            "Hits  @10: 0.001, Best  Hits @10: 0.001\n",
            "Hits   @3: 0.000, Best  Hits  @3: 0.000\n",
            "Hits   @1: 0.000, Best  Hits  @1: 0.000\n",
            "MR : 5673.473, Best MR : 5673.473\n",
            "MRR: 0.002, Best MRR: 0.002\n",
            "iteration:  11  /  1500\n",
            "523it [00:41, 12.66it/s]\n",
            "Iteration:10   epoch loss: 1.52669   time cost: 41.311\n",
            "iteration:  12  /  1500\n",
            "523it [00:41, 12.64it/s]\n",
            "Iteration:11   epoch loss: 1.53485   time cost: 41.382\n",
            "iteration:  13  /  1500\n",
            "523it [00:41, 12.63it/s]\n",
            "Iteration:12   epoch loss: 1.43536   time cost: 41.400\n",
            "iteration:  14  /  1500\n",
            "523it [00:41, 12.66it/s]\n",
            "Iteration:13   epoch loss: 1.44351   time cost: 41.307\n",
            "iteration:  15  /  1500\n",
            "523it [00:41, 12.64it/s]\n",
            "Iteration:14   epoch loss: 2.81630   time cost: 41.393\n",
            "----- Test_data evaluation -----\n",
            "----- [HRAN]: [] results -----\n",
            "Hits  @10: 0.002, Best  Hits @10: 0.002\n",
            "Hits   @3: 0.000, Best  Hits  @3: 0.000\n",
            "Hits   @1: 0.000, Best  Hits  @1: 0.000\n",
            "MR : 7473.864, Best MR : 5673.473\n",
            "MRR: 0.001, Best MRR: 0.002\n",
            "iteration:  16  /  1500\n",
            "523it [00:41, 12.63it/s]\n",
            "Iteration:15   epoch loss: 1.89324   time cost: 41.412\n",
            "iteration:  17  /  1500\n",
            "523it [00:41, 12.66it/s]\n",
            "Iteration:16   epoch loss: 1.59202   time cost: 41.327\n",
            "iteration:  18  /  1500\n",
            "523it [00:41, 12.67it/s]\n",
            "Iteration:17   epoch loss: 1.52302   time cost: 41.294\n",
            "iteration:  19  /  1500\n",
            "523it [00:41, 12.64it/s]\n",
            "Iteration:18   epoch loss: 1.45872   time cost: 41.385\n",
            "iteration:  20  /  1500\n",
            "523it [00:41, 12.66it/s]\n",
            "Iteration:19   epoch loss: 1.42115   time cost: 41.305\n",
            "----- Test_data evaluation -----\n",
            "----- [HRAN]: [] results -----\n",
            "Hits  @10: 0.010, Best  Hits @10: 0.010\n",
            "Hits   @3: 0.001, Best  Hits  @3: 0.001\n",
            "Hits   @1: 0.000, Best  Hits  @1: 0.000\n",
            "MR : 5143.620, Best MR : 5143.620\n",
            "MRR: 0.003, Best MRR: 0.003\n",
            "iteration:  21  /  1500\n",
            "523it [00:41, 12.66it/s]\n",
            "Iteration:20   epoch loss: 1.32921   time cost: 41.320\n",
            "iteration:  22  /  1500\n",
            "523it [00:41, 12.65it/s]\n",
            "Iteration:21   epoch loss: 1.25756   time cost: 41.339\n",
            "iteration:  23  /  1500\n",
            "523it [00:41, 12.67it/s]\n",
            "Iteration:22   epoch loss: 1.19459   time cost: 41.268\n",
            "iteration:  24  /  1500\n",
            "523it [00:41, 12.64it/s]\n",
            "Iteration:23   epoch loss: 1.12154   time cost: 41.389\n",
            "iteration:  25  /  1500\n",
            "523it [00:41, 12.69it/s]\n",
            "Iteration:24   epoch loss: 1.06499   time cost: 41.208\n",
            "----- Test_data evaluation -----\n",
            "----- [HRAN]: [] results -----\n",
            "Hits  @10: 0.012, Best  Hits @10: 0.012\n",
            "Hits   @3: 0.008, Best  Hits  @3: 0.008\n",
            "Hits   @1: 0.004, Best  Hits  @1: 0.004\n",
            "MR : 5082.237, Best MR : 5082.237\n",
            "MRR: 0.008, Best MRR: 0.008\n",
            "iteration:  26  /  1500\n",
            "523it [00:41, 12.66it/s]\n",
            "Iteration:25   epoch loss: 0.98204   time cost: 41.310\n",
            "iteration:  27  /  1500\n",
            "523it [00:41, 12.64it/s]\n",
            "Iteration:26   epoch loss: 0.92728   time cost: 41.364\n",
            "iteration:  28  /  1500\n",
            "523it [00:41, 12.66it/s]\n",
            "Iteration:27   epoch loss: 0.89338   time cost: 41.312\n",
            "iteration:  29  /  1500\n",
            "523it [00:41, 12.66it/s]\n",
            "Iteration:28   epoch loss: 0.84940   time cost: 41.320\n",
            "iteration:  30  /  1500\n",
            "523it [00:41, 12.67it/s]\n",
            "Iteration:29   epoch loss: 0.81781   time cost: 41.268\n",
            "----- Test_data evaluation -----\n",
            "----- [HRAN]: [] results -----\n",
            "Hits  @10: 0.011, Best  Hits @10: 0.012\n",
            "Hits   @3: 0.004, Best  Hits  @3: 0.008\n",
            "Hits   @1: 0.001, Best  Hits  @1: 0.004\n",
            "MR : 4716.903, Best MR : 4716.903\n",
            "MRR: 0.005, Best MRR: 0.008\n",
            "iteration:  31  /  1500\n",
            "523it [00:41, 12.65it/s]\n",
            "Iteration:30   epoch loss: 0.88807   time cost: 41.352\n",
            "iteration:  32  /  1500\n",
            "523it [00:41, 12.66it/s]\n",
            "Iteration:31   epoch loss: 0.83441   time cost: 41.304\n",
            "iteration:  33  /  1500\n",
            "523it [00:41, 12.69it/s]\n",
            "Iteration:32   epoch loss: 0.78919   time cost: 41.207\n",
            "iteration:  34  /  1500\n",
            "523it [00:41, 12.68it/s]\n",
            "Iteration:33   epoch loss: 0.75596   time cost: 41.236\n",
            "iteration:  35  /  1500\n",
            "523it [00:41, 12.67it/s]\n",
            "Iteration:34   epoch loss: 0.74587   time cost: 41.268\n",
            "----- Test_data evaluation -----\n",
            "----- [HRAN]: [] results -----\n",
            "Hits  @10: 0.003, Best  Hits @10: 0.012\n",
            "Hits   @3: 0.002, Best  Hits  @3: 0.008\n",
            "Hits   @1: 0.001, Best  Hits  @1: 0.004\n",
            "MR : 7779.419, Best MR : 4716.903\n",
            "MRR: 0.002, Best MRR: 0.008\n",
            "iteration:  36  /  1500\n",
            "523it [00:41, 12.66it/s]\n",
            "Iteration:35   epoch loss: 0.85200   time cost: 41.303\n",
            "iteration:  37  /  1500\n",
            "523it [00:41, 12.67it/s]\n",
            "Iteration:36   epoch loss: 0.76245   time cost: 41.285\n",
            "iteration:  38  /  1500\n",
            "523it [00:41, 12.64it/s]\n",
            "Iteration:37   epoch loss: 0.73602   time cost: 41.386\n",
            "iteration:  39  /  1500\n",
            "523it [00:41, 12.69it/s]\n",
            "Iteration:38   epoch loss: 0.70882   time cost: 41.218\n",
            "iteration:  40  /  1500\n",
            "523it [00:41, 12.66it/s]\n",
            "Iteration:39   epoch loss: 0.73744   time cost: 41.303\n",
            "----- Test_data evaluation -----\n",
            "----- [HRAN]: [] results -----\n",
            "Hits  @10: 0.014, Best  Hits @10: 0.014\n",
            "Hits   @3: 0.007, Best  Hits  @3: 0.008\n",
            "Hits   @1: 0.003, Best  Hits  @1: 0.004\n",
            "MR : 3486.408, Best MR : 3486.408\n",
            "MRR: 0.009, Best MRR: 0.009\n",
            "iteration:  41  /  1500\n",
            "523it [00:41, 12.65it/s]\n",
            "Iteration:40   epoch loss: 0.76299   time cost: 41.334\n",
            "iteration:  42  /  1500\n",
            "523it [00:40, 12.78it/s]\n",
            "Iteration:41   epoch loss: 0.71289   time cost: 40.938\n",
            "iteration:  43  /  1500\n",
            "523it [00:40, 12.78it/s]\n",
            "Iteration:42   epoch loss: 0.67402   time cost: 40.929\n",
            "iteration:  44  /  1500\n",
            "523it [00:40, 12.77it/s]\n",
            "Iteration:43   epoch loss: 0.66382   time cost: 40.942\n",
            "iteration:  45  /  1500\n",
            "523it [00:41, 12.76it/s]\n",
            "Iteration:44   epoch loss: 0.64431   time cost: 41.003\n",
            "----- Test_data evaluation -----\n",
            "----- [HRAN]: [] results -----\n",
            "Hits  @10: 0.052, Best  Hits @10: 0.052\n",
            "Hits   @3: 0.019, Best  Hits  @3: 0.019\n",
            "Hits   @1: 0.010, Best  Hits  @1: 0.010\n",
            "MR : 2408.205, Best MR : 2408.205\n",
            "MRR: 0.026, Best MRR: 0.026\n",
            "iteration:  46  /  1500\n",
            "523it [00:40, 12.78it/s]\n",
            "Iteration:45   epoch loss: 0.62484   time cost: 40.917\n",
            "iteration:  47  /  1500\n",
            "523it [00:40, 12.79it/s]\n",
            "Iteration:46   epoch loss: 0.60077   time cost: 40.884\n",
            "iteration:  48  /  1500\n",
            "523it [00:40, 12.81it/s]\n",
            "Iteration:47   epoch loss: 0.58311   time cost: 40.816\n",
            "iteration:  49  /  1500\n",
            "523it [00:40, 12.84it/s]\n",
            "Iteration:48   epoch loss: 0.55987   time cost: 40.747\n",
            "iteration:  50  /  1500\n",
            "523it [00:40, 12.81it/s]\n",
            "Iteration:49   epoch loss: 0.59812   time cost: 40.842\n",
            "----- Test_data evaluation -----\n",
            "----- [HRAN]: [] results -----\n",
            "Hits  @10: 0.042, Best  Hits @10: 0.052\n",
            "Hits   @3: 0.019, Best  Hits  @3: 0.019\n",
            "Hits   @1: 0.011, Best  Hits  @1: 0.011\n",
            "MR : 2534.760, Best MR : 2408.205\n",
            "MRR: 0.023, Best MRR: 0.026\n",
            "iteration:  51  /  1500\n",
            "523it [00:40, 12.83it/s]\n",
            "Iteration:50   epoch loss: 0.62611   time cost: 40.766\n",
            "iteration:  52  /  1500\n",
            "523it [00:40, 12.82it/s]\n",
            "Iteration:51   epoch loss: 0.57438   time cost: 40.807\n",
            "iteration:  53  /  1500\n",
            "523it [00:40, 12.81it/s]\n",
            "Iteration:52   epoch loss: 0.55496   time cost: 40.814\n",
            "iteration:  54  /  1500\n",
            "523it [00:40, 12.83it/s]\n",
            "Iteration:53   epoch loss: 0.58482   time cost: 40.767\n",
            "iteration:  55  /  1500\n",
            "523it [00:40, 12.83it/s]\n",
            "Iteration:54   epoch loss: 0.57273   time cost: 40.774\n",
            "----- Test_data evaluation -----\n",
            "----- [HRAN]: [] results -----\n",
            "Hits  @10: 0.114, Best  Hits @10: 0.114\n",
            "Hits   @3: 0.057, Best  Hits  @3: 0.057\n",
            "Hits   @1: 0.023, Best  Hits  @1: 0.023\n",
            "MR : 1694.865, Best MR : 1694.865\n",
            "MRR: 0.055, Best MRR: 0.055\n",
            "iteration:  56  /  1500\n",
            "523it [00:40, 12.83it/s]\n",
            "Iteration:55   epoch loss: 0.55308   time cost: 40.754\n",
            "iteration:  57  /  1500\n",
            "523it [00:40, 12.84it/s]\n",
            "Iteration:56   epoch loss: 0.62518   time cost: 40.726\n",
            "iteration:  58  /  1500\n",
            "523it [00:40, 12.85it/s]\n",
            "Iteration:57   epoch loss: 0.55796   time cost: 40.708\n",
            "iteration:  59  /  1500\n",
            "523it [00:40, 12.83it/s]\n",
            "Iteration:58   epoch loss: 0.53688   time cost: 40.753\n",
            "iteration:  60  /  1500\n",
            "523it [00:40, 12.81it/s]\n",
            "Iteration:59   epoch loss: 0.68727   time cost: 40.842\n",
            "----- Test_data evaluation -----\n",
            "----- [HRAN]: [] results -----\n",
            "Hits  @10: 0.091, Best  Hits @10: 0.114\n",
            "Hits   @3: 0.042, Best  Hits  @3: 0.057\n",
            "Hits   @1: 0.022, Best  Hits  @1: 0.023\n",
            "MR : 1726.676, Best MR : 1694.865\n",
            "MRR: 0.046, Best MRR: 0.055\n",
            "iteration:  61  /  1500\n",
            "523it [00:40, 12.85it/s]\n",
            "Iteration:60   epoch loss: 0.60287   time cost: 40.708\n",
            "iteration:  62  /  1500\n",
            "523it [00:40, 12.84it/s]\n",
            "Iteration:61   epoch loss: 0.56896   time cost: 40.735\n",
            "iteration:  63  /  1500\n",
            "523it [00:40, 12.86it/s]\n",
            "Iteration:62   epoch loss: 0.54749   time cost: 40.681\n",
            "iteration:  64  /  1500\n",
            "523it [00:40, 12.84it/s]\n",
            "Iteration:63   epoch loss: 0.54612   time cost: 40.735\n",
            "iteration:  65  /  1500\n",
            "523it [00:40, 12.83it/s]\n",
            "Iteration:64   epoch loss: 0.53166   time cost: 40.776\n",
            "----- Test_data evaluation -----\n",
            "----- [HRAN]: [] results -----\n",
            "Hits  @10: 0.135, Best  Hits @10: 0.135\n",
            "Hits   @3: 0.076, Best  Hits  @3: 0.076\n",
            "Hits   @1: 0.032, Best  Hits  @1: 0.032\n",
            "MR : 1549.062, Best MR : 1549.062\n",
            "MRR: 0.071, Best MRR: 0.071\n",
            "iteration:  66  /  1500\n",
            "523it [00:40, 12.83it/s]\n",
            "Iteration:65   epoch loss: 0.52285   time cost: 40.770\n",
            "iteration:  67  /  1500\n",
            "523it [00:40, 12.77it/s]\n",
            "Iteration:66   epoch loss: 0.52472   time cost: 40.956\n",
            "iteration:  68  /  1500\n",
            "523it [00:41, 12.73it/s]\n",
            "Iteration:67   epoch loss: 0.52053   time cost: 41.089\n",
            "iteration:  69  /  1500\n",
            "523it [00:41, 12.74it/s]\n",
            "Iteration:68   epoch loss: 0.51953   time cost: 41.063\n",
            "iteration:  70  /  1500\n",
            "523it [00:41, 12.74it/s]\n",
            "Iteration:69   epoch loss: 0.51825   time cost: 41.038\n",
            "----- Test_data evaluation -----\n",
            "----- [HRAN]: [] results -----\n",
            "Hits  @10: 0.121, Best  Hits @10: 0.135\n",
            "Hits   @3: 0.059, Best  Hits  @3: 0.076\n",
            "Hits   @1: 0.022, Best  Hits  @1: 0.032\n",
            "MR : 1531.667, Best MR : 1531.667\n",
            "MRR: 0.058, Best MRR: 0.071\n",
            "iteration:  71  /  1500\n",
            "523it [00:41, 12.74it/s]\n",
            "Iteration:70   epoch loss: 0.54119   time cost: 41.068\n",
            "iteration:  72  /  1500\n",
            "523it [00:41, 12.72it/s]\n",
            "Iteration:71   epoch loss: 0.61602   time cost: 41.121\n",
            "iteration:  73  /  1500\n",
            "523it [00:40, 12.76it/s]\n",
            "Iteration:72   epoch loss: 0.53347   time cost: 40.996\n",
            "iteration:  74  /  1500\n",
            "523it [00:41, 12.75it/s]\n",
            "Iteration:73   epoch loss: 0.52932   time cost: 41.029\n",
            "iteration:  75  /  1500\n",
            "523it [00:41, 12.73it/s]\n",
            "Iteration:74   epoch loss: 0.51757   time cost: 41.086\n",
            "----- Test_data evaluation -----\n",
            "----- [HRAN]: [] results -----\n",
            "Hits  @10: 0.146, Best  Hits @10: 0.146\n",
            "Hits   @3: 0.080, Best  Hits  @3: 0.080\n",
            "Hits   @1: 0.037, Best  Hits  @1: 0.037\n",
            "MR : 1405.264, Best MR : 1405.264\n",
            "MRR: 0.078, Best MRR: 0.078\n",
            "iteration:  76  /  1500\n",
            "523it [00:41, 12.74it/s]\n",
            "Iteration:75   epoch loss: 0.51176   time cost: 41.051\n",
            "iteration:  77  /  1500\n",
            "523it [00:41, 12.74it/s]\n",
            "Iteration:76   epoch loss: 0.52338   time cost: 41.063\n",
            "iteration:  78  /  1500\n",
            "523it [00:41, 12.74it/s]\n",
            "Iteration:77   epoch loss: 0.51924   time cost: 41.064\n",
            "iteration:  79  /  1500\n",
            "523it [00:41, 12.74it/s]\n",
            "Iteration:78   epoch loss: 0.54328   time cost: 41.059\n",
            "iteration:  80  /  1500\n",
            "523it [00:41, 12.75it/s]\n",
            "Iteration:79   epoch loss: 0.51474   time cost: 41.034\n",
            "----- Test_data evaluation -----\n",
            "----- [HRAN]: [] results -----\n",
            "Hits  @10: 0.134, Best  Hits @10: 0.146\n",
            "Hits   @3: 0.063, Best  Hits  @3: 0.080\n",
            "Hits   @1: 0.027, Best  Hits  @1: 0.037\n",
            "MR : 1347.814, Best MR : 1347.814\n",
            "MRR: 0.065, Best MRR: 0.078\n",
            "iteration:  81  /  1500\n",
            "523it [00:41, 12.73it/s]\n",
            "Iteration:80   epoch loss: 0.52332   time cost: 41.082\n",
            "iteration:  82  /  1500\n",
            "523it [00:41, 12.70it/s]\n",
            "Iteration:81   epoch loss: 0.56901   time cost: 41.174\n",
            "iteration:  83  /  1500\n",
            "523it [00:41, 12.72it/s]\n",
            "Iteration:82   epoch loss: 0.56419   time cost: 41.126\n",
            "iteration:  84  /  1500\n",
            "523it [00:41, 12.72it/s]\n",
            "Iteration:83   epoch loss: 0.52675   time cost: 41.128\n",
            "iteration:  85  /  1500\n",
            "523it [00:41, 12.72it/s]\n",
            "Iteration:84   epoch loss: 0.51604   time cost: 41.101\n",
            "----- Test_data evaluation -----\n",
            "----- [HRAN]: [] results -----\n",
            "Hits  @10: 0.145, Best  Hits @10: 0.146\n",
            "Hits   @3: 0.067, Best  Hits  @3: 0.080\n",
            "Hits   @1: 0.032, Best  Hits  @1: 0.037\n",
            "MR : 1274.655, Best MR : 1274.655\n",
            "MRR: 0.071, Best MRR: 0.078\n",
            "iteration:  86  /  1500\n",
            "523it [00:41, 12.74it/s]\n",
            "Iteration:85   epoch loss: 0.51467   time cost: 41.056\n",
            "iteration:  87  /  1500\n",
            "523it [00:41, 12.72it/s]\n",
            "Iteration:86   epoch loss: 0.51840   time cost: 41.125\n",
            "iteration:  88  /  1500\n",
            "523it [00:41, 12.72it/s]\n",
            "Iteration:87   epoch loss: 0.52064   time cost: 41.109\n",
            "iteration:  89  /  1500\n",
            "523it [00:41, 12.70it/s]\n",
            "Iteration:88   epoch loss: 0.51281   time cost: 41.170\n",
            "iteration:  90  /  1500\n",
            "523it [00:41, 12.71it/s]\n",
            "Iteration:89   epoch loss: 0.51106   time cost: 41.146\n",
            "----- Test_data evaluation -----\n",
            "----- [HRAN]: [] results -----\n",
            "Hits  @10: 0.136, Best  Hits @10: 0.146\n",
            "Hits   @3: 0.058, Best  Hits  @3: 0.080\n",
            "Hits   @1: 0.028, Best  Hits  @1: 0.037\n",
            "MR : 1414.439, Best MR : 1274.655\n",
            "MRR: 0.063, Best MRR: 0.078\n",
            "iteration:  91  /  1500\n",
            "523it [00:41, 12.71it/s]\n",
            "Iteration:90   epoch loss: 0.51475   time cost: 41.144\n",
            "iteration:  92  /  1500\n",
            "523it [00:41, 12.71it/s]\n",
            "Iteration:91   epoch loss: 0.51630   time cost: 41.141\n",
            "iteration:  93  /  1500\n",
            "523it [00:41, 12.71it/s]\n",
            "Iteration:92   epoch loss: 0.51466   time cost: 41.146\n",
            "iteration:  94  /  1500\n",
            "523it [00:41, 12.74it/s]\n",
            "Iteration:93   epoch loss: 0.51245   time cost: 41.050\n",
            "iteration:  95  /  1500\n",
            "523it [00:41, 12.71it/s]\n",
            "Iteration:94   epoch loss: 0.50843   time cost: 41.159\n",
            "----- Test_data evaluation -----\n",
            "----- [HRAN]: [] results -----\n",
            "Hits  @10: 0.150, Best  Hits @10: 0.150\n",
            "Hits   @3: 0.077, Best  Hits  @3: 0.080\n",
            "Hits   @1: 0.036, Best  Hits  @1: 0.037\n",
            "MR : 1396.652, Best MR : 1274.655\n",
            "MRR: 0.076, Best MRR: 0.078\n",
            "iteration:  96  /  1500\n",
            "523it [00:41, 12.71it/s]\n",
            "Iteration:95   epoch loss: 0.60738   time cost: 41.140\n",
            "iteration:  97  /  1500\n",
            "523it [00:41, 12.74it/s]\n",
            "Iteration:96   epoch loss: 0.54670   time cost: 41.039\n",
            "iteration:  98  /  1500\n",
            "523it [00:41, 12.75it/s]\n",
            "Iteration:97   epoch loss: 0.52157   time cost: 41.022\n",
            "iteration:  99  /  1500\n",
            "523it [00:41, 12.74it/s]\n",
            "Iteration:98   epoch loss: 0.50865   time cost: 41.052\n",
            "iteration:  100  /  1500\n",
            "523it [00:41, 12.72it/s]\n",
            "Iteration:99   epoch loss: 0.53654   time cost: 41.127\n",
            "----- Test_data evaluation -----\n",
            "----- [HRAN]: [] results -----\n",
            "Hits  @10: 0.158, Best  Hits @10: 0.158\n",
            "Hits   @3: 0.083, Best  Hits  @3: 0.083\n",
            "Hits   @1: 0.034, Best  Hits  @1: 0.037\n",
            "MR : 1410.512, Best MR : 1274.655\n",
            "MRR: 0.077, Best MRR: 0.078\n",
            "epoch_loss_list: [250.14646540302783, 9.1566544896923, 4.259609605418518, 2.8351114350371063, 2.200542679755017, 1.8815699396654963, 1.9475511931814253, 1.7647210457362235, 1.6230572843924165, 1.626485263928771, 1.5266932086087763, 1.5348503508139402, 1.4353586586657912, 1.4435097202658653, 2.8162992047145963, 1.8932425428647548, 1.5920240499544889, 1.5230176937766373, 1.4587164307013154, 1.421148072462529, 1.329209215240553, 1.257564535131678, 1.194587046164088, 1.1215359643101692, 1.0649929268984124, 0.9820426352089271, 0.9272833584109321, 0.8933821663958952, 0.8494003695668653, 0.8178104788530618, 0.8880655289394781, 0.834409253206104, 0.7891883173724636, 0.7559602932306007, 0.7458681566640735, 0.8519950602203608, 0.7624475995544344, 0.7360249415505677, 0.7088158223778009, 0.7374357214430347, 0.7629940281622112, 0.7128857935313135, 0.6740153896971606, 0.6638220806489699, 0.6443099798634648, 0.6248375297873281, 0.6007745717652142, 0.5831145258271135, 0.5598650565952994, 0.5981171234161593, 0.6261125891469419, 0.5743790059932508, 0.5549600924714468, 0.584818608709611, 0.572728592378553, 0.5530780814005993, 0.62517534539802, 0.557964600448031, 0.5368837972637266, 0.6872699690866284, 0.6028743832721375, 0.5689587816596031, 0.5474919987027533, 0.5461248451611027, 0.5316615970223211, 0.5228457357152365, 0.5247196588316001, 0.5205254480824806, 0.5195299159968272, 0.5182454690220766, 0.5411944825318642, 0.6160156224505045, 0.5334692038595676, 0.5293174551916309, 0.5175723005086184, 0.5117551641887985, 0.523382612329442, 0.5192402898101136, 0.5432784981094301, 0.5147366085438989, 0.5233199743670411, 0.5690050876000896, 0.5641866414807737, 0.5267529846751131, 0.5160441152984276, 0.5146686806692742, 0.5183950351201929, 0.5206404536147602, 0.5128108518547378, 0.5110638738842681, 0.5147518597659655, 0.5162998932646587, 0.514661212975625, 0.5124459394719452, 0.5084314015693963, 0.6073783544125035, 0.546699104772415, 0.521565348666627, 0.5086525438237004, 0.5365378413116559]\n"
          ]
        }
      ]
    },
    {
      "cell_type": "markdown",
      "source": [
        "Best  Hits @10: 0.158\n",
        "\n",
        "Best  Hits  @3: 0.083\n",
        "\n",
        "Best  Hits  @1: 0.037\n",
        "\n",
        "Best MR : 1274.655\n",
        "\n",
        "Best MRR: 0.078"
      ],
      "metadata": {
        "id": "_x8nthYXO84Z"
      }
    },
    {
      "cell_type": "code",
      "source": [
        "a = \"250.14646540302783, 9.1566544896923, 4.259609605418518, 2.8351114350371063, 2.200542679755017, 1.8815699396654963, 1.9475511931814253, 1.7647210457362235, 1.6230572843924165, 1.626485263928771, 1.5266932086087763, 1.5348503508139402, 1.4353586586657912, 1.4435097202658653, 2.8162992047145963, 1.8932425428647548, 1.5920240499544889, 1.5230176937766373, 1.4587164307013154, 1.421148072462529, 1.329209215240553, 1.257564535131678, 1.194587046164088, 1.1215359643101692, 1.0649929268984124, 0.9820426352089271, 0.9272833584109321, 0.8933821663958952, 0.8494003695668653, 0.8178104788530618, 0.8880655289394781, 0.834409253206104, 0.7891883173724636, 0.7559602932306007, 0.7458681566640735, 0.8519950602203608, 0.7624475995544344, 0.7360249415505677, 0.7088158223778009, 0.7374357214430347, 0.7629940281622112, 0.7128857935313135, 0.6740153896971606, 0.6638220806489699, 0.6443099798634648, 0.6248375297873281, 0.6007745717652142, 0.5831145258271135, 0.5598650565952994, 0.5981171234161593, 0.6261125891469419, 0.5743790059932508, 0.5549600924714468, 0.584818608709611, 0.572728592378553, 0.5530780814005993, 0.62517534539802, 0.557964600448031, 0.5368837972637266, 0.6872699690866284, 0.6028743832721375, 0.5689587816596031, 0.5474919987027533, 0.5461248451611027, 0.5316615970223211, 0.5228457357152365, 0.5247196588316001, 0.5205254480824806, 0.5195299159968272, 0.5182454690220766, 0.5411944825318642, 0.6160156224505045, 0.5334692038595676, 0.5293174551916309, 0.5175723005086184, 0.5117551641887985, 0.523382612329442, 0.5192402898101136, 0.5432784981094301, 0.5147366085438989, 0.5233199743670411, 0.5690050876000896, 0.5641866414807737, 0.5267529846751131, 0.5160441152984276, 0.5146686806692742, 0.5183950351201929, 0.5206404536147602, 0.5128108518547378, 0.5110638738842681, 0.5147518597659655, 0.5162998932646587, 0.514661212975625, 0.5124459394719452, 0.5084314015693963, 0.6073783544125035, 0.546699104772415, 0.521565348666627, 0.5086525438237004, 0.5365378413116559\""
      ],
      "metadata": {
        "id": "e7UMr4NuJmwv"
      },
      "execution_count": 25,
      "outputs": []
    },
    {
      "cell_type": "code",
      "source": [
        "a = list(map(float,a.split(\", \")))"
      ],
      "metadata": {
        "id": "f3_TYh3pPL9K"
      },
      "execution_count": 26,
      "outputs": []
    },
    {
      "cell_type": "code",
      "source": [
        "plt.plot(range(1,1+len(a)),a)"
      ],
      "metadata": {
        "colab": {
          "base_uri": "https://localhost:8080/",
          "height": 282
        },
        "id": "2Jf6wNbJPPNA",
        "outputId": "8adb9ef4-c345-4561-8216-4cc82eee140c"
      },
      "execution_count": 28,
      "outputs": [
        {
          "output_type": "execute_result",
          "data": {
            "text/plain": [
              "[<matplotlib.lines.Line2D at 0x7fadbd8a67d0>]"
            ]
          },
          "metadata": {},
          "execution_count": 28
        },
        {
          "output_type": "display_data",
          "data": {
            "text/plain": [
              "<Figure size 432x288 with 1 Axes>"
            ],
            "image/png": "[encoded data removed]"
          },
          "metadata": {
            "needs_background": "light"
          }
        }
      ]
    },
    {
      "cell_type": "code",
      "source": [
        "plt.plot(range(2,1+len(a)),a[1:])"
      ],
      "metadata": {
        "colab": {
          "base_uri": "https://localhost:8080/",
          "height": 282
        },
        "id": "vHTd2_bqPoH_",
        "outputId": "669b23e8-2fd4-4666-f43f-65707b3c8999"
      },
      "execution_count": 32,
      "outputs": [
        {
          "output_type": "execute_result",
          "data": {
            "text/plain": [
              "[<matplotlib.lines.Line2D at 0x7fadb47e7ed0>]"
            ]
          },
          "metadata": {},
          "execution_count": 32
        },
        {
          "output_type": "display_data",
          "data": {
            "text/plain": [
              "<Figure size 432x288 with 1 Axes>"
            ],
            "image/png": "[encoded data removed]"
          },
          "metadata": {
            "needs_background": "light"
          }
        }
      ]
    },
    {
      "cell_type": "code",
      "source": [
        "plt.plot(range(50,1+len(a)),a[49:])"
      ],
      "metadata": {
        "colab": {
          "base_uri": "https://localhost:8080/",
          "height": 282
        },
        "id": "TvYXB8yYP5vf",
        "outputId": "0b986ec8-5962-4c49-b2e6-9b131ff0cbe5"
      },
      "execution_count": 34,
      "outputs": [
        {
          "output_type": "execute_result",
          "data": {
            "text/plain": [
              "[<matplotlib.lines.Line2D at 0x7fadb46bbed0>]"
            ]
          },
          "metadata": {},
          "execution_count": 34
        },
        {
          "output_type": "display_data",
          "data": {
            "text/plain": [
              "<Figure size 432x288 with 1 Axes>"
            ],
            "image/png": "[encoded data removed]"
          },
          "metadata": {
            "needs_background": "light"
          }
        }
      ]
    },
    {
      "cell_type": "code",
      "source": [
        ""
      ],
      "metadata": {
        "id": "EVW8n8zZP9RP"
      },
      "execution_count": null,
      "outputs": []
    }
  ]
}