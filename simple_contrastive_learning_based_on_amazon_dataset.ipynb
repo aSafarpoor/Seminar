{
  "cells": [
    {
      "cell_type": "markdown",
      "metadata": {
        "id": "view-in-github",
        "colab_type": "text"
      },
      "source": [
        "<a href=\"https://colab.research.google.com/github/aSafarpoor/Seminar/blob/main/simple_contrastive_learning_based_on_amazon_dataset.ipynb\" target=\"_parent\"><img src=\"https://colab.research.google.com/assets/colab-badge.svg\" alt=\"Open In Colab\"/></a>"
      ]
    },
    {
      "cell_type": "markdown",
      "metadata": {
        "id": "q33IGKT80vse"
      },
      "source": [
        "#read data first version"
      ]
    },
    {
      "cell_type": "code",
      "execution_count": 177,
      "metadata": {
        "colab": {
          "base_uri": "https://localhost:8080/"
        },
        "id": "N8Y0xOQz1hXg",
        "outputId": "6048e4c7-8427-4bfe-c904-25d4abc5975b"
      },
      "outputs": [
        {
          "output_type": "stream",
          "name": "stderr",
          "text": [
            "[nltk_data] Downloading package stopwords to /root/nltk_data...\n",
            "[nltk_data]   Package stopwords is already up-to-date!\n"
          ]
        }
      ],
      "source": [
        "import numpy as np\n",
        "import pandas as pd\n",
        "from matplotlib import pyplot as plt\n",
        "from tqdm import tqdm\n",
        "import pickle\n",
        "import random\n",
        "import json\n",
        "import re\n",
        "import nltk\n",
        "nltk.download('stopwords')\n",
        "from nltk.corpus import stopwords\n",
        "import math\n",
        "import cv2\n",
        "from google.colab.patches import cv2_imshow\n",
        "import os"
      ]
    },
    {
      "cell_type": "code",
      "execution_count": null,
      "metadata": {
        "colab": {
          "base_uri": "https://localhost:8080/"
        },
        "id": "PyiS8fti1tRv",
        "outputId": "5fdba3e1-01e9-47c5-84ae-7bb59c1ba9f9"
      },
      "outputs": [
        {
          "name": "stdout",
          "output_type": "stream",
          "text": [
            "Drive already mounted at /content/drive; to attempt to forcibly remount, call drive.mount(\"/content/drive\", force_remount=True).\n"
          ]
        }
      ],
      "source": [
        "from google.colab import drive\n",
        "drive.mount('/content/drive')"
      ]
    },
    {
      "cell_type": "code",
      "execution_count": null,
      "metadata": {
        "colab": {
          "base_uri": "https://localhost:8080/"
        },
        "id": "tZdhxrDV1tUv",
        "outputId": "36d76782-8454-4c93-cf8e-ececf63b2f8c"
      },
      "outputs": [
        {
          "name": "stdout",
          "output_type": "stream",
          "text": [
            "[Errno 2] No such file or directory: 'drive/MyDrive/MSc/'\n",
            "/content/drive/MyDrive/MSc/SCLAD\n",
            "[Errno 2] No such file or directory: 'SCLAD'\n",
            "/content/drive/MyDrive/MSc/SCLAD\n"
          ]
        }
      ],
      "source": [
        "%cd drive/MyDrive/MSc/\n",
        "# %mkdir SCLAD\n",
        "%cd SCLAD"
      ]
    },
    {
      "cell_type": "code",
      "execution_count": null,
      "metadata": {
        "id": "gau2dk-v1tXq"
      },
      "outputs": [],
      "source": [
        "# !wget http://deepyeti.ucsd.edu/jianmo/amazon/categoryFiles/AMAZON_FASHION.json.gz\n",
        "# !wget http://deepyeti.ucsd.edu/jianmo/amazon/metaFiles2/meta_AMAZON_FASHION.json.gz"
      ]
    },
    {
      "cell_type": "code",
      "execution_count": null,
      "metadata": {
        "colab": {
          "base_uri": "https://localhost:8080/"
        },
        "id": "O6qiXjEa1tai",
        "outputId": "c6684f3f-47c1-41b9-c30a-50f7b8008ff2"
      },
      "outputs": [
        {
          "name": "stdout",
          "output_type": "stream",
          "text": [
            "gzip: AMAZON_FASHION.json already exists; do you wish to overwrite (y or n)? ^C\n",
            "gzip: meta_AMAZON_FASHION.json already exists; do you wish to overwrite (y or n)? n\n",
            "\tnot overwritten\n"
          ]
        }
      ],
      "source": [
        "# !gunzip -k AMAZON_FASHION.json.gz\n",
        "# !gunzip -k meta_AMAZON_FASHION.json.gz"
      ]
    },
    {
      "cell_type": "code",
      "execution_count": null,
      "metadata": {
        "colab": {
          "base_uri": "https://localhost:8080/"
        },
        "id": "c14Uv0At1tdo",
        "outputId": "5e3f113b-7f22-4eed-e06b-d40226a51469"
      },
      "outputs": [
        {
          "name": "stdout",
          "output_type": "stream",
          "text": [
            "AMAZON_FASHION.json\tmeta_AMAZON_FASHION.json\n",
            "AMAZON_FASHION.json.gz\tmeta_AMAZON_FASHION.json.gz\n"
          ]
        }
      ],
      "source": [
        "!ls"
      ]
    },
    {
      "cell_type": "markdown",
      "source": [
        "#data"
      ],
      "metadata": {
        "id": "KyV6s1t-ed47"
      }
    },
    {
      "cell_type": "code",
      "execution_count": null,
      "metadata": {
        "id": "jJ4MM7Qm1th2"
      },
      "outputs": [],
      "source": [
        "meta_data = []\n",
        "for line in open('meta_AMAZON_FASHION.json', 'r'):\n",
        "    meta_data.append(json.loads(line))"
      ]
    },
    {
      "cell_type": "code",
      "execution_count": null,
      "metadata": {
        "id": "k9KQOUP227Y7"
      },
      "outputs": [],
      "source": [
        "md = pd.DataFrame(meta_data)"
      ]
    },
    {
      "cell_type": "code",
      "execution_count": null,
      "metadata": {
        "colab": {
          "base_uri": "https://localhost:8080/"
        },
        "id": "nRahFvmQ2mmu",
        "outputId": "be17d7cf-c4fa-448b-9803-6f0c73c51f4d"
      },
      "outputs": [
        {
          "name": "stdout",
          "output_type": "stream",
          "text": [
            "186637 132017 15869 9810\n",
            "out size: 9810\n"
          ]
        }
      ],
      "source": [
        "md_text = md[~md['description'].isnull()]\n",
        "md_img = md[~md['imageURL'].isnull()]\n",
        "\n",
        "md_text_image = md_img[~md_img['description'].isnull()]\n",
        "print(len(md),len(md_img),len(md_text),len(md_text_image))\n",
        "del md_text \n",
        "del md_img\n",
        "print('out size:',len(md_text_image))\n"
      ]
    },
    {
      "cell_type": "code",
      "execution_count": null,
      "metadata": {
        "id": "8TUMfNYY2mpc"
      },
      "outputs": [],
      "source": [
        "df = md_text_image[:]\n",
        "del md_text_image"
      ]
    },
    {
      "cell_type": "code",
      "execution_count": null,
      "metadata": {
        "colab": {
          "base_uri": "https://localhost:8080/",
          "height": 617
        },
        "id": "vw05lJHc2mr9",
        "outputId": "3924b6f7-13bb-41da-934b-949229f9bc70"
      },
      "outputs": [
        {
          "data": {
            "text/html": [
              "\n",
              "  <div id=\"df-0fadb799-e0ff-4c2a-b73f-ab83ec9c0e47\">\n",
              "    <div class=\"colab-df-container\">\n",
              "      <div>\n",
              "<style scoped>\n",
              "    .dataframe tbody tr th:only-of-type {\n",
              "        vertical-align: middle;\n",
              "    }\n",
              "\n",
              "    .dataframe tbody tr th {\n",
              "        vertical-align: top;\n",
              "    }\n",
              "\n",
              "    .dataframe thead th {\n",
              "        text-align: right;\n",
              "    }\n",
              "</style>\n",
              "<table border=\"1\" class=\"dataframe\">\n",
              "  <thead>\n",
              "    <tr style=\"text-align: right;\">\n",
              "      <th></th>\n",
              "      <th>title</th>\n",
              "      <th>brand</th>\n",
              "      <th>feature</th>\n",
              "      <th>rank</th>\n",
              "      <th>date</th>\n",
              "      <th>asin</th>\n",
              "      <th>imageURL</th>\n",
              "      <th>imageURLHighRes</th>\n",
              "      <th>description</th>\n",
              "      <th>price</th>\n",
              "      <th>also_view</th>\n",
              "      <th>also_buy</th>\n",
              "      <th>fit</th>\n",
              "      <th>details</th>\n",
              "      <th>similar_item</th>\n",
              "      <th>tech1</th>\n",
              "    </tr>\n",
              "  </thead>\n",
              "  <tbody>\n",
              "    <tr>\n",
              "      <th>2</th>\n",
              "      <td>Magical Things I Really Do Do Too!</td>\n",
              "      <td>Christopher Manos</td>\n",
              "      <td>[Package Dimensions:\\n                    \\n8....</td>\n",
              "      <td>19,308,073inClothing,ShoesJewelry(</td>\n",
              "      <td>5 star</td>\n",
              "      <td>1940280001</td>\n",
              "      <td>[https://images-na.ssl-images-amazon.com/image...</td>\n",
              "      <td>[https://images-na.ssl-images-amazon.com/image...</td>\n",
              "      <td>[For the professional or amateur magician.  Ro...</td>\n",
              "      <td>NaN</td>\n",
              "      <td>NaN</td>\n",
              "      <td>NaN</td>\n",
              "      <td>NaN</td>\n",
              "      <td>NaN</td>\n",
              "      <td>NaN</td>\n",
              "      <td>NaN</td>\n",
              "    </tr>\n",
              "    <tr>\n",
              "      <th>17</th>\n",
              "      <td>X. L. Carbon Fiber Money Clip, made in the USA</td>\n",
              "      <td>Roar Carbon</td>\n",
              "      <td>[Real Carbon Fiber, Made in USA, 5 year warran...</td>\n",
              "      <td>3,725,957inClothing,Shoesamp;Jewelry(</td>\n",
              "      <td>5 star</td>\n",
              "      <td>9654263246</td>\n",
              "      <td>[https://images-na.ssl-images-amazon.com/image...</td>\n",
              "      <td>[https://images-na.ssl-images-amazon.com/image...</td>\n",
              "      <td>[When you pull out your extra large carbon fib...</td>\n",
              "      <td>$14.99</td>\n",
              "      <td>[B07CQ3KY5B, B014TEOG3O, B078429G6J, B01FRG9Z7...</td>\n",
              "      <td>NaN</td>\n",
              "      <td>NaN</td>\n",
              "      <td>NaN</td>\n",
              "      <td>NaN</td>\n",
              "      <td>NaN</td>\n",
              "    </tr>\n",
              "    <tr>\n",
              "      <th>18</th>\n",
              "      <td>Shimmer Anne Shine Clip On Costume/Halloween C...</td>\n",
              "      <td>Shimmer Anne Shine</td>\n",
              "      <td>[Shimmer Anne Shine Clip On Costume/Halloween ...</td>\n",
              "      <td>468,314inClothing,ShoesJewelry(</td>\n",
              "      <td>5 star</td>\n",
              "      <td>B00004T3SN</td>\n",
              "      <td>[https://images-na.ssl-images-amazon.com/image...</td>\n",
              "      <td>[https://images-na.ssl-images-amazon.com/image...</td>\n",
              "      <td>[A fun addition to any costume party, play, or...</td>\n",
              "      <td>$6.99</td>\n",
              "      <td>[B00Q5RRK78, B00RN3JILE, B00PMUTNOM, B01KA5PTY...</td>\n",
              "      <td>[B01KA5PTYG]</td>\n",
              "      <td>NaN</td>\n",
              "      <td>NaN</td>\n",
              "      <td>NaN</td>\n",
              "      <td>NaN</td>\n",
              "    </tr>\n",
              "    <tr>\n",
              "      <th>69</th>\n",
              "      <td>Buxton Heiress Pik-Me-Up Framed Case</td>\n",
              "      <td>Buxton</td>\n",
              "      <td>[Leather, Imported, synthetic lining, Flap clo...</td>\n",
              "      <td>43,930inClothing,Shoesamp;Jewelry(</td>\n",
              "      <td>5 star</td>\n",
              "      <td>B00007GDFV</td>\n",
              "      <td>[https://images-na.ssl-images-amazon.com/image...</td>\n",
              "      <td>[https://images-na.ssl-images-amazon.com/image...</td>\n",
              "      <td>[Authentic crunch leather with rich floral emb...</td>\n",
              "      <td>$16.95</td>\n",
              "      <td>[B07C9V84JD, B01J6JE05G, B07J11WZ5Y, B07JJQFHS...</td>\n",
              "      <td>[B07C9V84JD, B01J6JE05G, B07JJQFHS5, B003EGITU...</td>\n",
              "      <td>class=\"a-normal a-align-center a-spacing-smal...</td>\n",
              "      <td>NaN</td>\n",
              "      <td>NaN</td>\n",
              "      <td>NaN</td>\n",
              "    </tr>\n",
              "    <tr>\n",
              "      <th>70</th>\n",
              "      <td>Fossil Bifold Super Capacity Wallet- Chicago i...</td>\n",
              "      <td>NaN</td>\n",
              "      <td>NaN</td>\n",
              "      <td>9,280,557inClothing,Shoesamp;Jewelry(</td>\n",
              "      <td>5 star</td>\n",
              "      <td>B000085HZL</td>\n",
              "      <td>[https://images-na.ssl-images-amazon.com/image...</td>\n",
              "      <td>[https://images-na.ssl-images-amazon.com/image...</td>\n",
              "      <td>[Fossil Bifold Super Capacity Wallet- Chicago ...</td>\n",
              "      <td>NaN</td>\n",
              "      <td>NaN</td>\n",
              "      <td>NaN</td>\n",
              "      <td>NaN</td>\n",
              "      <td>NaN</td>\n",
              "      <td>NaN</td>\n",
              "      <td>NaN</td>\n",
              "    </tr>\n",
              "  </tbody>\n",
              "</table>\n",
              "</div>\n",
              "      <button class=\"colab-df-convert\" onclick=\"convertToInteractive('df-0fadb799-e0ff-4c2a-b73f-ab83ec9c0e47')\"\n",
              "              title=\"Convert this dataframe to an interactive table.\"\n",
              "              style=\"display:none;\">\n",
              "        \n",
              "  <svg xmlns=\"http://www.w3.org/2000/svg\" height=\"24px\"viewBox=\"0 0 24 24\"\n",
              "       width=\"24px\">\n",
              "    <path d=\"M0 0h24v24H0V0z\" fill=\"none\"/>\n",
              "    <path d=\"M18.56 5.44l.94 2.06.94-2.06 2.06-.94-2.06-.94-.94-2.06-.94 2.06-2.06.94zm-11 1L8.5 8.5l.94-2.06 2.06-.94-2.06-.94L8.5 2.5l-.94 2.06-2.06.94zm10 10l.94 2.06.94-2.06 2.06-.94-2.06-.94-.94-2.06-.94 2.06-2.06.94z\"/><path d=\"M17.41 7.96l-1.37-1.37c-.4-.4-.92-.59-1.43-.59-.52 0-1.04.2-1.43.59L10.3 9.45l-7.72 7.72c-.78.78-.78 2.05 0 2.83L4 21.41c.39.39.9.59 1.41.59.51 0 1.02-.2 1.41-.59l7.78-7.78 2.81-2.81c.8-.78.8-2.07 0-2.86zM5.41 20L4 18.59l7.72-7.72 1.47 1.35L5.41 20z\"/>\n",
              "  </svg>\n",
              "      </button>\n",
              "      \n",
              "  <style>\n",
              "    .colab-df-container {\n",
              "      display:flex;\n",
              "      flex-wrap:wrap;\n",
              "      gap: 12px;\n",
              "    }\n",
              "\n",
              "    .colab-df-convert {\n",
              "      background-color: #E8F0FE;\n",
              "      border: none;\n",
              "      border-radius: 50%;\n",
              "      cursor: pointer;\n",
              "      display: none;\n",
              "      fill: #1967D2;\n",
              "      height: 32px;\n",
              "      padding: 0 0 0 0;\n",
              "      width: 32px;\n",
              "    }\n",
              "\n",
              "    .colab-df-convert:hover {\n",
              "      background-color: #E2EBFA;\n",
              "      box-shadow: 0px 1px 2px rgba(60, 64, 67, 0.3), 0px 1px 3px 1px rgba(60, 64, 67, 0.15);\n",
              "      fill: #174EA6;\n",
              "    }\n",
              "\n",
              "    [theme=dark] .colab-df-convert {\n",
              "      background-color: #3B4455;\n",
              "      fill: #D2E3FC;\n",
              "    }\n",
              "\n",
              "    [theme=dark] .colab-df-convert:hover {\n",
              "      background-color: #434B5C;\n",
              "      box-shadow: 0px 1px 3px 1px rgba(0, 0, 0, 0.15);\n",
              "      filter: drop-shadow(0px 1px 2px rgba(0, 0, 0, 0.3));\n",
              "      fill: #FFFFFF;\n",
              "    }\n",
              "  </style>\n",
              "\n",
              "      <script>\n",
              "        const buttonEl =\n",
              "          document.querySelector('#df-0fadb799-e0ff-4c2a-b73f-ab83ec9c0e47 button.colab-df-convert');\n",
              "        buttonEl.style.display =\n",
              "          google.colab.kernel.accessAllowed ? 'block' : 'none';\n",
              "\n",
              "        async function convertToInteractive(key) {\n",
              "          const element = document.querySelector('#df-0fadb799-e0ff-4c2a-b73f-ab83ec9c0e47');\n",
              "          const dataTable =\n",
              "            await google.colab.kernel.invokeFunction('convertToInteractive',\n",
              "                                                     [key], {});\n",
              "          if (!dataTable) return;\n",
              "\n",
              "          const docLinkHtml = 'Like what you see? Visit the ' +\n",
              "            '<a target=\"_blank\" href=https://colab.research.google.com/notebooks/data_table.ipynb>data table notebook</a>'\n",
              "            + ' to learn more about interactive tables.';\n",
              "          element.innerHTML = '';\n",
              "          dataTable['output_type'] = 'display_data';\n",
              "          await google.colab.output.renderOutput(dataTable, element);\n",
              "          const docLink = document.createElement('div');\n",
              "          docLink.innerHTML = docLinkHtml;\n",
              "          element.appendChild(docLink);\n",
              "        }\n",
              "      </script>\n",
              "    </div>\n",
              "  </div>\n",
              "  "
            ],
            "text/plain": [
              "                                                title               brand  \\\n",
              "2                  Magical Things I Really Do Do Too!   Christopher Manos   \n",
              "17     X. L. Carbon Fiber Money Clip, made in the USA         Roar Carbon   \n",
              "18  Shimmer Anne Shine Clip On Costume/Halloween C...  Shimmer Anne Shine   \n",
              "69               Buxton Heiress Pik-Me-Up Framed Case              Buxton   \n",
              "70  Fossil Bifold Super Capacity Wallet- Chicago i...                 NaN   \n",
              "\n",
              "                                              feature  \\\n",
              "2   [Package Dimensions:\\n                    \\n8....   \n",
              "17  [Real Carbon Fiber, Made in USA, 5 year warran...   \n",
              "18  [Shimmer Anne Shine Clip On Costume/Halloween ...   \n",
              "69  [Leather, Imported, synthetic lining, Flap clo...   \n",
              "70                                                NaN   \n",
              "\n",
              "                                     rank    date        asin  \\\n",
              "2      19,308,073inClothing,ShoesJewelry(  5 star  1940280001   \n",
              "17  3,725,957inClothing,Shoesamp;Jewelry(  5 star  9654263246   \n",
              "18        468,314inClothing,ShoesJewelry(  5 star  B00004T3SN   \n",
              "69     43,930inClothing,Shoesamp;Jewelry(  5 star  B00007GDFV   \n",
              "70  9,280,557inClothing,Shoesamp;Jewelry(  5 star  B000085HZL   \n",
              "\n",
              "                                             imageURL  \\\n",
              "2   [https://images-na.ssl-images-amazon.com/image...   \n",
              "17  [https://images-na.ssl-images-amazon.com/image...   \n",
              "18  [https://images-na.ssl-images-amazon.com/image...   \n",
              "69  [https://images-na.ssl-images-amazon.com/image...   \n",
              "70  [https://images-na.ssl-images-amazon.com/image...   \n",
              "\n",
              "                                      imageURLHighRes  \\\n",
              "2   [https://images-na.ssl-images-amazon.com/image...   \n",
              "17  [https://images-na.ssl-images-amazon.com/image...   \n",
              "18  [https://images-na.ssl-images-amazon.com/image...   \n",
              "69  [https://images-na.ssl-images-amazon.com/image...   \n",
              "70  [https://images-na.ssl-images-amazon.com/image...   \n",
              "\n",
              "                                          description   price  \\\n",
              "2   [For the professional or amateur magician.  Ro...     NaN   \n",
              "17  [When you pull out your extra large carbon fib...  $14.99   \n",
              "18  [A fun addition to any costume party, play, or...   $6.99   \n",
              "69  [Authentic crunch leather with rich floral emb...  $16.95   \n",
              "70  [Fossil Bifold Super Capacity Wallet- Chicago ...     NaN   \n",
              "\n",
              "                                            also_view  \\\n",
              "2                                                 NaN   \n",
              "17  [B07CQ3KY5B, B014TEOG3O, B078429G6J, B01FRG9Z7...   \n",
              "18  [B00Q5RRK78, B00RN3JILE, B00PMUTNOM, B01KA5PTY...   \n",
              "69  [B07C9V84JD, B01J6JE05G, B07J11WZ5Y, B07JJQFHS...   \n",
              "70                                                NaN   \n",
              "\n",
              "                                             also_buy  \\\n",
              "2                                                 NaN   \n",
              "17                                                NaN   \n",
              "18                                       [B01KA5PTYG]   \n",
              "69  [B07C9V84JD, B01J6JE05G, B07JJQFHS5, B003EGITU...   \n",
              "70                                                NaN   \n",
              "\n",
              "                                                  fit details similar_item  \\\n",
              "2                                                 NaN     NaN          NaN   \n",
              "17                                                NaN     NaN          NaN   \n",
              "18                                                NaN     NaN          NaN   \n",
              "69   class=\"a-normal a-align-center a-spacing-smal...     NaN          NaN   \n",
              "70                                                NaN     NaN          NaN   \n",
              "\n",
              "   tech1  \n",
              "2    NaN  \n",
              "17   NaN  \n",
              "18   NaN  \n",
              "69   NaN  \n",
              "70   NaN  "
            ]
          },
          "execution_count": 95,
          "metadata": {},
          "output_type": "execute_result"
        }
      ],
      "source": [
        "df.head()"
      ]
    },
    {
      "cell_type": "code",
      "execution_count": null,
      "metadata": {
        "id": "9avoqa1r2mu0"
      },
      "outputs": [],
      "source": [
        "class Normalizer:\n",
        "    # based on https://www.geeksforgeeks.org/normalizing-textual-data-with-python/\n",
        "    def __init__(self):\n",
        "        # import regex\n",
        "        self.stop_words = set(stopwords.words('english'))\n",
        "\n",
        "    def text_normalizer(self,text):\n",
        "        if type(text) == type([]):\n",
        "            text = text[0]\n",
        "        text = str(text)\n",
        "        # convert to lower case\n",
        "        lower_string = text.lower()\n",
        "        # remove numbers\n",
        "        no_number_string = re.sub(r'\\d+','',lower_string)\n",
        "        # remove all punctuation except words and space\n",
        "        no_punc_string = re.sub(r'[^\\w\\s]','', no_number_string)\n",
        "        # remove white spaces\n",
        "        no_wspace_string = no_punc_string.strip()\n",
        "        # convert string to list of words\n",
        "        lst_string = [no_wspace_string][0].split()\n",
        "        # remove stopwords\n",
        "        no_stpwords_string=\"\"\n",
        "        for i in lst_string:\n",
        "            if (not i in self.stop_words) and len(i)>1:\n",
        "                no_stpwords_string += i+' '\n",
        "        # removing last space\n",
        "        no_stpwords_string = no_stpwords_string[:-1]\n",
        "        output = no_stpwords_string\n",
        "        return output"
      ]
    },
    {
      "cell_type": "code",
      "execution_count": null,
      "metadata": {
        "id": "rPsp4Zpv2mxm"
      },
      "outputs": [],
      "source": [
        "normalizer = Normalizer()\n",
        "df[\"description\"] = df[\"description\"].apply(normalizer.text_normalizer)\n",
        "df[\"title\"] = df[\"title\"].apply(normalizer.text_normalizer)"
      ]
    },
    {
      "cell_type": "code",
      "execution_count": null,
      "metadata": {
        "id": "ImUxwSG82m2f"
      },
      "outputs": [],
      "source": [
        "df = df[['title', 'description','asin','imageURL']]"
      ]
    },
    {
      "cell_type": "code",
      "execution_count": null,
      "metadata": {
        "colab": {
          "base_uri": "https://localhost:8080/",
          "height": 206
        },
        "id": "MPK_FR8k2m_u",
        "outputId": "d25cd8db-67fe-45a6-d6af-cb39bbfcfb65"
      },
      "outputs": [
        {
          "data": {
            "text/html": [
              "\n",
              "  <div id=\"df-012b7dfc-729b-47d5-aedd-4373ea09768f\">\n",
              "    <div class=\"colab-df-container\">\n",
              "      <div>\n",
              "<style scoped>\n",
              "    .dataframe tbody tr th:only-of-type {\n",
              "        vertical-align: middle;\n",
              "    }\n",
              "\n",
              "    .dataframe tbody tr th {\n",
              "        vertical-align: top;\n",
              "    }\n",
              "\n",
              "    .dataframe thead th {\n",
              "        text-align: right;\n",
              "    }\n",
              "</style>\n",
              "<table border=\"1\" class=\"dataframe\">\n",
              "  <thead>\n",
              "    <tr style=\"text-align: right;\">\n",
              "      <th></th>\n",
              "      <th>title</th>\n",
              "      <th>description</th>\n",
              "      <th>asin</th>\n",
              "      <th>imageURL</th>\n",
              "    </tr>\n",
              "  </thead>\n",
              "  <tbody>\n",
              "    <tr>\n",
              "      <th>2</th>\n",
              "      <td>magical things really</td>\n",
              "      <td>professional amateur magician routines include...</td>\n",
              "      <td>1940280001</td>\n",
              "      <td>[https://images-na.ssl-images-amazon.com/image...</td>\n",
              "    </tr>\n",
              "    <tr>\n",
              "      <th>17</th>\n",
              "      <td>carbon fiber money clip made usa</td>\n",
              "      <td>pull extra large carbon fiber money clip gives...</td>\n",
              "      <td>9654263246</td>\n",
              "      <td>[https://images-na.ssl-images-amazon.com/image...</td>\n",
              "    </tr>\n",
              "    <tr>\n",
              "      <th>904</th>\n",
              "      <td>sterling silver cubic zirconia solitaire ring ...</td>\n",
              "      <td>classically designed silver solitaire ring las...</td>\n",
              "      <td>B00061RFTW</td>\n",
              "      <td>[https://images-na.ssl-images-amazon.com/image...</td>\n",
              "    </tr>\n",
              "    <tr>\n",
              "      <th>905</th>\n",
              "      <td>sterling silver cz marquise cut solitaire cubi...</td>\n",
              "      <td>sparkling magnificent sterling silver band mea...</td>\n",
              "      <td>B00061RG3M</td>\n",
              "      <td>[https://images-na.ssl-images-amazon.com/image...</td>\n",
              "    </tr>\n",
              "    <tr>\n",
              "      <th>909</th>\n",
              "      <td>calvin klein mens pack classic vneck tshirt</td>\n",
              "      <td>calvin klein basics comfortable cotton underwe...</td>\n",
              "      <td>B00062NHH0</td>\n",
              "      <td>[https://images-na.ssl-images-amazon.com/image...</td>\n",
              "    </tr>\n",
              "  </tbody>\n",
              "</table>\n",
              "</div>\n",
              "      <button class=\"colab-df-convert\" onclick=\"convertToInteractive('df-012b7dfc-729b-47d5-aedd-4373ea09768f')\"\n",
              "              title=\"Convert this dataframe to an interactive table.\"\n",
              "              style=\"display:none;\">\n",
              "        \n",
              "  <svg xmlns=\"http://www.w3.org/2000/svg\" height=\"24px\"viewBox=\"0 0 24 24\"\n",
              "       width=\"24px\">\n",
              "    <path d=\"M0 0h24v24H0V0z\" fill=\"none\"/>\n",
              "    <path d=\"M18.56 5.44l.94 2.06.94-2.06 2.06-.94-2.06-.94-.94-2.06-.94 2.06-2.06.94zm-11 1L8.5 8.5l.94-2.06 2.06-.94-2.06-.94L8.5 2.5l-.94 2.06-2.06.94zm10 10l.94 2.06.94-2.06 2.06-.94-2.06-.94-.94-2.06-.94 2.06-2.06.94z\"/><path d=\"M17.41 7.96l-1.37-1.37c-.4-.4-.92-.59-1.43-.59-.52 0-1.04.2-1.43.59L10.3 9.45l-7.72 7.72c-.78.78-.78 2.05 0 2.83L4 21.41c.39.39.9.59 1.41.59.51 0 1.02-.2 1.41-.59l7.78-7.78 2.81-2.81c.8-.78.8-2.07 0-2.86zM5.41 20L4 18.59l7.72-7.72 1.47 1.35L5.41 20z\"/>\n",
              "  </svg>\n",
              "      </button>\n",
              "      \n",
              "  <style>\n",
              "    .colab-df-container {\n",
              "      display:flex;\n",
              "      flex-wrap:wrap;\n",
              "      gap: 12px;\n",
              "    }\n",
              "\n",
              "    .colab-df-convert {\n",
              "      background-color: #E8F0FE;\n",
              "      border: none;\n",
              "      border-radius: 50%;\n",
              "      cursor: pointer;\n",
              "      display: none;\n",
              "      fill: #1967D2;\n",
              "      height: 32px;\n",
              "      padding: 0 0 0 0;\n",
              "      width: 32px;\n",
              "    }\n",
              "\n",
              "    .colab-df-convert:hover {\n",
              "      background-color: #E2EBFA;\n",
              "      box-shadow: 0px 1px 2px rgba(60, 64, 67, 0.3), 0px 1px 3px 1px rgba(60, 64, 67, 0.15);\n",
              "      fill: #174EA6;\n",
              "    }\n",
              "\n",
              "    [theme=dark] .colab-df-convert {\n",
              "      background-color: #3B4455;\n",
              "      fill: #D2E3FC;\n",
              "    }\n",
              "\n",
              "    [theme=dark] .colab-df-convert:hover {\n",
              "      background-color: #434B5C;\n",
              "      box-shadow: 0px 1px 3px 1px rgba(0, 0, 0, 0.15);\n",
              "      filter: drop-shadow(0px 1px 2px rgba(0, 0, 0, 0.3));\n",
              "      fill: #FFFFFF;\n",
              "    }\n",
              "  </style>\n",
              "\n",
              "      <script>\n",
              "        const buttonEl =\n",
              "          document.querySelector('#df-012b7dfc-729b-47d5-aedd-4373ea09768f button.colab-df-convert');\n",
              "        buttonEl.style.display =\n",
              "          google.colab.kernel.accessAllowed ? 'block' : 'none';\n",
              "\n",
              "        async function convertToInteractive(key) {\n",
              "          const element = document.querySelector('#df-012b7dfc-729b-47d5-aedd-4373ea09768f');\n",
              "          const dataTable =\n",
              "            await google.colab.kernel.invokeFunction('convertToInteractive',\n",
              "                                                     [key], {});\n",
              "          if (!dataTable) return;\n",
              "\n",
              "          const docLinkHtml = 'Like what you see? Visit the ' +\n",
              "            '<a target=\"_blank\" href=https://colab.research.google.com/notebooks/data_table.ipynb>data table notebook</a>'\n",
              "            + ' to learn more about interactive tables.';\n",
              "          element.innerHTML = '';\n",
              "          dataTable['output_type'] = 'display_data';\n",
              "          await google.colab.output.renderOutput(dataTable, element);\n",
              "          const docLink = document.createElement('div');\n",
              "          docLink.innerHTML = docLinkHtml;\n",
              "          element.appendChild(docLink);\n",
              "        }\n",
              "      </script>\n",
              "    </div>\n",
              "  </div>\n",
              "  "
            ],
            "text/plain": [
              "                                                 title  \\\n",
              "2                                magical things really   \n",
              "17                    carbon fiber money clip made usa   \n",
              "904  sterling silver cubic zirconia solitaire ring ...   \n",
              "905  sterling silver cz marquise cut solitaire cubi...   \n",
              "909        calvin klein mens pack classic vneck tshirt   \n",
              "\n",
              "                                           description        asin  \\\n",
              "2    professional amateur magician routines include...  1940280001   \n",
              "17   pull extra large carbon fiber money clip gives...  9654263246   \n",
              "904  classically designed silver solitaire ring las...  B00061RFTW   \n",
              "905  sparkling magnificent sterling silver band mea...  B00061RG3M   \n",
              "909  calvin klein basics comfortable cotton underwe...  B00062NHH0   \n",
              "\n",
              "                                              imageURL  \n",
              "2    [https://images-na.ssl-images-amazon.com/image...  \n",
              "17   [https://images-na.ssl-images-amazon.com/image...  \n",
              "904  [https://images-na.ssl-images-amazon.com/image...  \n",
              "905  [https://images-na.ssl-images-amazon.com/image...  \n",
              "909  [https://images-na.ssl-images-amazon.com/image...  "
            ]
          },
          "execution_count": 99,
          "metadata": {},
          "output_type": "execute_result"
        }
      ],
      "source": [
        "df = df.drop_duplicates(list(df.columns)[0:2],keep=False)\n",
        "df.head()"
      ]
    },
    {
      "cell_type": "code",
      "execution_count": null,
      "metadata": {
        "colab": {
          "base_uri": "https://localhost:8080/"
        },
        "id": "bewDAX_K6ctR",
        "outputId": "8a4262c3-f5a1-4927-df23-a3cd4a8f8a00"
      },
      "outputs": [
        {
          "data": {
            "text/plain": [
              "8528"
            ]
          },
          "execution_count": 100,
          "metadata": {},
          "output_type": "execute_result"
        }
      ],
      "source": [
        "len(df)"
      ]
    },
    {
      "cell_type": "code",
      "execution_count": null,
      "metadata": {
        "id": "wQR8Xmdb6czP"
      },
      "outputs": [],
      "source": [
        "df['text'] = df.title + ' ' + df.description\n",
        "df = df[['text','asin','imageURL']]"
      ]
    },
    {
      "cell_type": "code",
      "execution_count": null,
      "metadata": {
        "colab": {
          "base_uri": "https://localhost:8080/",
          "height": 143
        },
        "id": "sHnTOs81-X--",
        "outputId": "fe50fadd-5509-4b45-f01b-3907eab473a8"
      },
      "outputs": [
        {
          "data": {
            "text/html": [
              "\n",
              "  <div id=\"df-2c36904e-3a3b-47bd-b9ef-87a5f8167a2d\">\n",
              "    <div class=\"colab-df-container\">\n",
              "      <div>\n",
              "<style scoped>\n",
              "    .dataframe tbody tr th:only-of-type {\n",
              "        vertical-align: middle;\n",
              "    }\n",
              "\n",
              "    .dataframe tbody tr th {\n",
              "        vertical-align: top;\n",
              "    }\n",
              "\n",
              "    .dataframe thead th {\n",
              "        text-align: right;\n",
              "    }\n",
              "</style>\n",
              "<table border=\"1\" class=\"dataframe\">\n",
              "  <thead>\n",
              "    <tr style=\"text-align: right;\">\n",
              "      <th></th>\n",
              "      <th>text</th>\n",
              "      <th>asin</th>\n",
              "      <th>imageURL</th>\n",
              "    </tr>\n",
              "  </thead>\n",
              "  <tbody>\n",
              "    <tr>\n",
              "      <th>2</th>\n",
              "      <td>magical things really professional amateur mag...</td>\n",
              "      <td>1940280001</td>\n",
              "      <td>[https://images-na.ssl-images-amazon.com/image...</td>\n",
              "    </tr>\n",
              "    <tr>\n",
              "      <th>17</th>\n",
              "      <td>carbon fiber money clip made usa pull extra la...</td>\n",
              "      <td>9654263246</td>\n",
              "      <td>[https://images-na.ssl-images-amazon.com/image...</td>\n",
              "    </tr>\n",
              "    <tr>\n",
              "      <th>904</th>\n",
              "      <td>sterling silver cubic zirconia solitaire ring ...</td>\n",
              "      <td>B00061RFTW</td>\n",
              "      <td>[https://images-na.ssl-images-amazon.com/image...</td>\n",
              "    </tr>\n",
              "  </tbody>\n",
              "</table>\n",
              "</div>\n",
              "      <button class=\"colab-df-convert\" onclick=\"convertToInteractive('df-2c36904e-3a3b-47bd-b9ef-87a5f8167a2d')\"\n",
              "              title=\"Convert this dataframe to an interactive table.\"\n",
              "              style=\"display:none;\">\n",
              "        \n",
              "  <svg xmlns=\"http://www.w3.org/2000/svg\" height=\"24px\"viewBox=\"0 0 24 24\"\n",
              "       width=\"24px\">\n",
              "    <path d=\"M0 0h24v24H0V0z\" fill=\"none\"/>\n",
              "    <path d=\"M18.56 5.44l.94 2.06.94-2.06 2.06-.94-2.06-.94-.94-2.06-.94 2.06-2.06.94zm-11 1L8.5 8.5l.94-2.06 2.06-.94-2.06-.94L8.5 2.5l-.94 2.06-2.06.94zm10 10l.94 2.06.94-2.06 2.06-.94-2.06-.94-.94-2.06-.94 2.06-2.06.94z\"/><path d=\"M17.41 7.96l-1.37-1.37c-.4-.4-.92-.59-1.43-.59-.52 0-1.04.2-1.43.59L10.3 9.45l-7.72 7.72c-.78.78-.78 2.05 0 2.83L4 21.41c.39.39.9.59 1.41.59.51 0 1.02-.2 1.41-.59l7.78-7.78 2.81-2.81c.8-.78.8-2.07 0-2.86zM5.41 20L4 18.59l7.72-7.72 1.47 1.35L5.41 20z\"/>\n",
              "  </svg>\n",
              "      </button>\n",
              "      \n",
              "  <style>\n",
              "    .colab-df-container {\n",
              "      display:flex;\n",
              "      flex-wrap:wrap;\n",
              "      gap: 12px;\n",
              "    }\n",
              "\n",
              "    .colab-df-convert {\n",
              "      background-color: #E8F0FE;\n",
              "      border: none;\n",
              "      border-radius: 50%;\n",
              "      cursor: pointer;\n",
              "      display: none;\n",
              "      fill: #1967D2;\n",
              "      height: 32px;\n",
              "      padding: 0 0 0 0;\n",
              "      width: 32px;\n",
              "    }\n",
              "\n",
              "    .colab-df-convert:hover {\n",
              "      background-color: #E2EBFA;\n",
              "      box-shadow: 0px 1px 2px rgba(60, 64, 67, 0.3), 0px 1px 3px 1px rgba(60, 64, 67, 0.15);\n",
              "      fill: #174EA6;\n",
              "    }\n",
              "\n",
              "    [theme=dark] .colab-df-convert {\n",
              "      background-color: #3B4455;\n",
              "      fill: #D2E3FC;\n",
              "    }\n",
              "\n",
              "    [theme=dark] .colab-df-convert:hover {\n",
              "      background-color: #434B5C;\n",
              "      box-shadow: 0px 1px 3px 1px rgba(0, 0, 0, 0.15);\n",
              "      filter: drop-shadow(0px 1px 2px rgba(0, 0, 0, 0.3));\n",
              "      fill: #FFFFFF;\n",
              "    }\n",
              "  </style>\n",
              "\n",
              "      <script>\n",
              "        const buttonEl =\n",
              "          document.querySelector('#df-2c36904e-3a3b-47bd-b9ef-87a5f8167a2d button.colab-df-convert');\n",
              "        buttonEl.style.display =\n",
              "          google.colab.kernel.accessAllowed ? 'block' : 'none';\n",
              "\n",
              "        async function convertToInteractive(key) {\n",
              "          const element = document.querySelector('#df-2c36904e-3a3b-47bd-b9ef-87a5f8167a2d');\n",
              "          const dataTable =\n",
              "            await google.colab.kernel.invokeFunction('convertToInteractive',\n",
              "                                                     [key], {});\n",
              "          if (!dataTable) return;\n",
              "\n",
              "          const docLinkHtml = 'Like what you see? Visit the ' +\n",
              "            '<a target=\"_blank\" href=https://colab.research.google.com/notebooks/data_table.ipynb>data table notebook</a>'\n",
              "            + ' to learn more about interactive tables.';\n",
              "          element.innerHTML = '';\n",
              "          dataTable['output_type'] = 'display_data';\n",
              "          await google.colab.output.renderOutput(dataTable, element);\n",
              "          const docLink = document.createElement('div');\n",
              "          docLink.innerHTML = docLinkHtml;\n",
              "          element.appendChild(docLink);\n",
              "        }\n",
              "      </script>\n",
              "    </div>\n",
              "  </div>\n",
              "  "
            ],
            "text/plain": [
              "                                                  text        asin  \\\n",
              "2    magical things really professional amateur mag...  1940280001   \n",
              "17   carbon fiber money clip made usa pull extra la...  9654263246   \n",
              "904  sterling silver cubic zirconia solitaire ring ...  B00061RFTW   \n",
              "\n",
              "                                              imageURL  \n",
              "2    [https://images-na.ssl-images-amazon.com/image...  \n",
              "17   [https://images-na.ssl-images-amazon.com/image...  \n",
              "904  [https://images-na.ssl-images-amazon.com/image...  "
            ]
          },
          "execution_count": 102,
          "metadata": {},
          "output_type": "execute_result"
        }
      ],
      "source": [
        "df.head(3)"
      ]
    },
    {
      "cell_type": "markdown",
      "metadata": {
        "id": "-62QczCR0wKJ"
      },
      "source": [
        "# create text embedding"
      ]
    },
    {
      "cell_type": "code",
      "execution_count": null,
      "metadata": {
        "id": "ASXGt80Z_8O1"
      },
      "outputs": [],
      "source": [
        "df.reset_index(drop=True, inplace=True)"
      ]
    },
    {
      "cell_type": "code",
      "execution_count": null,
      "metadata": {
        "id": "tVS0hd7M_8D5"
      },
      "outputs": [],
      "source": [
        "try:\n",
        "    from sentence_transformers import SentenceTransformer\n",
        "except:\n",
        "    ! pip install sentence_transformers\n",
        "    from sentence_transformers import SentenceTransformer\n",
        "\n",
        "sbert_model = SentenceTransformer('bert-base-nli-mean-tokens')"
      ]
    },
    {
      "cell_type": "code",
      "execution_count": null,
      "metadata": {
        "id": "zdAQq91S_8LT"
      },
      "outputs": [],
      "source": [
        "def embedding_sentenceBert(sent):\n",
        "    sent_embedding = sbert_model .encode(sent)\n",
        "    return sent_embedding"
      ]
    },
    {
      "cell_type": "code",
      "execution_count": null,
      "metadata": {
        "colab": {
          "base_uri": "https://localhost:8080/",
          "height": 363
        },
        "id": "KYyPi2BP_8Rk",
        "outputId": "e6a551ea-0d9e-4f9c-fa87-da307569c76f"
      },
      "outputs": [
        {
          "data": {
            "text/html": [
              "\n",
              "  <div id=\"df-b71b5dc5-d09b-4835-9834-d104dfbbbd5c\">\n",
              "    <div class=\"colab-df-container\">\n",
              "      <div>\n",
              "<style scoped>\n",
              "    .dataframe tbody tr th:only-of-type {\n",
              "        vertical-align: middle;\n",
              "    }\n",
              "\n",
              "    .dataframe tbody tr th {\n",
              "        vertical-align: top;\n",
              "    }\n",
              "\n",
              "    .dataframe thead th {\n",
              "        text-align: right;\n",
              "    }\n",
              "</style>\n",
              "<table border=\"1\" class=\"dataframe\">\n",
              "  <thead>\n",
              "    <tr style=\"text-align: right;\">\n",
              "      <th></th>\n",
              "      <th>text</th>\n",
              "      <th>asin</th>\n",
              "      <th>imageURL</th>\n",
              "    </tr>\n",
              "  </thead>\n",
              "  <tbody>\n",
              "    <tr>\n",
              "      <th>0</th>\n",
              "      <td>magical things really professional amateur mag...</td>\n",
              "      <td>1940280001</td>\n",
              "      <td>[https://images-na.ssl-images-amazon.com/image...</td>\n",
              "    </tr>\n",
              "    <tr>\n",
              "      <th>1</th>\n",
              "      <td>carbon fiber money clip made usa pull extra la...</td>\n",
              "      <td>9654263246</td>\n",
              "      <td>[https://images-na.ssl-images-amazon.com/image...</td>\n",
              "    </tr>\n",
              "    <tr>\n",
              "      <th>2</th>\n",
              "      <td>sterling silver cubic zirconia solitaire ring ...</td>\n",
              "      <td>B00061RFTW</td>\n",
              "      <td>[https://images-na.ssl-images-amazon.com/image...</td>\n",
              "    </tr>\n",
              "    <tr>\n",
              "      <th>3</th>\n",
              "      <td>sterling silver cz marquise cut solitaire cubi...</td>\n",
              "      <td>B00061RG3M</td>\n",
              "      <td>[https://images-na.ssl-images-amazon.com/image...</td>\n",
              "    </tr>\n",
              "    <tr>\n",
              "      <th>4</th>\n",
              "      <td>calvin klein mens pack classic vneck tshirt ca...</td>\n",
              "      <td>B00062NHH0</td>\n",
              "      <td>[https://images-na.ssl-images-amazon.com/image...</td>\n",
              "    </tr>\n",
              "    <tr>\n",
              "      <th>5</th>\n",
              "      <td>pendant mizpah coin sterling silver millimeter...</td>\n",
              "      <td>B00063H8PG</td>\n",
              "      <td>[https://images-na.ssl-images-amazon.com/image...</td>\n",
              "    </tr>\n",
              "    <tr>\n",
              "      <th>6</th>\n",
              "      <td>mg pleated cotton twill hat band try simple cl...</td>\n",
              "      <td>B00063VWSA</td>\n",
              "      <td>[https://images-na.ssl-images-amazon.com/image...</td>\n",
              "    </tr>\n",
              "    <tr>\n",
              "      <th>7</th>\n",
              "      <td>bracelet silver ball rosary sterling silver mm...</td>\n",
              "      <td>B000646BWG</td>\n",
              "      <td>[https://images-na.ssl-images-amazon.com/image...</td>\n",
              "    </tr>\n",
              "    <tr>\n",
              "      <th>8</th>\n",
              "      <td>cross holy spirit yellow gold xmm inch necklac...</td>\n",
              "      <td>B0006468QA</td>\n",
              "      <td>[https://images-na.ssl-images-amazon.com/image...</td>\n",
              "    </tr>\n",
              "    <tr>\n",
              "      <th>9</th>\n",
              "      <td>kenneth cole_watch watch kc captivating person...</td>\n",
              "      <td>B000652LHY</td>\n",
              "      <td>[https://images-na.ssl-images-amazon.com/image...</td>\n",
              "    </tr>\n",
              "  </tbody>\n",
              "</table>\n",
              "</div>\n",
              "      <button class=\"colab-df-convert\" onclick=\"convertToInteractive('df-b71b5dc5-d09b-4835-9834-d104dfbbbd5c')\"\n",
              "              title=\"Convert this dataframe to an interactive table.\"\n",
              "              style=\"display:none;\">\n",
              "        \n",
              "  <svg xmlns=\"http://www.w3.org/2000/svg\" height=\"24px\"viewBox=\"0 0 24 24\"\n",
              "       width=\"24px\">\n",
              "    <path d=\"M0 0h24v24H0V0z\" fill=\"none\"/>\n",
              "    <path d=\"M18.56 5.44l.94 2.06.94-2.06 2.06-.94-2.06-.94-.94-2.06-.94 2.06-2.06.94zm-11 1L8.5 8.5l.94-2.06 2.06-.94-2.06-.94L8.5 2.5l-.94 2.06-2.06.94zm10 10l.94 2.06.94-2.06 2.06-.94-2.06-.94-.94-2.06-.94 2.06-2.06.94z\"/><path d=\"M17.41 7.96l-1.37-1.37c-.4-.4-.92-.59-1.43-.59-.52 0-1.04.2-1.43.59L10.3 9.45l-7.72 7.72c-.78.78-.78 2.05 0 2.83L4 21.41c.39.39.9.59 1.41.59.51 0 1.02-.2 1.41-.59l7.78-7.78 2.81-2.81c.8-.78.8-2.07 0-2.86zM5.41 20L4 18.59l7.72-7.72 1.47 1.35L5.41 20z\"/>\n",
              "  </svg>\n",
              "      </button>\n",
              "      \n",
              "  <style>\n",
              "    .colab-df-container {\n",
              "      display:flex;\n",
              "      flex-wrap:wrap;\n",
              "      gap: 12px;\n",
              "    }\n",
              "\n",
              "    .colab-df-convert {\n",
              "      background-color: #E8F0FE;\n",
              "      border: none;\n",
              "      border-radius: 50%;\n",
              "      cursor: pointer;\n",
              "      display: none;\n",
              "      fill: #1967D2;\n",
              "      height: 32px;\n",
              "      padding: 0 0 0 0;\n",
              "      width: 32px;\n",
              "    }\n",
              "\n",
              "    .colab-df-convert:hover {\n",
              "      background-color: #E2EBFA;\n",
              "      box-shadow: 0px 1px 2px rgba(60, 64, 67, 0.3), 0px 1px 3px 1px rgba(60, 64, 67, 0.15);\n",
              "      fill: #174EA6;\n",
              "    }\n",
              "\n",
              "    [theme=dark] .colab-df-convert {\n",
              "      background-color: #3B4455;\n",
              "      fill: #D2E3FC;\n",
              "    }\n",
              "\n",
              "    [theme=dark] .colab-df-convert:hover {\n",
              "      background-color: #434B5C;\n",
              "      box-shadow: 0px 1px 3px 1px rgba(0, 0, 0, 0.15);\n",
              "      filter: drop-shadow(0px 1px 2px rgba(0, 0, 0, 0.3));\n",
              "      fill: #FFFFFF;\n",
              "    }\n",
              "  </style>\n",
              "\n",
              "      <script>\n",
              "        const buttonEl =\n",
              "          document.querySelector('#df-b71b5dc5-d09b-4835-9834-d104dfbbbd5c button.colab-df-convert');\n",
              "        buttonEl.style.display =\n",
              "          google.colab.kernel.accessAllowed ? 'block' : 'none';\n",
              "\n",
              "        async function convertToInteractive(key) {\n",
              "          const element = document.querySelector('#df-b71b5dc5-d09b-4835-9834-d104dfbbbd5c');\n",
              "          const dataTable =\n",
              "            await google.colab.kernel.invokeFunction('convertToInteractive',\n",
              "                                                     [key], {});\n",
              "          if (!dataTable) return;\n",
              "\n",
              "          const docLinkHtml = 'Like what you see? Visit the ' +\n",
              "            '<a target=\"_blank\" href=https://colab.research.google.com/notebooks/data_table.ipynb>data table notebook</a>'\n",
              "            + ' to learn more about interactive tables.';\n",
              "          element.innerHTML = '';\n",
              "          dataTable['output_type'] = 'display_data';\n",
              "          await google.colab.output.renderOutput(dataTable, element);\n",
              "          const docLink = document.createElement('div');\n",
              "          docLink.innerHTML = docLinkHtml;\n",
              "          element.appendChild(docLink);\n",
              "        }\n",
              "      </script>\n",
              "    </div>\n",
              "  </div>\n",
              "  "
            ],
            "text/plain": [
              "                                                text        asin  \\\n",
              "0  magical things really professional amateur mag...  1940280001   \n",
              "1  carbon fiber money clip made usa pull extra la...  9654263246   \n",
              "2  sterling silver cubic zirconia solitaire ring ...  B00061RFTW   \n",
              "3  sterling silver cz marquise cut solitaire cubi...  B00061RG3M   \n",
              "4  calvin klein mens pack classic vneck tshirt ca...  B00062NHH0   \n",
              "5  pendant mizpah coin sterling silver millimeter...  B00063H8PG   \n",
              "6  mg pleated cotton twill hat band try simple cl...  B00063VWSA   \n",
              "7  bracelet silver ball rosary sterling silver mm...  B000646BWG   \n",
              "8  cross holy spirit yellow gold xmm inch necklac...  B0006468QA   \n",
              "9  kenneth cole_watch watch kc captivating person...  B000652LHY   \n",
              "\n",
              "                                            imageURL  \n",
              "0  [https://images-na.ssl-images-amazon.com/image...  \n",
              "1  [https://images-na.ssl-images-amazon.com/image...  \n",
              "2  [https://images-na.ssl-images-amazon.com/image...  \n",
              "3  [https://images-na.ssl-images-amazon.com/image...  \n",
              "4  [https://images-na.ssl-images-amazon.com/image...  \n",
              "5  [https://images-na.ssl-images-amazon.com/image...  \n",
              "6  [https://images-na.ssl-images-amazon.com/image...  \n",
              "7  [https://images-na.ssl-images-amazon.com/image...  \n",
              "8  [https://images-na.ssl-images-amazon.com/image...  \n",
              "9  [https://images-na.ssl-images-amazon.com/image...  "
            ]
          },
          "execution_count": 110,
          "metadata": {},
          "output_type": "execute_result"
        }
      ],
      "source": [
        "df.head(10)"
      ]
    },
    {
      "cell_type": "code",
      "execution_count": null,
      "metadata": {
        "colab": {
          "background_save": true,
          "base_uri": "https://localhost:8080/"
        },
        "id": "7S4uanAr_8WM",
        "outputId": "f49b49bd-1e76-4c26-f9c4-346833761deb"
      },
      "outputs": [
        {
          "name": "stderr",
          "output_type": "stream",
          "text": [
            "100%|██████████| 8528/8528 [44:09<00:00,  3.22it/s]\n"
          ]
        }
      ],
      "source": [
        "tqdm.pandas()\n",
        "df['embedding_of_text'] = df['text'].progress_apply(embedding_sentenceBert)"
      ]
    },
    {
      "cell_type": "code",
      "source": [
        "et = np.array(df.embedding_of_text)"
      ],
      "metadata": {
        "id": "ll0-_mkeT_Hm"
      },
      "execution_count": 574,
      "outputs": []
    },
    {
      "cell_type": "code",
      "execution_count": 575,
      "metadata": {
        "id": "Du4W9_RZ_8hR"
      },
      "outputs": [],
      "source": [
        "def dot_product(v1, v2):\n",
        "    v1 = np.array(v1)\n",
        "    v2 = np.array(v2)\n",
        "    return np.dot(v1,v2)\n",
        "\n",
        "def cosine_measure(v1, v2):\n",
        "    v1 = np.array(v1)\n",
        "    v2 = np.array(v2)\n",
        "    prod = np.dot(v1,v2)\n",
        "    len1 = math.sqrt(np.dot(v1, v1))\n",
        "    len2 = math.sqrt(np.dot(v2, v2))\n",
        "    return prod / (len1 * len2)"
      ]
    },
    {
      "cell_type": "code",
      "source": [
        "sim = np.zeros((len(et),len(et)))"
      ],
      "metadata": {
        "id": "vtJZIemqSw5j"
      },
      "execution_count": 576,
      "outputs": []
    },
    {
      "cell_type": "code",
      "source": [
        "for i in tqdm(range(len(et))):\n",
        "    for j in range(len(et)):\n",
        "        v1 = et[i]\n",
        "        v2 = et[j]\n",
        "        s = cosine_measure(v1, v2)\n",
        "        sim[i][j] = s"
      ],
      "metadata": {
        "colab": {
          "base_uri": "https://localhost:8080/"
        },
        "id": "Rxv7Z_DtSw8p",
        "outputId": "0e08d156-fa84-4b9a-f8f9-e1b945a701ab"
      },
      "execution_count": 577,
      "outputs": [
        {
          "output_type": "stream",
          "name": "stderr",
          "text": [
            "100%|██████████| 8528/8528 [15:23<00:00,  9.23it/s]\n"
          ]
        }
      ]
    },
    {
      "cell_type": "code",
      "source": [
        "simtxt = sim[:]"
      ],
      "metadata": {
        "id": "rqlj7YwzUYK7"
      },
      "execution_count": 578,
      "outputs": []
    },
    {
      "cell_type": "code",
      "source": [
        "# def rounder(a):\n",
        "#     return round(a,2)\n",
        "\n",
        "# for i in range(10):\n",
        "#     print(list(map(rounder,sim[i][:10])))"
      ],
      "metadata": {
        "id": "Ye9OruBuSxAS"
      },
      "execution_count": 178,
      "outputs": []
    },
    {
      "cell_type": "code",
      "source": [
        "import seaborn as sns\n",
        "from matplotlib.pyplot import figure\n",
        "\n",
        "figure(figsize=(15, 15), dpi=80)\n",
        "\n",
        "ax = sns.heatmap(sim[:20,:20],cmap='RdYlGn',square=True)\n",
        "\n",
        "plt.show()"
      ],
      "metadata": {
        "colab": {
          "base_uri": "https://localhost:8080/",
          "height": 851
        },
        "id": "IZOoxCK_SxDp",
        "outputId": "73d7506f-2af1-412a-f408-056b558cc909"
      },
      "execution_count": 179,
      "outputs": [
        {
          "output_type": "display_data",
          "data": {
            "text/plain": [
              "<Figure size 1200x1200 with 2 Axes>"
            ],
            "image/png": "[encoded data removed]"
          },
          "metadata": {
            "needs_background": "light"
          }
        }
      ]
    },
    {
      "cell_type": "code",
      "source": [
        "im8name = df.imageURL[8][0]\n",
        "im7name = df.imageURL[7][0]\n",
        "im8name,im7name"
      ],
      "metadata": {
        "colab": {
          "base_uri": "https://localhost:8080/"
        },
        "id": "q-aJYTpUdS4c",
        "outputId": "868ecc31-bcd1-441c-9a92-56bf7847f7e2"
      },
      "execution_count": 168,
      "outputs": [
        {
          "output_type": "execute_result",
          "data": {
            "text/plain": [
              "('https://images-na.ssl-images-amazon.com/images/I/315Q84F4JHL._US40_.jpg',\n",
              " 'https://images-na.ssl-images-amazon.com/images/I/312JSJEPK3L._US40_.jpg')"
            ]
          },
          "metadata": {},
          "execution_count": 168
        }
      ]
    },
    {
      "cell_type": "code",
      "source": [
        "!wget https://images-na.ssl-images-amazon.com/images/I/315Q84F4JHL._US40_.jpg\n",
        "!wget https://images-na.ssl-images-amazon.com/images/I/312JSJEPK3L._US40_.jpg\n",
        "im8 = cv2.imread(\"315Q84F4JHL._US40_.jpg\")\n",
        "im7 = cv2.imread(\"312JSJEPK3L._US40_.jpg\")"
      ],
      "metadata": {
        "colab": {
          "base_uri": "https://localhost:8080/"
        },
        "id": "UjHwXjStdbBn",
        "outputId": "f7578606-7652-47ec-95c0-64d880e67ba7"
      },
      "execution_count": 175,
      "outputs": [
        {
          "output_type": "stream",
          "name": "stdout",
          "text": [
            "--2022-06-24 16:07:36--  https://images-na.ssl-images-amazon.com/images/I/315Q84F4JHL._US40_.jpg\n",
            "Resolving images-na.ssl-images-amazon.com (images-na.ssl-images-amazon.com)... 151.101.1.16, 151.101.65.16, 151.101.129.16, ...\n",
            "Connecting to images-na.ssl-images-amazon.com (images-na.ssl-images-amazon.com)|151.101.1.16|:443... connected.\n",
            "HTTP request sent, awaiting response... 200 OK\n",
            "Length: 609 [image/jpeg]\n",
            "Saving to: ‘315Q84F4JHL._US40_.jpg.3’\n",
            "\n",
            "\r315Q84F4JHL._US40_.   0%[                    ]       0  --.-KB/s               \r315Q84F4JHL._US40_. 100%[===================>]     609  --.-KB/s    in 0s      \n",
            "\n",
            "2022-06-24 16:07:36 (6.35 MB/s) - ‘315Q84F4JHL._US40_.jpg.3’ saved [609/609]\n",
            "\n",
            "--2022-06-24 16:07:36--  https://images-na.ssl-images-amazon.com/images/I/312JSJEPK3L._US40_.jpg\n",
            "Resolving images-na.ssl-images-amazon.com (images-na.ssl-images-amazon.com)... 151.101.1.16, 151.101.65.16, 151.101.129.16, ...\n",
            "Connecting to images-na.ssl-images-amazon.com (images-na.ssl-images-amazon.com)|151.101.1.16|:443... connected.\n",
            "HTTP request sent, awaiting response... 200 OK\n",
            "Length: 664 [image/jpeg]\n",
            "Saving to: ‘312JSJEPK3L._US40_.jpg.3’\n",
            "\n",
            "312JSJEPK3L._US40_. 100%[===================>]     664  --.-KB/s    in 0s      \n",
            "\n",
            "2022-06-24 16:07:36 (10.4 MB/s) - ‘312JSJEPK3L._US40_.jpg.3’ saved [664/664]\n",
            "\n"
          ]
        }
      ]
    },
    {
      "cell_type": "code",
      "source": [
        "print(df.text[8])\n",
        "print(df.text[7])"
      ],
      "metadata": {
        "colab": {
          "base_uri": "https://localhost:8080/"
        },
        "id": "FeElDmQ5cz0H",
        "outputId": "bd482ac1-87ae-42d3-fe55-329080c98b74"
      },
      "execution_count": 169,
      "outputs": [
        {
          "output_type": "stream",
          "name": "stdout",
          "text": [
            "cross holy spirit yellow gold xmm inch necklace cross holy spirit yellow gold xmm inch necklace made highest quality metal shipped free pendant box make perfect gift also wear elegantly crafted symbol proudly brilliant exquisite way express anchor faith treasure keepsake years come jewelry comes satisfaction guarantee reassured happy purchase\n",
            "bracelet silver ball rosary sterling silver mm inch necklace bracelet silver ball rosary sterling silver mm inch necklace made highest quality metal shipped free pendant box make perfect gift also wear elegantly crafted symbol proudly brilliant exquisite way express anchor faith treasure keepsake years come jewelry comes satisfaction guarantee reassured happy purchase\n"
          ]
        }
      ]
    },
    {
      "cell_type": "code",
      "source": [
        "cv2_imshow(im8)\n",
        "cv2_imshow(im7)"
      ],
      "metadata": {
        "colab": {
          "base_uri": "https://localhost:8080/",
          "height": 97
        },
        "id": "aHFwHdFDcz21",
        "outputId": "eb327df6-3b17-4781-983c-5b9b2dee9cdf"
      },
      "execution_count": 176,
      "outputs": [
        {
          "output_type": "display_data",
          "data": {
            "text/plain": [
              "<PIL.Image.Image image mode=RGB size=40x40 at 0x7F5723EA86D0>"
            ],
            "image/png": "[encoded data removed]"
          },
          "metadata": {}
        },
        {
          "output_type": "display_data",
          "data": {
            "text/plain": [
              "<PIL.Image.Image image mode=RGB size=40x40 at 0x7F572A81A950>"
            ],
            "image/png": "[encoded data removed]"
          },
          "metadata": {}
        }
      ]
    },
    {
      "cell_type": "code",
      "source": [
        "def info_printer(n):\n",
        "    print(df.text[n])\n",
        "    imname = df.imageURL[n][0]\n",
        "    os.system(\"wget \"+ imname)\n",
        "    imname = imname.split('/')[-1]\n",
        "    im = cv2.imread(imname)\n",
        "    os.system(\"rm \"+ imname)\n",
        "    cv2_imshow(im)"
      ],
      "metadata": {
        "id": "SXby79GIcz5n"
      },
      "execution_count": 188,
      "outputs": []
    },
    {
      "cell_type": "code",
      "source": [
        "info_printer(7)\n",
        "info_printer(8)"
      ],
      "metadata": {
        "colab": {
          "base_uri": "https://localhost:8080/",
          "height": 152
        },
        "id": "pvi3ndOScz8i",
        "outputId": "c1647d54-d7f1-4610-b219-e3a151b87d48"
      },
      "execution_count": 190,
      "outputs": [
        {
          "output_type": "stream",
          "name": "stdout",
          "text": [
            "bracelet silver ball rosary sterling silver mm inch necklace bracelet silver ball rosary sterling silver mm inch necklace made highest quality metal shipped free pendant box make perfect gift also wear elegantly crafted symbol proudly brilliant exquisite way express anchor faith treasure keepsake years come jewelry comes satisfaction guarantee reassured happy purchase\n"
          ]
        },
        {
          "output_type": "display_data",
          "data": {
            "text/plain": [
              "<PIL.Image.Image image mode=RGB size=40x40 at 0x7F572C123E90>"
            ],
            "image/png": "[encoded data removed]"
          },
          "metadata": {}
        },
        {
          "output_type": "stream",
          "name": "stdout",
          "text": [
            "cross holy spirit yellow gold xmm inch necklace cross holy spirit yellow gold xmm inch necklace made highest quality metal shipped free pendant box make perfect gift also wear elegantly crafted symbol proudly brilliant exquisite way express anchor faith treasure keepsake years come jewelry comes satisfaction guarantee reassured happy purchase\n"
          ]
        },
        {
          "output_type": "display_data",
          "data": {
            "text/plain": [
              "<PIL.Image.Image image mode=RGB size=40x40 at 0x7F572C123210>"
            ],
            "image/png": "[encoded data removed]"
          },
          "metadata": {}
        }
      ]
    },
    {
      "cell_type": "code",
      "source": [
        "info_printer(14)\n",
        "info_printer(12)"
      ],
      "metadata": {
        "colab": {
          "base_uri": "https://localhost:8080/",
          "height": 172
        },
        "id": "1uJJvk0ocz_V",
        "outputId": "03dd3e06-a25b-4b46-bfa5-24786a11b87e"
      },
      "execution_count": 187,
      "outputs": [
        {
          "output_type": "stream",
          "name": "stdout",
          "text": [
            "stockman vest every vest comes along thats versatile becomes favorite stockman designed worn proudly single layer valued layer warmth shell constructed genuine canadian melton wool oz strong lined premium grade taffeta distinctly western hardtailored whiskey nubuck trim featured front pocket welts western back yok piping buttons fine however quick release solid brass logo belt lin warth overall comfort mobility made usa\n"
          ]
        },
        {
          "output_type": "display_data",
          "data": {
            "text/plain": [
              "<PIL.Image.Image image mode=RGB size=38x50 at 0x7F572C5FD290>"
            ],
            "image/png": "[encoded data removed]"
          },
          "metadata": {}
        },
        {
          "output_type": "stream",
          "name": "stdout",
          "text": [
            "schaefer outfitters legend denim jacket remember first denim jacket stiff dark western today schaefer first design authentic cowboy denim jacket cowhide leather trimmed collar tailored doublestitch seams throughout double vshaped western yoke back matching western chest patch pockets slash hand warmer pockets adjustable button tab waist trimmed throughout schaefers signature twopiece die cast solid brass logo buttons extra roomy prewashed comfort truer fit cotton machine washable made usa\n"
          ]
        },
        {
          "output_type": "display_data",
          "data": {
            "text/plain": [
              "<PIL.Image.Image image mode=RGB size=38x50 at 0x7F57296D27D0>"
            ],
            "image/png": "[encoded data removed]"
          },
          "metadata": {}
        }
      ]
    },
    {
      "cell_type": "markdown",
      "metadata": {
        "id": "Wswn_U6D0wHX"
      },
      "source": [
        "# create image embedding"
      ]
    },
    {
      "cell_type": "code",
      "source": [
        "from torchvision import models\n",
        "import torch\n",
        "\n",
        "from PIL import Image\n",
        "import requests\n",
        "from torchvision import transforms\n",
        "from io import BytesIO\n",
        "\n",
        "import torch.nn as nn"
      ],
      "metadata": {
        "id": "EdBUAb0mgygA"
      },
      "execution_count": 275,
      "outputs": []
    },
    {
      "cell_type": "code",
      "source": [
        "alexnet = models.alexnet(pretrained=True)\n",
        "alexnet.classifier[6] = nn.Linear(4096, 100)"
      ],
      "metadata": {
        "id": "T8CPybmthfyQ"
      },
      "execution_count": 276,
      "outputs": []
    },
    {
      "cell_type": "code",
      "source": [
        "print(alexnet)"
      ],
      "metadata": {
        "colab": {
          "base_uri": "https://localhost:8080/"
        },
        "id": "VWOSAfn1hf36",
        "outputId": "d51cebc8-db51-43ac-c5bc-e8faf2a7dc3a"
      },
      "execution_count": 277,
      "outputs": [
        {
          "output_type": "stream",
          "name": "stdout",
          "text": [
            "AlexNet(\n",
            "  (features): Sequential(\n",
            "    (0): Conv2d(3, 64, kernel_size=(11, 11), stride=(4, 4), padding=(2, 2))\n",
            "    (1): ReLU(inplace=True)\n",
            "    (2): MaxPool2d(kernel_size=3, stride=2, padding=0, dilation=1, ceil_mode=False)\n",
            "    (3): Conv2d(64, 192, kernel_size=(5, 5), stride=(1, 1), padding=(2, 2))\n",
            "    (4): ReLU(inplace=True)\n",
            "    (5): MaxPool2d(kernel_size=3, stride=2, padding=0, dilation=1, ceil_mode=False)\n",
            "    (6): Conv2d(192, 384, kernel_size=(3, 3), stride=(1, 1), padding=(1, 1))\n",
            "    (7): ReLU(inplace=True)\n",
            "    (8): Conv2d(384, 256, kernel_size=(3, 3), stride=(1, 1), padding=(1, 1))\n",
            "    (9): ReLU(inplace=True)\n",
            "    (10): Conv2d(256, 256, kernel_size=(3, 3), stride=(1, 1), padding=(1, 1))\n",
            "    (11): ReLU(inplace=True)\n",
            "    (12): MaxPool2d(kernel_size=3, stride=2, padding=0, dilation=1, ceil_mode=False)\n",
            "  )\n",
            "  (avgpool): AdaptiveAvgPool2d(output_size=(6, 6))\n",
            "  (classifier): Sequential(\n",
            "    (0): Dropout(p=0.5, inplace=False)\n",
            "    (1): Linear(in_features=9216, out_features=4096, bias=True)\n",
            "    (2): ReLU(inplace=True)\n",
            "    (3): Dropout(p=0.5, inplace=False)\n",
            "    (4): Linear(in_features=4096, out_features=4096, bias=True)\n",
            "    (5): ReLU(inplace=True)\n",
            "    (6): Linear(in_features=4096, out_features=100, bias=True)\n",
            "  )\n",
            ")\n"
          ]
        }
      ]
    },
    {
      "cell_type": "code",
      "source": [
        "# link = \"https://github.com/aSafarpoor/open_repo_storhouse_for_nlp_Quran/blob/main/gray.png?raw=true\"\n",
        "# response = requests.get(link)\n",
        "# grayimg = Image.open(BytesIO(response.content))"
      ],
      "metadata": {
        "id": "gEPqqyxKtWA4"
      },
      "execution_count": 398,
      "outputs": []
    },
    {
      "cell_type": "code",
      "source": [
        "transform = transforms.Compose([            #[1]\n",
        "    transforms.Resize(256),                    #[2]\n",
        "    transforms.CenterCrop(224),                #[3]\n",
        "    transforms.ToTensor(),                     #[4]\n",
        "    transforms.Normalize(                      #[5]\n",
        "    mean=[0.485, 0.456, 0.406],                #[6]\n",
        "    std=[0.229, 0.224, 0.225]                  #[7]\n",
        ")])"
      ],
      "metadata": {
        "id": "7t1GWPU8hf7h"
      },
      "execution_count": 403,
      "outputs": []
    },
    {
      "cell_type": "code",
      "source": [
        "alexnet.eval()"
      ],
      "metadata": {
        "colab": {
          "base_uri": "https://localhost:8080/"
        },
        "id": "4HClNZE7hgCn",
        "outputId": "aaa91d8c-74fc-42d5-902a-b2cd35accaf2"
      },
      "execution_count": 405,
      "outputs": [
        {
          "output_type": "execute_result",
          "data": {
            "text/plain": [
              "AlexNet(\n",
              "  (features): Sequential(\n",
              "    (0): Conv2d(3, 64, kernel_size=(11, 11), stride=(4, 4), padding=(2, 2))\n",
              "    (1): ReLU(inplace=True)\n",
              "    (2): MaxPool2d(kernel_size=3, stride=2, padding=0, dilation=1, ceil_mode=False)\n",
              "    (3): Conv2d(64, 192, kernel_size=(5, 5), stride=(1, 1), padding=(2, 2))\n",
              "    (4): ReLU(inplace=True)\n",
              "    (5): MaxPool2d(kernel_size=3, stride=2, padding=0, dilation=1, ceil_mode=False)\n",
              "    (6): Conv2d(192, 384, kernel_size=(3, 3), stride=(1, 1), padding=(1, 1))\n",
              "    (7): ReLU(inplace=True)\n",
              "    (8): Conv2d(384, 256, kernel_size=(3, 3), stride=(1, 1), padding=(1, 1))\n",
              "    (9): ReLU(inplace=True)\n",
              "    (10): Conv2d(256, 256, kernel_size=(3, 3), stride=(1, 1), padding=(1, 1))\n",
              "    (11): ReLU(inplace=True)\n",
              "    (12): MaxPool2d(kernel_size=3, stride=2, padding=0, dilation=1, ceil_mode=False)\n",
              "  )\n",
              "  (avgpool): AdaptiveAvgPool2d(output_size=(6, 6))\n",
              "  (classifier): Sequential(\n",
              "    (0): Dropout(p=0.5, inplace=False)\n",
              "    (1): Linear(in_features=9216, out_features=4096, bias=True)\n",
              "    (2): ReLU(inplace=True)\n",
              "    (3): Dropout(p=0.5, inplace=False)\n",
              "    (4): Linear(in_features=4096, out_features=4096, bias=True)\n",
              "    (5): ReLU(inplace=True)\n",
              "    (6): Linear(in_features=4096, out_features=100, bias=True)\n",
              "  )\n",
              ")"
            ]
          },
          "metadata": {},
          "execution_count": 405
        }
      ]
    },
    {
      "cell_type": "code",
      "source": [
        "from PIL import Image"
      ],
      "metadata": {
        "id": "b1k7CZe1-yPL"
      },
      "execution_count": 439,
      "outputs": []
    },
    {
      "cell_type": "code",
      "source": [
        "response = requests.get(\"https://raw.githubusercontent.com/aSafarpoor/open_repo_storhouse_for_nlp_Quran/main/gray.png\")\n",
        "grayimg = Image.open(BytesIO(response.content))  "
      ],
      "metadata": {
        "id": "EpL7dFviI0r-"
      },
      "execution_count": null,
      "outputs": []
    },
    {
      "cell_type": "code",
      "source": [
        "def im_reader(link , draw=False , pil=False):\n",
        "    try:\n",
        "        response = requests.get(link)\n",
        "        img = Image.open(BytesIO(response.content))\n",
        "        \n",
        "        if img.size[0]<256 or img.size[1]<256: \n",
        "            result = Image.new(img.mode, (400, 400), 100)\n",
        "            result.paste(img, (100,100))\n",
        "            img = result\n",
        "    except:\n",
        "            img = grayimg.copy()\n",
        "    \n",
        "    if img.mode == 'L':\n",
        "            img = img.convert('RGB')\n",
        "\n",
        "    if pil:\n",
        "        img.show()\n",
        "        return img\n",
        "    im2arr = np.array(img)\n",
        "    if draw:\n",
        "        imgplot = plt.imshow(im2arr)\n",
        "        plt.show()\n",
        "    return im2arr"
      ],
      "metadata": {
        "id": "q0t8DeM5ivzd"
      },
      "execution_count": 535,
      "outputs": []
    },
    {
      "cell_type": "code",
      "source": [
        "def batch_t_creator(url):\n",
        "    img = im_reader(url,True,True)\n",
        "    img_t = transform(img)\n",
        "    batch_t = torch.unsqueeze(img_t, 0)\n",
        "    return batch_t"
      ],
      "metadata": {
        "id": "sEqTiP_6hf_c"
      },
      "execution_count": 536,
      "outputs": []
    },
    {
      "cell_type": "code",
      "source": [
        "out_list = []\n",
        "for i in tqdm(range(len(df))):\n",
        "    imname = df.imageURL[i][0]\n",
        "    batch_t = batch_t_creator(url=imname)\n",
        "    out = alexnet(batch_t)\n",
        "    out = out.detach().numpy()\n",
        "    out_list.append(out)"
      ],
      "metadata": {
        "colab": {
          "base_uri": "https://localhost:8080/"
        },
        "id": "643twKqUhgGL",
        "outputId": "959da198-8fc4-448b-f850-1de0af9567aa"
      },
      "execution_count": 537,
      "outputs": [
        {
          "output_type": "stream",
          "name": "stderr",
          "text": [
            "100%|██████████| 8528/8528 [27:05<00:00,  5.25it/s]\n"
          ]
        }
      ]
    },
    {
      "cell_type": "code",
      "source": [
        "# response = requests.get(\"https://images-na.ssl-images-amazon.com/images/I/314fCimuP-L._US40_.jpg\")\n",
        "# img = Image.open(BytesIO(response.content))\n",
        "# print(img.size)"
      ],
      "metadata": {
        "id": "avyc3tTsBuQt"
      },
      "execution_count": 538,
      "outputs": []
    },
    {
      "cell_type": "code",
      "source": [
        "# rgbimg = img.convert('RGB')\n",
        "\n",
        "# im2arr = np.array(img)\n",
        "# print(im2arr.shape)\n",
        "\n",
        "# im2arr = np.array(rgbimg)\n",
        "# print(im2arr.shape)"
      ],
      "metadata": {
        "id": "lTDy317e40H8"
      },
      "execution_count": 539,
      "outputs": []
    },
    {
      "cell_type": "code",
      "source": [
        "# if rgbimg.size[0]<256 or rgbimg.size[1]<256: \n",
        "#             result = Image.new(rgbimg.mode, (400, 400), 100)\n",
        "#             result.paste(rgbimg, (100,100))\n",
        "#             img = result\n",
        "\n"
      ],
      "metadata": {
        "id": "8wOAghJ541AL"
      },
      "execution_count": 540,
      "outputs": []
    },
    {
      "cell_type": "code",
      "source": [
        "# img.mode"
      ],
      "metadata": {
        "id": "17N_ogTY41Cq"
      },
      "execution_count": 541,
      "outputs": []
    },
    {
      "cell_type": "code",
      "source": [
        "df.embedding_of_img[0]"
      ],
      "metadata": {
        "colab": {
          "base_uri": "https://localhost:8080/"
        },
        "id": "Id6Qv4Ni41Gd",
        "outputId": "4045c04d-3950-4f9b-98df-2ac32c44cd9e"
      },
      "execution_count": 548,
      "outputs": [
        {
          "output_type": "execute_result",
          "data": {
            "text/plain": [
              "array([[-0.16994768,  0.18982676,  0.75423485,  0.43265396, -0.548987  ,\n",
              "        -0.8334779 ,  0.21449575, -0.5469698 , -0.37343872,  0.3298336 ,\n",
              "         0.45870197, -0.26444817, -0.44537354, -0.25101992,  0.4467347 ,\n",
              "        -0.3807954 , -0.20300551,  0.08941248,  0.5112709 , -0.08515714,\n",
              "         0.2585638 , -0.9361378 ,  0.31729266, -0.4139521 ,  1.34003   ,\n",
              "         0.52313954, -0.38285178,  0.26412752,  0.1839196 , -0.82951623,\n",
              "         0.16246235,  0.06309706,  0.11106266,  0.42828643, -0.6379764 ,\n",
              "        -0.04531524,  0.08442929, -0.01516967, -0.00250925,  0.38967472,\n",
              "        -0.08570734,  0.4291164 , -0.5878191 ,  0.9628032 ,  0.22006555,\n",
              "        -0.45618382,  0.29540664, -0.12945098,  0.07978283, -0.3809228 ,\n",
              "         0.29244474, -0.26406252,  0.27505618,  0.39576042, -0.4487237 ,\n",
              "        -0.25566956,  0.05190525,  0.5065185 ,  0.6355765 ,  0.14743915,\n",
              "         0.74384797, -0.28240708,  0.14826983, -0.04499435,  0.21008056,\n",
              "        -0.13334998,  0.44833383, -0.3995029 ,  0.72755754,  0.3451921 ,\n",
              "        -0.30467266, -0.08873348,  0.19312309,  0.30078337, -0.69457865,\n",
              "        -0.3459592 , -0.28942662,  0.34071997, -0.27365458, -0.06836572,\n",
              "        -0.61667776, -0.06942531,  0.02229096,  0.46478918, -0.38390538,\n",
              "        -0.155678  ,  0.6140107 , -0.381791  ,  0.13891308,  0.54650676,\n",
              "        -0.34691274,  1.4691217 , -0.34594175, -0.16129805,  1.054191  ,\n",
              "         0.31665215,  0.75609404,  0.2545558 ,  0.5700743 , -0.41964668]],\n",
              "      dtype=float32)"
            ]
          },
          "metadata": {},
          "execution_count": 548
        }
      ]
    },
    {
      "cell_type": "code",
      "source": [
        "tqdm.pandas()\n",
        "df['embedding_of_img'] = out_list"
      ],
      "metadata": {
        "id": "94M7sz5isCn_"
      },
      "execution_count": null,
      "outputs": []
    },
    {
      "cell_type": "code",
      "source": [
        "def reshaper(a):\n",
        "    a = np.array(a)\n",
        "    # print(a.shape)\n",
        "    if len(a.shape)==2:\n",
        "        a = a.reshape(a.shape[-1])\n",
        "    return a\n",
        "df['embedding_of_img'] = df['embedding_of_img'].apply(reshaper)"
      ],
      "metadata": {
        "id": "uhEqZhtwP6At"
      },
      "execution_count": 561,
      "outputs": []
    },
    {
      "cell_type": "code",
      "source": [
        "np.array(df.embedding_of_img).shape,len(df.embedding_of_img[0]),len(df.embedding_of_img[1])"
      ],
      "metadata": {
        "colab": {
          "base_uri": "https://localhost:8080/"
        },
        "id": "ZvfRfWw_sCrX",
        "outputId": "90755a84-1109-4df8-dfe8-559f3b52714d"
      },
      "execution_count": 562,
      "outputs": [
        {
          "output_type": "execute_result",
          "data": {
            "text/plain": [
              "((8528,), 100, 100)"
            ]
          },
          "metadata": {},
          "execution_count": 562
        }
      ]
    },
    {
      "cell_type": "code",
      "source": [
        "df.head(5)"
      ],
      "metadata": {
        "colab": {
          "base_uri": "https://localhost:8080/",
          "height": 424
        },
        "id": "c1cM2PKtQP_A",
        "outputId": "21e92a0b-6283-41b2-f89e-62b1a2443712"
      },
      "execution_count": 563,
      "outputs": [
        {
          "output_type": "execute_result",
          "data": {
            "text/plain": [
              "                                                text        asin  \\\n",
              "0  magical things really professional amateur mag...  1940280001   \n",
              "1  carbon fiber money clip made usa pull extra la...  9654263246   \n",
              "2  sterling silver cubic zirconia solitaire ring ...  B00061RFTW   \n",
              "3  sterling silver cz marquise cut solitaire cubi...  B00061RG3M   \n",
              "4  calvin klein mens pack classic vneck tshirt ca...  B00062NHH0   \n",
              "\n",
              "                                            imageURL  \\\n",
              "0  [https://images-na.ssl-images-amazon.com/image...   \n",
              "1  [https://images-na.ssl-images-amazon.com/image...   \n",
              "2  [https://images-na.ssl-images-amazon.com/image...   \n",
              "3  [https://images-na.ssl-images-amazon.com/image...   \n",
              "4  [https://images-na.ssl-images-amazon.com/image...   \n",
              "\n",
              "                                   embedding_of_text  \\\n",
              "0  [-0.5121693, 0.99798703, 0.42178416, 0.1645209...   \n",
              "1  [-0.2718411, 0.57745373, -0.5244633, 0.1660285...   \n",
              "2  [-0.56256497, 0.8782094, -0.5621206, 0.5295459...   \n",
              "3  [-0.46838546, 0.72800905, -1.0693595, 0.507026...   \n",
              "4  [0.12650906, -0.14532308, -0.06045738, 0.48030...   \n",
              "\n",
              "                                    embedding_of_img  \n",
              "0  [-0.16994768, 0.18982676, 0.75423485, 0.432653...  \n",
              "1  [-0.04363831, -0.04609757, 0.7264228, 0.378235...  \n",
              "2  [-0.05984018, -0.08105918, 0.62606984, 0.33442...  \n",
              "3  [-0.07340459, 0.009561129, 0.6598038, 0.374966...  \n",
              "4  [-0.17253129, -0.22384281, 0.5896789, 0.724949...  "
            ],
            "text/html": [
              "\n",
              "  <div id=\"df-226e7047-49c5-4e7a-a3cd-7fb0e06f2253\">\n",
              "    <div class=\"colab-df-container\">\n",
              "      <div>\n",
              "<style scoped>\n",
              "    .dataframe tbody tr th:only-of-type {\n",
              "        vertical-align: middle;\n",
              "    }\n",
              "\n",
              "    .dataframe tbody tr th {\n",
              "        vertical-align: top;\n",
              "    }\n",
              "\n",
              "    .dataframe thead th {\n",
              "        text-align: right;\n",
              "    }\n",
              "</style>\n",
              "<table border=\"1\" class=\"dataframe\">\n",
              "  <thead>\n",
              "    <tr style=\"text-align: right;\">\n",
              "      <th></th>\n",
              "      <th>text</th>\n",
              "      <th>asin</th>\n",
              "      <th>imageURL</th>\n",
              "      <th>embedding_of_text</th>\n",
              "      <th>embedding_of_img</th>\n",
              "    </tr>\n",
              "  </thead>\n",
              "  <tbody>\n",
              "    <tr>\n",
              "      <th>0</th>\n",
              "      <td>magical things really professional amateur mag...</td>\n",
              "      <td>1940280001</td>\n",
              "      <td>[https://images-na.ssl-images-amazon.com/image...</td>\n",
              "      <td>[-0.5121693, 0.99798703, 0.42178416, 0.1645209...</td>\n",
              "      <td>[-0.16994768, 0.18982676, 0.75423485, 0.432653...</td>\n",
              "    </tr>\n",
              "    <tr>\n",
              "      <th>1</th>\n",
              "      <td>carbon fiber money clip made usa pull extra la...</td>\n",
              "      <td>9654263246</td>\n",
              "      <td>[https://images-na.ssl-images-amazon.com/image...</td>\n",
              "      <td>[-0.2718411, 0.57745373, -0.5244633, 0.1660285...</td>\n",
              "      <td>[-0.04363831, -0.04609757, 0.7264228, 0.378235...</td>\n",
              "    </tr>\n",
              "    <tr>\n",
              "      <th>2</th>\n",
              "      <td>sterling silver cubic zirconia solitaire ring ...</td>\n",
              "      <td>B00061RFTW</td>\n",
              "      <td>[https://images-na.ssl-images-amazon.com/image...</td>\n",
              "      <td>[-0.56256497, 0.8782094, -0.5621206, 0.5295459...</td>\n",
              "      <td>[-0.05984018, -0.08105918, 0.62606984, 0.33442...</td>\n",
              "    </tr>\n",
              "    <tr>\n",
              "      <th>3</th>\n",
              "      <td>sterling silver cz marquise cut solitaire cubi...</td>\n",
              "      <td>B00061RG3M</td>\n",
              "      <td>[https://images-na.ssl-images-amazon.com/image...</td>\n",
              "      <td>[-0.46838546, 0.72800905, -1.0693595, 0.507026...</td>\n",
              "      <td>[-0.07340459, 0.009561129, 0.6598038, 0.374966...</td>\n",
              "    </tr>\n",
              "    <tr>\n",
              "      <th>4</th>\n",
              "      <td>calvin klein mens pack classic vneck tshirt ca...</td>\n",
              "      <td>B00062NHH0</td>\n",
              "      <td>[https://images-na.ssl-images-amazon.com/image...</td>\n",
              "      <td>[0.12650906, -0.14532308, -0.06045738, 0.48030...</td>\n",
              "      <td>[-0.17253129, -0.22384281, 0.5896789, 0.724949...</td>\n",
              "    </tr>\n",
              "  </tbody>\n",
              "</table>\n",
              "</div>\n",
              "      <button class=\"colab-df-convert\" onclick=\"convertToInteractive('df-226e7047-49c5-4e7a-a3cd-7fb0e06f2253')\"\n",
              "              title=\"Convert this dataframe to an interactive table.\"\n",
              "              style=\"display:none;\">\n",
              "        \n",
              "  <svg xmlns=\"http://www.w3.org/2000/svg\" height=\"24px\"viewBox=\"0 0 24 24\"\n",
              "       width=\"24px\">\n",
              "    <path d=\"M0 0h24v24H0V0z\" fill=\"none\"/>\n",
              "    <path d=\"M18.56 5.44l.94 2.06.94-2.06 2.06-.94-2.06-.94-.94-2.06-.94 2.06-2.06.94zm-11 1L8.5 8.5l.94-2.06 2.06-.94-2.06-.94L8.5 2.5l-.94 2.06-2.06.94zm10 10l.94 2.06.94-2.06 2.06-.94-2.06-.94-.94-2.06-.94 2.06-2.06.94z\"/><path d=\"M17.41 7.96l-1.37-1.37c-.4-.4-.92-.59-1.43-.59-.52 0-1.04.2-1.43.59L10.3 9.45l-7.72 7.72c-.78.78-.78 2.05 0 2.83L4 21.41c.39.39.9.59 1.41.59.51 0 1.02-.2 1.41-.59l7.78-7.78 2.81-2.81c.8-.78.8-2.07 0-2.86zM5.41 20L4 18.59l7.72-7.72 1.47 1.35L5.41 20z\"/>\n",
              "  </svg>\n",
              "      </button>\n",
              "      \n",
              "  <style>\n",
              "    .colab-df-container {\n",
              "      display:flex;\n",
              "      flex-wrap:wrap;\n",
              "      gap: 12px;\n",
              "    }\n",
              "\n",
              "    .colab-df-convert {\n",
              "      background-color: #E8F0FE;\n",
              "      border: none;\n",
              "      border-radius: 50%;\n",
              "      cursor: pointer;\n",
              "      display: none;\n",
              "      fill: #1967D2;\n",
              "      height: 32px;\n",
              "      padding: 0 0 0 0;\n",
              "      width: 32px;\n",
              "    }\n",
              "\n",
              "    .colab-df-convert:hover {\n",
              "      background-color: #E2EBFA;\n",
              "      box-shadow: 0px 1px 2px rgba(60, 64, 67, 0.3), 0px 1px 3px 1px rgba(60, 64, 67, 0.15);\n",
              "      fill: #174EA6;\n",
              "    }\n",
              "\n",
              "    [theme=dark] .colab-df-convert {\n",
              "      background-color: #3B4455;\n",
              "      fill: #D2E3FC;\n",
              "    }\n",
              "\n",
              "    [theme=dark] .colab-df-convert:hover {\n",
              "      background-color: #434B5C;\n",
              "      box-shadow: 0px 1px 3px 1px rgba(0, 0, 0, 0.15);\n",
              "      filter: drop-shadow(0px 1px 2px rgba(0, 0, 0, 0.3));\n",
              "      fill: #FFFFFF;\n",
              "    }\n",
              "  </style>\n",
              "\n",
              "      <script>\n",
              "        const buttonEl =\n",
              "          document.querySelector('#df-226e7047-49c5-4e7a-a3cd-7fb0e06f2253 button.colab-df-convert');\n",
              "        buttonEl.style.display =\n",
              "          google.colab.kernel.accessAllowed ? 'block' : 'none';\n",
              "\n",
              "        async function convertToInteractive(key) {\n",
              "          const element = document.querySelector('#df-226e7047-49c5-4e7a-a3cd-7fb0e06f2253');\n",
              "          const dataTable =\n",
              "            await google.colab.kernel.invokeFunction('convertToInteractive',\n",
              "                                                     [key], {});\n",
              "          if (!dataTable) return;\n",
              "\n",
              "          const docLinkHtml = 'Like what you see? Visit the ' +\n",
              "            '<a target=\"_blank\" href=https://colab.research.google.com/notebooks/data_table.ipynb>data table notebook</a>'\n",
              "            + ' to learn more about interactive tables.';\n",
              "          element.innerHTML = '';\n",
              "          dataTable['output_type'] = 'display_data';\n",
              "          await google.colab.output.renderOutput(dataTable, element);\n",
              "          const docLink = document.createElement('div');\n",
              "          docLink.innerHTML = docLinkHtml;\n",
              "          element.appendChild(docLink);\n",
              "        }\n",
              "      </script>\n",
              "    </div>\n",
              "  </div>\n",
              "  "
            ]
          },
          "metadata": {},
          "execution_count": 563
        }
      ]
    },
    {
      "cell_type": "code",
      "source": [
        "et = np.array(df.embedding_of_img)"
      ],
      "metadata": {
        "id": "YjLnwRLGqwhC"
      },
      "execution_count": 564,
      "outputs": []
    },
    {
      "cell_type": "code",
      "execution_count": 565,
      "metadata": {
        "id": "Qm9606ykqwhC"
      },
      "outputs": [],
      "source": [
        "def dot_product(v1, v2):\n",
        "    v1 = np.array(v1)\n",
        "    v2 = np.array(v2)\n",
        "    return np.dot(v1,v2)\n",
        "\n",
        "def cosine_measure(v1, v2):\n",
        "    v1 = np.array(v1)\n",
        "    v2 = np.array(v2)\n",
        "    prod = np.dot(v1,v2)\n",
        "    len1 = math.sqrt(np.dot(v1, v1))\n",
        "    len2 = math.sqrt(np.dot(v2, v2))\n",
        "    return prod / (len1 * len2)"
      ]
    },
    {
      "cell_type": "code",
      "source": [
        "sim = np.zeros((len(et),len(et)))"
      ],
      "metadata": {
        "id": "8_Qtvxm0qwhC"
      },
      "execution_count": 566,
      "outputs": []
    },
    {
      "cell_type": "code",
      "source": [
        "for i in tqdm(range(len(et))):\n",
        "    for j in range(len(et)):\n",
        "        v1 = et[i]\n",
        "        v2 = et[j]\n",
        "        s = cosine_measure(v1, v2)\n",
        "        sim[i][j] = s"
      ],
      "metadata": {
        "colab": {
          "base_uri": "https://localhost:8080/"
        },
        "outputId": "3f10e2ae-a6da-408b-f17e-511f5676ac6c",
        "id": "HsLapNO3qwhD"
      },
      "execution_count": 567,
      "outputs": [
        {
          "output_type": "stream",
          "name": "stderr",
          "text": [
            "100%|██████████| 8528/8528 [12:17<00:00, 11.56it/s]\n"
          ]
        }
      ]
    },
    {
      "cell_type": "code",
      "source": [
        "import seaborn as sns\n",
        "from matplotlib.pyplot import figure\n",
        "\n",
        "figure(figsize=(15, 15), dpi=80)\n",
        "\n",
        "ax = sns.heatmap(sim[:20,:20],cmap='RdYlGn',square=True)\n",
        "\n",
        "plt.show()"
      ],
      "metadata": {
        "colab": {
          "base_uri": "https://localhost:8080/",
          "height": 838
        },
        "outputId": "467f49f3-9eb4-4ee3-ff85-834fc9386ae4",
        "id": "YbgyI9q1qwhD"
      },
      "execution_count": 568,
      "outputs": [
        {
          "output_type": "display_data",
          "data": {
            "text/plain": [
              "<Figure size 1200x1200 with 2 Axes>"
            ],
            "image/png": "[encoded data removed]"
          },
          "metadata": {
            "needs_background": "light"
          }
        }
      ]
    },
    {
      "cell_type": "code",
      "source": [
        "simimg = sim[:]"
      ],
      "metadata": {
        "id": "LsQrUMu3UQCb"
      },
      "execution_count": 573,
      "outputs": []
    },
    {
      "cell_type": "code",
      "source": [
        "def info_printer(n):\n",
        "    print(df.text[n])\n",
        "    imname = df.imageURL[n][0]\n",
        "    os.system(\"wget \"+ imname)\n",
        "    imname = imname.split('/')[-1]\n",
        "    im = cv2.imread(imname)\n",
        "    os.system(\"rm \"+ imname)\n",
        "    cv2_imshow(im)"
      ],
      "metadata": {
        "id": "HTSN_h9yqwhD"
      },
      "execution_count": 569,
      "outputs": []
    },
    {
      "cell_type": "code",
      "source": [
        "info_printer(3)\n",
        "info_printer(10)"
      ],
      "metadata": {
        "colab": {
          "base_uri": "https://localhost:8080/",
          "height": 152
        },
        "outputId": "87e71cda-be5b-42c2-a838-f7c6ac54db63",
        "id": "KZGqNCl5qwhD"
      },
      "execution_count": 570,
      "outputs": [
        {
          "output_type": "stream",
          "name": "stdout",
          "text": [
            "sterling silver cz marquise cut solitaire cubic zirconia ring sparkling magnificent sterling silver band measures approximately mm wide featuring elongated clear ct emerald cut cubic zirconia marquise shaped stone beautiful puts real diamonds shame get look real diamonds without hefty price tag ring shipped free gift box perfect surprising special someone\n"
          ]
        },
        {
          "output_type": "display_data",
          "data": {
            "text/plain": [
              "<PIL.Image.Image image mode=RGB size=40x40 at 0x7F5725C404D0>"
            ],
            "image/png": "[encoded data removed]"
          },
          "metadata": {}
        },
        {
          "output_type": "stream",
          "name": "stdout",
          "text": [
            "aa white pearl necklace inch necklace refined sophisticated features mm white freshwater aa quality cultured pearls\n"
          ]
        },
        {
          "output_type": "display_data",
          "data": {
            "text/plain": [
              "<PIL.Image.Image image mode=RGB size=40x40 at 0x7F5725DF2810>"
            ],
            "image/png": "[encoded data removed]"
          },
          "metadata": {}
        }
      ]
    },
    {
      "cell_type": "code",
      "source": [
        "info_printer(4)\n",
        "info_printer(16)"
      ],
      "metadata": {
        "colab": {
          "base_uri": "https://localhost:8080/",
          "height": 172
        },
        "id": "jONIJkUXT4_j",
        "outputId": "491b170f-1f6e-4573-9b64-32bf3911aa19"
      },
      "execution_count": 571,
      "outputs": [
        {
          "output_type": "stream",
          "name": "stdout",
          "text": [
            "calvin klein mens pack classic vneck tshirt calvin klein basics comfortable cotton underwear original calvin klein aesthetic\n"
          ]
        },
        {
          "output_type": "display_data",
          "data": {
            "text/plain": [
              "<PIL.Image.Image image mode=RGB size=38x50 at 0x7F5725DF24D0>"
            ],
            "image/png": "[encoded data removed]"
          },
          "metadata": {}
        },
        {
          "output_type": "stream",
          "name": "stdout",
          "text": [
            "avalon masonic watcha \n"
          ]
        },
        {
          "output_type": "display_data",
          "data": {
            "text/plain": [
              "<PIL.Image.Image image mode=RGB size=38x50 at 0x7F5725DA8150>"
            ],
            "image/png": "[encoded data removed]"
          },
          "metadata": {}
        }
      ]
    },
    {
      "cell_type": "markdown",
      "metadata": {
        "id": "ASal9hgJ0wQK"
      },
      "source": [
        "# save data as file"
      ]
    },
    {
      "cell_type": "code",
      "source": [
        "import pickle\n",
        "with open('df_v_t_embedding.p', 'wb') as fp:\n",
        "    pickle.dump(df, fp, protocol=pickle.HIGHEST_PROTOCOL)"
      ],
      "metadata": {
        "id": "w2OT5dfSvsCv"
      },
      "execution_count": 572,
      "outputs": []
    },
    {
      "cell_type": "markdown",
      "metadata": {
        "id": "dxozu13-0wSy"
      },
      "source": [
        "# read data as file"
      ]
    },
    {
      "cell_type": "markdown",
      "metadata": {
        "id": "QuPVdZN60wNQ"
      },
      "source": [
        "# content based RS"
      ]
    },
    {
      "cell_type": "code",
      "execution_count": 582,
      "metadata": {
        "id": "DSHJaPGw1WBG",
        "colab": {
          "base_uri": "https://localhost:8080/"
        },
        "outputId": "f8d64170-840a-4b84-cd95-b3c3d6c3780b"
      },
      "outputs": [
        {
          "output_type": "execute_result",
          "data": {
            "text/plain": [
              "array([[1.        , 0.94534023, 0.95728435, 0.96731322, 0.9015719 ],\n",
              "       [0.94534023, 1.        , 0.97944581, 0.96850335, 0.92611726],\n",
              "       [0.95728435, 0.97944581, 1.        , 0.99176445, 0.88299931],\n",
              "       [0.96731322, 0.96850335, 0.99176445, 1.        , 0.87750319],\n",
              "       [0.9015719 , 0.92611726, 0.88299931, 0.87750319, 1.        ]])"
            ]
          },
          "metadata": {},
          "execution_count": 582
        }
      ],
      "source": [
        "simimg[:5,:5]"
      ]
    },
    {
      "cell_type": "code",
      "source": [
        "simtxt[:5,:5]"
      ],
      "metadata": {
        "colab": {
          "base_uri": "https://localhost:8080/"
        },
        "id": "cP9VdrafYTya",
        "outputId": "433b74d8-cf12-48b2-ab28-d612f1f35216"
      },
      "execution_count": 583,
      "outputs": [
        {
          "output_type": "execute_result",
          "data": {
            "text/plain": [
              "array([[1.        , 0.66125688, 0.63801554, 0.56551098, 0.300835  ],\n",
              "       [0.66125688, 1.        , 0.63086532, 0.54084793, 0.37884772],\n",
              "       [0.63801554, 0.63086532, 1.        , 0.92591717, 0.47916739],\n",
              "       [0.56551098, 0.54084793, 0.92591717, 1.        , 0.41814905],\n",
              "       [0.300835  , 0.37884772, 0.47916739, 0.41814905, 1.        ]])"
            ]
          },
          "metadata": {},
          "execution_count": 583
        }
      ]
    },
    {
      "cell_type": "code",
      "execution_count": 588,
      "metadata": {
        "id": "hq-x7glB1Vbm"
      },
      "outputs": [],
      "source": [
        "sim = (simimg[:] + 2*simtxt[:])/3"
      ]
    },
    {
      "cell_type": "code",
      "source": [
        "import seaborn as sns\n",
        "from matplotlib.pyplot import figure\n",
        "figure(figsize=(15, 15), dpi=80)\n",
        "ax = sns.heatmap(sim[:20,:20],cmap='RdYlGn',square=True)\n",
        "plt.show()"
      ],
      "metadata": {
        "colab": {
          "base_uri": "https://localhost:8080/",
          "height": 851
        },
        "id": "RxiCvIV2Ynpy",
        "outputId": "cf9dc697-e495-48c3-97b0-5a2db8590914"
      },
      "execution_count": 589,
      "outputs": [
        {
          "output_type": "display_data",
          "data": {
            "text/plain": [
              "<Figure size 1200x1200 with 2 Axes>"
            ],
            "image/png": "[encoded data removed]"
          },
          "metadata": {
            "needs_background": "light"
          }
        }
      ]
    },
    {
      "cell_type": "code",
      "source": [
        "def info_printer(n):\n",
        "    print(df.text[n])\n",
        "    imname = df.imageURL[n][0]\n",
        "    os.system(\"wget \"+ imname)\n",
        "    imname = imname.split('/')[-1]\n",
        "    im = cv2.imread(imname)\n",
        "    os.system(\"rm \"+ imname)\n",
        "    cv2_imshow(im)"
      ],
      "metadata": {
        "id": "gC1ZWSEpZRr7"
      },
      "execution_count": 590,
      "outputs": []
    },
    {
      "cell_type": "code",
      "source": [
        "info_printer(2)\n",
        "info_printer(3)"
      ],
      "metadata": {
        "colab": {
          "base_uri": "https://localhost:8080/",
          "height": 152
        },
        "outputId": "9473f5c4-d923-4ac6-8f89-d35853d3621d",
        "id": "8MPMZJq0ZRr8"
      },
      "execution_count": 591,
      "outputs": [
        {
          "output_type": "stream",
          "name": "stdout",
          "text": [
            "sterling silver cubic zirconia solitaire ring emerald cut clear cz classically designed silver solitaire ring last lifetime expertly crafted ct clear emeraldcut cubic zirconia lays top sterling silver band mm wide ring timeless stack another ring wear alone make entire hand sparkle unbelievable price theres reason ring get ring shipped free gift box perfect surprising special someone\n"
          ]
        },
        {
          "output_type": "display_data",
          "data": {
            "text/plain": [
              "<PIL.Image.Image image mode=RGB size=40x40 at 0x7F5725FA9650>"
            ],
            "image/png": "[encoded data removed]"
          },
          "metadata": {}
        },
        {
          "output_type": "stream",
          "name": "stdout",
          "text": [
            "sterling silver cz marquise cut solitaire cubic zirconia ring sparkling magnificent sterling silver band measures approximately mm wide featuring elongated clear ct emerald cut cubic zirconia marquise shaped stone beautiful puts real diamonds shame get look real diamonds without hefty price tag ring shipped free gift box perfect surprising special someone\n"
          ]
        },
        {
          "output_type": "display_data",
          "data": {
            "text/plain": [
              "<PIL.Image.Image image mode=RGB size=40x40 at 0x7F5725C78590>"
            ],
            "image/png": "[encoded data removed]"
          },
          "metadata": {}
        }
      ]
    },
    {
      "cell_type": "code",
      "source": [
        "info_printer(12)\n",
        "info_printer(3)"
      ],
      "metadata": {
        "colab": {
          "base_uri": "https://localhost:8080/",
          "height": 162
        },
        "id": "UTwcWfCpZYTB",
        "outputId": "dac77b52-5585-4b1b-fca4-3ae7f2c3cefb"
      },
      "execution_count": 592,
      "outputs": [
        {
          "output_type": "stream",
          "name": "stdout",
          "text": [
            "schaefer outfitters legend denim jacket remember first denim jacket stiff dark western today schaefer first design authentic cowboy denim jacket cowhide leather trimmed collar tailored doublestitch seams throughout double vshaped western yoke back matching western chest patch pockets slash hand warmer pockets adjustable button tab waist trimmed throughout schaefers signature twopiece die cast solid brass logo buttons extra roomy prewashed comfort truer fit cotton machine washable made usa\n"
          ]
        },
        {
          "output_type": "display_data",
          "data": {
            "text/plain": [
              "<PIL.Image.Image image mode=RGB size=38x50 at 0x7F5726054D50>"
            ],
            "image/png": "[encoded data removed]"
          },
          "metadata": {}
        },
        {
          "output_type": "stream",
          "name": "stdout",
          "text": [
            "sterling silver cz marquise cut solitaire cubic zirconia ring sparkling magnificent sterling silver band measures approximately mm wide featuring elongated clear ct emerald cut cubic zirconia marquise shaped stone beautiful puts real diamonds shame get look real diamonds without hefty price tag ring shipped free gift box perfect surprising special someone\n"
          ]
        },
        {
          "output_type": "display_data",
          "data": {
            "text/plain": [
              "<PIL.Image.Image image mode=RGB size=40x40 at 0x7F5725CE1110>"
            ],
            "image/png": "[encoded data removed]"
          },
          "metadata": {}
        }
      ]
    },
    {
      "cell_type": "code",
      "source": [
        "info_printer(18)\n",
        "info_printer(16)"
      ],
      "metadata": {
        "colab": {
          "base_uri": "https://localhost:8080/",
          "height": 162
        },
        "id": "-R7IN1KKZazJ",
        "outputId": "ade17f34-e609-4535-94ae-03953be4d587"
      },
      "execution_count": 593,
      "outputs": [
        {
          "output_type": "stream",
          "name": "stdout",
          "text": [
            "kt gold double trinity knot ring trinity knot simplest celtic design existence side bordered celtic knotwork beautiful simple celtic make even beautiful kt yellow gold\n"
          ]
        },
        {
          "output_type": "display_data",
          "data": {
            "text/plain": [
              "<PIL.Image.Image image mode=RGB size=40x40 at 0x7F572684EBD0>"
            ],
            "image/png": "[encoded data removed]"
          },
          "metadata": {}
        },
        {
          "output_type": "stream",
          "name": "stdout",
          "text": [
            "avalon masonic watcha \n"
          ]
        },
        {
          "output_type": "display_data",
          "data": {
            "text/plain": [
              "<PIL.Image.Image image mode=RGB size=38x50 at 0x7F5725CE1A90>"
            ],
            "image/png": "[encoded data removed]"
          },
          "metadata": {}
        }
      ]
    },
    {
      "cell_type": "markdown",
      "source": [
        "## read second table to find positive and negatice samples"
      ],
      "metadata": {
        "id": "YjtXBjegZqJj"
      }
    },
    {
      "cell_type": "code",
      "source": [
        "###"
      ],
      "metadata": {
        "id": "G-n38fRqZgth"
      },
      "execution_count": 594,
      "outputs": []
    },
    {
      "cell_type": "code",
      "source": [
        ""
      ],
      "metadata": {
        "id": "LtwWxZUiZwTR"
      },
      "execution_count": null,
      "outputs": []
    }
  ],
  "metadata": {
    "colab": {
      "collapsed_sections": [],
      "name": "simple contrastive learning based on amazon dataset.ipynb",
      "provenance": [],
      "authorship_tag": "ABX9TyOrlt7rsF8/0QNkItasF7Wa",
      "include_colab_link": true
    },
    "kernelspec": {
      "display_name": "Python 3",
      "name": "python3"
    },
    "language_info": {
      "name": "python"
    }
  },
  "nbformat": 4,
  "nbformat_minor": 0
}