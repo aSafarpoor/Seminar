{
  "nbformat": 4,
  "nbformat_minor": 0,
  "metadata": {
    "colab": {
      "name": "Embedding & Normaliz Description.ipynb",
      "provenance": [],
      "collapsed_sections": [
        "RMP8xLzB2cIE"
      ],
      "authorship_tag": "ABX9TyNeagHObdxINatSkZ69mbH1",
      "include_colab_link": true
    },
    "kernelspec": {
      "name": "python3",
      "display_name": "Python 3"
    },
    "language_info": {
      "name": "python"
    }
  },
  "cells": [
    {
      "cell_type": "markdown",
      "metadata": {
        "id": "view-in-github",
        "colab_type": "text"
      },
      "source": [
        "<a href=\"https://colab.research.google.com/github/aSafarpoor/Seminar/blob/main/Embedding_%26_Normaliz_Description.ipynb\" target=\"_parent\"><img src=\"https://colab.research.google.com/assets/colab-badge.svg\" alt=\"Open In Colab\"/></a>"
      ]
    },
    {
      "cell_type": "markdown",
      "source": [
        "source link: http://deepyeti.ucsd.edu/jianmo/amazon/index.html"
      ],
      "metadata": {
        "id": "NHhZ0okjmyAP"
      }
    },
    {
      "cell_type": "code",
      "source": [
        "import json\n",
        "from tqdm import tqdm\n",
        "import random\n",
        "from collections import Counter\n",
        "import pandas as pd\n",
        "import pickle\n",
        "import numpy as np"
      ],
      "metadata": {
        "id": "Z400ixCItKw7"
      },
      "execution_count": 158,
      "outputs": []
    },
    {
      "cell_type": "code",
      "source": [
        "from google.colab import drive\n",
        "drive.mount('/content/drive')"
      ],
      "metadata": {
        "colab": {
          "base_uri": "https://localhost:8080/"
        },
        "id": "xWzCWEIVnGbc",
        "outputId": "fdc2b716-1913-4bc0-9546-679043903482"
      },
      "execution_count": 7,
      "outputs": [
        {
          "output_type": "stream",
          "name": "stdout",
          "text": [
            "Drive already mounted at /content/drive; to attempt to forcibly remount, call drive.mount(\"/content/drive\", force_remount=True).\n"
          ]
        }
      ]
    },
    {
      "cell_type": "code",
      "source": [
        "%cd drive\n",
        "%cd MyDrive\n",
        "%cd Seminar\n",
        "!ls"
      ],
      "metadata": {
        "colab": {
          "base_uri": "https://localhost:8080/"
        },
        "id": "4BNhP78LnXIU",
        "outputId": "abb743c5-bbe6-4ef4-b7c1-b3c152eed11d"
      },
      "execution_count": 8,
      "outputs": [
        {
          "output_type": "stream",
          "name": "stdout",
          "text": [
            "[Errno 2] No such file or directory: 'drive'\n",
            "/content/drive/MyDrive/Seminar\n",
            "[Errno 2] No such file or directory: 'MyDrive'\n",
            "/content/drive/MyDrive/Seminar\n",
            "[Errno 2] No such file or directory: 'Seminar'\n",
            "/content/drive/MyDrive/Seminar\n",
            "AMAZON_FASHION.json\t  meta_AMAZON_FASHION.json.gz  user_tweets.p\n",
            "AMAZON_FASHION.json.gz\t  meta_data.p\n",
            "meta_AMAZON_FASHION.json  user_item_matrix.p\n"
          ]
        }
      ]
    },
    {
      "cell_type": "code",
      "execution_count": null,
      "metadata": {
        "id": "AYnlqP1UmmH2"
      },
      "outputs": [],
      "source": [
        "# !wget http://deepyeti.ucsd.edu/jianmo/amazon/categoryFiles/AMAZON_FASHION.json.gz"
      ]
    },
    {
      "cell_type": "code",
      "source": [
        "# !wget http://deepyeti.ucsd.edu/jianmo/amazon/metaFiles2/meta_AMAZON_FASHION.json.gz"
      ],
      "metadata": {
        "id": "5FGlF571n6ie"
      },
      "execution_count": null,
      "outputs": []
    },
    {
      "cell_type": "code",
      "source": [
        "# !ls"
      ],
      "metadata": {
        "id": "2cSFNYNSn_b_"
      },
      "execution_count": null,
      "outputs": []
    },
    {
      "cell_type": "code",
      "source": [
        "# !gunzip -k AMAZON_FASHION.json.gz"
      ],
      "metadata": {
        "id": "yOn0a3xqoB18"
      },
      "execution_count": null,
      "outputs": []
    },
    {
      "cell_type": "code",
      "source": [
        "# !gunzip -k meta_AMAZON_FASHION.json.gz"
      ],
      "metadata": {
        "id": "UsRddgodoG0U"
      },
      "execution_count": null,
      "outputs": []
    },
    {
      "cell_type": "code",
      "source": [
        "!ls"
      ],
      "metadata": {
        "colab": {
          "base_uri": "https://localhost:8080/"
        },
        "id": "ySQ0VKi9p28C",
        "outputId": "05577e5d-22c4-4b54-ac67-e1c98d7918db"
      },
      "execution_count": 9,
      "outputs": [
        {
          "output_type": "stream",
          "name": "stdout",
          "text": [
            "AMAZON_FASHION.json\t  meta_AMAZON_FASHION.json.gz  user_tweets.p\n",
            "AMAZON_FASHION.json.gz\t  meta_data.p\n",
            "meta_AMAZON_FASHION.json  user_item_matrix.p\n"
          ]
        }
      ]
    },
    {
      "cell_type": "markdown",
      "source": [
        "# data fast overview"
      ],
      "metadata": {
        "id": "UCnOYu3L2YZy"
      }
    },
    {
      "cell_type": "code",
      "source": [
        "meta_data = []\n",
        "for line in open('meta_AMAZON_FASHION.json', 'r'):\n",
        "    meta_data.append(json.loads(line))"
      ],
      "metadata": {
        "id": "L3t3s9Vc8jbL"
      },
      "execution_count": 44,
      "outputs": []
    },
    {
      "cell_type": "code",
      "source": [
        "len(meta_data) , '\\n' , meta_data[0]"
      ],
      "metadata": {
        "colab": {
          "base_uri": "https://localhost:8080/"
        },
        "id": "fch95C_q9Ajk",
        "outputId": "5b131f79-907e-469b-d552-b8ee4a246ac0"
      },
      "execution_count": 45,
      "outputs": [
        {
          "output_type": "execute_result",
          "data": {
            "text/plain": [
              "(186637,\n",
              " '\\n',\n",
              " {'asin': '0764443682',\n",
              "  'brand': 'Group Publishing (CO)',\n",
              "  'date': '8.70 inches',\n",
              "  'feature': ['Product Dimensions:\\n                    \\n8.7 x 3.6 x 11.4 inches',\n",
              "   'Shipping Weight:\\n                    \\n2.4 pounds'],\n",
              "  'imageURL': ['https://images-na.ssl-images-amazon.com/images/I/51bSrINiWpL._US40_.jpg'],\n",
              "  'imageURLHighRes': ['https://images-na.ssl-images-amazon.com/images/I/51bSrINiWpL.jpg'],\n",
              "  'rank': '13,052,976inClothing,Shoesamp;Jewelry(',\n",
              "  'title': 'Slime Time Fall Fest [With CDROM and Collector Cards and Neutron Balls, Incredi-Ball and Glow Stick Necklace, Paper Fram'})"
            ]
          },
          "metadata": {},
          "execution_count": 45
        }
      ]
    },
    {
      "cell_type": "code",
      "source": [
        "t_count = i_count = hi_count = 0\n",
        "tlen= []\n",
        "for i in meta_data:\n",
        "    if 'title' in list(i.keys()):\n",
        "        t_count +=1\n",
        "        tlen.append(len(i['title']))\n",
        "    if 'imageURL' in list(i.keys()):\n",
        "        i_count +=1\n",
        "    if 'imageURLHighRes' in list(i.keys()):\n",
        "        hi_count +=1\n",
        "\n",
        "t_count , i_count , hi_count , len(meta_data)"
      ],
      "metadata": {
        "colab": {
          "base_uri": "https://localhost:8080/"
        },
        "id": "FS9kNCcJ9DzC",
        "outputId": "62698d3c-4fb6-4dad-ce13-5a0a5dcea422"
      },
      "execution_count": 46,
      "outputs": [
        {
          "output_type": "execute_result",
          "data": {
            "text/plain": [
              "(186632, 132017, 132017, 186637)"
            ]
          },
          "metadata": {},
          "execution_count": 46
        }
      ]
    },
    {
      "cell_type": "code",
      "source": [
        "md = pd.DataFrame(meta_data)"
      ],
      "metadata": {
        "id": "G9LtJ9PX9ich"
      },
      "execution_count": 47,
      "outputs": []
    },
    {
      "cell_type": "code",
      "source": [
        "print(len(md)) , md.columns"
      ],
      "metadata": {
        "colab": {
          "base_uri": "https://localhost:8080/"
        },
        "id": "r6EL4gi48_G9",
        "outputId": "f16597f7-597d-4b92-89f9-ad5b3c162a97"
      },
      "execution_count": 48,
      "outputs": [
        {
          "output_type": "stream",
          "name": "stdout",
          "text": [
            "186637\n"
          ]
        },
        {
          "output_type": "execute_result",
          "data": {
            "text/plain": [
              "(None, Index(['title', 'brand', 'feature', 'rank', 'date', 'asin', 'imageURL',\n",
              "        'imageURLHighRes', 'description', 'price', 'also_view', 'also_buy',\n",
              "        'fit', 'details', 'similar_item', 'tech1'],\n",
              "       dtype='object'))"
            ]
          },
          "metadata": {},
          "execution_count": 48
        }
      ]
    },
    {
      "cell_type": "code",
      "source": [
        "md_text = md[~md['description'].isnull()]\n",
        "md_img = md[~md['imageURL'].isnull()]\n",
        "\n",
        "md_text_image = md_img[~md_img['description'].isnull()]\n",
        "\n",
        "print(len(md),len(md_img),len(md_text),len(md_text_image))"
      ],
      "metadata": {
        "colab": {
          "base_uri": "https://localhost:8080/"
        },
        "id": "uH_8Q5K-9_81",
        "outputId": "83a63dec-39c2-466a-edbd-1f885209de50"
      },
      "execution_count": 49,
      "outputs": [
        {
          "output_type": "stream",
          "name": "stdout",
          "text": [
            "186637 132017 15869 9810\n"
          ]
        }
      ]
    },
    {
      "cell_type": "code",
      "source": [
        "df = md_text_image\n",
        "md = md_img = md_text = md_text_image = ''"
      ],
      "metadata": {
        "id": "I7I2c9Wa95iO"
      },
      "execution_count": 50,
      "outputs": []
    },
    {
      "cell_type": "code",
      "source": [
        "df = stored_df\n",
        "# stored_df = df\n",
        "df.head"
      ],
      "metadata": {
        "colab": {
          "base_uri": "https://localhost:8080/"
        },
        "id": "TR9L_blW95lb",
        "outputId": "7142ea10-2341-4d76-faf8-e1aac09706e3"
      },
      "execution_count": 130,
      "outputs": [
        {
          "output_type": "execute_result",
          "data": {
            "text/plain": [
              "<bound method NDFrame.head of                                                     title  ... tech1\n",
              "2                                   magical things really  ...   NaN\n",
              "17                   x l carbon fiber money clip made usa  ...   NaN\n",
              "18      shimmer anne shine clip costumehalloween cat ears  ...   NaN\n",
              "69                     buxton heiress pikmeup framed case  ...   NaN\n",
              "70      fossil bifold super capacity wallet chicago bl...  ...   NaN\n",
              "...                                                   ...  ...   ...\n",
              "186506  womens sexy gladiator costume halloween costum...  ...   NaN\n",
              "186538                            georgia boot amp insole  ...   NaN\n",
              "186552  single flare steel plugs mint green rose frame...  ...   NaN\n",
              "186557           converse unisex ct star oxford sharkskin  ...   NaN\n",
              "186589                princeton university tigers pennant  ...   NaN\n",
              "\n",
              "[9810 rows x 16 columns]>"
            ]
          },
          "metadata": {},
          "execution_count": 130
        }
      ]
    },
    {
      "cell_type": "code",
      "source": [
        "import re\n",
        "import nltk\n",
        "nltk.download('stopwords')\n",
        "from nltk.corpus import stopwords\n",
        "\n",
        "class Normalizer:\n",
        "    # based on https://www.geeksforgeeks.org/normalizing-textual-data-with-python/\n",
        "    def __init__(self):\n",
        "        # import regex\n",
        "        self.stop_words = set(stopwords.words('english'))\n",
        "\n",
        "    def text_normalizer(self,text):\n",
        "        if type(text) == type([]):\n",
        "            text = text[0]\n",
        "        text = str(text)\n",
        "        # convert to lower case\n",
        "        lower_string = text.lower()\n",
        "        # remove numbers\n",
        "        no_number_string = re.sub(r'\\d+','',lower_string)\n",
        "        # remove all punctuation except words and space\n",
        "        no_punc_string = re.sub(r'[^\\w\\s]','', no_number_string)\n",
        "        # remove white spaces\n",
        "        no_wspace_string = no_punc_string.strip()\n",
        "        # convert string to list of words\n",
        "        lst_string = [no_wspace_string][0].split()\n",
        "        # remove stopwords\n",
        "        no_stpwords_string=\"\"\n",
        "        for i in lst_string:\n",
        "            if not i in self.stop_words:\n",
        "                no_stpwords_string += i+' '\n",
        "        # removing last space\n",
        "        no_stpwords_string = no_stpwords_string[:-1]\n",
        "        output = no_stpwords_string\n",
        "        return output"
      ],
      "metadata": {
        "colab": {
          "base_uri": "https://localhost:8080/"
        },
        "id": "58wUA8LI-fcc",
        "outputId": "d8ac6531-60ae-484b-deb5-fd8966770d35"
      },
      "execution_count": 131,
      "outputs": [
        {
          "output_type": "stream",
          "name": "stdout",
          "text": [
            "[nltk_data] Downloading package stopwords to /root/nltk_data...\n",
            "[nltk_data]   Package stopwords is already up-to-date!\n"
          ]
        }
      ]
    },
    {
      "cell_type": "code",
      "source": [
        "normalizer = Normalizer()\n"
      ],
      "metadata": {
        "id": "lrMnuKv4_nny"
      },
      "execution_count": 132,
      "outputs": []
    },
    {
      "cell_type": "code",
      "source": [
        "df[\"description\"] = df[\"description\"].apply(normalizer.text_normalizer)\n",
        "df[\"title\"] = df[\"title\"].apply(normalizer.text_normalizer)"
      ],
      "metadata": {
        "id": "RU-A8JXs_uzW"
      },
      "execution_count": 133,
      "outputs": []
    },
    {
      "cell_type": "code",
      "source": [
        "df.head"
      ],
      "metadata": {
        "colab": {
          "base_uri": "https://localhost:8080/"
        },
        "id": "7vi6dZM-_u2q",
        "outputId": "00f54e6b-5847-410b-e08c-eee4013a25f6"
      },
      "execution_count": 134,
      "outputs": [
        {
          "output_type": "execute_result",
          "data": {
            "text/plain": [
              "<bound method NDFrame.head of                                                     title  ... tech1\n",
              "2                                   magical things really  ...   NaN\n",
              "17                   x l carbon fiber money clip made usa  ...   NaN\n",
              "18      shimmer anne shine clip costumehalloween cat ears  ...   NaN\n",
              "69                     buxton heiress pikmeup framed case  ...   NaN\n",
              "70      fossil bifold super capacity wallet chicago bl...  ...   NaN\n",
              "...                                                   ...  ...   ...\n",
              "186506  womens sexy gladiator costume halloween costum...  ...   NaN\n",
              "186538                            georgia boot amp insole  ...   NaN\n",
              "186552  single flare steel plugs mint green rose frame...  ...   NaN\n",
              "186557           converse unisex ct star oxford sharkskin  ...   NaN\n",
              "186589                princeton university tigers pennant  ...   NaN\n",
              "\n",
              "[9810 rows x 16 columns]>"
            ]
          },
          "metadata": {},
          "execution_count": 134
        }
      ]
    },
    {
      "cell_type": "markdown",
      "source": [
        "# embedding vord2vec"
      ],
      "metadata": {
        "id": "KYWTGlqcBNh-"
      }
    },
    {
      "cell_type": "code",
      "source": [
        "# from gensim.models import Word2Vec\n",
        "\n",
        "# from gensim.models import Word2Vec\n",
        "# from sklearn.decomposition import PCA\n",
        "# from matplotlib import pyplot\n",
        "\n",
        "# import nltk\n",
        "# nltk.download('punkt')\n",
        "\n",
        "# sentences = []\n",
        "# for text in tqdm(df['description']):\n",
        "#     tokens = nltk.word_tokenize(text)\n",
        "#     sentences.append(tokens)\n",
        "\n",
        "# # train model\n",
        "# model = Word2Vec(sentences, min_count=1)\n",
        "# # summarize the loaded model\n",
        "# print(model)\n",
        "# # summarize vocabulary\n",
        "# words = list(model.wv.vocab)\n",
        "\n",
        "# # save model\n",
        "# model.save('model.bin')\n",
        "# # load model\n",
        "# new_model = Word2Vec.load('model.bin')\n",
        "# print(new_model)\n",
        "\n",
        "# X = model[model.wv.vocab]\n",
        "# pca = PCA(n_components=2)\n",
        "# result = pca.fit_transform(X)\n",
        "# # create a scatter plot of the projection\n",
        "# pyplot.figure(figsize=(15,15))\n",
        "# pyplot.scatter(result[10:100, 0], result[10:100, 1])\n",
        "# words = list(model.wv.vocab)\n",
        "\n",
        "# for i, word in enumerate(words[10:100]):\n",
        "# \tpyplot.annotate(word, xy=(result[i, 0], result[i, 1]))\n",
        "# pyplot.show()"
      ],
      "metadata": {
        "id": "RDcoMgW8QBe9"
      },
      "execution_count": null,
      "outputs": []
    },
    {
      "cell_type": "markdown",
      "source": [
        "# SentenceBert"
      ],
      "metadata": {
        "id": "66KJ7ix5J5kO"
      }
    },
    {
      "cell_type": "markdown",
      "source": [
        "ref: https://www.analyticsvidhya.com/blog/2020/08/top-4-sentence-embedding-techniques-using-python/"
      ],
      "metadata": {
        "id": "GyHXbP3aKDpF"
      }
    },
    {
      "cell_type": "code",
      "source": [
        "try:\n",
        "    from sentence_transformers import SentenceTransformer\n",
        "except:\n",
        "    ! pip install sentence_transformers\n",
        "    from sentence_transformers import SentenceTransformer\n",
        "\n",
        "sbert_model = SentenceTransformer('bert-base-nli-mean-tokens')"
      ],
      "metadata": {
        "id": "GbuupCSoFpRn"
      },
      "execution_count": 135,
      "outputs": []
    },
    {
      "cell_type": "code",
      "source": [
        "def embedding_sentenceBert(sent):\n",
        "    sent_embedding = sbert_model .encode(sent)\n",
        "    return sent_embedding"
      ],
      "metadata": {
        "id": "wd53EC_nNUqR"
      },
      "execution_count": 136,
      "outputs": []
    },
    {
      "cell_type": "code",
      "source": [
        "print(len(df))\n",
        "print(df.columns)"
      ],
      "metadata": {
        "colab": {
          "base_uri": "https://localhost:8080/"
        },
        "id": "C_P9V3Yuc5js",
        "outputId": "d209ce9b-a4af-4ee2-8fbe-6924df1e9b7e"
      },
      "execution_count": 154,
      "outputs": [
        {
          "output_type": "stream",
          "name": "stdout",
          "text": [
            "9810\n",
            "Index(['title', 'brand', 'feature', 'rank', 'date', 'asin', 'imageURL',\n",
            "       'imageURLHighRes', 'description', 'price', 'also_view', 'also_buy',\n",
            "       'fit', 'details', 'similar_item', 'tech1', 'embedded_description'],\n",
            "      dtype='object')\n"
          ]
        }
      ]
    },
    {
      "cell_type": "code",
      "source": [
        "df.drop_duplicates(subset=['title', 'description'],keep=False, inplace=True)"
      ],
      "metadata": {
        "id": "oM2HXqR_cMLb"
      },
      "execution_count": 171,
      "outputs": []
    },
    {
      "cell_type": "code",
      "source": [
        "df.reset_index(drop=True, inplace=True)"
      ],
      "metadata": {
        "id": "vyZphdZ8d8JB"
      },
      "execution_count": 172,
      "outputs": []
    },
    {
      "cell_type": "code",
      "source": [
        "print(len(df))"
      ],
      "metadata": {
        "colab": {
          "base_uri": "https://localhost:8080/"
        },
        "id": "TTujzA_WdOPO",
        "outputId": "66db1031-bc56-48a0-9ce6-b75fe7b54f6d"
      },
      "execution_count": 173,
      "outputs": [
        {
          "output_type": "stream",
          "name": "stdout",
          "text": [
            "8538\n"
          ]
        }
      ]
    },
    {
      "cell_type": "code",
      "source": [
        "tqdm.pandas()\n",
        "df['embedded_description'] = df['description'].progress_apply(embedding_sentenceBert)"
      ],
      "metadata": {
        "colab": {
          "base_uri": "https://localhost:8080/"
        },
        "id": "ro5S-uHDNyZ5",
        "outputId": "b7bb364c-1269-45ae-eaa8-7504fb513f61"
      },
      "execution_count": 137,
      "outputs": [
        {
          "output_type": "stream",
          "name": "stderr",
          "text": [
            "100%|██████████| 9810/9810 [38:16<00:00,  4.27it/s]\n"
          ]
        }
      ]
    },
    {
      "cell_type": "code",
      "source": [
        "\n",
        "def cosine(u, v):\n",
        "    return np.dot(u, v) / (np.linalg.norm(u) * np.linalg.norm(v))"
      ],
      "metadata": {
        "id": "T9dHbw2cP4EC"
      },
      "execution_count": 159,
      "outputs": []
    },
    {
      "cell_type": "code",
      "source": [
        "len(aa),len(df),len(bb)"
      ],
      "metadata": {
        "colab": {
          "base_uri": "https://localhost:8080/"
        },
        "id": "o1n1UVCydidA",
        "outputId": "d63fd658-123a-47d1-b032-cb962662e8fe"
      },
      "execution_count": 166,
      "outputs": [
        {
          "output_type": "execute_result",
          "data": {
            "text/plain": [
              "(9638, 9638, 9638)"
            ]
          },
          "metadata": {},
          "execution_count": 166
        }
      ]
    },
    {
      "cell_type": "code",
      "source": [
        "aa = df['embedded_description']\n",
        "aa = list(aa)\n",
        "bb = df['description']\n",
        "bb = list(bb)\n",
        "t = to = 0\n",
        "a = aa[:100]\n",
        "for i in tqdm(range(len(a))):\n",
        "    for j in range(i,len(a)):\n",
        "        to += 1\n",
        "        sim = cosine(a[i], a[j])\n",
        "        if sim>0.9 and i != j:\n",
        "            t+=1\n",
        "            print('')\n",
        "            print(sim,i,j)\n",
        "            print(bb[i])\n",
        "            print(bb[j])\n",
        "            print(\"=======================\")\n",
        "            if t>10:\n",
        "                break\n",
        "    if t>10:\n",
        "        break"
      ],
      "metadata": {
        "colab": {
          "base_uri": "https://localhost:8080/"
        },
        "id": "g9Hlxo4COrTH",
        "outputId": "41c63594-b803-415e-a215-6be53cdd87d7"
      },
      "execution_count": 183,
      "outputs": [
        {
          "output_type": "stream",
          "name": "stderr",
          "text": [
            " 53%|█████▎    | 53/100 [00:00<00:00, 268.27it/s]"
          ]
        },
        {
          "output_type": "stream",
          "name": "stdout",
          "text": [
            "\n",
            "0.91037583 2 3\n",
            "classically designed silver solitaire ring last lifetime expertly crafted ct clear emeraldcut cubic zirconia lays top sterling silver band mm wide ring timeless stack another ring wear alone make entire hand sparkle unbelievable price theres reason ring get ring shipped free gift box perfect surprising special someone\n",
            "sparkling magnificent sterling silver band measures approximately mm wide featuring elongated clear ct emerald cut cubic zirconia marquise shaped stone beautiful puts real diamonds shame get look real diamonds without hefty price tag ring shipped free gift box perfect surprising special someone\n",
            "=======================\n",
            "\n",
            "0.94727796 7 8\n",
            "bracelet silver ball rosary sterling silver mm inch necklace made highest quality metal shipped free pendant box make perfect gift also wear elegantly crafted symbol proudly brilliant exquisite way express anchor faith treasure keepsake years come jewelry comes satisfaction guarantee reassured happy purchase\n",
            "cross holy spirit k yellow gold xmm inch necklace made highest quality metal shipped free pendant box make perfect gift also wear elegantly crafted symbol proudly brilliant exquisite way express anchor faith treasure keepsake years come jewelry comes satisfaction guarantee reassured happy purchase\n",
            "=======================\n",
            "\n",
            "0.90039104 43 88\n",
            "ounce cottonpoly birch cottonpoly light oxford cottonpoly jersey tshirt taped shoulder shoulder double needle bottom hem coverseamed ribbed collar ribbed cuff\n",
            "ounce cotton doubleneedle collar taped neck shoulders doubleneedle bottom hem\n",
            "=======================\n"
          ]
        },
        {
          "output_type": "stream",
          "name": "stderr",
          "text": [
            "\r100%|██████████| 100/100 [00:00<00:00, 341.79it/s]"
          ]
        },
        {
          "output_type": "stream",
          "name": "stdout",
          "text": [
            "\n",
            "0.912392 58 79\n",
            "reebok nfl player longsleeve mock perfect layering piece cotton polyester spandex longsleeve mock embroidered appliqu chest piping detail front back nfl shield embroidered center back neck team label lower left side seam reebok logo embroidered left sleeve imported\n",
            "reebok nfl pastel zip top made cotton polyester fleece team name embroidered left chest imported\n",
            "=======================\n",
            "\n",
            "1.0 86 87\n",
            "wellness bracelet unique jewelry piece customized wearer featuring simple sleek design watermelon tourmaline rondells sterling silver piece uses healing properties tourmaline inspiration tourmaline known promote healing ability transform repel negative energies tourmaline thought diminish fears promoting selfunderstanding calming effect believed put one ease allowing look past seriousness situation allowing healing energy take wellness bracelet increases power allowing wearer pick milagro add bracelet bracelet come one milagro attached clasp see amazon storefront view milagros available choose milagro connects healing needs choose foot double eyes sleeping person heart breasts lips single eye stomach arm womans body kindey tooth lungs ear leg womans head hand pieces handcrafted due natural variations coloring shape stones rustic nature milagros pieces unique may slight differences pictured items come complete name description card\n",
            "wellness bracelet unique jewelry piece customized wearer featuring simple sleek design watermelon tourmaline rondells sterling silver piece uses healing properties tourmaline inspiration tourmaline known promote healing ability transform repel negative energies tourmaline thought diminish fears promoting selfunderstanding calming effect believed put one ease allowing look past seriousness situation allowing healing energy take wellness bracelet increases power allowing wearer pick milagro add bracelet bracelet come one milagro attached clasp see amazon storefront view milagros available choose milagro connects healing needs choose foot double eyes sleeping person heart breasts lips single eye stomach arm womans body kindey tooth lungs ear leg womans head hand pieces handcrafted due natural variations coloring shape stones rustic nature milagros pieces unique may slight differences pictured items come complete name description card\n",
            "=======================\n",
            "\n",
            "0.9268594 88 89\n",
            "ounce cotton doubleneedle collar taped neck shoulders doubleneedle bottom hem\n",
            "ounce cottonpoly doubleneedle sleeve bottom hem\n",
            "=======================\n"
          ]
        },
        {
          "output_type": "stream",
          "name": "stderr",
          "text": [
            "\n"
          ]
        }
      ]
    },
    {
      "cell_type": "code",
      "source": [
        "df.head"
      ],
      "metadata": {
        "colab": {
          "base_uri": "https://localhost:8080/"
        },
        "id": "DOiStN32Otds",
        "outputId": "22602ed3-f459-491e-c28e-8fa36742001f"
      },
      "execution_count": 178,
      "outputs": [
        {
          "output_type": "execute_result",
          "data": {
            "text/plain": [
              "<bound method NDFrame.head of                                                   title  ...                               embedded_description\n",
              "0                                 magical things really  ...  [-0.5024358, 0.99598145, 0.41040987, 0.1702736...\n",
              "1                  x l carbon fiber money clip made usa  ...  [-0.25916183, 0.5187903, -0.52674836, 0.148806...\n",
              "2     sterling silver cubic zirconia solitaire ring ...  ...  [-0.6441098, 0.943525, -0.64295757, 0.50885004...\n",
              "3     sterling silver cz marquise cut solitaire cubi...  ...  [-0.46400547, 0.83838195, -1.1143519, 0.509472...\n",
              "4           calvin klein mens pack classic vneck tshirt  ...  [0.37892506, -0.53210634, 0.10035399, 0.423677...\n",
              "...                                                 ...  ...                                                ...\n",
              "8533  womens sexy gladiator costume halloween costum...  ...  [-0.7679501, 0.35930666, 0.9350776, 0.5442182,...\n",
              "8534                            georgia boot amp insole  ...  [-0.5304945, 0.37711835, 0.5153968, 0.24878094...\n",
              "8535  single flare steel plugs mint green rose frame...  ...  [-0.000244926, 0.58881044, -1.2650623, 0.60243...\n",
              "8536           converse unisex ct star oxford sharkskin  ...  [-0.16699137, 0.7801874, -0.5747529, 0.2663404...\n",
              "8537                princeton university tigers pennant  ...  [-0.38548937, 0.6148662, 0.8427841, 0.52122414...\n",
              "\n",
              "[8538 rows x 17 columns]>"
            ]
          },
          "metadata": {},
          "execution_count": 178
        }
      ]
    },
    {
      "cell_type": "code",
      "source": [
        "# import pickle\n",
        "# with open('df_with_embedded_text.p', 'wb') as fp:\n",
        "#     pickle.dump(df, fp, protocol=pickle.HIGHEST_PROTOCOL)"
      ],
      "metadata": {
        "id": "vWd8w-oJQI7q"
      },
      "execution_count": null,
      "outputs": []
    },
    {
      "cell_type": "code",
      "source": [
        "print(df.iloc[86])"
      ],
      "metadata": {
        "colab": {
          "base_uri": "https://localhost:8080/"
        },
        "id": "Ngh41T7RVerb",
        "outputId": "d7eea17c-ef4f-468c-e253-c4dbc40ad3f1"
      },
      "execution_count": 179,
      "outputs": [
        {
          "output_type": "stream",
          "name": "stdout",
          "text": [
            "title                         tourmaline wellness braceletsleeping person\n",
            "brand                                                     Milagro Jewelry\n",
            "feature                                                               NaN\n",
            "rank                                   26,187,916inClothing,ShoesJewelry(\n",
            "date                                                      Milagro Jewelry\n",
            "asin                                                           B000BTDJY4\n",
            "imageURL                [https://images-na.ssl-images-amazon.com/image...\n",
            "imageURLHighRes         [https://images-na.ssl-images-amazon.com/image...\n",
            "description             wellness bracelet unique jewelry piece customi...\n",
            "price                                                                 NaN\n",
            "also_view                                                             NaN\n",
            "also_buy                                                              NaN\n",
            "fit                                                                   NaN\n",
            "details                                                               NaN\n",
            "similar_item                                                          NaN\n",
            "tech1                                                                 NaN\n",
            "embedded_description    [-0.32327178, 0.66519374, 0.05299526, 0.046251...\n",
            "Name: 86, dtype: object\n"
          ]
        }
      ]
    },
    {
      "cell_type": "code",
      "source": [
        "print(df.iloc[87])"
      ],
      "metadata": {
        "colab": {
          "base_uri": "https://localhost:8080/"
        },
        "id": "NyMdiNSldr8I",
        "outputId": "445121db-5ec9-477e-fc90-659138f7c62d"
      },
      "execution_count": 180,
      "outputs": [
        {
          "output_type": "stream",
          "name": "stdout",
          "text": [
            "title                                   tourmaline wellness braceletheart\n",
            "brand                                                     Milagro Jewelry\n",
            "feature                                                               NaN\n",
            "rank                                   25,759,325inClothing,ShoesJewelry(\n",
            "date                                                      Milagro Jewelry\n",
            "asin                                                           B000BTDJYE\n",
            "imageURL                [https://images-na.ssl-images-amazon.com/image...\n",
            "imageURLHighRes         [https://images-na.ssl-images-amazon.com/image...\n",
            "description             wellness bracelet unique jewelry piece customi...\n",
            "price                                                                 NaN\n",
            "also_view                                                             NaN\n",
            "also_buy                                                              NaN\n",
            "fit                                                                   NaN\n",
            "details                                                               NaN\n",
            "similar_item                                                          NaN\n",
            "tech1                                                                 NaN\n",
            "embedded_description    [-0.32327178, 0.66519374, 0.05299526, 0.046251...\n",
            "Name: 87, dtype: object\n"
          ]
        }
      ]
    },
    {
      "cell_type": "code",
      "source": [
        "bb[86]==bb[87]"
      ],
      "metadata": {
        "colab": {
          "base_uri": "https://localhost:8080/"
        },
        "id": "f3Gwo6DGeJNx",
        "outputId": "7a53997f-4f7d-40a3-c694-c867ee455546"
      },
      "execution_count": 182,
      "outputs": [
        {
          "output_type": "execute_result",
          "data": {
            "text/plain": [
              "True"
            ]
          },
          "metadata": {},
          "execution_count": 182
        }
      ]
    },
    {
      "cell_type": "markdown",
      "source": [
        "# save clean dataframe from users:"
      ],
      "metadata": {
        "id": "Dc9fdQoFKxh9"
      }
    },
    {
      "cell_type": "code",
      "source": [
        "import pickle\n",
        "with open('embedded_text.p', 'wb') as fp:\n",
        "    pickle.dump(df, fp, protocol=pickle.HIGHEST_PROTOCOL)"
      ],
      "metadata": {
        "id": "N3IYRaq3Oqjx",
        "colab": {
          "base_uri": "https://localhost:8080/",
          "height": 36
        },
        "outputId": "3c1b16c9-fb61-4415-9ffe-a6aa5445b8bf"
      },
      "execution_count": 184,
      "outputs": [
        {
          "output_type": "execute_result",
          "data": {
            "application/vnd.google.colaboratory.intrinsic+json": {
              "type": "string"
            },
            "text/plain": [
              "\"\\nwith open('data.p', 'rb') as fp:\\n    data = pickle.load(fp)\\n\""
            ]
          },
          "metadata": {},
          "execution_count": 184
        }
      ]
    },
    {
      "cell_type": "code",
      "source": [
        "# with open('embedded_text.p', 'rb') as fp:\n",
        "#     data = pickle.load(fp)"
      ],
      "metadata": {
        "id": "hN4Rso0fewUK"
      },
      "execution_count": 185,
      "outputs": []
    }
  ]
}