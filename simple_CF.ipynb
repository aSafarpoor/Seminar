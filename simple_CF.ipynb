{
  "nbformat": 4,
  "nbformat_minor": 0,
  "metadata": {
    "colab": {
      "name": "simple CF.ipynb",
      "provenance": [],
      "collapsed_sections": [
        "_Kx3kMWxScUq",
        "XzQpcJTWSb0p",
        "fEi2_qYX8XUr",
        "zPXXJDpeA9Nt"
      ],
      "authorship_tag": "ABX9TyPttKLsrg7tHFinT9eiuKSf",
      "include_colab_link": true
    },
    "kernelspec": {
      "name": "python3",
      "display_name": "Python 3"
    },
    "language_info": {
      "name": "python"
    }
  },
  "cells": [
    {
      "cell_type": "markdown",
      "metadata": {
        "id": "view-in-github",
        "colab_type": "text"
      },
      "source": [
        "<a href=\"https://colab.research.google.com/github/aSafarpoor/Seminar/blob/main/simple_CF.ipynb\" target=\"_parent\"><img src=\"https://colab.research.google.com/assets/colab-badge.svg\" alt=\"Open In Colab\"/></a>"
      ]
    },
    {
      "cell_type": "code",
      "source": [
        "import json\n",
        "from tqdm import tqdm\n",
        "import random\n",
        "from collections import Counter\n",
        "import pandas as pd\n",
        "import numpy as np\n",
        "import pickle\n",
        "from scipy import sparse\n",
        "from sklearn.metrics.pairwise import cosine_similarity"
      ],
      "metadata": {
        "id": "Z400ixCItKw7"
      },
      "execution_count": 1,
      "outputs": []
    },
    {
      "cell_type": "markdown",
      "source": [
        "# just read data (phase 0)"
      ],
      "metadata": {
        "id": "_Kx3kMWxScUq"
      }
    },
    {
      "cell_type": "code",
      "source": [
        "from google.colab import drive\n",
        "drive.mount('/content/drive')"
      ],
      "metadata": {
        "colab": {
          "base_uri": "https://localhost:8080/"
        },
        "id": "xWzCWEIVnGbc",
        "outputId": "3d8b1cae-17d3-413a-e6fa-7bfb4cd4985a"
      },
      "execution_count": 2,
      "outputs": [
        {
          "output_type": "stream",
          "name": "stdout",
          "text": [
            "Drive already mounted at /content/drive; to attempt to forcibly remount, call drive.mount(\"/content/drive\", force_remount=True).\n"
          ]
        }
      ]
    },
    {
      "cell_type": "code",
      "source": [
        "%cd drive\n",
        "%cd MyDrive\n",
        "%cd Seminar\n",
        "!ls"
      ],
      "metadata": {
        "colab": {
          "base_uri": "https://localhost:8080/"
        },
        "id": "4BNhP78LnXIU",
        "outputId": "de877bc5-c4fb-4c94-9dc6-ae3dbf031030"
      },
      "execution_count": 3,
      "outputs": [
        {
          "output_type": "stream",
          "name": "stdout",
          "text": [
            "/content/drive\n",
            "/content/drive/MyDrive\n",
            "/content/drive/MyDrive/Seminar\n",
            "AMAZON_FASHION.json\t  meta_AMAZON_FASHION.json.gz  user_tweets.p\n",
            "AMAZON_FASHION.json.gz\t  meta_data.p\n",
            "meta_AMAZON_FASHION.json  user_item_matrix.p\n"
          ]
        }
      ]
    },
    {
      "cell_type": "code",
      "source": [
        "with open('user_tweets.p', 'rb') as fp:\n",
        "    user_tweets = pickle.load(fp)\n",
        "\n",
        "with open('user_item_matrix.p', 'rb') as fp:\n",
        "    user_item_matrix = pickle.load(fp)\n",
        "\n",
        "with open('user_tweets.p', 'rb') as fp:\n",
        "    user_tweets = pickle.load(fp)"
      ],
      "metadata": {
        "id": "N3IYRaq3Oqjx"
      },
      "execution_count": 4,
      "outputs": []
    },
    {
      "cell_type": "markdown",
      "source": [
        "# phase 1: implement simple **Recommender System**"
      ],
      "metadata": {
        "id": "XzQpcJTWSb0p"
      }
    },
    {
      "cell_type": "code",
      "source": [
        "'''\n",
        "user_tweets\n",
        "user_item_matrix\n",
        "user_tweets\n",
        "'''"
      ],
      "metadata": {
        "id": "RDcoMgW8QBe9",
        "colab": {
          "base_uri": "https://localhost:8080/",
          "height": 36
        },
        "outputId": "67700636-4591-4a9b-fe3b-6b547043109d"
      },
      "execution_count": 5,
      "outputs": [
        {
          "output_type": "execute_result",
          "data": {
            "application/vnd.google.colaboratory.intrinsic+json": {
              "type": "string"
            },
            "text/plain": [
              "'\\nuser_tweets\\nuser_item_matrix\\nuser_tweets\\n'"
            ]
          },
          "metadata": {},
          "execution_count": 5
        }
      ]
    },
    {
      "cell_type": "code",
      "source": [
        "import pandas as pd"
      ],
      "metadata": {
        "id": "50858R8NRBsh"
      },
      "execution_count": 6,
      "outputs": []
    },
    {
      "cell_type": "code",
      "source": [
        "df = pd.DataFrame(user_item_matrix)"
      ],
      "metadata": {
        "id": "u3KXpWUqTzhh"
      },
      "execution_count": 7,
      "outputs": []
    },
    {
      "cell_type": "code",
      "source": [
        "df"
      ],
      "metadata": {
        "id": "5k4vX3ZMRRDy",
        "colab": {
          "base_uri": "https://localhost:8080/",
          "height": 423
        },
        "outputId": "619da906-5dfc-4e8e-eefa-a1cbb4f2bc0f"
      },
      "execution_count": 8,
      "outputs": [
        {
          "output_type": "execute_result",
          "data": {
            "text/html": [
              "\n",
              "  <div id=\"df-45fa799a-5a96-4c25-921f-b84d13fb842f\">\n",
              "    <div class=\"colab-df-container\">\n",
              "      <div>\n",
              "<style scoped>\n",
              "    .dataframe tbody tr th:only-of-type {\n",
              "        vertical-align: middle;\n",
              "    }\n",
              "\n",
              "    .dataframe tbody tr th {\n",
              "        vertical-align: top;\n",
              "    }\n",
              "\n",
              "    .dataframe thead th {\n",
              "        text-align: right;\n",
              "    }\n",
              "</style>\n",
              "<table border=\"1\" class=\"dataframe\">\n",
              "  <thead>\n",
              "    <tr style=\"text-align: right;\">\n",
              "      <th></th>\n",
              "      <th>user</th>\n",
              "      <th>item</th>\n",
              "      <th>rate</th>\n",
              "    </tr>\n",
              "  </thead>\n",
              "  <tbody>\n",
              "    <tr>\n",
              "      <th>0</th>\n",
              "      <td>A1D4G1SNUZWQOT</td>\n",
              "      <td>7106116521</td>\n",
              "      <td>5.0</td>\n",
              "    </tr>\n",
              "    <tr>\n",
              "      <th>1</th>\n",
              "      <td>A3DDWDH9PX2YX2</td>\n",
              "      <td>7106116521</td>\n",
              "      <td>2.0</td>\n",
              "    </tr>\n",
              "    <tr>\n",
              "      <th>2</th>\n",
              "      <td>A2MWC41EW7XL15</td>\n",
              "      <td>7106116521</td>\n",
              "      <td>4.0</td>\n",
              "    </tr>\n",
              "    <tr>\n",
              "      <th>3</th>\n",
              "      <td>A2UH2QQ275NV45</td>\n",
              "      <td>7106116521</td>\n",
              "      <td>2.0</td>\n",
              "    </tr>\n",
              "    <tr>\n",
              "      <th>4</th>\n",
              "      <td>A89F3LQADZBS5</td>\n",
              "      <td>7106116521</td>\n",
              "      <td>3.0</td>\n",
              "    </tr>\n",
              "    <tr>\n",
              "      <th>...</th>\n",
              "      <td>...</td>\n",
              "      <td>...</td>\n",
              "      <td>...</td>\n",
              "    </tr>\n",
              "    <tr>\n",
              "      <th>883631</th>\n",
              "      <td>A1ZSB2Q144UTEY</td>\n",
              "      <td>B01HJHTH5U</td>\n",
              "      <td>5.0</td>\n",
              "    </tr>\n",
              "    <tr>\n",
              "      <th>883632</th>\n",
              "      <td>A2CCDV0J5VB6F2</td>\n",
              "      <td>B01HJHTH5U</td>\n",
              "      <td>5.0</td>\n",
              "    </tr>\n",
              "    <tr>\n",
              "      <th>883633</th>\n",
              "      <td>A3O90PACS7B61K</td>\n",
              "      <td>B01HJHTH5U</td>\n",
              "      <td>3.0</td>\n",
              "    </tr>\n",
              "    <tr>\n",
              "      <th>883634</th>\n",
              "      <td>A2HO94I89U3LNH</td>\n",
              "      <td>B01HJHF97K</td>\n",
              "      <td>3.0</td>\n",
              "    </tr>\n",
              "    <tr>\n",
              "      <th>883635</th>\n",
              "      <td>A2RSX9E79DUHRX</td>\n",
              "      <td>B01HJG5NMW</td>\n",
              "      <td>5.0</td>\n",
              "    </tr>\n",
              "  </tbody>\n",
              "</table>\n",
              "<p>883636 rows × 3 columns</p>\n",
              "</div>\n",
              "      <button class=\"colab-df-convert\" onclick=\"convertToInteractive('df-45fa799a-5a96-4c25-921f-b84d13fb842f')\"\n",
              "              title=\"Convert this dataframe to an interactive table.\"\n",
              "              style=\"display:none;\">\n",
              "        \n",
              "  <svg xmlns=\"http://www.w3.org/2000/svg\" height=\"24px\"viewBox=\"0 0 24 24\"\n",
              "       width=\"24px\">\n",
              "    <path d=\"M0 0h24v24H0V0z\" fill=\"none\"/>\n",
              "    <path d=\"M18.56 5.44l.94 2.06.94-2.06 2.06-.94-2.06-.94-.94-2.06-.94 2.06-2.06.94zm-11 1L8.5 8.5l.94-2.06 2.06-.94-2.06-.94L8.5 2.5l-.94 2.06-2.06.94zm10 10l.94 2.06.94-2.06 2.06-.94-2.06-.94-.94-2.06-.94 2.06-2.06.94z\"/><path d=\"M17.41 7.96l-1.37-1.37c-.4-.4-.92-.59-1.43-.59-.52 0-1.04.2-1.43.59L10.3 9.45l-7.72 7.72c-.78.78-.78 2.05 0 2.83L4 21.41c.39.39.9.59 1.41.59.51 0 1.02-.2 1.41-.59l7.78-7.78 2.81-2.81c.8-.78.8-2.07 0-2.86zM5.41 20L4 18.59l7.72-7.72 1.47 1.35L5.41 20z\"/>\n",
              "  </svg>\n",
              "      </button>\n",
              "      \n",
              "  <style>\n",
              "    .colab-df-container {\n",
              "      display:flex;\n",
              "      flex-wrap:wrap;\n",
              "      gap: 12px;\n",
              "    }\n",
              "\n",
              "    .colab-df-convert {\n",
              "      background-color: #E8F0FE;\n",
              "      border: none;\n",
              "      border-radius: 50%;\n",
              "      cursor: pointer;\n",
              "      display: none;\n",
              "      fill: #1967D2;\n",
              "      height: 32px;\n",
              "      padding: 0 0 0 0;\n",
              "      width: 32px;\n",
              "    }\n",
              "\n",
              "    .colab-df-convert:hover {\n",
              "      background-color: #E2EBFA;\n",
              "      box-shadow: 0px 1px 2px rgba(60, 64, 67, 0.3), 0px 1px 3px 1px rgba(60, 64, 67, 0.15);\n",
              "      fill: #174EA6;\n",
              "    }\n",
              "\n",
              "    [theme=dark] .colab-df-convert {\n",
              "      background-color: #3B4455;\n",
              "      fill: #D2E3FC;\n",
              "    }\n",
              "\n",
              "    [theme=dark] .colab-df-convert:hover {\n",
              "      background-color: #434B5C;\n",
              "      box-shadow: 0px 1px 3px 1px rgba(0, 0, 0, 0.15);\n",
              "      filter: drop-shadow(0px 1px 2px rgba(0, 0, 0, 0.3));\n",
              "      fill: #FFFFFF;\n",
              "    }\n",
              "  </style>\n",
              "\n",
              "      <script>\n",
              "        const buttonEl =\n",
              "          document.querySelector('#df-45fa799a-5a96-4c25-921f-b84d13fb842f button.colab-df-convert');\n",
              "        buttonEl.style.display =\n",
              "          google.colab.kernel.accessAllowed ? 'block' : 'none';\n",
              "\n",
              "        async function convertToInteractive(key) {\n",
              "          const element = document.querySelector('#df-45fa799a-5a96-4c25-921f-b84d13fb842f');\n",
              "          const dataTable =\n",
              "            await google.colab.kernel.invokeFunction('convertToInteractive',\n",
              "                                                     [key], {});\n",
              "          if (!dataTable) return;\n",
              "\n",
              "          const docLinkHtml = 'Like what you see? Visit the ' +\n",
              "            '<a target=\"_blank\" href=https://colab.research.google.com/notebooks/data_table.ipynb>data table notebook</a>'\n",
              "            + ' to learn more about interactive tables.';\n",
              "          element.innerHTML = '';\n",
              "          dataTable['output_type'] = 'display_data';\n",
              "          await google.colab.output.renderOutput(dataTable, element);\n",
              "          const docLink = document.createElement('div');\n",
              "          docLink.innerHTML = docLinkHtml;\n",
              "          element.appendChild(docLink);\n",
              "        }\n",
              "      </script>\n",
              "    </div>\n",
              "  </div>\n",
              "  "
            ],
            "text/plain": [
              "                  user        item  rate\n",
              "0       A1D4G1SNUZWQOT  7106116521   5.0\n",
              "1       A3DDWDH9PX2YX2  7106116521   2.0\n",
              "2       A2MWC41EW7XL15  7106116521   4.0\n",
              "3       A2UH2QQ275NV45  7106116521   2.0\n",
              "4        A89F3LQADZBS5  7106116521   3.0\n",
              "...                ...         ...   ...\n",
              "883631  A1ZSB2Q144UTEY  B01HJHTH5U   5.0\n",
              "883632  A2CCDV0J5VB6F2  B01HJHTH5U   5.0\n",
              "883633  A3O90PACS7B61K  B01HJHTH5U   3.0\n",
              "883634  A2HO94I89U3LNH  B01HJHF97K   3.0\n",
              "883635  A2RSX9E79DUHRX  B01HJG5NMW   5.0\n",
              "\n",
              "[883636 rows x 3 columns]"
            ]
          },
          "metadata": {},
          "execution_count": 8
        }
      ]
    },
    {
      "cell_type": "code",
      "source": [
        "u_list = df.user\n",
        "i_list = df.item\n",
        "\n",
        "mappedDict_u = dict(zip(set(u_list), range(len(u_list))))\n",
        "mappedDict_i = dict(zip(set(i_list), range(len(i_list))))\n",
        "\n",
        "u = list(map(lambda x: mappedDict_u[x], u_list))\n",
        "i = list(map(lambda x: mappedDict_i[x], i_list))\n",
        "\n",
        "df.user = u\n",
        "df.item = i"
      ],
      "metadata": {
        "id": "uwaXr3bcUKP6"
      },
      "execution_count": 9,
      "outputs": []
    },
    {
      "cell_type": "code",
      "source": [
        "df"
      ],
      "metadata": {
        "colab": {
          "base_uri": "https://localhost:8080/",
          "height": 423
        },
        "id": "lOY3cyr6UOMx",
        "outputId": "2e3faf87-2218-466d-8a3b-fa48281bf5ce"
      },
      "execution_count": 10,
      "outputs": [
        {
          "output_type": "execute_result",
          "data": {
            "text/html": [
              "\n",
              "  <div id=\"df-60e75f2f-0816-46ff-8d89-0cad8a11c4db\">\n",
              "    <div class=\"colab-df-container\">\n",
              "      <div>\n",
              "<style scoped>\n",
              "    .dataframe tbody tr th:only-of-type {\n",
              "        vertical-align: middle;\n",
              "    }\n",
              "\n",
              "    .dataframe tbody tr th {\n",
              "        vertical-align: top;\n",
              "    }\n",
              "\n",
              "    .dataframe thead th {\n",
              "        text-align: right;\n",
              "    }\n",
              "</style>\n",
              "<table border=\"1\" class=\"dataframe\">\n",
              "  <thead>\n",
              "    <tr style=\"text-align: right;\">\n",
              "      <th></th>\n",
              "      <th>user</th>\n",
              "      <th>item</th>\n",
              "      <th>rate</th>\n",
              "    </tr>\n",
              "  </thead>\n",
              "  <tbody>\n",
              "    <tr>\n",
              "      <th>0</th>\n",
              "      <td>1333</td>\n",
              "      <td>66661</td>\n",
              "      <td>5.0</td>\n",
              "    </tr>\n",
              "    <tr>\n",
              "      <th>1</th>\n",
              "      <td>605057</td>\n",
              "      <td>66661</td>\n",
              "      <td>2.0</td>\n",
              "    </tr>\n",
              "    <tr>\n",
              "      <th>2</th>\n",
              "      <td>300321</td>\n",
              "      <td>66661</td>\n",
              "      <td>4.0</td>\n",
              "    </tr>\n",
              "    <tr>\n",
              "      <th>3</th>\n",
              "      <td>35189</td>\n",
              "      <td>66661</td>\n",
              "      <td>2.0</td>\n",
              "    </tr>\n",
              "    <tr>\n",
              "      <th>4</th>\n",
              "      <td>605721</td>\n",
              "      <td>66661</td>\n",
              "      <td>3.0</td>\n",
              "    </tr>\n",
              "    <tr>\n",
              "      <th>...</th>\n",
              "      <td>...</td>\n",
              "      <td>...</td>\n",
              "      <td>...</td>\n",
              "    </tr>\n",
              "    <tr>\n",
              "      <th>883631</th>\n",
              "      <td>645848</td>\n",
              "      <td>109844</td>\n",
              "      <td>5.0</td>\n",
              "    </tr>\n",
              "    <tr>\n",
              "      <th>883632</th>\n",
              "      <td>328439</td>\n",
              "      <td>109844</td>\n",
              "      <td>5.0</td>\n",
              "    </tr>\n",
              "    <tr>\n",
              "      <th>883633</th>\n",
              "      <td>298477</td>\n",
              "      <td>109844</td>\n",
              "      <td>3.0</td>\n",
              "    </tr>\n",
              "    <tr>\n",
              "      <th>883634</th>\n",
              "      <td>408258</td>\n",
              "      <td>133559</td>\n",
              "      <td>3.0</td>\n",
              "    </tr>\n",
              "    <tr>\n",
              "      <th>883635</th>\n",
              "      <td>359453</td>\n",
              "      <td>123170</td>\n",
              "      <td>5.0</td>\n",
              "    </tr>\n",
              "  </tbody>\n",
              "</table>\n",
              "<p>883636 rows × 3 columns</p>\n",
              "</div>\n",
              "      <button class=\"colab-df-convert\" onclick=\"convertToInteractive('df-60e75f2f-0816-46ff-8d89-0cad8a11c4db')\"\n",
              "              title=\"Convert this dataframe to an interactive table.\"\n",
              "              style=\"display:none;\">\n",
              "        \n",
              "  <svg xmlns=\"http://www.w3.org/2000/svg\" height=\"24px\"viewBox=\"0 0 24 24\"\n",
              "       width=\"24px\">\n",
              "    <path d=\"M0 0h24v24H0V0z\" fill=\"none\"/>\n",
              "    <path d=\"M18.56 5.44l.94 2.06.94-2.06 2.06-.94-2.06-.94-.94-2.06-.94 2.06-2.06.94zm-11 1L8.5 8.5l.94-2.06 2.06-.94-2.06-.94L8.5 2.5l-.94 2.06-2.06.94zm10 10l.94 2.06.94-2.06 2.06-.94-2.06-.94-.94-2.06-.94 2.06-2.06.94z\"/><path d=\"M17.41 7.96l-1.37-1.37c-.4-.4-.92-.59-1.43-.59-.52 0-1.04.2-1.43.59L10.3 9.45l-7.72 7.72c-.78.78-.78 2.05 0 2.83L4 21.41c.39.39.9.59 1.41.59.51 0 1.02-.2 1.41-.59l7.78-7.78 2.81-2.81c.8-.78.8-2.07 0-2.86zM5.41 20L4 18.59l7.72-7.72 1.47 1.35L5.41 20z\"/>\n",
              "  </svg>\n",
              "      </button>\n",
              "      \n",
              "  <style>\n",
              "    .colab-df-container {\n",
              "      display:flex;\n",
              "      flex-wrap:wrap;\n",
              "      gap: 12px;\n",
              "    }\n",
              "\n",
              "    .colab-df-convert {\n",
              "      background-color: #E8F0FE;\n",
              "      border: none;\n",
              "      border-radius: 50%;\n",
              "      cursor: pointer;\n",
              "      display: none;\n",
              "      fill: #1967D2;\n",
              "      height: 32px;\n",
              "      padding: 0 0 0 0;\n",
              "      width: 32px;\n",
              "    }\n",
              "\n",
              "    .colab-df-convert:hover {\n",
              "      background-color: #E2EBFA;\n",
              "      box-shadow: 0px 1px 2px rgba(60, 64, 67, 0.3), 0px 1px 3px 1px rgba(60, 64, 67, 0.15);\n",
              "      fill: #174EA6;\n",
              "    }\n",
              "\n",
              "    [theme=dark] .colab-df-convert {\n",
              "      background-color: #3B4455;\n",
              "      fill: #D2E3FC;\n",
              "    }\n",
              "\n",
              "    [theme=dark] .colab-df-convert:hover {\n",
              "      background-color: #434B5C;\n",
              "      box-shadow: 0px 1px 3px 1px rgba(0, 0, 0, 0.15);\n",
              "      filter: drop-shadow(0px 1px 2px rgba(0, 0, 0, 0.3));\n",
              "      fill: #FFFFFF;\n",
              "    }\n",
              "  </style>\n",
              "\n",
              "      <script>\n",
              "        const buttonEl =\n",
              "          document.querySelector('#df-60e75f2f-0816-46ff-8d89-0cad8a11c4db button.colab-df-convert');\n",
              "        buttonEl.style.display =\n",
              "          google.colab.kernel.accessAllowed ? 'block' : 'none';\n",
              "\n",
              "        async function convertToInteractive(key) {\n",
              "          const element = document.querySelector('#df-60e75f2f-0816-46ff-8d89-0cad8a11c4db');\n",
              "          const dataTable =\n",
              "            await google.colab.kernel.invokeFunction('convertToInteractive',\n",
              "                                                     [key], {});\n",
              "          if (!dataTable) return;\n",
              "\n",
              "          const docLinkHtml = 'Like what you see? Visit the ' +\n",
              "            '<a target=\"_blank\" href=https://colab.research.google.com/notebooks/data_table.ipynb>data table notebook</a>'\n",
              "            + ' to learn more about interactive tables.';\n",
              "          element.innerHTML = '';\n",
              "          dataTable['output_type'] = 'display_data';\n",
              "          await google.colab.output.renderOutput(dataTable, element);\n",
              "          const docLink = document.createElement('div');\n",
              "          docLink.innerHTML = docLinkHtml;\n",
              "          element.appendChild(docLink);\n",
              "        }\n",
              "      </script>\n",
              "    </div>\n",
              "  </div>\n",
              "  "
            ],
            "text/plain": [
              "          user    item  rate\n",
              "0         1333   66661   5.0\n",
              "1       605057   66661   2.0\n",
              "2       300321   66661   4.0\n",
              "3        35189   66661   2.0\n",
              "4       605721   66661   3.0\n",
              "...        ...     ...   ...\n",
              "883631  645848  109844   5.0\n",
              "883632  328439  109844   5.0\n",
              "883633  298477  109844   3.0\n",
              "883634  408258  133559   3.0\n",
              "883635  359453  123170   5.0\n",
              "\n",
              "[883636 rows x 3 columns]"
            ]
          },
          "metadata": {},
          "execution_count": 10
        }
      ]
    },
    {
      "cell_type": "code",
      "source": [
        "u = list(set(list(df.user)))\n",
        "u.sort()\n",
        "it = list(set(list(df.item)))\n",
        "it.sort()\n",
        "len(u),len(it),len(df)"
      ],
      "metadata": {
        "id": "NotGmaHxTC0i",
        "colab": {
          "base_uri": "https://localhost:8080/"
        },
        "outputId": "5c05c56e-9bf4-45c8-8b4f-411ac6b60d30"
      },
      "execution_count": 36,
      "outputs": [
        {
          "output_type": "execute_result",
          "data": {
            "text/plain": [
              "(749233, 186189, 883636)"
            ]
          },
          "metadata": {},
          "execution_count": 36
        }
      ]
    },
    {
      "cell_type": "code",
      "source": [
        "mat = {}\n",
        "try:\n",
        "    df = df.reset_index()  # make sure indexes pair with number of rows\n",
        "    df['item'] = df['item'].apply(int)\n",
        "    df['user'] = df['user'].apply(int)\n",
        "    df['rate'] = df['rate'].apply(int)\n",
        "except:\n",
        "    print('hi','\\n')\n",
        "\n",
        "c = 0\n",
        "for index, row in tqdm(df.iterrows()):\n",
        "    if c>2000:\n",
        "        break\n",
        "    c+=1\n",
        "    if row.user in mat:\n",
        "        mat[row[\"user\"]][row[\"item\"]]=row[\"rate\"]\n",
        "    else:\n",
        "        mat[row[\"user\"]] = np.zeros(len(it))\n",
        "        mat[row[\"user\"]][row[\"item\"]] = row[\"rate\"]"
      ],
      "metadata": {
        "id": "TiUsOfvyUJfS",
        "colab": {
          "base_uri": "https://localhost:8080/"
        },
        "outputId": "d12e5f42-9773-4c17-9861-ad4762e2d759"
      },
      "execution_count": 18,
      "outputs": [
        {
          "output_type": "stream",
          "name": "stderr",
          "text": [
            "2001it [00:01, 1850.10it/s]\n"
          ]
        }
      ]
    },
    {
      "cell_type": "code",
      "source": [
        "X = []\n",
        "for i in mat.values():\n",
        "    X.append(i)\n",
        "print(len(X),len(X[0]))\n",
        "del mat"
      ],
      "metadata": {
        "colab": {
          "base_uri": "https://localhost:8080/"
        },
        "id": "Vn1eKgOg361y",
        "outputId": "4c8e997f-72aa-4fec-d550-bd5f89356077"
      },
      "execution_count": 19,
      "outputs": [
        {
          "output_type": "stream",
          "name": "stdout",
          "text": [
            "1994 186189\n"
          ]
        }
      ]
    },
    {
      "cell_type": "code",
      "source": [
        "import numpy as np\n",
        "from sklearn.decomposition import PCA\n",
        "from scipy import spatial"
      ],
      "metadata": {
        "id": "rfJ4J2gC4b_x"
      },
      "execution_count": 20,
      "outputs": []
    },
    {
      "cell_type": "code",
      "source": [
        "import gc\n",
        "gc.collect()"
      ],
      "metadata": {
        "colab": {
          "base_uri": "https://localhost:8080/"
        },
        "id": "8KJFyqT94j5i",
        "outputId": "94752213-3c87-4d0e-b38a-904bd6b50c8b"
      },
      "execution_count": 21,
      "outputs": [
        {
          "output_type": "execute_result",
          "data": {
            "text/plain": [
              "322"
            ]
          },
          "metadata": {},
          "execution_count": 21
        }
      ]
    },
    {
      "cell_type": "code",
      "source": [
        "pca = PCA(n_components=20)\n",
        "pca.fit(X)"
      ],
      "metadata": {
        "colab": {
          "base_uri": "https://localhost:8080/"
        },
        "id": "-T_-sqiJ4TG7",
        "outputId": "893f50df-80a0-48b7-81b3-f0a3bc4bc163"
      },
      "execution_count": 24,
      "outputs": [
        {
          "output_type": "execute_result",
          "data": {
            "text/plain": [
              "PCA(n_components=20)"
            ]
          },
          "metadata": {},
          "execution_count": 24
        }
      ]
    },
    {
      "cell_type": "code",
      "source": [
        "X_PCAed = pca.transform(X[0:10])\n",
        "X_PCAed.shape"
      ],
      "metadata": {
        "colab": {
          "base_uri": "https://localhost:8080/"
        },
        "id": "8sXtdOn7Ud_i",
        "outputId": "6a6dd2aa-d31a-40ca-c17c-29f5c68da49d"
      },
      "execution_count": 25,
      "outputs": [
        {
          "output_type": "execute_result",
          "data": {
            "text/plain": [
              "(10, 20)"
            ]
          },
          "metadata": {},
          "execution_count": 25
        }
      ]
    },
    {
      "cell_type": "code",
      "source": [
        "lenu = len(u)\n",
        "leni = len(it)\n",
        "lenu,leni"
      ],
      "metadata": {
        "colab": {
          "base_uri": "https://localhost:8080/"
        },
        "id": "E9ZIB_zi6K9Z",
        "outputId": "9f2b54b8-7361-413d-b45a-050950af838e"
      },
      "execution_count": 37,
      "outputs": [
        {
          "output_type": "execute_result",
          "data": {
            "text/plain": [
              "(749233, 186189)"
            ]
          },
          "metadata": {},
          "execution_count": 37
        }
      ]
    },
    {
      "cell_type": "code",
      "source": [
        "ud = {}\n",
        "for u in tqdm(range(1000)):\n",
        "    sampleu = df[df['user']==u].item\n",
        "    X = np.zeros(leni)\n",
        "    for s in sampleu:\n",
        "        X[s] = 1\n",
        "    X_PCAed = pca.transform([X])\n",
        "    ud[u] = X_PCAed\n",
        "\n"
      ],
      "metadata": {
        "id": "QwmsuxLbUt1_",
        "colab": {
          "base_uri": "https://localhost:8080/"
        },
        "outputId": "294a6659-9808-4b2f-d141-c66f81bea663"
      },
      "execution_count": 68,
      "outputs": [
        {
          "output_type": "stream",
          "name": "stderr",
          "text": [
            "100%|██████████| 1000/1000 [00:28<00:00, 34.67it/s]\n"
          ]
        }
      ]
    },
    {
      "cell_type": "markdown",
      "source": [
        "# main part\n",
        "* before this part, we used pca to create shorted vectors for each user\n",
        "* now we want to run simple CF here"
      ],
      "metadata": {
        "id": "fEi2_qYX8XUr"
      }
    },
    {
      "cell_type": "code",
      "source": [
        "# choosed_user\n",
        "cuser = random.randint(0,999)\n",
        "print(\"choosed_user: \",cuser)"
      ],
      "metadata": {
        "id": "cjGJWAXOU7-X",
        "colab": {
          "base_uri": "https://localhost:8080/"
        },
        "outputId": "e799630e-f264-4498-db3f-0481226b4843"
      },
      "execution_count": 69,
      "outputs": [
        {
          "output_type": "stream",
          "name": "stdout",
          "text": [
            "choosed_user:  209\n"
          ]
        }
      ]
    },
    {
      "cell_type": "code",
      "source": [
        "ud[cuser]"
      ],
      "metadata": {
        "colab": {
          "base_uri": "https://localhost:8080/"
        },
        "id": "YSK6CkdR81lC",
        "outputId": "dda3ab7d-3bad-47a6-cacf-893e8626ab11"
      },
      "execution_count": 70,
      "outputs": [
        {
          "output_type": "execute_result",
          "data": {
            "text/plain": [
              "array([[-0.94835869, -0.68600515, -0.01694283,  0.22249707, -0.22251307,\n",
              "         0.12596752,  0.22721489,  0.18900167,  0.67568211, -0.18862851,\n",
              "        -0.04318309, -0.0714564 , -0.01695081,  0.03004704,  0.07181269,\n",
              "         0.00443909, -0.20047754, -0.09366979, -0.15006612, -0.10449938]])"
            ]
          },
          "metadata": {},
          "execution_count": 70
        }
      ]
    },
    {
      "cell_type": "code",
      "source": [
        "result1 = 1 - spatial.distance.cosine(ud[cuser], ud[cuser])\n",
        "print(result1)\n",
        "\n",
        "result = 1 - spatial.distance.cosine(ud[cuser], ud[cuser+i])\n",
        "print(result)"
      ],
      "metadata": {
        "colab": {
          "base_uri": "https://localhost:8080/"
        },
        "id": "P9Ty0Nav9MTL",
        "outputId": "76c3d241-6197-4e11-a10f-ad9b459ea473"
      },
      "execution_count": 71,
      "outputs": [
        {
          "output_type": "stream",
          "name": "stdout",
          "text": [
            "1.0\n",
            "1.0\n"
          ]
        }
      ]
    },
    {
      "cell_type": "markdown",
      "source": [
        "# test model with random numbers"
      ],
      "metadata": {
        "id": "zPXXJDpeA9Nt"
      }
    },
    {
      "cell_type": "code",
      "source": [
        "ud = {}\n",
        "for u in tqdm(range(1000)):\n",
        "    X = np.random.randint(20, size=leni)\n",
        "    X_PCAed = pca.transform([X])\n",
        "    ud[u] = X_PCAed"
      ],
      "metadata": {
        "colab": {
          "base_uri": "https://localhost:8080/"
        },
        "id": "0YTZU8-KBTQW",
        "outputId": "df6372aa-d14e-4d35-f4ee-2819218c98c7"
      },
      "execution_count": 72,
      "outputs": [
        {
          "output_type": "stream",
          "name": "stderr",
          "text": [
            "100%|██████████| 1000/1000 [00:27<00:00, 36.06it/s]\n"
          ]
        }
      ]
    },
    {
      "cell_type": "code",
      "source": [
        "def similarity_comparator(x,y):\n",
        "    ''' best 100 worst -100'''\n",
        "    result = 1 - spatial.distance.cosine(x,y)\n",
        "    return(int(result*100))"
      ],
      "metadata": {
        "id": "Am_l8hbpCC6Q"
      },
      "execution_count": 80,
      "outputs": []
    },
    {
      "cell_type": "code",
      "source": [
        "result = similarity_comparator(ud[cuser], ud[cuser])\n",
        "print(result)\n",
        "\n",
        "result = similarity_comparator(ud[cuser], -1*ud[cuser])\n",
        "print(result)\n",
        "\n",
        "result = similarity_comparator(ud[cuser], ud[cuser+1])\n",
        "print(result)\n",
        "\n",
        "result = similarity_comparator(ud[cuser], ud[cuser+2])\n",
        "print(result)"
      ],
      "metadata": {
        "colab": {
          "base_uri": "https://localhost:8080/"
        },
        "id": "Eg7Mc88j_YnF",
        "outputId": "481f0ced-4aba-416b-a9a4-7b5a842e169d"
      },
      "execution_count": 81,
      "outputs": [
        {
          "output_type": "stream",
          "name": "stdout",
          "text": [
            "100\n",
            "-100\n",
            "29\n",
            "-5\n"
          ]
        }
      ]
    },
    {
      "cell_type": "code",
      "source": [
        ""
      ],
      "metadata": {
        "id": "cAvV9fdF_dMk"
      },
      "execution_count": null,
      "outputs": []
    }
  ]
}