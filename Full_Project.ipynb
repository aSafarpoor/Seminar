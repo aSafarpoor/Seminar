{
  "cells": [
    {
      "cell_type": "markdown",
      "metadata": {
        "id": "view-in-github",
        "colab_type": "text"
      },
      "source": [
        "<a href=\"https://colab.research.google.com/github/aSafarpoor/Seminar/blob/main/Full_Project.ipynb\" target=\"_parent\"><img src=\"https://colab.research.google.com/assets/colab-badge.svg\" alt=\"Open In Colab\"/></a>"
      ]
    },
    {
      "cell_type": "markdown",
      "source": [
        "based on:\n",
        "https://towardsdatascience.com/neural-network-collaborative-filtering-with-amazon-book-reviews-c50a919a84a7\n",
        "\n",
        "and \n",
        "\n",
        "https://github.com/kenhua15/Projects/tree/master/5%20-%20amazon_recommendation_system\n",
        "\n",
        "\n",
        "---\n",
        "\n",
        "\n",
        "and related paper title: **\"Justifying Recommendations using Distantly-Labeled Reviews and\n",
        "Fine-Grained Aspects\"**\n",
        "\n",
        "address:\n",
        "https://cseweb.ucsd.edu//~jmcauley/pdfs/emnlp19a.pdf\n",
        "\n",
        "---\n",
        "\n",
        "data source:\n",
        "https://nijianmo.github.io/amazon/index.html"
      ],
      "metadata": {
        "id": "P7kiwQRt-215"
      },
      "id": "P7kiwQRt-215"
    },
    {
      "cell_type": "code",
      "source": [
        "from google.colab import drive\n",
        "drive.mount('/content/drive')"
      ],
      "metadata": {
        "colab": {
          "base_uri": "https://localhost:8080/"
        },
        "id": "xjqCMiRpB7P-",
        "outputId": "40882733-900c-40df-d885-43287c445d56"
      },
      "id": "xjqCMiRpB7P-",
      "execution_count": 1,
      "outputs": [
        {
          "output_type": "stream",
          "name": "stdout",
          "text": [
            "Drive already mounted at /content/drive; to attempt to forcibly remount, call drive.mount(\"/content/drive\", force_remount=True).\n"
          ]
        }
      ]
    },
    {
      "cell_type": "code",
      "source": [
        "%cd drive/MyDrive/MSc/codes/\"Neural Network Collaborative Filtering with Amazon Book Reviews\"\n",
        "!ls"
      ],
      "metadata": {
        "colab": {
          "base_uri": "https://localhost:8080/"
        },
        "id": "CI9CkQ67CIMX",
        "outputId": "fe8f6021-100c-46dc-c307-7735d4999e34"
      },
      "id": "CI9CkQ67CIMX",
      "execution_count": 2,
      "outputs": [
        {
          "output_type": "stream",
          "name": "stdout",
          "text": [
            "/content/drive/MyDrive/MSc/codes/Neural Network Collaborative Filtering with Amazon Book Reviews\n",
            "Data_Prep_Functions.py\t\t Modeling_Functions.py\t__pycache__\n",
            "Full_Project.ipynb\t\t NLP_Functions.py\n",
            "Grocery_and_Gourmet_Food_5.json  NN_Model.py\n"
          ]
        }
      ]
    },
    {
      "cell_type": "code",
      "source": [
        "# !wget http://deepyeti.ucsd.edu/jianmo/amazon/categoryFilesSmall/Grocery_and_Gourmet_Food_5.json.gz"
      ],
      "metadata": {
        "id": "iCLcJP_gDqNm"
      },
      "id": "iCLcJP_gDqNm",
      "execution_count": 3,
      "outputs": []
    },
    {
      "cell_type": "code",
      "source": [
        "# !gunzip -k Grocery_and_Gourmet_Food_5.json.gz\n",
        "## ! rm Grocery_and_Gourmet_Food_5.json.gz"
      ],
      "metadata": {
        "id": "yZapER7eD38W"
      },
      "id": "yZapER7eD38W",
      "execution_count": 4,
      "outputs": []
    },
    {
      "cell_type": "code",
      "source": [
        "# !ls"
      ],
      "metadata": {
        "id": "111d3V8LF-ru"
      },
      "id": "111d3V8LF-ru",
      "execution_count": 5,
      "outputs": []
    },
    {
      "cell_type": "markdown",
      "id": "261756ec",
      "metadata": {
        "id": "261756ec"
      },
      "source": [
        "### Data Loading and Preprocessing\n",
        "\n",
        "Data is loaded from the Amazon Review Dataset. First step is to import packages."
      ]
    },
    {
      "cell_type": "code",
      "source": [
        "!pip install --user flair"
      ],
      "metadata": {
        "id": "Np9q3d-sIJQx"
      },
      "id": "Np9q3d-sIJQx",
      "execution_count": null,
      "outputs": []
    },
    {
      "cell_type": "code",
      "execution_count": 61,
      "id": "d795d612",
      "metadata": {
        "id": "d795d612"
      },
      "outputs": [],
      "source": [
        "import pandas as pd\n",
        "import numpy as np\n",
        "import matplotlib.pyplot as plt\n",
        "\n",
        "import Data_Prep_Functions as DP\n",
        "import Modeling_Functions as MF\n",
        "import NLP_Functions as NL\n",
        "import tensorflow as tf\n",
        "\n",
        "from flair.models import TextClassifier\n",
        "from flair.data import Sentence\n",
        "import re\n",
        "\n",
        "from scipy.sparse.linalg import svds\n",
        "\n",
        "from tqdm import tqdm\n",
        "\n",
        "physical_devices = tf.config.list_physical_devices('GPU') \n",
        "for device in physical_devices:\n",
        "    tf.config.experimental.set_memory_growth(device, True)\n",
        "\n"
      ]
    },
    {
      "cell_type": "markdown",
      "id": "90a6ce7f",
      "metadata": {
        "id": "90a6ce7f"
      },
      "source": [
        "Data is loaded in chunks, filtered by comment length, then apppended to a list. To save time, we will just load in the file that we processed earlier."
      ]
    },
    {
      "cell_type": "code",
      "execution_count": 8,
      "id": "88ef1056",
      "metadata": {
        "id": "88ef1056"
      },
      "outputs": [],
      "source": [
        "review_json_path = 'Grocery_and_Gourmet_Food_5.json'\n",
        "\n",
        "size = 1000000\n",
        "review = pd.read_json(review_json_path, lines=True,\n",
        "                      chunksize=size)\n",
        "\n",
        "total_list = []\n",
        "\n",
        "def filter_comment_lengths(reviews, minimum, maximum):\n",
        "    #Filters reviews based on word length, between a minimum and maximum\n",
        "    #Returns the df with word length as an additional column, and filtered rows of comments between min and max\n",
        "    reviews['reviewText'] = reviews['reviewText'].astype('str')\n",
        "    reviews['reviewLen'] = reviews['reviewText'].str.split().map(lambda x: len(x))\n",
        "    reviews = reviews.loc[(reviews['reviewLen'] > minimum) & (reviews['reviewLen'] < maximum)]\n",
        "    \n",
        "    return reviews\n",
        "\n",
        "\n",
        "for chunk_review in review:\n",
        "\n",
        "    sample_list = pd.DataFrame(chunk_review[['reviewerID','asin','overall','reviewText']])\n",
        "    sample_list = filter_comment_lengths(sample_list, 100, 300)\n",
        "    total_list.append(sample_list)\n",
        "\n",
        "reviews_total = pd.concat(total_list, ignore_index=True, join='outer', axis=0)\n"
      ]
    },
    {
      "cell_type": "code",
      "execution_count": 35,
      "id": "eb26af76",
      "metadata": {
        "colab": {
          "base_uri": "https://localhost:8080/",
          "height": 423
        },
        "id": "eb26af76",
        "outputId": "6d12c414-c8de-450e-900c-1bd0328d4511"
      },
      "outputs": [
        {
          "output_type": "execute_result",
          "data": {
            "text/plain": [
              "           reviewerID        asin  overall  \\\n",
              "0      A3QD1PUOO5I94A  4639725183        4   \n",
              "1       ACOICLIJQYECU  4639725043        3   \n",
              "2      A2AGPIWL0G3UQR  4639725043        4   \n",
              "3      A1T65DGV69QI8L  4639725043        5   \n",
              "4      A1WOMXOEX90ARI  4639725043        5   \n",
              "...               ...         ...      ...   \n",
              "89209  A2LH2Q6RLV1254  B01HH79XRE        1   \n",
              "89210  A3PIZBX8U0SSJV  B01HIY2FI0        5   \n",
              "89211  A27FKWRVKGEX5Q  B01HJ2HR9S        1   \n",
              "89212  A1CHF9VHRDTTO5  B01HJ4FWGG        2   \n",
              "89213  A2025PN7HDC5BO  B01HJF6FRA        5   \n",
              "\n",
              "                                              reviewText  reviewLen  \n",
              "0      Well I bought this tea after being in Malaysia...        162  \n",
              "1      I have recently started drinking hot tea again...        176  \n",
              "2      Good tea. Way better than baseline Lipton tea....        101  \n",
              "3      this tea is the bomb, for the real die-hard in...        116  \n",
              "4      This is NOT the regular Lipton's Tea sold in t...        101  \n",
              "...                                                  ...        ...  \n",
              "89209  First of all, it is against USDA marketing reg...        160  \n",
              "89210  If you need koji rice for a project at home, w...        248  \n",
              "89211  I give this item 1 star  solely because the de...        113  \n",
              "89212  I received this candy today,  it arrived in pr...        207  \n",
              "89213  I used to love ranch before I became vegan. It...        190  \n",
              "\n",
              "[89214 rows x 5 columns]"
            ],
            "text/html": [
              "\n",
              "  <div id=\"df-596e93ec-a05d-44a9-9ad8-1e8b815b0b5d\">\n",
              "    <div class=\"colab-df-container\">\n",
              "      <div>\n",
              "<style scoped>\n",
              "    .dataframe tbody tr th:only-of-type {\n",
              "        vertical-align: middle;\n",
              "    }\n",
              "\n",
              "    .dataframe tbody tr th {\n",
              "        vertical-align: top;\n",
              "    }\n",
              "\n",
              "    .dataframe thead th {\n",
              "        text-align: right;\n",
              "    }\n",
              "</style>\n",
              "<table border=\"1\" class=\"dataframe\">\n",
              "  <thead>\n",
              "    <tr style=\"text-align: right;\">\n",
              "      <th></th>\n",
              "      <th>reviewerID</th>\n",
              "      <th>asin</th>\n",
              "      <th>overall</th>\n",
              "      <th>reviewText</th>\n",
              "      <th>reviewLen</th>\n",
              "    </tr>\n",
              "  </thead>\n",
              "  <tbody>\n",
              "    <tr>\n",
              "      <th>0</th>\n",
              "      <td>A3QD1PUOO5I94A</td>\n",
              "      <td>4639725183</td>\n",
              "      <td>4</td>\n",
              "      <td>Well I bought this tea after being in Malaysia...</td>\n",
              "      <td>162</td>\n",
              "    </tr>\n",
              "    <tr>\n",
              "      <th>1</th>\n",
              "      <td>ACOICLIJQYECU</td>\n",
              "      <td>4639725043</td>\n",
              "      <td>3</td>\n",
              "      <td>I have recently started drinking hot tea again...</td>\n",
              "      <td>176</td>\n",
              "    </tr>\n",
              "    <tr>\n",
              "      <th>2</th>\n",
              "      <td>A2AGPIWL0G3UQR</td>\n",
              "      <td>4639725043</td>\n",
              "      <td>4</td>\n",
              "      <td>Good tea. Way better than baseline Lipton tea....</td>\n",
              "      <td>101</td>\n",
              "    </tr>\n",
              "    <tr>\n",
              "      <th>3</th>\n",
              "      <td>A1T65DGV69QI8L</td>\n",
              "      <td>4639725043</td>\n",
              "      <td>5</td>\n",
              "      <td>this tea is the bomb, for the real die-hard in...</td>\n",
              "      <td>116</td>\n",
              "    </tr>\n",
              "    <tr>\n",
              "      <th>4</th>\n",
              "      <td>A1WOMXOEX90ARI</td>\n",
              "      <td>4639725043</td>\n",
              "      <td>5</td>\n",
              "      <td>This is NOT the regular Lipton's Tea sold in t...</td>\n",
              "      <td>101</td>\n",
              "    </tr>\n",
              "    <tr>\n",
              "      <th>...</th>\n",
              "      <td>...</td>\n",
              "      <td>...</td>\n",
              "      <td>...</td>\n",
              "      <td>...</td>\n",
              "      <td>...</td>\n",
              "    </tr>\n",
              "    <tr>\n",
              "      <th>89209</th>\n",
              "      <td>A2LH2Q6RLV1254</td>\n",
              "      <td>B01HH79XRE</td>\n",
              "      <td>1</td>\n",
              "      <td>First of all, it is against USDA marketing reg...</td>\n",
              "      <td>160</td>\n",
              "    </tr>\n",
              "    <tr>\n",
              "      <th>89210</th>\n",
              "      <td>A3PIZBX8U0SSJV</td>\n",
              "      <td>B01HIY2FI0</td>\n",
              "      <td>5</td>\n",
              "      <td>If you need koji rice for a project at home, w...</td>\n",
              "      <td>248</td>\n",
              "    </tr>\n",
              "    <tr>\n",
              "      <th>89211</th>\n",
              "      <td>A27FKWRVKGEX5Q</td>\n",
              "      <td>B01HJ2HR9S</td>\n",
              "      <td>1</td>\n",
              "      <td>I give this item 1 star  solely because the de...</td>\n",
              "      <td>113</td>\n",
              "    </tr>\n",
              "    <tr>\n",
              "      <th>89212</th>\n",
              "      <td>A1CHF9VHRDTTO5</td>\n",
              "      <td>B01HJ4FWGG</td>\n",
              "      <td>2</td>\n",
              "      <td>I received this candy today,  it arrived in pr...</td>\n",
              "      <td>207</td>\n",
              "    </tr>\n",
              "    <tr>\n",
              "      <th>89213</th>\n",
              "      <td>A2025PN7HDC5BO</td>\n",
              "      <td>B01HJF6FRA</td>\n",
              "      <td>5</td>\n",
              "      <td>I used to love ranch before I became vegan. It...</td>\n",
              "      <td>190</td>\n",
              "    </tr>\n",
              "  </tbody>\n",
              "</table>\n",
              "<p>89214 rows × 5 columns</p>\n",
              "</div>\n",
              "      <button class=\"colab-df-convert\" onclick=\"convertToInteractive('df-596e93ec-a05d-44a9-9ad8-1e8b815b0b5d')\"\n",
              "              title=\"Convert this dataframe to an interactive table.\"\n",
              "              style=\"display:none;\">\n",
              "        \n",
              "  <svg xmlns=\"http://www.w3.org/2000/svg\" height=\"24px\"viewBox=\"0 0 24 24\"\n",
              "       width=\"24px\">\n",
              "    <path d=\"M0 0h24v24H0V0z\" fill=\"none\"/>\n",
              "    <path d=\"M18.56 5.44l.94 2.06.94-2.06 2.06-.94-2.06-.94-.94-2.06-.94 2.06-2.06.94zm-11 1L8.5 8.5l.94-2.06 2.06-.94-2.06-.94L8.5 2.5l-.94 2.06-2.06.94zm10 10l.94 2.06.94-2.06 2.06-.94-2.06-.94-.94-2.06-.94 2.06-2.06.94z\"/><path d=\"M17.41 7.96l-1.37-1.37c-.4-.4-.92-.59-1.43-.59-.52 0-1.04.2-1.43.59L10.3 9.45l-7.72 7.72c-.78.78-.78 2.05 0 2.83L4 21.41c.39.39.9.59 1.41.59.51 0 1.02-.2 1.41-.59l7.78-7.78 2.81-2.81c.8-.78.8-2.07 0-2.86zM5.41 20L4 18.59l7.72-7.72 1.47 1.35L5.41 20z\"/>\n",
              "  </svg>\n",
              "      </button>\n",
              "      \n",
              "  <style>\n",
              "    .colab-df-container {\n",
              "      display:flex;\n",
              "      flex-wrap:wrap;\n",
              "      gap: 12px;\n",
              "    }\n",
              "\n",
              "    .colab-df-convert {\n",
              "      background-color: #E8F0FE;\n",
              "      border: none;\n",
              "      border-radius: 50%;\n",
              "      cursor: pointer;\n",
              "      display: none;\n",
              "      fill: #1967D2;\n",
              "      height: 32px;\n",
              "      padding: 0 0 0 0;\n",
              "      width: 32px;\n",
              "    }\n",
              "\n",
              "    .colab-df-convert:hover {\n",
              "      background-color: #E2EBFA;\n",
              "      box-shadow: 0px 1px 2px rgba(60, 64, 67, 0.3), 0px 1px 3px 1px rgba(60, 64, 67, 0.15);\n",
              "      fill: #174EA6;\n",
              "    }\n",
              "\n",
              "    [theme=dark] .colab-df-convert {\n",
              "      background-color: #3B4455;\n",
              "      fill: #D2E3FC;\n",
              "    }\n",
              "\n",
              "    [theme=dark] .colab-df-convert:hover {\n",
              "      background-color: #434B5C;\n",
              "      box-shadow: 0px 1px 3px 1px rgba(0, 0, 0, 0.15);\n",
              "      filter: drop-shadow(0px 1px 2px rgba(0, 0, 0, 0.3));\n",
              "      fill: #FFFFFF;\n",
              "    }\n",
              "  </style>\n",
              "\n",
              "      <script>\n",
              "        const buttonEl =\n",
              "          document.querySelector('#df-596e93ec-a05d-44a9-9ad8-1e8b815b0b5d button.colab-df-convert');\n",
              "        buttonEl.style.display =\n",
              "          google.colab.kernel.accessAllowed ? 'block' : 'none';\n",
              "\n",
              "        async function convertToInteractive(key) {\n",
              "          const element = document.querySelector('#df-596e93ec-a05d-44a9-9ad8-1e8b815b0b5d');\n",
              "          const dataTable =\n",
              "            await google.colab.kernel.invokeFunction('convertToInteractive',\n",
              "                                                     [key], {});\n",
              "          if (!dataTable) return;\n",
              "\n",
              "          const docLinkHtml = 'Like what you see? Visit the ' +\n",
              "            '<a target=\"_blank\" href=https://colab.research.google.com/notebooks/data_table.ipynb>data table notebook</a>'\n",
              "            + ' to learn more about interactive tables.';\n",
              "          element.innerHTML = '';\n",
              "          dataTable['output_type'] = 'display_data';\n",
              "          await google.colab.output.renderOutput(dataTable, element);\n",
              "          const docLink = document.createElement('div');\n",
              "          docLink.innerHTML = docLinkHtml;\n",
              "          element.appendChild(docLink);\n",
              "        }\n",
              "      </script>\n",
              "    </div>\n",
              "  </div>\n",
              "  "
            ]
          },
          "metadata": {},
          "execution_count": 35
        }
      ],
      "source": [
        "# reviews_total = pd.read_csv('reviews_total.csv')\n",
        "reviews_total.head()\n",
        "reviews_total"
      ]
    },
    {
      "cell_type": "code",
      "execution_count": 10,
      "id": "1971ff47",
      "metadata": {
        "id": "1971ff47"
      },
      "outputs": [],
      "source": [
        "def user_book_threshold_reviews(sample_list, user_threshold, book_threshold):\n",
        "    #Function that takes sample_list and only selects users and books above a threshold. \n",
        "    #Returns cleaned dataframe of USER-ID, BOOK-ID, and Scaled RATING for items above the threshold count\n",
        "    book_count = (sample_list.\n",
        "         groupby(by = ['asin'])['overall'].\n",
        "         count().\n",
        "         reset_index()\n",
        "        )\n",
        "    \n",
        "    \n",
        "    book_count = book_count.query('overall >= @book_threshold')\n",
        "    \n",
        "    user_rating = pd.merge(sample_list, book_count, left_on='asin', right_on='asin', how='inner')\n",
        "    \n",
        "    user_count = (sample_list.\n",
        "         groupby(by = ['reviewerID'])['overall'].\n",
        "         count().\n",
        "         reset_index()\n",
        "        )\n",
        "    \n",
        "    user_count = user_count.query('overall >= @user_threshold')\n",
        "    \n",
        "    combined = user_rating.merge(user_count, left_on = 'reviewerID', right_on = 'reviewerID', how = 'inner')\n",
        "    combined_gb = combined.groupby(by = ['reviewerID','asin', 'reviewText'],as_index=False).mean()\n",
        "\n",
        "    combined_final = combined_gb.drop(columns = ['overall_x','overall'])\n",
        "    combined_final = combined_final.rename(columns = {'reviewerID':'User-ID', 'asin': 'Book-ID', 'overall_y':'Rating'})\n",
        "    # scaler = MinMaxScaler()\n",
        "    # combined_final['Rating'] = combined_final['Rating'].values.astype(float)\n",
        "    # rating_scaled = pd.DataFrame(scaler.fit_transform(combined_final['Rating'].values.reshape(-1,1)))\n",
        "    # combined_final['Rating'] = rating_scaled\n",
        "\n",
        "    return combined_final\n",
        "\n",
        "reviews_filtered = user_book_threshold_reviews(reviews_total, 100, 100)\n"
      ]
    },
    {
      "cell_type": "code",
      "source": [
        "reviews_filtered.head()"
      ],
      "metadata": {
        "colab": {
          "base_uri": "https://localhost:8080/",
          "height": 206
        },
        "id": "LY6jGqrMG64j",
        "outputId": "c87931f6-d9c1-46d1-dc02-5104660a0eab"
      },
      "id": "LY6jGqrMG64j",
      "execution_count": 11,
      "outputs": [
        {
          "output_type": "execute_result",
          "data": {
            "text/plain": [
              "          User-ID     Book-ID  \\\n",
              "0  A1TPW86OHXTXFC  B0001LO3FG   \n",
              "1  A1TPW86OHXTXFC  B0001LO3FG   \n",
              "2  A1TPW86OHXTXFC  B000F4DKAI   \n",
              "3  A1TPW86OHXTXFC  B000F4DKAI   \n",
              "4  A1TPW86OHXTXFC  B0014WYXYW   \n",
              "\n",
              "                                          reviewText  reviewLen  Rating  \n",
              "0  Long a era drinker. I drink coffee in the morn...      179.0   209.0  \n",
              "1  While in England, on my first trip, I enjoyed ...      164.0   209.0  \n",
              "2  Long a era drinker. I drink coffee in the morn...      179.0   209.0  \n",
              "3  While in England, on my first trip, I enjoyed ...      164.0   209.0  \n",
              "4  My granddaughter loves fizzy drinks as she cal...      120.0   106.0  "
            ],
            "text/html": [
              "\n",
              "  <div id=\"df-cdc66f9e-74d9-40c0-a964-28350fd88a5c\">\n",
              "    <div class=\"colab-df-container\">\n",
              "      <div>\n",
              "<style scoped>\n",
              "    .dataframe tbody tr th:only-of-type {\n",
              "        vertical-align: middle;\n",
              "    }\n",
              "\n",
              "    .dataframe tbody tr th {\n",
              "        vertical-align: top;\n",
              "    }\n",
              "\n",
              "    .dataframe thead th {\n",
              "        text-align: right;\n",
              "    }\n",
              "</style>\n",
              "<table border=\"1\" class=\"dataframe\">\n",
              "  <thead>\n",
              "    <tr style=\"text-align: right;\">\n",
              "      <th></th>\n",
              "      <th>User-ID</th>\n",
              "      <th>Book-ID</th>\n",
              "      <th>reviewText</th>\n",
              "      <th>reviewLen</th>\n",
              "      <th>Rating</th>\n",
              "    </tr>\n",
              "  </thead>\n",
              "  <tbody>\n",
              "    <tr>\n",
              "      <th>0</th>\n",
              "      <td>A1TPW86OHXTXFC</td>\n",
              "      <td>B0001LO3FG</td>\n",
              "      <td>Long a era drinker. I drink coffee in the morn...</td>\n",
              "      <td>179.0</td>\n",
              "      <td>209.0</td>\n",
              "    </tr>\n",
              "    <tr>\n",
              "      <th>1</th>\n",
              "      <td>A1TPW86OHXTXFC</td>\n",
              "      <td>B0001LO3FG</td>\n",
              "      <td>While in England, on my first trip, I enjoyed ...</td>\n",
              "      <td>164.0</td>\n",
              "      <td>209.0</td>\n",
              "    </tr>\n",
              "    <tr>\n",
              "      <th>2</th>\n",
              "      <td>A1TPW86OHXTXFC</td>\n",
              "      <td>B000F4DKAI</td>\n",
              "      <td>Long a era drinker. I drink coffee in the morn...</td>\n",
              "      <td>179.0</td>\n",
              "      <td>209.0</td>\n",
              "    </tr>\n",
              "    <tr>\n",
              "      <th>3</th>\n",
              "      <td>A1TPW86OHXTXFC</td>\n",
              "      <td>B000F4DKAI</td>\n",
              "      <td>While in England, on my first trip, I enjoyed ...</td>\n",
              "      <td>164.0</td>\n",
              "      <td>209.0</td>\n",
              "    </tr>\n",
              "    <tr>\n",
              "      <th>4</th>\n",
              "      <td>A1TPW86OHXTXFC</td>\n",
              "      <td>B0014WYXYW</td>\n",
              "      <td>My granddaughter loves fizzy drinks as she cal...</td>\n",
              "      <td>120.0</td>\n",
              "      <td>106.0</td>\n",
              "    </tr>\n",
              "  </tbody>\n",
              "</table>\n",
              "</div>\n",
              "      <button class=\"colab-df-convert\" onclick=\"convertToInteractive('df-cdc66f9e-74d9-40c0-a964-28350fd88a5c')\"\n",
              "              title=\"Convert this dataframe to an interactive table.\"\n",
              "              style=\"display:none;\">\n",
              "        \n",
              "  <svg xmlns=\"http://www.w3.org/2000/svg\" height=\"24px\"viewBox=\"0 0 24 24\"\n",
              "       width=\"24px\">\n",
              "    <path d=\"M0 0h24v24H0V0z\" fill=\"none\"/>\n",
              "    <path d=\"M18.56 5.44l.94 2.06.94-2.06 2.06-.94-2.06-.94-.94-2.06-.94 2.06-2.06.94zm-11 1L8.5 8.5l.94-2.06 2.06-.94-2.06-.94L8.5 2.5l-.94 2.06-2.06.94zm10 10l.94 2.06.94-2.06 2.06-.94-2.06-.94-.94-2.06-.94 2.06-2.06.94z\"/><path d=\"M17.41 7.96l-1.37-1.37c-.4-.4-.92-.59-1.43-.59-.52 0-1.04.2-1.43.59L10.3 9.45l-7.72 7.72c-.78.78-.78 2.05 0 2.83L4 21.41c.39.39.9.59 1.41.59.51 0 1.02-.2 1.41-.59l7.78-7.78 2.81-2.81c.8-.78.8-2.07 0-2.86zM5.41 20L4 18.59l7.72-7.72 1.47 1.35L5.41 20z\"/>\n",
              "  </svg>\n",
              "      </button>\n",
              "      \n",
              "  <style>\n",
              "    .colab-df-container {\n",
              "      display:flex;\n",
              "      flex-wrap:wrap;\n",
              "      gap: 12px;\n",
              "    }\n",
              "\n",
              "    .colab-df-convert {\n",
              "      background-color: #E8F0FE;\n",
              "      border: none;\n",
              "      border-radius: 50%;\n",
              "      cursor: pointer;\n",
              "      display: none;\n",
              "      fill: #1967D2;\n",
              "      height: 32px;\n",
              "      padding: 0 0 0 0;\n",
              "      width: 32px;\n",
              "    }\n",
              "\n",
              "    .colab-df-convert:hover {\n",
              "      background-color: #E2EBFA;\n",
              "      box-shadow: 0px 1px 2px rgba(60, 64, 67, 0.3), 0px 1px 3px 1px rgba(60, 64, 67, 0.15);\n",
              "      fill: #174EA6;\n",
              "    }\n",
              "\n",
              "    [theme=dark] .colab-df-convert {\n",
              "      background-color: #3B4455;\n",
              "      fill: #D2E3FC;\n",
              "    }\n",
              "\n",
              "    [theme=dark] .colab-df-convert:hover {\n",
              "      background-color: #434B5C;\n",
              "      box-shadow: 0px 1px 3px 1px rgba(0, 0, 0, 0.15);\n",
              "      filter: drop-shadow(0px 1px 2px rgba(0, 0, 0, 0.3));\n",
              "      fill: #FFFFFF;\n",
              "    }\n",
              "  </style>\n",
              "\n",
              "      <script>\n",
              "        const buttonEl =\n",
              "          document.querySelector('#df-cdc66f9e-74d9-40c0-a964-28350fd88a5c button.colab-df-convert');\n",
              "        buttonEl.style.display =\n",
              "          google.colab.kernel.accessAllowed ? 'block' : 'none';\n",
              "\n",
              "        async function convertToInteractive(key) {\n",
              "          const element = document.querySelector('#df-cdc66f9e-74d9-40c0-a964-28350fd88a5c');\n",
              "          const dataTable =\n",
              "            await google.colab.kernel.invokeFunction('convertToInteractive',\n",
              "                                                     [key], {});\n",
              "          if (!dataTable) return;\n",
              "\n",
              "          const docLinkHtml = 'Like what you see? Visit the ' +\n",
              "            '<a target=\"_blank\" href=https://colab.research.google.com/notebooks/data_table.ipynb>data table notebook</a>'\n",
              "            + ' to learn more about interactive tables.';\n",
              "          element.innerHTML = '';\n",
              "          dataTable['output_type'] = 'display_data';\n",
              "          await google.colab.output.renderOutput(dataTable, element);\n",
              "          const docLink = document.createElement('div');\n",
              "          docLink.innerHTML = docLinkHtml;\n",
              "          element.appendChild(docLink);\n",
              "        }\n",
              "      </script>\n",
              "    </div>\n",
              "  </div>\n",
              "  "
            ]
          },
          "metadata": {},
          "execution_count": 11
        }
      ]
    },
    {
      "cell_type": "markdown",
      "id": "767bde45",
      "metadata": {
        "id": "767bde45"
      },
      "source": [
        "### Natural Language Processing\n",
        "\n",
        "The next step is to use Flair package to analyze the sentiments of each review. "
      ]
    },
    {
      "cell_type": "code",
      "execution_count": 12,
      "id": "3e32cc8d",
      "metadata": {
        "id": "3e32cc8d"
      },
      "outputs": [],
      "source": [
        "def flair_sentiment(df):\n",
        "    #Uses flair package to analyze text sentiment classification. I also add a quantiletranformation to the metric, which is more suitable for learning\n",
        "    #Returnd DataFrame with raw sentiment score and quantile transformed score, obtained from Flair models\n",
        "    \n",
        "    \n",
        "    def isfloat(value):\n",
        "      try:\n",
        "        float(value)\n",
        "        return True\n",
        "      except ValueError:\n",
        "        return False\n",
        "    \n",
        "    sia = TextClassifier.load('en-sentiment')\n",
        "    def flair_prediction(x):\n",
        "        sentence = Sentence(x)\n",
        "        sia.predict(sentence)\n",
        "        score = str(sentence.labels[0])\n",
        "        score = score.replace('(',' ').replace(')',' ')\n",
        "        number = [float(s) for s in score.split() if isfloat(s) is True]\n",
        "        \n",
        "        if \"POSITIVE\" in score:\n",
        "            return number[0]\n",
        "        elif \"NEGATIVE\" in score:\n",
        "            return -number[0]\n",
        "        \n",
        "    df[\"flair_sentiment\"] = df[\"reviewText\"].apply(flair_prediction)\n",
        "\n",
        "    \n",
        "    return df\n"
      ]
    },
    {
      "cell_type": "markdown",
      "id": "d1676fd3",
      "metadata": {
        "id": "d1676fd3"
      },
      "source": [
        "The original dataframe is split into 100 chunks, in order to make this processing more manageable. Since Flair is a neural network based sentiment analysis, this part can take time. It took around 3 hours to complete 144,878 reviews."
      ]
    },
    {
      "cell_type": "code",
      "source": [
        "reviews_list = np.array_split(reviews_filtered,100)\n",
        "len(reviews_list)"
      ],
      "metadata": {
        "colab": {
          "base_uri": "https://localhost:8080/"
        },
        "id": "l9DCnFQ6TbPF",
        "outputId": "0a482866-5148-4073-9c9e-f0f405b53980"
      },
      "id": "l9DCnFQ6TbPF",
      "execution_count": 36,
      "outputs": [
        {
          "output_type": "execute_result",
          "data": {
            "text/plain": [
              "100"
            ]
          },
          "metadata": {},
          "execution_count": 36
        }
      ]
    },
    {
      "cell_type": "code",
      "execution_count": 37,
      "id": "ad8defb5",
      "metadata": {
        "colab": {
          "base_uri": "https://localhost:8080/"
        },
        "id": "ad8defb5",
        "outputId": "6d8d2f8f-7c61-421b-f5d5-a3e1ce027853"
      },
      "outputs": [
        {
          "output_type": "stream",
          "name": "stderr",
          "text": [
            "\r  0%|          | 0/100 [00:00<?, ?it/s]"
          ]
        },
        {
          "output_type": "stream",
          "name": "stdout",
          "text": [
            "2022-04-28 08:34:26,900 loading file /root/.flair/models/sentiment-en-mix-distillbert_4.pt\n"
          ]
        },
        {
          "output_type": "stream",
          "name": "stderr",
          "text": [
            "\r  1%|          | 1/100 [00:04<06:58,  4.22s/it]"
          ]
        },
        {
          "output_type": "stream",
          "name": "stdout",
          "text": [
            "2022-04-28 08:34:31,126 loading file /root/.flair/models/sentiment-en-mix-distillbert_4.pt\n"
          ]
        },
        {
          "output_type": "stream",
          "name": "stderr",
          "text": [
            "\r  2%|▏         | 2/100 [00:07<06:13,  3.81s/it]"
          ]
        },
        {
          "output_type": "stream",
          "name": "stdout",
          "text": [
            "2022-04-28 08:34:34,643 loading file /root/.flair/models/sentiment-en-mix-distillbert_4.pt\n"
          ]
        },
        {
          "output_type": "stream",
          "name": "stderr",
          "text": [
            "\r  3%|▎         | 3/100 [00:11<05:52,  3.64s/it]"
          ]
        },
        {
          "output_type": "stream",
          "name": "stdout",
          "text": [
            "2022-04-28 08:34:38,078 loading file /root/.flair/models/sentiment-en-mix-distillbert_4.pt\n"
          ]
        },
        {
          "output_type": "stream",
          "name": "stderr",
          "text": [
            "\r  4%|▍         | 4/100 [00:14<05:40,  3.55s/it]"
          ]
        },
        {
          "output_type": "stream",
          "name": "stdout",
          "text": [
            "2022-04-28 08:34:41,486 loading file /root/.flair/models/sentiment-en-mix-distillbert_4.pt\n"
          ]
        },
        {
          "output_type": "stream",
          "name": "stderr",
          "text": [
            "\r  5%|▌         | 5/100 [00:17<05:30,  3.48s/it]"
          ]
        },
        {
          "output_type": "stream",
          "name": "stdout",
          "text": [
            "2022-04-28 08:34:44,839 loading file /root/.flair/models/sentiment-en-mix-distillbert_4.pt\n"
          ]
        },
        {
          "output_type": "stream",
          "name": "stderr",
          "text": [
            "\r  6%|▌         | 6/100 [00:21<05:29,  3.51s/it]"
          ]
        },
        {
          "output_type": "stream",
          "name": "stdout",
          "text": [
            "2022-04-28 08:34:48,412 loading file /root/.flair/models/sentiment-en-mix-distillbert_4.pt\n"
          ]
        },
        {
          "output_type": "stream",
          "name": "stderr",
          "text": [
            "\r  7%|▋         | 7/100 [00:25<05:32,  3.58s/it]"
          ]
        },
        {
          "output_type": "stream",
          "name": "stdout",
          "text": [
            "2022-04-28 08:34:52,131 loading file /root/.flair/models/sentiment-en-mix-distillbert_4.pt\n"
          ]
        },
        {
          "output_type": "stream",
          "name": "stderr",
          "text": [
            "\r  8%|▊         | 8/100 [00:28<05:27,  3.56s/it]"
          ]
        },
        {
          "output_type": "stream",
          "name": "stdout",
          "text": [
            "2022-04-28 08:34:55,648 loading file /root/.flair/models/sentiment-en-mix-distillbert_4.pt\n"
          ]
        },
        {
          "output_type": "stream",
          "name": "stderr",
          "text": [
            "\r  9%|▉         | 9/100 [00:32<05:20,  3.52s/it]"
          ]
        },
        {
          "output_type": "stream",
          "name": "stdout",
          "text": [
            "2022-04-28 08:34:59,096 loading file /root/.flair/models/sentiment-en-mix-distillbert_4.pt\n"
          ]
        },
        {
          "output_type": "stream",
          "name": "stderr",
          "text": [
            "\r 10%|█         | 10/100 [00:36<05:25,  3.61s/it]"
          ]
        },
        {
          "output_type": "stream",
          "name": "stdout",
          "text": [
            "2022-04-28 08:35:02,905 loading file /root/.flair/models/sentiment-en-mix-distillbert_4.pt\n"
          ]
        },
        {
          "output_type": "stream",
          "name": "stderr",
          "text": [
            "\r 11%|█         | 11/100 [00:39<05:18,  3.58s/it]"
          ]
        },
        {
          "output_type": "stream",
          "name": "stdout",
          "text": [
            "2022-04-28 08:35:06,405 loading file /root/.flair/models/sentiment-en-mix-distillbert_4.pt\n"
          ]
        },
        {
          "output_type": "stream",
          "name": "stderr",
          "text": [
            "\r 12%|█▏        | 12/100 [00:43<05:19,  3.63s/it]"
          ]
        },
        {
          "output_type": "stream",
          "name": "stdout",
          "text": [
            "2022-04-28 08:35:10,161 loading file /root/.flair/models/sentiment-en-mix-distillbert_4.pt\n"
          ]
        },
        {
          "output_type": "stream",
          "name": "stderr",
          "text": [
            "\r 13%|█▎        | 13/100 [00:46<05:08,  3.55s/it]"
          ]
        },
        {
          "output_type": "stream",
          "name": "stdout",
          "text": [
            "2022-04-28 08:35:13,519 loading file /root/.flair/models/sentiment-en-mix-distillbert_4.pt\n"
          ]
        },
        {
          "output_type": "stream",
          "name": "stderr",
          "text": [
            "\r 14%|█▍        | 14/100 [00:50<05:02,  3.52s/it]"
          ]
        },
        {
          "output_type": "stream",
          "name": "stdout",
          "text": [
            "2022-04-28 08:35:16,971 loading file /root/.flair/models/sentiment-en-mix-distillbert_4.pt\n"
          ]
        },
        {
          "output_type": "stream",
          "name": "stderr",
          "text": [
            "\r 15%|█▌        | 15/100 [00:53<04:52,  3.45s/it]"
          ]
        },
        {
          "output_type": "stream",
          "name": "stdout",
          "text": [
            "2022-04-28 08:35:20,243 loading file /root/.flair/models/sentiment-en-mix-distillbert_4.pt\n"
          ]
        },
        {
          "output_type": "stream",
          "name": "stderr",
          "text": [
            "\r 16%|█▌        | 16/100 [00:57<04:55,  3.52s/it]"
          ]
        },
        {
          "output_type": "stream",
          "name": "stdout",
          "text": [
            "2022-04-28 08:35:23,949 loading file /root/.flair/models/sentiment-en-mix-distillbert_4.pt\n"
          ]
        },
        {
          "output_type": "stream",
          "name": "stderr",
          "text": [
            "\r 17%|█▋        | 17/100 [01:00<04:55,  3.56s/it]"
          ]
        },
        {
          "output_type": "stream",
          "name": "stdout",
          "text": [
            "2022-04-28 08:35:27,585 loading file /root/.flair/models/sentiment-en-mix-distillbert_4.pt\n"
          ]
        },
        {
          "output_type": "stream",
          "name": "stderr",
          "text": [
            "\r 18%|█▊        | 18/100 [01:04<04:51,  3.55s/it]"
          ]
        },
        {
          "output_type": "stream",
          "name": "stdout",
          "text": [
            "2022-04-28 08:35:31,123 loading file /root/.flair/models/sentiment-en-mix-distillbert_4.pt\n"
          ]
        },
        {
          "output_type": "stream",
          "name": "stderr",
          "text": [
            "\r 19%|█▉        | 19/100 [01:07<04:45,  3.52s/it]"
          ]
        },
        {
          "output_type": "stream",
          "name": "stdout",
          "text": [
            "2022-04-28 08:35:34,580 loading file /root/.flair/models/sentiment-en-mix-distillbert_4.pt\n"
          ]
        },
        {
          "output_type": "stream",
          "name": "stderr",
          "text": [
            "\r 20%|██        | 20/100 [01:10<04:36,  3.46s/it]"
          ]
        },
        {
          "output_type": "stream",
          "name": "stdout",
          "text": [
            "2022-04-28 08:35:37,882 loading file /root/.flair/models/sentiment-en-mix-distillbert_4.pt\n"
          ]
        },
        {
          "output_type": "stream",
          "name": "stderr",
          "text": [
            "\r 21%|██        | 21/100 [01:14<04:28,  3.40s/it]"
          ]
        },
        {
          "output_type": "stream",
          "name": "stdout",
          "text": [
            "2022-04-28 08:35:41,151 loading file /root/.flair/models/sentiment-en-mix-distillbert_4.pt\n"
          ]
        },
        {
          "output_type": "stream",
          "name": "stderr",
          "text": [
            "\r 22%|██▏       | 22/100 [01:17<04:25,  3.40s/it]"
          ]
        },
        {
          "output_type": "stream",
          "name": "stdout",
          "text": [
            "2022-04-28 08:35:44,555 loading file /root/.flair/models/sentiment-en-mix-distillbert_4.pt\n"
          ]
        },
        {
          "output_type": "stream",
          "name": "stderr",
          "text": [
            "\r 23%|██▎       | 23/100 [01:21<04:21,  3.39s/it]"
          ]
        },
        {
          "output_type": "stream",
          "name": "stdout",
          "text": [
            "2022-04-28 08:35:47,923 loading file /root/.flair/models/sentiment-en-mix-distillbert_4.pt\n"
          ]
        },
        {
          "output_type": "stream",
          "name": "stderr",
          "text": [
            "\r 24%|██▍       | 24/100 [01:24<04:15,  3.36s/it]"
          ]
        },
        {
          "output_type": "stream",
          "name": "stdout",
          "text": [
            "2022-04-28 08:35:51,201 loading file /root/.flair/models/sentiment-en-mix-distillbert_4.pt\n"
          ]
        },
        {
          "output_type": "stream",
          "name": "stderr",
          "text": [
            "\r 25%|██▌       | 25/100 [01:27<04:10,  3.34s/it]"
          ]
        },
        {
          "output_type": "stream",
          "name": "stdout",
          "text": [
            "2022-04-28 08:35:54,502 loading file /root/.flair/models/sentiment-en-mix-distillbert_4.pt\n"
          ]
        },
        {
          "output_type": "stream",
          "name": "stderr",
          "text": [
            "\r 26%|██▌       | 26/100 [01:31<04:17,  3.48s/it]"
          ]
        },
        {
          "output_type": "stream",
          "name": "stdout",
          "text": [
            "2022-04-28 08:35:58,321 loading file /root/.flair/models/sentiment-en-mix-distillbert_4.pt\n"
          ]
        },
        {
          "output_type": "stream",
          "name": "stderr",
          "text": [
            "\r 27%|██▋       | 27/100 [01:34<04:15,  3.50s/it]"
          ]
        },
        {
          "output_type": "stream",
          "name": "stdout",
          "text": [
            "2022-04-28 08:36:01,859 loading file /root/.flair/models/sentiment-en-mix-distillbert_4.pt\n"
          ]
        },
        {
          "output_type": "stream",
          "name": "stderr",
          "text": [
            "\r 28%|██▊       | 28/100 [01:38<04:18,  3.59s/it]"
          ]
        },
        {
          "output_type": "stream",
          "name": "stdout",
          "text": [
            "2022-04-28 08:36:05,660 loading file /root/.flair/models/sentiment-en-mix-distillbert_4.pt\n"
          ]
        },
        {
          "output_type": "stream",
          "name": "stderr",
          "text": [
            "\r 29%|██▉       | 29/100 [01:42<04:13,  3.56s/it]"
          ]
        },
        {
          "output_type": "stream",
          "name": "stdout",
          "text": [
            "2022-04-28 08:36:09,165 loading file /root/.flair/models/sentiment-en-mix-distillbert_4.pt\n"
          ]
        },
        {
          "output_type": "stream",
          "name": "stderr",
          "text": [
            "\r 30%|███       | 30/100 [01:45<04:10,  3.58s/it]"
          ]
        },
        {
          "output_type": "stream",
          "name": "stdout",
          "text": [
            "2022-04-28 08:36:12,777 loading file /root/.flair/models/sentiment-en-mix-distillbert_4.pt\n"
          ]
        },
        {
          "output_type": "stream",
          "name": "stderr",
          "text": [
            "\r 31%|███       | 31/100 [01:49<04:03,  3.53s/it]"
          ]
        },
        {
          "output_type": "stream",
          "name": "stdout",
          "text": [
            "2022-04-28 08:36:16,198 loading file /root/.flair/models/sentiment-en-mix-distillbert_4.pt\n"
          ]
        },
        {
          "output_type": "stream",
          "name": "stderr",
          "text": [
            "\r 32%|███▏      | 32/100 [01:52<03:55,  3.47s/it]"
          ]
        },
        {
          "output_type": "stream",
          "name": "stdout",
          "text": [
            "2022-04-28 08:36:19,514 loading file /root/.flair/models/sentiment-en-mix-distillbert_4.pt\n"
          ]
        },
        {
          "output_type": "stream",
          "name": "stderr",
          "text": [
            "\r 33%|███▎      | 33/100 [01:56<03:56,  3.53s/it]"
          ]
        },
        {
          "output_type": "stream",
          "name": "stdout",
          "text": [
            "2022-04-28 08:36:23,180 loading file /root/.flair/models/sentiment-en-mix-distillbert_4.pt\n"
          ]
        },
        {
          "output_type": "stream",
          "name": "stderr",
          "text": [
            "\r 34%|███▍      | 34/100 [01:59<03:52,  3.53s/it]"
          ]
        },
        {
          "output_type": "stream",
          "name": "stdout",
          "text": [
            "2022-04-28 08:36:26,710 loading file /root/.flair/models/sentiment-en-mix-distillbert_4.pt\n"
          ]
        },
        {
          "output_type": "stream",
          "name": "stderr",
          "text": [
            "\r 35%|███▌      | 35/100 [02:03<03:45,  3.47s/it]"
          ]
        },
        {
          "output_type": "stream",
          "name": "stdout",
          "text": [
            "2022-04-28 08:36:30,064 loading file /root/.flair/models/sentiment-en-mix-distillbert_4.pt\n"
          ]
        },
        {
          "output_type": "stream",
          "name": "stderr",
          "text": [
            "\r 36%|███▌      | 36/100 [02:06<03:38,  3.41s/it]"
          ]
        },
        {
          "output_type": "stream",
          "name": "stdout",
          "text": [
            "2022-04-28 08:36:33,322 loading file /root/.flair/models/sentiment-en-mix-distillbert_4.pt\n"
          ]
        },
        {
          "output_type": "stream",
          "name": "stderr",
          "text": [
            "\r 37%|███▋      | 37/100 [02:09<03:32,  3.38s/it]"
          ]
        },
        {
          "output_type": "stream",
          "name": "stdout",
          "text": [
            "2022-04-28 08:36:36,621 loading file /root/.flair/models/sentiment-en-mix-distillbert_4.pt\n"
          ]
        },
        {
          "output_type": "stream",
          "name": "stderr",
          "text": [
            "\r 38%|███▊      | 38/100 [02:13<03:36,  3.48s/it]"
          ]
        },
        {
          "output_type": "stream",
          "name": "stdout",
          "text": [
            "2022-04-28 08:36:40,353 loading file /root/.flair/models/sentiment-en-mix-distillbert_4.pt\n"
          ]
        },
        {
          "output_type": "stream",
          "name": "stderr",
          "text": [
            "\r 39%|███▉      | 39/100 [02:17<03:34,  3.51s/it]"
          ]
        },
        {
          "output_type": "stream",
          "name": "stdout",
          "text": [
            "2022-04-28 08:36:43,919 loading file /root/.flair/models/sentiment-en-mix-distillbert_4.pt\n"
          ]
        },
        {
          "output_type": "stream",
          "name": "stderr",
          "text": [
            "\r 40%|████      | 40/100 [02:20<03:34,  3.58s/it]"
          ]
        },
        {
          "output_type": "stream",
          "name": "stdout",
          "text": [
            "2022-04-28 08:36:47,663 loading file /root/.flair/models/sentiment-en-mix-distillbert_4.pt\n"
          ]
        },
        {
          "output_type": "stream",
          "name": "stderr",
          "text": [
            "\r 41%|████      | 41/100 [02:24<03:27,  3.51s/it]"
          ]
        },
        {
          "output_type": "stream",
          "name": "stdout",
          "text": [
            "2022-04-28 08:36:51,007 loading file /root/.flair/models/sentiment-en-mix-distillbert_4.pt\n"
          ]
        },
        {
          "output_type": "stream",
          "name": "stderr",
          "text": [
            "\r 42%|████▏     | 42/100 [02:27<03:22,  3.49s/it]"
          ]
        },
        {
          "output_type": "stream",
          "name": "stdout",
          "text": [
            "2022-04-28 08:36:54,456 loading file /root/.flair/models/sentiment-en-mix-distillbert_4.pt\n"
          ]
        },
        {
          "output_type": "stream",
          "name": "stderr",
          "text": [
            "\r 43%|████▎     | 43/100 [02:30<03:15,  3.43s/it]"
          ]
        },
        {
          "output_type": "stream",
          "name": "stdout",
          "text": [
            "2022-04-28 08:36:57,740 loading file /root/.flair/models/sentiment-en-mix-distillbert_4.pt\n"
          ]
        },
        {
          "output_type": "stream",
          "name": "stderr",
          "text": [
            "\r 44%|████▍     | 44/100 [02:34<03:10,  3.40s/it]"
          ]
        },
        {
          "output_type": "stream",
          "name": "stdout",
          "text": [
            "2022-04-28 08:37:01,080 loading file /root/.flair/models/sentiment-en-mix-distillbert_4.pt\n"
          ]
        },
        {
          "output_type": "stream",
          "name": "stderr",
          "text": [
            "\r 45%|████▌     | 45/100 [02:37<03:07,  3.41s/it]"
          ]
        },
        {
          "output_type": "stream",
          "name": "stdout",
          "text": [
            "2022-04-28 08:37:04,495 loading file /root/.flair/models/sentiment-en-mix-distillbert_4.pt\n"
          ]
        },
        {
          "output_type": "stream",
          "name": "stderr",
          "text": [
            "\r 46%|████▌     | 46/100 [02:40<03:01,  3.37s/it]"
          ]
        },
        {
          "output_type": "stream",
          "name": "stdout",
          "text": [
            "2022-04-28 08:37:07,777 loading file /root/.flair/models/sentiment-en-mix-distillbert_4.pt\n"
          ]
        },
        {
          "output_type": "stream",
          "name": "stderr",
          "text": [
            "\r 47%|████▋     | 47/100 [02:44<02:58,  3.36s/it]"
          ]
        },
        {
          "output_type": "stream",
          "name": "stdout",
          "text": [
            "2022-04-28 08:37:11,127 loading file /root/.flair/models/sentiment-en-mix-distillbert_4.pt\n"
          ]
        },
        {
          "output_type": "stream",
          "name": "stderr",
          "text": [
            "\r 48%|████▊     | 48/100 [02:47<02:56,  3.39s/it]"
          ]
        },
        {
          "output_type": "stream",
          "name": "stdout",
          "text": [
            "2022-04-28 08:37:14,586 loading file /root/.flair/models/sentiment-en-mix-distillbert_4.pt\n"
          ]
        },
        {
          "output_type": "stream",
          "name": "stderr",
          "text": [
            "\r 49%|████▉     | 49/100 [02:51<02:52,  3.38s/it]"
          ]
        },
        {
          "output_type": "stream",
          "name": "stdout",
          "text": [
            "2022-04-28 08:37:17,938 loading file /root/.flair/models/sentiment-en-mix-distillbert_4.pt\n"
          ]
        },
        {
          "output_type": "stream",
          "name": "stderr",
          "text": [
            "\r 50%|█████     | 50/100 [02:54<02:50,  3.41s/it]"
          ]
        },
        {
          "output_type": "stream",
          "name": "stdout",
          "text": [
            "2022-04-28 08:37:21,421 loading file /root/.flair/models/sentiment-en-mix-distillbert_4.pt\n"
          ]
        },
        {
          "output_type": "stream",
          "name": "stderr",
          "text": [
            "\r 51%|█████     | 51/100 [02:57<02:46,  3.40s/it]"
          ]
        },
        {
          "output_type": "stream",
          "name": "stdout",
          "text": [
            "2022-04-28 08:37:24,807 loading file /root/.flair/models/sentiment-en-mix-distillbert_4.pt\n"
          ]
        },
        {
          "output_type": "stream",
          "name": "stderr",
          "text": [
            "\r 52%|█████▏    | 52/100 [03:01<02:45,  3.44s/it]"
          ]
        },
        {
          "output_type": "stream",
          "name": "stdout",
          "text": [
            "2022-04-28 08:37:28,338 loading file /root/.flair/models/sentiment-en-mix-distillbert_4.pt\n"
          ]
        },
        {
          "output_type": "stream",
          "name": "stderr",
          "text": [
            "\r 53%|█████▎    | 53/100 [03:04<02:35,  3.31s/it]"
          ]
        },
        {
          "output_type": "stream",
          "name": "stdout",
          "text": [
            "2022-04-28 08:37:31,348 loading file /root/.flair/models/sentiment-en-mix-distillbert_4.pt\n"
          ]
        },
        {
          "output_type": "stream",
          "name": "stderr",
          "text": [
            "\r 54%|█████▍    | 54/100 [03:07<02:28,  3.23s/it]"
          ]
        },
        {
          "output_type": "stream",
          "name": "stdout",
          "text": [
            "2022-04-28 08:37:34,372 loading file /root/.flair/models/sentiment-en-mix-distillbert_4.pt\n"
          ]
        },
        {
          "output_type": "stream",
          "name": "stderr",
          "text": [
            "\r 55%|█████▌    | 55/100 [03:10<02:27,  3.27s/it]"
          ]
        },
        {
          "output_type": "stream",
          "name": "stdout",
          "text": [
            "2022-04-28 08:37:37,742 loading file /root/.flair/models/sentiment-en-mix-distillbert_4.pt\n"
          ]
        },
        {
          "output_type": "stream",
          "name": "stderr",
          "text": [
            "\r 56%|█████▌    | 56/100 [03:13<02:20,  3.20s/it]"
          ]
        },
        {
          "output_type": "stream",
          "name": "stdout",
          "text": [
            "2022-04-28 08:37:40,779 loading file /root/.flair/models/sentiment-en-mix-distillbert_4.pt\n"
          ]
        },
        {
          "output_type": "stream",
          "name": "stderr",
          "text": [
            "\r 57%|█████▋    | 57/100 [03:16<02:16,  3.17s/it]"
          ]
        },
        {
          "output_type": "stream",
          "name": "stdout",
          "text": [
            "2022-04-28 08:37:43,890 loading file /root/.flair/models/sentiment-en-mix-distillbert_4.pt\n"
          ]
        },
        {
          "output_type": "stream",
          "name": "stderr",
          "text": [
            "\r 58%|█████▊    | 58/100 [03:19<02:08,  3.05s/it]"
          ]
        },
        {
          "output_type": "stream",
          "name": "stdout",
          "text": [
            "2022-04-28 08:37:46,657 loading file /root/.flair/models/sentiment-en-mix-distillbert_4.pt\n"
          ]
        },
        {
          "output_type": "stream",
          "name": "stderr",
          "text": [
            "\r 59%|█████▉    | 59/100 [03:22<02:01,  2.97s/it]"
          ]
        },
        {
          "output_type": "stream",
          "name": "stdout",
          "text": [
            "2022-04-28 08:37:49,440 loading file /root/.flair/models/sentiment-en-mix-distillbert_4.pt\n"
          ]
        },
        {
          "output_type": "stream",
          "name": "stderr",
          "text": [
            "\r 60%|██████    | 60/100 [03:25<01:56,  2.91s/it]"
          ]
        },
        {
          "output_type": "stream",
          "name": "stdout",
          "text": [
            "2022-04-28 08:37:52,220 loading file /root/.flair/models/sentiment-en-mix-distillbert_4.pt\n"
          ]
        },
        {
          "output_type": "stream",
          "name": "stderr",
          "text": [
            "\r 61%|██████    | 61/100 [03:28<01:51,  2.87s/it]"
          ]
        },
        {
          "output_type": "stream",
          "name": "stdout",
          "text": [
            "2022-04-28 08:37:54,981 loading file /root/.flair/models/sentiment-en-mix-distillbert_4.pt\n"
          ]
        },
        {
          "output_type": "stream",
          "name": "stderr",
          "text": [
            "\r 62%|██████▏   | 62/100 [03:30<01:48,  2.85s/it]"
          ]
        },
        {
          "output_type": "stream",
          "name": "stdout",
          "text": [
            "2022-04-28 08:37:57,796 loading file /root/.flair/models/sentiment-en-mix-distillbert_4.pt\n"
          ]
        },
        {
          "output_type": "stream",
          "name": "stderr",
          "text": [
            "\r 63%|██████▎   | 63/100 [03:33<01:44,  2.82s/it]"
          ]
        },
        {
          "output_type": "stream",
          "name": "stdout",
          "text": [
            "2022-04-28 08:38:00,556 loading file /root/.flair/models/sentiment-en-mix-distillbert_4.pt\n"
          ]
        },
        {
          "output_type": "stream",
          "name": "stderr",
          "text": [
            "\r 64%|██████▍   | 64/100 [03:36<01:41,  2.81s/it]"
          ]
        },
        {
          "output_type": "stream",
          "name": "stdout",
          "text": [
            "2022-04-28 08:38:03,322 loading file /root/.flair/models/sentiment-en-mix-distillbert_4.pt\n"
          ]
        },
        {
          "output_type": "stream",
          "name": "stderr",
          "text": [
            "\r 65%|██████▌   | 65/100 [03:39<01:37,  2.79s/it]"
          ]
        },
        {
          "output_type": "stream",
          "name": "stdout",
          "text": [
            "2022-04-28 08:38:06,071 loading file /root/.flair/models/sentiment-en-mix-distillbert_4.pt\n"
          ]
        },
        {
          "output_type": "stream",
          "name": "stderr",
          "text": [
            "\r 66%|██████▌   | 66/100 [03:41<01:34,  2.79s/it]"
          ]
        },
        {
          "output_type": "stream",
          "name": "stdout",
          "text": [
            "2022-04-28 08:38:08,859 loading file /root/.flair/models/sentiment-en-mix-distillbert_4.pt\n"
          ]
        },
        {
          "output_type": "stream",
          "name": "stderr",
          "text": [
            "\r 67%|██████▋   | 67/100 [03:44<01:31,  2.78s/it]"
          ]
        },
        {
          "output_type": "stream",
          "name": "stdout",
          "text": [
            "2022-04-28 08:38:11,629 loading file /root/.flair/models/sentiment-en-mix-distillbert_4.pt\n"
          ]
        },
        {
          "output_type": "stream",
          "name": "stderr",
          "text": [
            "\r 68%|██████▊   | 68/100 [03:47<01:28,  2.77s/it]"
          ]
        },
        {
          "output_type": "stream",
          "name": "stdout",
          "text": [
            "2022-04-28 08:38:14,365 loading file /root/.flair/models/sentiment-en-mix-distillbert_4.pt\n"
          ]
        },
        {
          "output_type": "stream",
          "name": "stderr",
          "text": [
            "\r 69%|██████▉   | 69/100 [03:50<01:26,  2.78s/it]"
          ]
        },
        {
          "output_type": "stream",
          "name": "stdout",
          "text": [
            "2022-04-28 08:38:17,159 loading file /root/.flair/models/sentiment-en-mix-distillbert_4.pt\n"
          ]
        },
        {
          "output_type": "stream",
          "name": "stderr",
          "text": [
            "\r 70%|███████   | 70/100 [03:53<01:23,  2.77s/it]"
          ]
        },
        {
          "output_type": "stream",
          "name": "stdout",
          "text": [
            "2022-04-28 08:38:19,916 loading file /root/.flair/models/sentiment-en-mix-distillbert_4.pt\n"
          ]
        },
        {
          "output_type": "stream",
          "name": "stderr",
          "text": [
            "\r 71%|███████   | 71/100 [03:55<01:20,  2.77s/it]"
          ]
        },
        {
          "output_type": "stream",
          "name": "stdout",
          "text": [
            "2022-04-28 08:38:22,686 loading file /root/.flair/models/sentiment-en-mix-distillbert_4.pt\n"
          ]
        },
        {
          "output_type": "stream",
          "name": "stderr",
          "text": [
            "\r 72%|███████▏  | 72/100 [03:58<01:17,  2.78s/it]"
          ]
        },
        {
          "output_type": "stream",
          "name": "stdout",
          "text": [
            "2022-04-28 08:38:25,501 loading file /root/.flair/models/sentiment-en-mix-distillbert_4.pt\n"
          ]
        },
        {
          "output_type": "stream",
          "name": "stderr",
          "text": [
            "\r 73%|███████▎  | 73/100 [04:01<01:15,  2.78s/it]"
          ]
        },
        {
          "output_type": "stream",
          "name": "stdout",
          "text": [
            "2022-04-28 08:38:28,272 loading file /root/.flair/models/sentiment-en-mix-distillbert_4.pt\n"
          ]
        },
        {
          "output_type": "stream",
          "name": "stderr",
          "text": [
            "\r 74%|███████▍  | 74/100 [04:04<01:12,  2.77s/it]"
          ]
        },
        {
          "output_type": "stream",
          "name": "stdout",
          "text": [
            "2022-04-28 08:38:31,034 loading file /root/.flair/models/sentiment-en-mix-distillbert_4.pt\n"
          ]
        },
        {
          "output_type": "stream",
          "name": "stderr",
          "text": [
            "\r 75%|███████▌  | 75/100 [04:06<01:09,  2.77s/it]"
          ]
        },
        {
          "output_type": "stream",
          "name": "stdout",
          "text": [
            "2022-04-28 08:38:33,782 loading file /root/.flair/models/sentiment-en-mix-distillbert_4.pt\n"
          ]
        },
        {
          "output_type": "stream",
          "name": "stderr",
          "text": [
            "\r 76%|███████▌  | 76/100 [04:09<01:06,  2.77s/it]"
          ]
        },
        {
          "output_type": "stream",
          "name": "stdout",
          "text": [
            "2022-04-28 08:38:36,550 loading file /root/.flair/models/sentiment-en-mix-distillbert_4.pt\n"
          ]
        },
        {
          "output_type": "stream",
          "name": "stderr",
          "text": [
            "\r 77%|███████▋  | 77/100 [04:12<01:03,  2.78s/it]"
          ]
        },
        {
          "output_type": "stream",
          "name": "stdout",
          "text": [
            "2022-04-28 08:38:39,360 loading file /root/.flair/models/sentiment-en-mix-distillbert_4.pt\n"
          ]
        },
        {
          "output_type": "stream",
          "name": "stderr",
          "text": [
            "\r 78%|███████▊  | 78/100 [04:15<01:00,  2.77s/it]"
          ]
        },
        {
          "output_type": "stream",
          "name": "stdout",
          "text": [
            "2022-04-28 08:38:42,115 loading file /root/.flair/models/sentiment-en-mix-distillbert_4.pt\n"
          ]
        },
        {
          "output_type": "stream",
          "name": "stderr",
          "text": [
            "\r 79%|███████▉  | 79/100 [04:17<00:58,  2.77s/it]"
          ]
        },
        {
          "output_type": "stream",
          "name": "stdout",
          "text": [
            "2022-04-28 08:38:44,882 loading file /root/.flair/models/sentiment-en-mix-distillbert_4.pt\n"
          ]
        },
        {
          "output_type": "stream",
          "name": "stderr",
          "text": [
            "\r 80%|████████  | 80/100 [04:20<00:55,  2.78s/it]"
          ]
        },
        {
          "output_type": "stream",
          "name": "stdout",
          "text": [
            "2022-04-28 08:38:47,669 loading file /root/.flair/models/sentiment-en-mix-distillbert_4.pt\n"
          ]
        },
        {
          "output_type": "stream",
          "name": "stderr",
          "text": [
            "\r 81%|████████  | 81/100 [04:23<00:52,  2.77s/it]"
          ]
        },
        {
          "output_type": "stream",
          "name": "stdout",
          "text": [
            "2022-04-28 08:38:50,429 loading file /root/.flair/models/sentiment-en-mix-distillbert_4.pt\n"
          ]
        },
        {
          "output_type": "stream",
          "name": "stderr",
          "text": [
            "\r 82%|████████▏ | 82/100 [04:26<00:49,  2.77s/it]"
          ]
        },
        {
          "output_type": "stream",
          "name": "stdout",
          "text": [
            "2022-04-28 08:38:53,193 loading file /root/.flair/models/sentiment-en-mix-distillbert_4.pt\n"
          ]
        },
        {
          "output_type": "stream",
          "name": "stderr",
          "text": [
            "\r 83%|████████▎ | 83/100 [04:29<00:47,  2.77s/it]"
          ]
        },
        {
          "output_type": "stream",
          "name": "stdout",
          "text": [
            "2022-04-28 08:38:55,976 loading file /root/.flair/models/sentiment-en-mix-distillbert_4.pt\n"
          ]
        },
        {
          "output_type": "stream",
          "name": "stderr",
          "text": [
            "\r 84%|████████▍ | 84/100 [04:31<00:44,  2.78s/it]"
          ]
        },
        {
          "output_type": "stream",
          "name": "stdout",
          "text": [
            "2022-04-28 08:38:58,780 loading file /root/.flair/models/sentiment-en-mix-distillbert_4.pt\n"
          ]
        },
        {
          "output_type": "stream",
          "name": "stderr",
          "text": [
            "\r 85%|████████▌ | 85/100 [04:34<00:41,  2.79s/it]"
          ]
        },
        {
          "output_type": "stream",
          "name": "stdout",
          "text": [
            "2022-04-28 08:39:01,590 loading file /root/.flair/models/sentiment-en-mix-distillbert_4.pt\n"
          ]
        },
        {
          "output_type": "stream",
          "name": "stderr",
          "text": [
            "\r 86%|████████▌ | 86/100 [04:37<00:38,  2.78s/it]"
          ]
        },
        {
          "output_type": "stream",
          "name": "stdout",
          "text": [
            "2022-04-28 08:39:04,352 loading file /root/.flair/models/sentiment-en-mix-distillbert_4.pt\n"
          ]
        },
        {
          "output_type": "stream",
          "name": "stderr",
          "text": [
            "\r 87%|████████▋ | 87/100 [04:40<00:36,  2.78s/it]"
          ]
        },
        {
          "output_type": "stream",
          "name": "stdout",
          "text": [
            "2022-04-28 08:39:07,111 loading file /root/.flair/models/sentiment-en-mix-distillbert_4.pt\n"
          ]
        },
        {
          "output_type": "stream",
          "name": "stderr",
          "text": [
            "\r 88%|████████▊ | 88/100 [04:42<00:33,  2.77s/it]"
          ]
        },
        {
          "output_type": "stream",
          "name": "stdout",
          "text": [
            "2022-04-28 08:39:09,866 loading file /root/.flair/models/sentiment-en-mix-distillbert_4.pt\n"
          ]
        },
        {
          "output_type": "stream",
          "name": "stderr",
          "text": [
            "\r 89%|████████▉ | 89/100 [04:45<00:30,  2.77s/it]"
          ]
        },
        {
          "output_type": "stream",
          "name": "stdout",
          "text": [
            "2022-04-28 08:39:12,646 loading file /root/.flair/models/sentiment-en-mix-distillbert_4.pt\n"
          ]
        },
        {
          "output_type": "stream",
          "name": "stderr",
          "text": [
            "\r 90%|█████████ | 90/100 [04:48<00:27,  2.77s/it]"
          ]
        },
        {
          "output_type": "stream",
          "name": "stdout",
          "text": [
            "2022-04-28 08:39:15,406 loading file /root/.flair/models/sentiment-en-mix-distillbert_4.pt\n"
          ]
        },
        {
          "output_type": "stream",
          "name": "stderr",
          "text": [
            "\r 91%|█████████ | 91/100 [04:51<00:24,  2.77s/it]"
          ]
        },
        {
          "output_type": "stream",
          "name": "stdout",
          "text": [
            "2022-04-28 08:39:18,162 loading file /root/.flair/models/sentiment-en-mix-distillbert_4.pt\n"
          ]
        },
        {
          "output_type": "stream",
          "name": "stderr",
          "text": [
            "\r 92%|█████████▏| 92/100 [04:54<00:22,  2.77s/it]"
          ]
        },
        {
          "output_type": "stream",
          "name": "stdout",
          "text": [
            "2022-04-28 08:39:20,933 loading file /root/.flair/models/sentiment-en-mix-distillbert_4.pt\n"
          ]
        },
        {
          "output_type": "stream",
          "name": "stderr",
          "text": [
            "\r 93%|█████████▎| 93/100 [04:56<00:19,  2.77s/it]"
          ]
        },
        {
          "output_type": "stream",
          "name": "stdout",
          "text": [
            "2022-04-28 08:39:23,705 loading file /root/.flair/models/sentiment-en-mix-distillbert_4.pt\n"
          ]
        },
        {
          "output_type": "stream",
          "name": "stderr",
          "text": [
            "\r 94%|█████████▍| 94/100 [04:59<00:16,  2.77s/it]"
          ]
        },
        {
          "output_type": "stream",
          "name": "stdout",
          "text": [
            "2022-04-28 08:39:26,473 loading file /root/.flair/models/sentiment-en-mix-distillbert_4.pt\n"
          ]
        },
        {
          "output_type": "stream",
          "name": "stderr",
          "text": [
            "\r 95%|█████████▌| 95/100 [05:02<00:13,  2.77s/it]"
          ]
        },
        {
          "output_type": "stream",
          "name": "stdout",
          "text": [
            "2022-04-28 08:39:29,237 loading file /root/.flair/models/sentiment-en-mix-distillbert_4.pt\n"
          ]
        },
        {
          "output_type": "stream",
          "name": "stderr",
          "text": [
            "\r 96%|█████████▌| 96/100 [05:05<00:11,  2.77s/it]"
          ]
        },
        {
          "output_type": "stream",
          "name": "stdout",
          "text": [
            "2022-04-28 08:39:32,028 loading file /root/.flair/models/sentiment-en-mix-distillbert_4.pt\n"
          ]
        },
        {
          "output_type": "stream",
          "name": "stderr",
          "text": [
            "\r 97%|█████████▋| 97/100 [05:07<00:08,  2.78s/it]"
          ]
        },
        {
          "output_type": "stream",
          "name": "stdout",
          "text": [
            "2022-04-28 08:39:34,807 loading file /root/.flair/models/sentiment-en-mix-distillbert_4.pt\n"
          ]
        },
        {
          "output_type": "stream",
          "name": "stderr",
          "text": [
            "\r 98%|█████████▊| 98/100 [05:10<00:05,  2.77s/it]"
          ]
        },
        {
          "output_type": "stream",
          "name": "stdout",
          "text": [
            "2022-04-28 08:39:37,563 loading file /root/.flair/models/sentiment-en-mix-distillbert_4.pt\n"
          ]
        },
        {
          "output_type": "stream",
          "name": "stderr",
          "text": [
            "\r 99%|█████████▉| 99/100 [05:13<00:02,  2.77s/it]"
          ]
        },
        {
          "output_type": "stream",
          "name": "stdout",
          "text": [
            "2022-04-28 08:39:40,319 loading file /root/.flair/models/sentiment-en-mix-distillbert_4.pt\n"
          ]
        },
        {
          "output_type": "stream",
          "name": "stderr",
          "text": [
            "100%|██████████| 100/100 [05:16<00:00,  3.16s/it]\n"
          ]
        },
        {
          "output_type": "execute_result",
          "data": {
            "text/plain": [
              "(57, 100)"
            ]
          },
          "metadata": {},
          "execution_count": 37
        }
      ],
      "source": [
        "flair_list = []\n",
        "for i in tqdm(range (0, len(reviews_list))):\n",
        "    flair_review = flair_sentiment(reviews_list[i])\n",
        "    flair_list.append(flair_review)\n",
        "    \n",
        "\n",
        "reviews_filtered = pd.concat(flair_list)\n",
        "len(reviews_filtered),len(flair_list)"
      ]
    },
    {
      "cell_type": "code",
      "execution_count": 17,
      "id": "67a86357",
      "metadata": {
        "id": "67a86357"
      },
      "outputs": [],
      "source": [
        "# reviews_filtered = pd.read_csv('reviews_filtered_100_100.csv')"
      ]
    },
    {
      "cell_type": "markdown",
      "id": "9bdf9002",
      "metadata": {
        "id": "9bdf9002"
      },
      "source": [
        "Since, the Flair sentiment is given as a probability, the variable should be transformed to be more linear. We do this with a quantile transformation."
      ]
    },
    {
      "cell_type": "code",
      "source": [
        "reviews_filtered.head()"
      ],
      "metadata": {
        "colab": {
          "base_uri": "https://localhost:8080/",
          "height": 206
        },
        "id": "yM_5VwtVL13D",
        "outputId": "baa604ef-6b54-41a2-9f2a-3810c3e087c5"
      },
      "id": "yM_5VwtVL13D",
      "execution_count": 24,
      "outputs": [
        {
          "output_type": "execute_result",
          "data": {
            "text/plain": [
              "          User-ID     Book-ID  \\\n",
              "0  A1TPW86OHXTXFC  B0001LO3FG   \n",
              "1  A1TPW86OHXTXFC  B0001LO3FG   \n",
              "2  A1TPW86OHXTXFC  B000F4DKAI   \n",
              "3  A1TPW86OHXTXFC  B000F4DKAI   \n",
              "4  A1TPW86OHXTXFC  B0014WYXYW   \n",
              "\n",
              "                                          reviewText  reviewLen  Rating  \\\n",
              "0  Long a era drinker. I drink coffee in the morn...      179.0   209.0   \n",
              "1  While in England, on my first trip, I enjoyed ...      164.0   209.0   \n",
              "2  Long a era drinker. I drink coffee in the morn...      179.0   209.0   \n",
              "3  While in England, on my first trip, I enjoyed ...      164.0   209.0   \n",
              "4  My granddaughter loves fizzy drinks as she cal...      120.0   106.0   \n",
              "\n",
              "   flair_sentiment  \n",
              "0           0.9998  \n",
              "1          15.0000  \n",
              "2           0.9998  \n",
              "3          15.0000  \n",
              "4           0.9996  "
            ],
            "text/html": [
              "\n",
              "  <div id=\"df-f8c30c04-19d7-42f0-bab3-79e0c21459e4\">\n",
              "    <div class=\"colab-df-container\">\n",
              "      <div>\n",
              "<style scoped>\n",
              "    .dataframe tbody tr th:only-of-type {\n",
              "        vertical-align: middle;\n",
              "    }\n",
              "\n",
              "    .dataframe tbody tr th {\n",
              "        vertical-align: top;\n",
              "    }\n",
              "\n",
              "    .dataframe thead th {\n",
              "        text-align: right;\n",
              "    }\n",
              "</style>\n",
              "<table border=\"1\" class=\"dataframe\">\n",
              "  <thead>\n",
              "    <tr style=\"text-align: right;\">\n",
              "      <th></th>\n",
              "      <th>User-ID</th>\n",
              "      <th>Book-ID</th>\n",
              "      <th>reviewText</th>\n",
              "      <th>reviewLen</th>\n",
              "      <th>Rating</th>\n",
              "      <th>flair_sentiment</th>\n",
              "    </tr>\n",
              "  </thead>\n",
              "  <tbody>\n",
              "    <tr>\n",
              "      <th>0</th>\n",
              "      <td>A1TPW86OHXTXFC</td>\n",
              "      <td>B0001LO3FG</td>\n",
              "      <td>Long a era drinker. I drink coffee in the morn...</td>\n",
              "      <td>179.0</td>\n",
              "      <td>209.0</td>\n",
              "      <td>0.9998</td>\n",
              "    </tr>\n",
              "    <tr>\n",
              "      <th>1</th>\n",
              "      <td>A1TPW86OHXTXFC</td>\n",
              "      <td>B0001LO3FG</td>\n",
              "      <td>While in England, on my first trip, I enjoyed ...</td>\n",
              "      <td>164.0</td>\n",
              "      <td>209.0</td>\n",
              "      <td>15.0000</td>\n",
              "    </tr>\n",
              "    <tr>\n",
              "      <th>2</th>\n",
              "      <td>A1TPW86OHXTXFC</td>\n",
              "      <td>B000F4DKAI</td>\n",
              "      <td>Long a era drinker. I drink coffee in the morn...</td>\n",
              "      <td>179.0</td>\n",
              "      <td>209.0</td>\n",
              "      <td>0.9998</td>\n",
              "    </tr>\n",
              "    <tr>\n",
              "      <th>3</th>\n",
              "      <td>A1TPW86OHXTXFC</td>\n",
              "      <td>B000F4DKAI</td>\n",
              "      <td>While in England, on my first trip, I enjoyed ...</td>\n",
              "      <td>164.0</td>\n",
              "      <td>209.0</td>\n",
              "      <td>15.0000</td>\n",
              "    </tr>\n",
              "    <tr>\n",
              "      <th>4</th>\n",
              "      <td>A1TPW86OHXTXFC</td>\n",
              "      <td>B0014WYXYW</td>\n",
              "      <td>My granddaughter loves fizzy drinks as she cal...</td>\n",
              "      <td>120.0</td>\n",
              "      <td>106.0</td>\n",
              "      <td>0.9996</td>\n",
              "    </tr>\n",
              "  </tbody>\n",
              "</table>\n",
              "</div>\n",
              "      <button class=\"colab-df-convert\" onclick=\"convertToInteractive('df-f8c30c04-19d7-42f0-bab3-79e0c21459e4')\"\n",
              "              title=\"Convert this dataframe to an interactive table.\"\n",
              "              style=\"display:none;\">\n",
              "        \n",
              "  <svg xmlns=\"http://www.w3.org/2000/svg\" height=\"24px\"viewBox=\"0 0 24 24\"\n",
              "       width=\"24px\">\n",
              "    <path d=\"M0 0h24v24H0V0z\" fill=\"none\"/>\n",
              "    <path d=\"M18.56 5.44l.94 2.06.94-2.06 2.06-.94-2.06-.94-.94-2.06-.94 2.06-2.06.94zm-11 1L8.5 8.5l.94-2.06 2.06-.94-2.06-.94L8.5 2.5l-.94 2.06-2.06.94zm10 10l.94 2.06.94-2.06 2.06-.94-2.06-.94-.94-2.06-.94 2.06-2.06.94z\"/><path d=\"M17.41 7.96l-1.37-1.37c-.4-.4-.92-.59-1.43-.59-.52 0-1.04.2-1.43.59L10.3 9.45l-7.72 7.72c-.78.78-.78 2.05 0 2.83L4 21.41c.39.39.9.59 1.41.59.51 0 1.02-.2 1.41-.59l7.78-7.78 2.81-2.81c.8-.78.8-2.07 0-2.86zM5.41 20L4 18.59l7.72-7.72 1.47 1.35L5.41 20z\"/>\n",
              "  </svg>\n",
              "      </button>\n",
              "      \n",
              "  <style>\n",
              "    .colab-df-container {\n",
              "      display:flex;\n",
              "      flex-wrap:wrap;\n",
              "      gap: 12px;\n",
              "    }\n",
              "\n",
              "    .colab-df-convert {\n",
              "      background-color: #E8F0FE;\n",
              "      border: none;\n",
              "      border-radius: 50%;\n",
              "      cursor: pointer;\n",
              "      display: none;\n",
              "      fill: #1967D2;\n",
              "      height: 32px;\n",
              "      padding: 0 0 0 0;\n",
              "      width: 32px;\n",
              "    }\n",
              "\n",
              "    .colab-df-convert:hover {\n",
              "      background-color: #E2EBFA;\n",
              "      box-shadow: 0px 1px 2px rgba(60, 64, 67, 0.3), 0px 1px 3px 1px rgba(60, 64, 67, 0.15);\n",
              "      fill: #174EA6;\n",
              "    }\n",
              "\n",
              "    [theme=dark] .colab-df-convert {\n",
              "      background-color: #3B4455;\n",
              "      fill: #D2E3FC;\n",
              "    }\n",
              "\n",
              "    [theme=dark] .colab-df-convert:hover {\n",
              "      background-color: #434B5C;\n",
              "      box-shadow: 0px 1px 3px 1px rgba(0, 0, 0, 0.15);\n",
              "      filter: drop-shadow(0px 1px 2px rgba(0, 0, 0, 0.3));\n",
              "      fill: #FFFFFF;\n",
              "    }\n",
              "  </style>\n",
              "\n",
              "      <script>\n",
              "        const buttonEl =\n",
              "          document.querySelector('#df-f8c30c04-19d7-42f0-bab3-79e0c21459e4 button.colab-df-convert');\n",
              "        buttonEl.style.display =\n",
              "          google.colab.kernel.accessAllowed ? 'block' : 'none';\n",
              "\n",
              "        async function convertToInteractive(key) {\n",
              "          const element = document.querySelector('#df-f8c30c04-19d7-42f0-bab3-79e0c21459e4');\n",
              "          const dataTable =\n",
              "            await google.colab.kernel.invokeFunction('convertToInteractive',\n",
              "                                                     [key], {});\n",
              "          if (!dataTable) return;\n",
              "\n",
              "          const docLinkHtml = 'Like what you see? Visit the ' +\n",
              "            '<a target=\"_blank\" href=https://colab.research.google.com/notebooks/data_table.ipynb>data table notebook</a>'\n",
              "            + ' to learn more about interactive tables.';\n",
              "          element.innerHTML = '';\n",
              "          dataTable['output_type'] = 'display_data';\n",
              "          await google.colab.output.renderOutput(dataTable, element);\n",
              "          const docLink = document.createElement('div');\n",
              "          docLink.innerHTML = docLinkHtml;\n",
              "          element.appendChild(docLink);\n",
              "        }\n",
              "      </script>\n",
              "    </div>\n",
              "  </div>\n",
              "  "
            ]
          },
          "metadata": {},
          "execution_count": 24
        }
      ]
    },
    {
      "cell_type": "code",
      "source": [
        "reviews_filtered.shape"
      ],
      "metadata": {
        "colab": {
          "base_uri": "https://localhost:8080/"
        },
        "id": "PwyJNhVVNbGH",
        "outputId": "e1f9a768-d497-44de-9483-326b0e89fc97"
      },
      "id": "PwyJNhVVNbGH",
      "execution_count": 33,
      "outputs": [
        {
          "output_type": "execute_result",
          "data": {
            "text/plain": [
              "(57, 8)"
            ]
          },
          "metadata": {},
          "execution_count": 33
        }
      ]
    },
    {
      "cell_type": "code",
      "execution_count": 25,
      "id": "73b5fbd1",
      "metadata": {
        "id": "73b5fbd1"
      },
      "outputs": [],
      "source": [
        "def quantile_transform(df):\n",
        "    \n",
        "    from sklearn.preprocessing import QuantileTransformer\n",
        "    reviews_y = df[['flair_sentiment']]\n",
        "    \n",
        "    qt = QuantileTransformer()\n",
        "    qt2 = QuantileTransformer()\n",
        "    X_1 = reviews_y.loc[reviews_y['flair_sentiment'] >= 0]\n",
        "    X_2 = reviews_y.loc[reviews_y['flair_sentiment'] < 0]\n",
        "    \n",
        "    X_1['flair_quantile_custom'] = qt.fit_transform(X_1[['flair_sentiment']])/2 + 0.5\n",
        "    X_2['flair_quantile_custom'] = qt2.fit_transform(X_2[['flair_sentiment']])/2\n",
        "    \n",
        "    X = X_1.append(X_2)\n",
        "    X.sort_index(inplace = True)\n",
        "    \n",
        "    return X['flair_quantile_custom']\n"
      ]
    },
    {
      "cell_type": "code",
      "execution_count": 39,
      "id": "684e2023",
      "metadata": {
        "colab": {
          "base_uri": "https://localhost:8080/",
          "height": 722
        },
        "id": "684e2023",
        "outputId": "190eadd4-4c77-49e3-b10f-c8e448fb7c17"
      },
      "outputs": [
        {
          "output_type": "stream",
          "name": "stderr",
          "text": [
            "/usr/local/lib/python3.7/dist-packages/sklearn/preprocessing/_data.py:2593: UserWarning: n_quantiles (1000) is greater than the total number of samples (47). n_quantiles is set to n_samples.\n",
            "  \"n_samples.\" % (self.n_quantiles, n_samples)\n",
            "/usr/local/lib/python3.7/dist-packages/ipykernel_launcher.py:11: SettingWithCopyWarning: \n",
            "A value is trying to be set on a copy of a slice from a DataFrame.\n",
            "Try using .loc[row_indexer,col_indexer] = value instead\n",
            "\n",
            "See the caveats in the documentation: https://pandas.pydata.org/pandas-docs/stable/user_guide/indexing.html#returning-a-view-versus-a-copy\n",
            "  # This is added back by InteractiveShellApp.init_path()\n",
            "/usr/local/lib/python3.7/dist-packages/sklearn/preprocessing/_data.py:2593: UserWarning: n_quantiles (1000) is greater than the total number of samples (10). n_quantiles is set to n_samples.\n",
            "  \"n_samples.\" % (self.n_quantiles, n_samples)\n",
            "/usr/local/lib/python3.7/dist-packages/ipykernel_launcher.py:12: SettingWithCopyWarning: \n",
            "A value is trying to be set on a copy of a slice from a DataFrame.\n",
            "Try using .loc[row_indexer,col_indexer] = value instead\n",
            "\n",
            "See the caveats in the documentation: https://pandas.pydata.org/pandas-docs/stable/user_guide/indexing.html#returning-a-view-versus-a-copy\n",
            "  if sys.path[0] == '':\n"
          ]
        },
        {
          "output_type": "execute_result",
          "data": {
            "text/plain": [
              "          User-ID     Book-ID  \\\n",
              "0  A1TPW86OHXTXFC  B0001LO3FG   \n",
              "1  A1TPW86OHXTXFC  B0001LO3FG   \n",
              "2  A1TPW86OHXTXFC  B000F4DKAI   \n",
              "3  A1TPW86OHXTXFC  B000F4DKAI   \n",
              "4  A1TPW86OHXTXFC  B0014WYXYW   \n",
              "\n",
              "                                          reviewText  reviewLen  Rating  \\\n",
              "0  Long a era drinker. I drink coffee in the morn...      179.0   209.0   \n",
              "1  While in England, on my first trip, I enjoyed ...      164.0   209.0   \n",
              "2  Long a era drinker. I drink coffee in the morn...      179.0   209.0   \n",
              "3  While in England, on my first trip, I enjoyed ...      164.0   209.0   \n",
              "4  My granddaughter loves fizzy drinks as she cal...      120.0   106.0   \n",
              "\n",
              "   flair_sentiment  ReviewRating  ReviewRating  ReviewRating  ReviewRating  \n",
              "0           0.9998      0.597826      0.597826      0.597826      0.597826  \n",
              "1          15.0000      0.934783      0.934783      0.934783      0.934783  \n",
              "2           0.9998      0.597826      0.597826      0.597826      0.597826  \n",
              "3          15.0000      0.934783      0.934783      0.934783      0.934783  \n",
              "4           0.9996      0.548913      0.548913      0.548913      0.548913  "
            ],
            "text/html": [
              "\n",
              "  <div id=\"df-4ad25392-6d2e-437a-be0d-182df21f4942\">\n",
              "    <div class=\"colab-df-container\">\n",
              "      <div>\n",
              "<style scoped>\n",
              "    .dataframe tbody tr th:only-of-type {\n",
              "        vertical-align: middle;\n",
              "    }\n",
              "\n",
              "    .dataframe tbody tr th {\n",
              "        vertical-align: top;\n",
              "    }\n",
              "\n",
              "    .dataframe thead th {\n",
              "        text-align: right;\n",
              "    }\n",
              "</style>\n",
              "<table border=\"1\" class=\"dataframe\">\n",
              "  <thead>\n",
              "    <tr style=\"text-align: right;\">\n",
              "      <th></th>\n",
              "      <th>User-ID</th>\n",
              "      <th>Book-ID</th>\n",
              "      <th>reviewText</th>\n",
              "      <th>reviewLen</th>\n",
              "      <th>Rating</th>\n",
              "      <th>flair_sentiment</th>\n",
              "      <th>ReviewRating</th>\n",
              "      <th>ReviewRating</th>\n",
              "      <th>ReviewRating</th>\n",
              "      <th>ReviewRating</th>\n",
              "    </tr>\n",
              "  </thead>\n",
              "  <tbody>\n",
              "    <tr>\n",
              "      <th>0</th>\n",
              "      <td>A1TPW86OHXTXFC</td>\n",
              "      <td>B0001LO3FG</td>\n",
              "      <td>Long a era drinker. I drink coffee in the morn...</td>\n",
              "      <td>179.0</td>\n",
              "      <td>209.0</td>\n",
              "      <td>0.9998</td>\n",
              "      <td>0.597826</td>\n",
              "      <td>0.597826</td>\n",
              "      <td>0.597826</td>\n",
              "      <td>0.597826</td>\n",
              "    </tr>\n",
              "    <tr>\n",
              "      <th>1</th>\n",
              "      <td>A1TPW86OHXTXFC</td>\n",
              "      <td>B0001LO3FG</td>\n",
              "      <td>While in England, on my first trip, I enjoyed ...</td>\n",
              "      <td>164.0</td>\n",
              "      <td>209.0</td>\n",
              "      <td>15.0000</td>\n",
              "      <td>0.934783</td>\n",
              "      <td>0.934783</td>\n",
              "      <td>0.934783</td>\n",
              "      <td>0.934783</td>\n",
              "    </tr>\n",
              "    <tr>\n",
              "      <th>2</th>\n",
              "      <td>A1TPW86OHXTXFC</td>\n",
              "      <td>B000F4DKAI</td>\n",
              "      <td>Long a era drinker. I drink coffee in the morn...</td>\n",
              "      <td>179.0</td>\n",
              "      <td>209.0</td>\n",
              "      <td>0.9998</td>\n",
              "      <td>0.597826</td>\n",
              "      <td>0.597826</td>\n",
              "      <td>0.597826</td>\n",
              "      <td>0.597826</td>\n",
              "    </tr>\n",
              "    <tr>\n",
              "      <th>3</th>\n",
              "      <td>A1TPW86OHXTXFC</td>\n",
              "      <td>B000F4DKAI</td>\n",
              "      <td>While in England, on my first trip, I enjoyed ...</td>\n",
              "      <td>164.0</td>\n",
              "      <td>209.0</td>\n",
              "      <td>15.0000</td>\n",
              "      <td>0.934783</td>\n",
              "      <td>0.934783</td>\n",
              "      <td>0.934783</td>\n",
              "      <td>0.934783</td>\n",
              "    </tr>\n",
              "    <tr>\n",
              "      <th>4</th>\n",
              "      <td>A1TPW86OHXTXFC</td>\n",
              "      <td>B0014WYXYW</td>\n",
              "      <td>My granddaughter loves fizzy drinks as she cal...</td>\n",
              "      <td>120.0</td>\n",
              "      <td>106.0</td>\n",
              "      <td>0.9996</td>\n",
              "      <td>0.548913</td>\n",
              "      <td>0.548913</td>\n",
              "      <td>0.548913</td>\n",
              "      <td>0.548913</td>\n",
              "    </tr>\n",
              "  </tbody>\n",
              "</table>\n",
              "</div>\n",
              "      <button class=\"colab-df-convert\" onclick=\"convertToInteractive('df-4ad25392-6d2e-437a-be0d-182df21f4942')\"\n",
              "              title=\"Convert this dataframe to an interactive table.\"\n",
              "              style=\"display:none;\">\n",
              "        \n",
              "  <svg xmlns=\"http://www.w3.org/2000/svg\" height=\"24px\"viewBox=\"0 0 24 24\"\n",
              "       width=\"24px\">\n",
              "    <path d=\"M0 0h24v24H0V0z\" fill=\"none\"/>\n",
              "    <path d=\"M18.56 5.44l.94 2.06.94-2.06 2.06-.94-2.06-.94-.94-2.06-.94 2.06-2.06.94zm-11 1L8.5 8.5l.94-2.06 2.06-.94-2.06-.94L8.5 2.5l-.94 2.06-2.06.94zm10 10l.94 2.06.94-2.06 2.06-.94-2.06-.94-.94-2.06-.94 2.06-2.06.94z\"/><path d=\"M17.41 7.96l-1.37-1.37c-.4-.4-.92-.59-1.43-.59-.52 0-1.04.2-1.43.59L10.3 9.45l-7.72 7.72c-.78.78-.78 2.05 0 2.83L4 21.41c.39.39.9.59 1.41.59.51 0 1.02-.2 1.41-.59l7.78-7.78 2.81-2.81c.8-.78.8-2.07 0-2.86zM5.41 20L4 18.59l7.72-7.72 1.47 1.35L5.41 20z\"/>\n",
              "  </svg>\n",
              "      </button>\n",
              "      \n",
              "  <style>\n",
              "    .colab-df-container {\n",
              "      display:flex;\n",
              "      flex-wrap:wrap;\n",
              "      gap: 12px;\n",
              "    }\n",
              "\n",
              "    .colab-df-convert {\n",
              "      background-color: #E8F0FE;\n",
              "      border: none;\n",
              "      border-radius: 50%;\n",
              "      cursor: pointer;\n",
              "      display: none;\n",
              "      fill: #1967D2;\n",
              "      height: 32px;\n",
              "      padding: 0 0 0 0;\n",
              "      width: 32px;\n",
              "    }\n",
              "\n",
              "    .colab-df-convert:hover {\n",
              "      background-color: #E2EBFA;\n",
              "      box-shadow: 0px 1px 2px rgba(60, 64, 67, 0.3), 0px 1px 3px 1px rgba(60, 64, 67, 0.15);\n",
              "      fill: #174EA6;\n",
              "    }\n",
              "\n",
              "    [theme=dark] .colab-df-convert {\n",
              "      background-color: #3B4455;\n",
              "      fill: #D2E3FC;\n",
              "    }\n",
              "\n",
              "    [theme=dark] .colab-df-convert:hover {\n",
              "      background-color: #434B5C;\n",
              "      box-shadow: 0px 1px 3px 1px rgba(0, 0, 0, 0.15);\n",
              "      filter: drop-shadow(0px 1px 2px rgba(0, 0, 0, 0.3));\n",
              "      fill: #FFFFFF;\n",
              "    }\n",
              "  </style>\n",
              "\n",
              "      <script>\n",
              "        const buttonEl =\n",
              "          document.querySelector('#df-4ad25392-6d2e-437a-be0d-182df21f4942 button.colab-df-convert');\n",
              "        buttonEl.style.display =\n",
              "          google.colab.kernel.accessAllowed ? 'block' : 'none';\n",
              "\n",
              "        async function convertToInteractive(key) {\n",
              "          const element = document.querySelector('#df-4ad25392-6d2e-437a-be0d-182df21f4942');\n",
              "          const dataTable =\n",
              "            await google.colab.kernel.invokeFunction('convertToInteractive',\n",
              "                                                     [key], {});\n",
              "          if (!dataTable) return;\n",
              "\n",
              "          const docLinkHtml = 'Like what you see? Visit the ' +\n",
              "            '<a target=\"_blank\" href=https://colab.research.google.com/notebooks/data_table.ipynb>data table notebook</a>'\n",
              "            + ' to learn more about interactive tables.';\n",
              "          element.innerHTML = '';\n",
              "          dataTable['output_type'] = 'display_data';\n",
              "          await google.colab.output.renderOutput(dataTable, element);\n",
              "          const docLink = document.createElement('div');\n",
              "          docLink.innerHTML = docLinkHtml;\n",
              "          element.appendChild(docLink);\n",
              "        }\n",
              "      </script>\n",
              "    </div>\n",
              "  </div>\n",
              "  "
            ]
          },
          "metadata": {},
          "execution_count": 39
        }
      ],
      "source": [
        "reviews_filtered['flair_quantile_fixed'] = quantile_transform(reviews_filtered)\n",
        "reviews_filtered = reviews_filtered.rename(columns = {'flair_quantile_fixed' : 'ReviewRating'})\n",
        "reviews_filtered.head()"
      ]
    },
    {
      "cell_type": "code",
      "source": [
        "reviews_filtered.shape"
      ],
      "metadata": {
        "colab": {
          "base_uri": "https://localhost:8080/"
        },
        "id": "g9jkDnDLWH6P",
        "outputId": "ad7b7019-bd7c-455c-d94a-b8198b9f5838"
      },
      "id": "g9jkDnDLWH6P",
      "execution_count": 40,
      "outputs": [
        {
          "output_type": "execute_result",
          "data": {
            "text/plain": [
              "(57, 10)"
            ]
          },
          "metadata": {},
          "execution_count": 40
        }
      ]
    },
    {
      "cell_type": "markdown",
      "id": "0e993531",
      "metadata": {
        "id": "0e993531"
      },
      "source": [
        "### Modeling\n",
        "\n",
        "Once the . In this part, I will train "
      ]
    },
    {
      "cell_type": "markdown",
      "id": "19c10519",
      "metadata": {
        "id": "19c10519"
      },
      "source": [
        "The first step is to create a pivot table with users and books. The NaN values are filled with 0s."
      ]
    },
    {
      "cell_type": "code",
      "execution_count": 101,
      "id": "8b82917c",
      "metadata": {
        "colab": {
          "base_uri": "https://localhost:8080/",
          "height": 424
        },
        "id": "8b82917c",
        "outputId": "41e43417-a88e-42dd-871c-3e4f86b7b69f"
      },
      "outputs": [
        {
          "output_type": "execute_result",
          "data": {
            "text/plain": [
              "          User-ID     Book-ID  \\\n",
              "0  A1TPW86OHXTXFC  B0001LO3FG   \n",
              "2  A1TPW86OHXTXFC  B000F4DKAI   \n",
              "4  A1TPW86OHXTXFC  B0014WYXYW   \n",
              "5  A1TPW86OHXTXFC  B008QMX2SG   \n",
              "7  A1TPW86OHXTXFC  B00BUKL666   \n",
              "\n",
              "                                          reviewText  reviewLen  Rating  \\\n",
              "0  Long a era drinker. I drink coffee in the morn...      179.0   209.0   \n",
              "2  Long a era drinker. I drink coffee in the morn...      179.0   209.0   \n",
              "4  My granddaughter loves fizzy drinks as she cal...      120.0   106.0   \n",
              "5  Carrots, celery etc get to be very tiresome fo...      176.0   165.0   \n",
              "7  Carrots, celery etc get to be very tiresome fo...      176.0   197.0   \n",
              "\n",
              "   flair_sentiment  ReviewRating  ReviewRating  ReviewRating  ReviewRating  \n",
              "0           0.9998      0.597826      0.597826      0.597826      0.597826  \n",
              "2           0.9998      0.597826      0.597826      0.597826      0.597826  \n",
              "4           0.9996      0.548913      0.548913      0.548913      0.548913  \n",
              "5           4.0000      0.820652      0.820652      0.820652      0.820652  \n",
              "7           4.0000      0.820652      0.820652      0.820652      0.820652  "
            ],
            "text/html": [
              "\n",
              "  <div id=\"df-9c4a9a8a-5ff6-49cd-ae21-149ed842b7f2\">\n",
              "    <div class=\"colab-df-container\">\n",
              "      <div>\n",
              "<style scoped>\n",
              "    .dataframe tbody tr th:only-of-type {\n",
              "        vertical-align: middle;\n",
              "    }\n",
              "\n",
              "    .dataframe tbody tr th {\n",
              "        vertical-align: top;\n",
              "    }\n",
              "\n",
              "    .dataframe thead th {\n",
              "        text-align: right;\n",
              "    }\n",
              "</style>\n",
              "<table border=\"1\" class=\"dataframe\">\n",
              "  <thead>\n",
              "    <tr style=\"text-align: right;\">\n",
              "      <th></th>\n",
              "      <th>User-ID</th>\n",
              "      <th>Book-ID</th>\n",
              "      <th>reviewText</th>\n",
              "      <th>reviewLen</th>\n",
              "      <th>Rating</th>\n",
              "      <th>flair_sentiment</th>\n",
              "      <th>ReviewRating</th>\n",
              "      <th>ReviewRating</th>\n",
              "      <th>ReviewRating</th>\n",
              "      <th>ReviewRating</th>\n",
              "    </tr>\n",
              "  </thead>\n",
              "  <tbody>\n",
              "    <tr>\n",
              "      <th>0</th>\n",
              "      <td>A1TPW86OHXTXFC</td>\n",
              "      <td>B0001LO3FG</td>\n",
              "      <td>Long a era drinker. I drink coffee in the morn...</td>\n",
              "      <td>179.0</td>\n",
              "      <td>209.0</td>\n",
              "      <td>0.9998</td>\n",
              "      <td>0.597826</td>\n",
              "      <td>0.597826</td>\n",
              "      <td>0.597826</td>\n",
              "      <td>0.597826</td>\n",
              "    </tr>\n",
              "    <tr>\n",
              "      <th>2</th>\n",
              "      <td>A1TPW86OHXTXFC</td>\n",
              "      <td>B000F4DKAI</td>\n",
              "      <td>Long a era drinker. I drink coffee in the morn...</td>\n",
              "      <td>179.0</td>\n",
              "      <td>209.0</td>\n",
              "      <td>0.9998</td>\n",
              "      <td>0.597826</td>\n",
              "      <td>0.597826</td>\n",
              "      <td>0.597826</td>\n",
              "      <td>0.597826</td>\n",
              "    </tr>\n",
              "    <tr>\n",
              "      <th>4</th>\n",
              "      <td>A1TPW86OHXTXFC</td>\n",
              "      <td>B0014WYXYW</td>\n",
              "      <td>My granddaughter loves fizzy drinks as she cal...</td>\n",
              "      <td>120.0</td>\n",
              "      <td>106.0</td>\n",
              "      <td>0.9996</td>\n",
              "      <td>0.548913</td>\n",
              "      <td>0.548913</td>\n",
              "      <td>0.548913</td>\n",
              "      <td>0.548913</td>\n",
              "    </tr>\n",
              "    <tr>\n",
              "      <th>5</th>\n",
              "      <td>A1TPW86OHXTXFC</td>\n",
              "      <td>B008QMX2SG</td>\n",
              "      <td>Carrots, celery etc get to be very tiresome fo...</td>\n",
              "      <td>176.0</td>\n",
              "      <td>165.0</td>\n",
              "      <td>4.0000</td>\n",
              "      <td>0.820652</td>\n",
              "      <td>0.820652</td>\n",
              "      <td>0.820652</td>\n",
              "      <td>0.820652</td>\n",
              "    </tr>\n",
              "    <tr>\n",
              "      <th>7</th>\n",
              "      <td>A1TPW86OHXTXFC</td>\n",
              "      <td>B00BUKL666</td>\n",
              "      <td>Carrots, celery etc get to be very tiresome fo...</td>\n",
              "      <td>176.0</td>\n",
              "      <td>197.0</td>\n",
              "      <td>4.0000</td>\n",
              "      <td>0.820652</td>\n",
              "      <td>0.820652</td>\n",
              "      <td>0.820652</td>\n",
              "      <td>0.820652</td>\n",
              "    </tr>\n",
              "  </tbody>\n",
              "</table>\n",
              "</div>\n",
              "      <button class=\"colab-df-convert\" onclick=\"convertToInteractive('df-9c4a9a8a-5ff6-49cd-ae21-149ed842b7f2')\"\n",
              "              title=\"Convert this dataframe to an interactive table.\"\n",
              "              style=\"display:none;\">\n",
              "        \n",
              "  <svg xmlns=\"http://www.w3.org/2000/svg\" height=\"24px\"viewBox=\"0 0 24 24\"\n",
              "       width=\"24px\">\n",
              "    <path d=\"M0 0h24v24H0V0z\" fill=\"none\"/>\n",
              "    <path d=\"M18.56 5.44l.94 2.06.94-2.06 2.06-.94-2.06-.94-.94-2.06-.94 2.06-2.06.94zm-11 1L8.5 8.5l.94-2.06 2.06-.94-2.06-.94L8.5 2.5l-.94 2.06-2.06.94zm10 10l.94 2.06.94-2.06 2.06-.94-2.06-.94-.94-2.06-.94 2.06-2.06.94z\"/><path d=\"M17.41 7.96l-1.37-1.37c-.4-.4-.92-.59-1.43-.59-.52 0-1.04.2-1.43.59L10.3 9.45l-7.72 7.72c-.78.78-.78 2.05 0 2.83L4 21.41c.39.39.9.59 1.41.59.51 0 1.02-.2 1.41-.59l7.78-7.78 2.81-2.81c.8-.78.8-2.07 0-2.86zM5.41 20L4 18.59l7.72-7.72 1.47 1.35L5.41 20z\"/>\n",
              "  </svg>\n",
              "      </button>\n",
              "      \n",
              "  <style>\n",
              "    .colab-df-container {\n",
              "      display:flex;\n",
              "      flex-wrap:wrap;\n",
              "      gap: 12px;\n",
              "    }\n",
              "\n",
              "    .colab-df-convert {\n",
              "      background-color: #E8F0FE;\n",
              "      border: none;\n",
              "      border-radius: 50%;\n",
              "      cursor: pointer;\n",
              "      display: none;\n",
              "      fill: #1967D2;\n",
              "      height: 32px;\n",
              "      padding: 0 0 0 0;\n",
              "      width: 32px;\n",
              "    }\n",
              "\n",
              "    .colab-df-convert:hover {\n",
              "      background-color: #E2EBFA;\n",
              "      box-shadow: 0px 1px 2px rgba(60, 64, 67, 0.3), 0px 1px 3px 1px rgba(60, 64, 67, 0.15);\n",
              "      fill: #174EA6;\n",
              "    }\n",
              "\n",
              "    [theme=dark] .colab-df-convert {\n",
              "      background-color: #3B4455;\n",
              "      fill: #D2E3FC;\n",
              "    }\n",
              "\n",
              "    [theme=dark] .colab-df-convert:hover {\n",
              "      background-color: #434B5C;\n",
              "      box-shadow: 0px 1px 3px 1px rgba(0, 0, 0, 0.15);\n",
              "      filter: drop-shadow(0px 1px 2px rgba(0, 0, 0, 0.3));\n",
              "      fill: #FFFFFF;\n",
              "    }\n",
              "  </style>\n",
              "\n",
              "      <script>\n",
              "        const buttonEl =\n",
              "          document.querySelector('#df-9c4a9a8a-5ff6-49cd-ae21-149ed842b7f2 button.colab-df-convert');\n",
              "        buttonEl.style.display =\n",
              "          google.colab.kernel.accessAllowed ? 'block' : 'none';\n",
              "\n",
              "        async function convertToInteractive(key) {\n",
              "          const element = document.querySelector('#df-9c4a9a8a-5ff6-49cd-ae21-149ed842b7f2');\n",
              "          const dataTable =\n",
              "            await google.colab.kernel.invokeFunction('convertToInteractive',\n",
              "                                                     [key], {});\n",
              "          if (!dataTable) return;\n",
              "\n",
              "          const docLinkHtml = 'Like what you see? Visit the ' +\n",
              "            '<a target=\"_blank\" href=https://colab.research.google.com/notebooks/data_table.ipynb>data table notebook</a>'\n",
              "            + ' to learn more about interactive tables.';\n",
              "          element.innerHTML = '';\n",
              "          dataTable['output_type'] = 'display_data';\n",
              "          await google.colab.output.renderOutput(dataTable, element);\n",
              "          const docLink = document.createElement('div');\n",
              "          docLink.innerHTML = docLinkHtml;\n",
              "          element.appendChild(docLink);\n",
              "        }\n",
              "      </script>\n",
              "    </div>\n",
              "  </div>\n",
              "  "
            ]
          },
          "metadata": {},
          "execution_count": 101
        }
      ],
      "source": [
        "combined = reviews_filtered.drop_duplicates(['User-ID', 'Book-ID'])\n",
        "combined.head()"
      ]
    },
    {
      "cell_type": "code",
      "source": [
        "combined.shape"
      ],
      "metadata": {
        "colab": {
          "base_uri": "https://localhost:8080/"
        },
        "id": "QONwFe5mNOTa",
        "outputId": "e89dfb77-0d94-4926-ee5d-75e30af35c64"
      },
      "id": "QONwFe5mNOTa",
      "execution_count": 96,
      "outputs": [
        {
          "output_type": "execute_result",
          "data": {
            "text/plain": [
              "(37, 10)"
            ]
          },
          "metadata": {},
          "execution_count": 96
        }
      ]
    },
    {
      "cell_type": "code",
      "source": [
        "# user_book_matrix = combined.pivot(index='User-ID', columns='Book-ID')#['ReviewRating']]\n",
        "\n",
        "# combined.set_index(['User-ID','Book-ID'],inplace=True)"
      ],
      "metadata": {
        "id": "zcAKhrqHZMbQ"
      },
      "id": "zcAKhrqHZMbQ",
      "execution_count": 54,
      "outputs": []
    },
    {
      "cell_type": "code",
      "source": [
        "combined = combined.T.drop_duplicates().T\n",
        "combined"
      ],
      "metadata": {
        "colab": {
          "base_uri": "https://localhost:8080/",
          "height": 1000
        },
        "id": "Ov6bIs9qbhJI",
        "outputId": "44e5ddea-0596-4a44-b4a5-05ebd66ef317"
      },
      "id": "Ov6bIs9qbhJI",
      "execution_count": 102,
      "outputs": [
        {
          "output_type": "execute_result",
          "data": {
            "text/plain": [
              "           User-ID     Book-ID  \\\n",
              "0   A1TPW86OHXTXFC  B0001LO3FG   \n",
              "2   A1TPW86OHXTXFC  B000F4DKAI   \n",
              "4   A1TPW86OHXTXFC  B0014WYXYW   \n",
              "5   A1TPW86OHXTXFC  B008QMX2SG   \n",
              "7   A1TPW86OHXTXFC  B00BUKL666   \n",
              "10  A1TPW86OHXTXFC  B00D3M2QP4   \n",
              "12  A1TPW86OHXTXFC  B00WFDMRDI   \n",
              "13  A1TPW86OHXTXFC  B00XA8XWGS   \n",
              "14  A1UQBFCERIP7VJ  B00WFDMRDI   \n",
              "15  A1WX42M589VAMQ  B000168QTU   \n",
              "16  A1WX42M589VAMQ  B0001LO3FG   \n",
              "17  A1WX42M589VAMQ  B000F4DKAI   \n",
              "18  A1WX42M589VAMQ  B000H2XXRS   \n",
              "19  A1WX42M589VAMQ  B0014WYXYW   \n",
              "20  A1X1CEGHTHMBL1  B000168QTU   \n",
              "24  A1X1CEGHTHMBL1  B001D0KG1Y   \n",
              "25  A1ZPY91VE3IDN1  B000HDK0DC   \n",
              "27  A1ZPY91VE3IDN1  B000X3TPHS   \n",
              "29  A281NPSIMI1C2R  B000168QTU   \n",
              "30  A281NPSIMI1C2R  B0001LO3FG   \n",
              "31  A281NPSIMI1C2R  B000F4DKAI   \n",
              "32  A281NPSIMI1C2R  B000H2XXRS   \n",
              "33  A281NPSIMI1C2R  B00117YT4Y   \n",
              "34  A281NPSIMI1C2R  B00BUKL666   \n",
              "36  A281NPSIMI1C2R  B00XA8XWGS   \n",
              "37  A2GJX2KCUSR0EI  B000168QTU   \n",
              "39  A2GJX2KCUSR0EI  B00542YXFW   \n",
              "40  A2GJX2KCUSR0EI  B008QMX2SG   \n",
              "43  A2GJX2KCUSR0EI  B00BUKL666   \n",
              "46  A2GJX2KCUSR0EI  B00D3M2QP4   \n",
              "49  A2MNB77YGJ3CN0  B000V1AWBK   \n",
              "51  A3OXHLG6DIBRW8  B001D0KG1Y   \n",
              "52   AG8K92N37MT27  B0001LO3FG   \n",
              "53   AG8K92N37MT27  B000F4DKAI   \n",
              "54   AG8K92N37MT27  B000YN2GVY   \n",
              "55   AG8K92N37MT27  B00XA8XWGS   \n",
              "56   AY12DBB0U420B  B00BUKL666   \n",
              "\n",
              "                                           reviewText reviewLen Rating  \\\n",
              "0   Long a era drinker. I drink coffee in the morn...     179.0  209.0   \n",
              "2   Long a era drinker. I drink coffee in the morn...     179.0  209.0   \n",
              "4   My granddaughter loves fizzy drinks as she cal...     120.0  106.0   \n",
              "5   Carrots, celery etc get to be very tiresome fo...     176.0  165.0   \n",
              "7   Carrots, celery etc get to be very tiresome fo...     176.0  197.0   \n",
              "10  Carrots, celery etc get to be very tiresome fo...     176.0  165.0   \n",
              "12  Chocolate covered blueberries sounded like a d...     142.0  102.0   \n",
              "13  While in England, on my first trip, I enjoyed ...     164.0  146.0   \n",
              "14  This trail mix contains a very nice selection ...     107.0  102.0   \n",
              "15  I have been so hooked on my Rishi and Twinings...     237.0  149.0   \n",
              "16  Twinings Orange Pekoe has for years and years ...     212.0  209.0   \n",
              "17  Twinings Orange Pekoe has for years and years ...     212.0  209.0   \n",
              "18  This is a marvelous product with some interest...     170.0  150.0   \n",
              "19  You'd get a much better product just squeezing...     106.0  106.0   \n",
              "20  During the day my wife and I like to drink a c...     114.0  149.0   \n",
              "24  We got a new Keurig for Christmas and we are t...     104.0  102.0   \n",
              "25  The YummyEarth Organic Lollipops have exceeded...     271.0  119.0   \n",
              "27  The YummyEarth Organic Lollipops have exceeded...     271.0  236.0   \n",
              "29  \"It may drive your cat crazy. But if you use i...     196.0  149.0   \n",
              "30  This is a lovely green tea that is not bitter ...     119.0  209.0   \n",
              "31  This is a lovely green tea that is not bitter ...     119.0  209.0   \n",
              "32  If you have discovered the benefits of organic...     273.0  150.0   \n",
              "33  Designer Whey is my current favorite protein p...     132.0  102.0   \n",
              "34  I've tried other KIND bars that have chocolate...     125.0  197.0   \n",
              "36  This is a lovely green tea that is not bitter ...     119.0  146.0   \n",
              "37  I first encountered this as an iced tea at my ...     167.0  149.0   \n",
              "39  I bought this for making iced tea.  I've tried...     200.0  256.0   \n",
              "40  First off, wanted to list the ingredients beca...     208.0  165.0   \n",
              "43  First off, wanted to list the ingredients beca...     208.0  197.0   \n",
              "46  First off, wanted to list the ingredients beca...     208.0  165.0   \n",
              "49  I LOVE Indian food, and I've struggled to re-c...     252.0  104.0   \n",
              "51  Timothy's \"German Chocolate Cake\" K-Cups are g...     135.0  102.0   \n",
              "52  A nice smooth tea that has a hint to it of the...     119.0  209.0   \n",
              "53  A nice smooth tea that has a hint to it of the...     119.0  209.0   \n",
              "54  For those of us who enjoy vinegary things, thi...     236.0  126.0   \n",
              "55  A nice smooth tea that has a hint to it of the...     119.0  146.0   \n",
              "56  Well, what can I say? I try to avoid candy and...     148.0  197.0   \n",
              "\n",
              "   flair_sentiment ReviewRating  \n",
              "0           0.9998     0.597826  \n",
              "2           0.9998     0.597826  \n",
              "4           0.9996     0.548913  \n",
              "5              4.0     0.820652  \n",
              "7              4.0     0.820652  \n",
              "10             4.0     0.820652  \n",
              "12             8.0     0.913043  \n",
              "13            15.0     0.934783  \n",
              "14             1.0     0.728261  \n",
              "15          0.9999     0.652174  \n",
              "16            -6.0     0.222222  \n",
              "17            -6.0     0.222222  \n",
              "18          0.9999     0.652174  \n",
              "19            -1.0          0.5  \n",
              "20          0.9992     0.532609  \n",
              "24            -4.0     0.277778  \n",
              "25             5.0        0.875  \n",
              "27             5.0        0.875  \n",
              "29            36.0     0.967391  \n",
              "30             1.0     0.728261  \n",
              "31             1.0     0.728261  \n",
              "32          0.9999     0.652174  \n",
              "33             1.0     0.728261  \n",
              "34             5.0        0.875  \n",
              "36             1.0     0.728261  \n",
              "37             1.0     0.728261  \n",
              "39             1.0     0.728261  \n",
              "40          -125.0          0.0  \n",
              "43          -125.0          0.0  \n",
              "46          -125.0          0.0  \n",
              "49            20.0     0.956522  \n",
              "51             2.0     0.782609  \n",
              "52          0.9752          0.5  \n",
              "53          0.9752          0.5  \n",
              "54             2.0     0.782609  \n",
              "55          0.9752          0.5  \n",
              "56          0.9999     0.652174  "
            ],
            "text/html": [
              "\n",
              "  <div id=\"df-ef440128-69c7-416e-9e27-eb0a08b8bb64\">\n",
              "    <div class=\"colab-df-container\">\n",
              "      <div>\n",
              "<style scoped>\n",
              "    .dataframe tbody tr th:only-of-type {\n",
              "        vertical-align: middle;\n",
              "    }\n",
              "\n",
              "    .dataframe tbody tr th {\n",
              "        vertical-align: top;\n",
              "    }\n",
              "\n",
              "    .dataframe thead th {\n",
              "        text-align: right;\n",
              "    }\n",
              "</style>\n",
              "<table border=\"1\" class=\"dataframe\">\n",
              "  <thead>\n",
              "    <tr style=\"text-align: right;\">\n",
              "      <th></th>\n",
              "      <th>User-ID</th>\n",
              "      <th>Book-ID</th>\n",
              "      <th>reviewText</th>\n",
              "      <th>reviewLen</th>\n",
              "      <th>Rating</th>\n",
              "      <th>flair_sentiment</th>\n",
              "      <th>ReviewRating</th>\n",
              "    </tr>\n",
              "  </thead>\n",
              "  <tbody>\n",
              "    <tr>\n",
              "      <th>0</th>\n",
              "      <td>A1TPW86OHXTXFC</td>\n",
              "      <td>B0001LO3FG</td>\n",
              "      <td>Long a era drinker. I drink coffee in the morn...</td>\n",
              "      <td>179.0</td>\n",
              "      <td>209.0</td>\n",
              "      <td>0.9998</td>\n",
              "      <td>0.597826</td>\n",
              "    </tr>\n",
              "    <tr>\n",
              "      <th>2</th>\n",
              "      <td>A1TPW86OHXTXFC</td>\n",
              "      <td>B000F4DKAI</td>\n",
              "      <td>Long a era drinker. I drink coffee in the morn...</td>\n",
              "      <td>179.0</td>\n",
              "      <td>209.0</td>\n",
              "      <td>0.9998</td>\n",
              "      <td>0.597826</td>\n",
              "    </tr>\n",
              "    <tr>\n",
              "      <th>4</th>\n",
              "      <td>A1TPW86OHXTXFC</td>\n",
              "      <td>B0014WYXYW</td>\n",
              "      <td>My granddaughter loves fizzy drinks as she cal...</td>\n",
              "      <td>120.0</td>\n",
              "      <td>106.0</td>\n",
              "      <td>0.9996</td>\n",
              "      <td>0.548913</td>\n",
              "    </tr>\n",
              "    <tr>\n",
              "      <th>5</th>\n",
              "      <td>A1TPW86OHXTXFC</td>\n",
              "      <td>B008QMX2SG</td>\n",
              "      <td>Carrots, celery etc get to be very tiresome fo...</td>\n",
              "      <td>176.0</td>\n",
              "      <td>165.0</td>\n",
              "      <td>4.0</td>\n",
              "      <td>0.820652</td>\n",
              "    </tr>\n",
              "    <tr>\n",
              "      <th>7</th>\n",
              "      <td>A1TPW86OHXTXFC</td>\n",
              "      <td>B00BUKL666</td>\n",
              "      <td>Carrots, celery etc get to be very tiresome fo...</td>\n",
              "      <td>176.0</td>\n",
              "      <td>197.0</td>\n",
              "      <td>4.0</td>\n",
              "      <td>0.820652</td>\n",
              "    </tr>\n",
              "    <tr>\n",
              "      <th>10</th>\n",
              "      <td>A1TPW86OHXTXFC</td>\n",
              "      <td>B00D3M2QP4</td>\n",
              "      <td>Carrots, celery etc get to be very tiresome fo...</td>\n",
              "      <td>176.0</td>\n",
              "      <td>165.0</td>\n",
              "      <td>4.0</td>\n",
              "      <td>0.820652</td>\n",
              "    </tr>\n",
              "    <tr>\n",
              "      <th>12</th>\n",
              "      <td>A1TPW86OHXTXFC</td>\n",
              "      <td>B00WFDMRDI</td>\n",
              "      <td>Chocolate covered blueberries sounded like a d...</td>\n",
              "      <td>142.0</td>\n",
              "      <td>102.0</td>\n",
              "      <td>8.0</td>\n",
              "      <td>0.913043</td>\n",
              "    </tr>\n",
              "    <tr>\n",
              "      <th>13</th>\n",
              "      <td>A1TPW86OHXTXFC</td>\n",
              "      <td>B00XA8XWGS</td>\n",
              "      <td>While in England, on my first trip, I enjoyed ...</td>\n",
              "      <td>164.0</td>\n",
              "      <td>146.0</td>\n",
              "      <td>15.0</td>\n",
              "      <td>0.934783</td>\n",
              "    </tr>\n",
              "    <tr>\n",
              "      <th>14</th>\n",
              "      <td>A1UQBFCERIP7VJ</td>\n",
              "      <td>B00WFDMRDI</td>\n",
              "      <td>This trail mix contains a very nice selection ...</td>\n",
              "      <td>107.0</td>\n",
              "      <td>102.0</td>\n",
              "      <td>1.0</td>\n",
              "      <td>0.728261</td>\n",
              "    </tr>\n",
              "    <tr>\n",
              "      <th>15</th>\n",
              "      <td>A1WX42M589VAMQ</td>\n",
              "      <td>B000168QTU</td>\n",
              "      <td>I have been so hooked on my Rishi and Twinings...</td>\n",
              "      <td>237.0</td>\n",
              "      <td>149.0</td>\n",
              "      <td>0.9999</td>\n",
              "      <td>0.652174</td>\n",
              "    </tr>\n",
              "    <tr>\n",
              "      <th>16</th>\n",
              "      <td>A1WX42M589VAMQ</td>\n",
              "      <td>B0001LO3FG</td>\n",
              "      <td>Twinings Orange Pekoe has for years and years ...</td>\n",
              "      <td>212.0</td>\n",
              "      <td>209.0</td>\n",
              "      <td>-6.0</td>\n",
              "      <td>0.222222</td>\n",
              "    </tr>\n",
              "    <tr>\n",
              "      <th>17</th>\n",
              "      <td>A1WX42M589VAMQ</td>\n",
              "      <td>B000F4DKAI</td>\n",
              "      <td>Twinings Orange Pekoe has for years and years ...</td>\n",
              "      <td>212.0</td>\n",
              "      <td>209.0</td>\n",
              "      <td>-6.0</td>\n",
              "      <td>0.222222</td>\n",
              "    </tr>\n",
              "    <tr>\n",
              "      <th>18</th>\n",
              "      <td>A1WX42M589VAMQ</td>\n",
              "      <td>B000H2XXRS</td>\n",
              "      <td>This is a marvelous product with some interest...</td>\n",
              "      <td>170.0</td>\n",
              "      <td>150.0</td>\n",
              "      <td>0.9999</td>\n",
              "      <td>0.652174</td>\n",
              "    </tr>\n",
              "    <tr>\n",
              "      <th>19</th>\n",
              "      <td>A1WX42M589VAMQ</td>\n",
              "      <td>B0014WYXYW</td>\n",
              "      <td>You'd get a much better product just squeezing...</td>\n",
              "      <td>106.0</td>\n",
              "      <td>106.0</td>\n",
              "      <td>-1.0</td>\n",
              "      <td>0.5</td>\n",
              "    </tr>\n",
              "    <tr>\n",
              "      <th>20</th>\n",
              "      <td>A1X1CEGHTHMBL1</td>\n",
              "      <td>B000168QTU</td>\n",
              "      <td>During the day my wife and I like to drink a c...</td>\n",
              "      <td>114.0</td>\n",
              "      <td>149.0</td>\n",
              "      <td>0.9992</td>\n",
              "      <td>0.532609</td>\n",
              "    </tr>\n",
              "    <tr>\n",
              "      <th>24</th>\n",
              "      <td>A1X1CEGHTHMBL1</td>\n",
              "      <td>B001D0KG1Y</td>\n",
              "      <td>We got a new Keurig for Christmas and we are t...</td>\n",
              "      <td>104.0</td>\n",
              "      <td>102.0</td>\n",
              "      <td>-4.0</td>\n",
              "      <td>0.277778</td>\n",
              "    </tr>\n",
              "    <tr>\n",
              "      <th>25</th>\n",
              "      <td>A1ZPY91VE3IDN1</td>\n",
              "      <td>B000HDK0DC</td>\n",
              "      <td>The YummyEarth Organic Lollipops have exceeded...</td>\n",
              "      <td>271.0</td>\n",
              "      <td>119.0</td>\n",
              "      <td>5.0</td>\n",
              "      <td>0.875</td>\n",
              "    </tr>\n",
              "    <tr>\n",
              "      <th>27</th>\n",
              "      <td>A1ZPY91VE3IDN1</td>\n",
              "      <td>B000X3TPHS</td>\n",
              "      <td>The YummyEarth Organic Lollipops have exceeded...</td>\n",
              "      <td>271.0</td>\n",
              "      <td>236.0</td>\n",
              "      <td>5.0</td>\n",
              "      <td>0.875</td>\n",
              "    </tr>\n",
              "    <tr>\n",
              "      <th>29</th>\n",
              "      <td>A281NPSIMI1C2R</td>\n",
              "      <td>B000168QTU</td>\n",
              "      <td>\"It may drive your cat crazy. But if you use i...</td>\n",
              "      <td>196.0</td>\n",
              "      <td>149.0</td>\n",
              "      <td>36.0</td>\n",
              "      <td>0.967391</td>\n",
              "    </tr>\n",
              "    <tr>\n",
              "      <th>30</th>\n",
              "      <td>A281NPSIMI1C2R</td>\n",
              "      <td>B0001LO3FG</td>\n",
              "      <td>This is a lovely green tea that is not bitter ...</td>\n",
              "      <td>119.0</td>\n",
              "      <td>209.0</td>\n",
              "      <td>1.0</td>\n",
              "      <td>0.728261</td>\n",
              "    </tr>\n",
              "    <tr>\n",
              "      <th>31</th>\n",
              "      <td>A281NPSIMI1C2R</td>\n",
              "      <td>B000F4DKAI</td>\n",
              "      <td>This is a lovely green tea that is not bitter ...</td>\n",
              "      <td>119.0</td>\n",
              "      <td>209.0</td>\n",
              "      <td>1.0</td>\n",
              "      <td>0.728261</td>\n",
              "    </tr>\n",
              "    <tr>\n",
              "      <th>32</th>\n",
              "      <td>A281NPSIMI1C2R</td>\n",
              "      <td>B000H2XXRS</td>\n",
              "      <td>If you have discovered the benefits of organic...</td>\n",
              "      <td>273.0</td>\n",
              "      <td>150.0</td>\n",
              "      <td>0.9999</td>\n",
              "      <td>0.652174</td>\n",
              "    </tr>\n",
              "    <tr>\n",
              "      <th>33</th>\n",
              "      <td>A281NPSIMI1C2R</td>\n",
              "      <td>B00117YT4Y</td>\n",
              "      <td>Designer Whey is my current favorite protein p...</td>\n",
              "      <td>132.0</td>\n",
              "      <td>102.0</td>\n",
              "      <td>1.0</td>\n",
              "      <td>0.728261</td>\n",
              "    </tr>\n",
              "    <tr>\n",
              "      <th>34</th>\n",
              "      <td>A281NPSIMI1C2R</td>\n",
              "      <td>B00BUKL666</td>\n",
              "      <td>I've tried other KIND bars that have chocolate...</td>\n",
              "      <td>125.0</td>\n",
              "      <td>197.0</td>\n",
              "      <td>5.0</td>\n",
              "      <td>0.875</td>\n",
              "    </tr>\n",
              "    <tr>\n",
              "      <th>36</th>\n",
              "      <td>A281NPSIMI1C2R</td>\n",
              "      <td>B00XA8XWGS</td>\n",
              "      <td>This is a lovely green tea that is not bitter ...</td>\n",
              "      <td>119.0</td>\n",
              "      <td>146.0</td>\n",
              "      <td>1.0</td>\n",
              "      <td>0.728261</td>\n",
              "    </tr>\n",
              "    <tr>\n",
              "      <th>37</th>\n",
              "      <td>A2GJX2KCUSR0EI</td>\n",
              "      <td>B000168QTU</td>\n",
              "      <td>I first encountered this as an iced tea at my ...</td>\n",
              "      <td>167.0</td>\n",
              "      <td>149.0</td>\n",
              "      <td>1.0</td>\n",
              "      <td>0.728261</td>\n",
              "    </tr>\n",
              "    <tr>\n",
              "      <th>39</th>\n",
              "      <td>A2GJX2KCUSR0EI</td>\n",
              "      <td>B00542YXFW</td>\n",
              "      <td>I bought this for making iced tea.  I've tried...</td>\n",
              "      <td>200.0</td>\n",
              "      <td>256.0</td>\n",
              "      <td>1.0</td>\n",
              "      <td>0.728261</td>\n",
              "    </tr>\n",
              "    <tr>\n",
              "      <th>40</th>\n",
              "      <td>A2GJX2KCUSR0EI</td>\n",
              "      <td>B008QMX2SG</td>\n",
              "      <td>First off, wanted to list the ingredients beca...</td>\n",
              "      <td>208.0</td>\n",
              "      <td>165.0</td>\n",
              "      <td>-125.0</td>\n",
              "      <td>0.0</td>\n",
              "    </tr>\n",
              "    <tr>\n",
              "      <th>43</th>\n",
              "      <td>A2GJX2KCUSR0EI</td>\n",
              "      <td>B00BUKL666</td>\n",
              "      <td>First off, wanted to list the ingredients beca...</td>\n",
              "      <td>208.0</td>\n",
              "      <td>197.0</td>\n",
              "      <td>-125.0</td>\n",
              "      <td>0.0</td>\n",
              "    </tr>\n",
              "    <tr>\n",
              "      <th>46</th>\n",
              "      <td>A2GJX2KCUSR0EI</td>\n",
              "      <td>B00D3M2QP4</td>\n",
              "      <td>First off, wanted to list the ingredients beca...</td>\n",
              "      <td>208.0</td>\n",
              "      <td>165.0</td>\n",
              "      <td>-125.0</td>\n",
              "      <td>0.0</td>\n",
              "    </tr>\n",
              "    <tr>\n",
              "      <th>49</th>\n",
              "      <td>A2MNB77YGJ3CN0</td>\n",
              "      <td>B000V1AWBK</td>\n",
              "      <td>I LOVE Indian food, and I've struggled to re-c...</td>\n",
              "      <td>252.0</td>\n",
              "      <td>104.0</td>\n",
              "      <td>20.0</td>\n",
              "      <td>0.956522</td>\n",
              "    </tr>\n",
              "    <tr>\n",
              "      <th>51</th>\n",
              "      <td>A3OXHLG6DIBRW8</td>\n",
              "      <td>B001D0KG1Y</td>\n",
              "      <td>Timothy's \"German Chocolate Cake\" K-Cups are g...</td>\n",
              "      <td>135.0</td>\n",
              "      <td>102.0</td>\n",
              "      <td>2.0</td>\n",
              "      <td>0.782609</td>\n",
              "    </tr>\n",
              "    <tr>\n",
              "      <th>52</th>\n",
              "      <td>AG8K92N37MT27</td>\n",
              "      <td>B0001LO3FG</td>\n",
              "      <td>A nice smooth tea that has a hint to it of the...</td>\n",
              "      <td>119.0</td>\n",
              "      <td>209.0</td>\n",
              "      <td>0.9752</td>\n",
              "      <td>0.5</td>\n",
              "    </tr>\n",
              "    <tr>\n",
              "      <th>53</th>\n",
              "      <td>AG8K92N37MT27</td>\n",
              "      <td>B000F4DKAI</td>\n",
              "      <td>A nice smooth tea that has a hint to it of the...</td>\n",
              "      <td>119.0</td>\n",
              "      <td>209.0</td>\n",
              "      <td>0.9752</td>\n",
              "      <td>0.5</td>\n",
              "    </tr>\n",
              "    <tr>\n",
              "      <th>54</th>\n",
              "      <td>AG8K92N37MT27</td>\n",
              "      <td>B000YN2GVY</td>\n",
              "      <td>For those of us who enjoy vinegary things, thi...</td>\n",
              "      <td>236.0</td>\n",
              "      <td>126.0</td>\n",
              "      <td>2.0</td>\n",
              "      <td>0.782609</td>\n",
              "    </tr>\n",
              "    <tr>\n",
              "      <th>55</th>\n",
              "      <td>AG8K92N37MT27</td>\n",
              "      <td>B00XA8XWGS</td>\n",
              "      <td>A nice smooth tea that has a hint to it of the...</td>\n",
              "      <td>119.0</td>\n",
              "      <td>146.0</td>\n",
              "      <td>0.9752</td>\n",
              "      <td>0.5</td>\n",
              "    </tr>\n",
              "    <tr>\n",
              "      <th>56</th>\n",
              "      <td>AY12DBB0U420B</td>\n",
              "      <td>B00BUKL666</td>\n",
              "      <td>Well, what can I say? I try to avoid candy and...</td>\n",
              "      <td>148.0</td>\n",
              "      <td>197.0</td>\n",
              "      <td>0.9999</td>\n",
              "      <td>0.652174</td>\n",
              "    </tr>\n",
              "  </tbody>\n",
              "</table>\n",
              "</div>\n",
              "      <button class=\"colab-df-convert\" onclick=\"convertToInteractive('df-ef440128-69c7-416e-9e27-eb0a08b8bb64')\"\n",
              "              title=\"Convert this dataframe to an interactive table.\"\n",
              "              style=\"display:none;\">\n",
              "        \n",
              "  <svg xmlns=\"http://www.w3.org/2000/svg\" height=\"24px\"viewBox=\"0 0 24 24\"\n",
              "       width=\"24px\">\n",
              "    <path d=\"M0 0h24v24H0V0z\" fill=\"none\"/>\n",
              "    <path d=\"M18.56 5.44l.94 2.06.94-2.06 2.06-.94-2.06-.94-.94-2.06-.94 2.06-2.06.94zm-11 1L8.5 8.5l.94-2.06 2.06-.94-2.06-.94L8.5 2.5l-.94 2.06-2.06.94zm10 10l.94 2.06.94-2.06 2.06-.94-2.06-.94-.94-2.06-.94 2.06-2.06.94z\"/><path d=\"M17.41 7.96l-1.37-1.37c-.4-.4-.92-.59-1.43-.59-.52 0-1.04.2-1.43.59L10.3 9.45l-7.72 7.72c-.78.78-.78 2.05 0 2.83L4 21.41c.39.39.9.59 1.41.59.51 0 1.02-.2 1.41-.59l7.78-7.78 2.81-2.81c.8-.78.8-2.07 0-2.86zM5.41 20L4 18.59l7.72-7.72 1.47 1.35L5.41 20z\"/>\n",
              "  </svg>\n",
              "      </button>\n",
              "      \n",
              "  <style>\n",
              "    .colab-df-container {\n",
              "      display:flex;\n",
              "      flex-wrap:wrap;\n",
              "      gap: 12px;\n",
              "    }\n",
              "\n",
              "    .colab-df-convert {\n",
              "      background-color: #E8F0FE;\n",
              "      border: none;\n",
              "      border-radius: 50%;\n",
              "      cursor: pointer;\n",
              "      display: none;\n",
              "      fill: #1967D2;\n",
              "      height: 32px;\n",
              "      padding: 0 0 0 0;\n",
              "      width: 32px;\n",
              "    }\n",
              "\n",
              "    .colab-df-convert:hover {\n",
              "      background-color: #E2EBFA;\n",
              "      box-shadow: 0px 1px 2px rgba(60, 64, 67, 0.3), 0px 1px 3px 1px rgba(60, 64, 67, 0.15);\n",
              "      fill: #174EA6;\n",
              "    }\n",
              "\n",
              "    [theme=dark] .colab-df-convert {\n",
              "      background-color: #3B4455;\n",
              "      fill: #D2E3FC;\n",
              "    }\n",
              "\n",
              "    [theme=dark] .colab-df-convert:hover {\n",
              "      background-color: #434B5C;\n",
              "      box-shadow: 0px 1px 3px 1px rgba(0, 0, 0, 0.15);\n",
              "      filter: drop-shadow(0px 1px 2px rgba(0, 0, 0, 0.3));\n",
              "      fill: #FFFFFF;\n",
              "    }\n",
              "  </style>\n",
              "\n",
              "      <script>\n",
              "        const buttonEl =\n",
              "          document.querySelector('#df-ef440128-69c7-416e-9e27-eb0a08b8bb64 button.colab-df-convert');\n",
              "        buttonEl.style.display =\n",
              "          google.colab.kernel.accessAllowed ? 'block' : 'none';\n",
              "\n",
              "        async function convertToInteractive(key) {\n",
              "          const element = document.querySelector('#df-ef440128-69c7-416e-9e27-eb0a08b8bb64');\n",
              "          const dataTable =\n",
              "            await google.colab.kernel.invokeFunction('convertToInteractive',\n",
              "                                                     [key], {});\n",
              "          if (!dataTable) return;\n",
              "\n",
              "          const docLinkHtml = 'Like what you see? Visit the ' +\n",
              "            '<a target=\"_blank\" href=https://colab.research.google.com/notebooks/data_table.ipynb>data table notebook</a>'\n",
              "            + ' to learn more about interactive tables.';\n",
              "          element.innerHTML = '';\n",
              "          dataTable['output_type'] = 'display_data';\n",
              "          await google.colab.output.renderOutput(dataTable, element);\n",
              "          const docLink = document.createElement('div');\n",
              "          docLink.innerHTML = docLinkHtml;\n",
              "          element.appendChild(docLink);\n",
              "        }\n",
              "      </script>\n",
              "    </div>\n",
              "  </div>\n",
              "  "
            ]
          },
          "metadata": {},
          "execution_count": 102
        }
      ]
    },
    {
      "cell_type": "code",
      "source": [
        "user_book_matrix = combined.pivot(index='User-ID', columns='Book-ID', values='ReviewRating')"
      ],
      "metadata": {
        "id": "cQyG-hJWf1O5"
      },
      "id": "cQyG-hJWf1O5",
      "execution_count": 103,
      "outputs": []
    },
    {
      "cell_type": "code",
      "source": [
        "# user_book_matrix = combined.pivot(index='User-ID', columns='Book-ID', values='ReviewRating')\n",
        "user_book_matrix.fillna(0, inplace=True)\n",
        "user_book_matrix.head(10)"
      ],
      "metadata": {
        "colab": {
          "base_uri": "https://localhost:8080/",
          "height": 458
        },
        "id": "Ha5gQeabMmGF",
        "outputId": "f3e17c42-4617-47fc-a588-1ed6bcb20740"
      },
      "id": "Ha5gQeabMmGF",
      "execution_count": 104,
      "outputs": [
        {
          "output_type": "execute_result",
          "data": {
            "text/plain": [
              "Book-ID         B000168QTU  B0001LO3FG  B000F4DKAI  B000H2XXRS  B000HDK0DC  \\\n",
              "User-ID                                                                      \n",
              "A1TPW86OHXTXFC    0.000000    0.597826    0.597826    0.000000       0.000   \n",
              "A1UQBFCERIP7VJ    0.000000    0.000000    0.000000    0.000000       0.000   \n",
              "A1WX42M589VAMQ    0.652174    0.222222    0.222222    0.652174       0.000   \n",
              "A1X1CEGHTHMBL1    0.532609    0.000000    0.000000    0.000000       0.000   \n",
              "A1ZPY91VE3IDN1    0.000000    0.000000    0.000000    0.000000       0.875   \n",
              "A281NPSIMI1C2R    0.967391    0.728261    0.728261    0.652174       0.000   \n",
              "A2GJX2KCUSR0EI    0.728261    0.000000    0.000000    0.000000       0.000   \n",
              "A2MNB77YGJ3CN0    0.000000    0.000000    0.000000    0.000000       0.000   \n",
              "A3OXHLG6DIBRW8    0.000000    0.000000    0.000000    0.000000       0.000   \n",
              "AG8K92N37MT27     0.000000    0.500000    0.500000    0.000000       0.000   \n",
              "\n",
              "Book-ID         B000V1AWBK  B000X3TPHS  B000YN2GVY  B00117YT4Y  B0014WYXYW  \\\n",
              "User-ID                                                                      \n",
              "A1TPW86OHXTXFC    0.000000       0.000    0.000000    0.000000    0.548913   \n",
              "A1UQBFCERIP7VJ    0.000000       0.000    0.000000    0.000000    0.000000   \n",
              "A1WX42M589VAMQ    0.000000       0.000    0.000000    0.000000    0.500000   \n",
              "A1X1CEGHTHMBL1    0.000000       0.000    0.000000    0.000000    0.000000   \n",
              "A1ZPY91VE3IDN1    0.000000       0.875    0.000000    0.000000    0.000000   \n",
              "A281NPSIMI1C2R    0.000000       0.000    0.000000    0.728261    0.000000   \n",
              "A2GJX2KCUSR0EI    0.000000       0.000    0.000000    0.000000    0.000000   \n",
              "A2MNB77YGJ3CN0    0.956522       0.000    0.000000    0.000000    0.000000   \n",
              "A3OXHLG6DIBRW8    0.000000       0.000    0.000000    0.000000    0.000000   \n",
              "AG8K92N37MT27     0.000000       0.000    0.782609    0.000000    0.000000   \n",
              "\n",
              "Book-ID         B001D0KG1Y  B00542YXFW  B008QMX2SG  B00BUKL666  B00D3M2QP4  \\\n",
              "User-ID                                                                      \n",
              "A1TPW86OHXTXFC    0.000000    0.000000    0.820652    0.820652    0.820652   \n",
              "A1UQBFCERIP7VJ    0.000000    0.000000    0.000000    0.000000    0.000000   \n",
              "A1WX42M589VAMQ    0.000000    0.000000    0.000000    0.000000    0.000000   \n",
              "A1X1CEGHTHMBL1    0.277778    0.000000    0.000000    0.000000    0.000000   \n",
              "A1ZPY91VE3IDN1    0.000000    0.000000    0.000000    0.000000    0.000000   \n",
              "A281NPSIMI1C2R    0.000000    0.000000    0.000000    0.875000    0.000000   \n",
              "A2GJX2KCUSR0EI    0.000000    0.728261    0.000000    0.000000    0.000000   \n",
              "A2MNB77YGJ3CN0    0.000000    0.000000    0.000000    0.000000    0.000000   \n",
              "A3OXHLG6DIBRW8    0.782609    0.000000    0.000000    0.000000    0.000000   \n",
              "AG8K92N37MT27     0.000000    0.000000    0.000000    0.000000    0.000000   \n",
              "\n",
              "Book-ID         B00WFDMRDI  B00XA8XWGS  \n",
              "User-ID                                 \n",
              "A1TPW86OHXTXFC    0.913043    0.934783  \n",
              "A1UQBFCERIP7VJ    0.728261    0.000000  \n",
              "A1WX42M589VAMQ    0.000000    0.000000  \n",
              "A1X1CEGHTHMBL1    0.000000    0.000000  \n",
              "A1ZPY91VE3IDN1    0.000000    0.000000  \n",
              "A281NPSIMI1C2R    0.000000    0.728261  \n",
              "A2GJX2KCUSR0EI    0.000000    0.000000  \n",
              "A2MNB77YGJ3CN0    0.000000    0.000000  \n",
              "A3OXHLG6DIBRW8    0.000000    0.000000  \n",
              "AG8K92N37MT27     0.000000    0.500000  "
            ],
            "text/html": [
              "\n",
              "  <div id=\"df-b21fa665-c838-4c49-9606-1fada01c5290\">\n",
              "    <div class=\"colab-df-container\">\n",
              "      <div>\n",
              "<style scoped>\n",
              "    .dataframe tbody tr th:only-of-type {\n",
              "        vertical-align: middle;\n",
              "    }\n",
              "\n",
              "    .dataframe tbody tr th {\n",
              "        vertical-align: top;\n",
              "    }\n",
              "\n",
              "    .dataframe thead th {\n",
              "        text-align: right;\n",
              "    }\n",
              "</style>\n",
              "<table border=\"1\" class=\"dataframe\">\n",
              "  <thead>\n",
              "    <tr style=\"text-align: right;\">\n",
              "      <th>Book-ID</th>\n",
              "      <th>B000168QTU</th>\n",
              "      <th>B0001LO3FG</th>\n",
              "      <th>B000F4DKAI</th>\n",
              "      <th>B000H2XXRS</th>\n",
              "      <th>B000HDK0DC</th>\n",
              "      <th>B000V1AWBK</th>\n",
              "      <th>B000X3TPHS</th>\n",
              "      <th>B000YN2GVY</th>\n",
              "      <th>B00117YT4Y</th>\n",
              "      <th>B0014WYXYW</th>\n",
              "      <th>B001D0KG1Y</th>\n",
              "      <th>B00542YXFW</th>\n",
              "      <th>B008QMX2SG</th>\n",
              "      <th>B00BUKL666</th>\n",
              "      <th>B00D3M2QP4</th>\n",
              "      <th>B00WFDMRDI</th>\n",
              "      <th>B00XA8XWGS</th>\n",
              "    </tr>\n",
              "    <tr>\n",
              "      <th>User-ID</th>\n",
              "      <th></th>\n",
              "      <th></th>\n",
              "      <th></th>\n",
              "      <th></th>\n",
              "      <th></th>\n",
              "      <th></th>\n",
              "      <th></th>\n",
              "      <th></th>\n",
              "      <th></th>\n",
              "      <th></th>\n",
              "      <th></th>\n",
              "      <th></th>\n",
              "      <th></th>\n",
              "      <th></th>\n",
              "      <th></th>\n",
              "      <th></th>\n",
              "      <th></th>\n",
              "    </tr>\n",
              "  </thead>\n",
              "  <tbody>\n",
              "    <tr>\n",
              "      <th>A1TPW86OHXTXFC</th>\n",
              "      <td>0.000000</td>\n",
              "      <td>0.597826</td>\n",
              "      <td>0.597826</td>\n",
              "      <td>0.000000</td>\n",
              "      <td>0.000</td>\n",
              "      <td>0.000000</td>\n",
              "      <td>0.000</td>\n",
              "      <td>0.000000</td>\n",
              "      <td>0.000000</td>\n",
              "      <td>0.548913</td>\n",
              "      <td>0.000000</td>\n",
              "      <td>0.000000</td>\n",
              "      <td>0.820652</td>\n",
              "      <td>0.820652</td>\n",
              "      <td>0.820652</td>\n",
              "      <td>0.913043</td>\n",
              "      <td>0.934783</td>\n",
              "    </tr>\n",
              "    <tr>\n",
              "      <th>A1UQBFCERIP7VJ</th>\n",
              "      <td>0.000000</td>\n",
              "      <td>0.000000</td>\n",
              "      <td>0.000000</td>\n",
              "      <td>0.000000</td>\n",
              "      <td>0.000</td>\n",
              "      <td>0.000000</td>\n",
              "      <td>0.000</td>\n",
              "      <td>0.000000</td>\n",
              "      <td>0.000000</td>\n",
              "      <td>0.000000</td>\n",
              "      <td>0.000000</td>\n",
              "      <td>0.000000</td>\n",
              "      <td>0.000000</td>\n",
              "      <td>0.000000</td>\n",
              "      <td>0.000000</td>\n",
              "      <td>0.728261</td>\n",
              "      <td>0.000000</td>\n",
              "    </tr>\n",
              "    <tr>\n",
              "      <th>A1WX42M589VAMQ</th>\n",
              "      <td>0.652174</td>\n",
              "      <td>0.222222</td>\n",
              "      <td>0.222222</td>\n",
              "      <td>0.652174</td>\n",
              "      <td>0.000</td>\n",
              "      <td>0.000000</td>\n",
              "      <td>0.000</td>\n",
              "      <td>0.000000</td>\n",
              "      <td>0.000000</td>\n",
              "      <td>0.500000</td>\n",
              "      <td>0.000000</td>\n",
              "      <td>0.000000</td>\n",
              "      <td>0.000000</td>\n",
              "      <td>0.000000</td>\n",
              "      <td>0.000000</td>\n",
              "      <td>0.000000</td>\n",
              "      <td>0.000000</td>\n",
              "    </tr>\n",
              "    <tr>\n",
              "      <th>A1X1CEGHTHMBL1</th>\n",
              "      <td>0.532609</td>\n",
              "      <td>0.000000</td>\n",
              "      <td>0.000000</td>\n",
              "      <td>0.000000</td>\n",
              "      <td>0.000</td>\n",
              "      <td>0.000000</td>\n",
              "      <td>0.000</td>\n",
              "      <td>0.000000</td>\n",
              "      <td>0.000000</td>\n",
              "      <td>0.000000</td>\n",
              "      <td>0.277778</td>\n",
              "      <td>0.000000</td>\n",
              "      <td>0.000000</td>\n",
              "      <td>0.000000</td>\n",
              "      <td>0.000000</td>\n",
              "      <td>0.000000</td>\n",
              "      <td>0.000000</td>\n",
              "    </tr>\n",
              "    <tr>\n",
              "      <th>A1ZPY91VE3IDN1</th>\n",
              "      <td>0.000000</td>\n",
              "      <td>0.000000</td>\n",
              "      <td>0.000000</td>\n",
              "      <td>0.000000</td>\n",
              "      <td>0.875</td>\n",
              "      <td>0.000000</td>\n",
              "      <td>0.875</td>\n",
              "      <td>0.000000</td>\n",
              "      <td>0.000000</td>\n",
              "      <td>0.000000</td>\n",
              "      <td>0.000000</td>\n",
              "      <td>0.000000</td>\n",
              "      <td>0.000000</td>\n",
              "      <td>0.000000</td>\n",
              "      <td>0.000000</td>\n",
              "      <td>0.000000</td>\n",
              "      <td>0.000000</td>\n",
              "    </tr>\n",
              "    <tr>\n",
              "      <th>A281NPSIMI1C2R</th>\n",
              "      <td>0.967391</td>\n",
              "      <td>0.728261</td>\n",
              "      <td>0.728261</td>\n",
              "      <td>0.652174</td>\n",
              "      <td>0.000</td>\n",
              "      <td>0.000000</td>\n",
              "      <td>0.000</td>\n",
              "      <td>0.000000</td>\n",
              "      <td>0.728261</td>\n",
              "      <td>0.000000</td>\n",
              "      <td>0.000000</td>\n",
              "      <td>0.000000</td>\n",
              "      <td>0.000000</td>\n",
              "      <td>0.875000</td>\n",
              "      <td>0.000000</td>\n",
              "      <td>0.000000</td>\n",
              "      <td>0.728261</td>\n",
              "    </tr>\n",
              "    <tr>\n",
              "      <th>A2GJX2KCUSR0EI</th>\n",
              "      <td>0.728261</td>\n",
              "      <td>0.000000</td>\n",
              "      <td>0.000000</td>\n",
              "      <td>0.000000</td>\n",
              "      <td>0.000</td>\n",
              "      <td>0.000000</td>\n",
              "      <td>0.000</td>\n",
              "      <td>0.000000</td>\n",
              "      <td>0.000000</td>\n",
              "      <td>0.000000</td>\n",
              "      <td>0.000000</td>\n",
              "      <td>0.728261</td>\n",
              "      <td>0.000000</td>\n",
              "      <td>0.000000</td>\n",
              "      <td>0.000000</td>\n",
              "      <td>0.000000</td>\n",
              "      <td>0.000000</td>\n",
              "    </tr>\n",
              "    <tr>\n",
              "      <th>A2MNB77YGJ3CN0</th>\n",
              "      <td>0.000000</td>\n",
              "      <td>0.000000</td>\n",
              "      <td>0.000000</td>\n",
              "      <td>0.000000</td>\n",
              "      <td>0.000</td>\n",
              "      <td>0.956522</td>\n",
              "      <td>0.000</td>\n",
              "      <td>0.000000</td>\n",
              "      <td>0.000000</td>\n",
              "      <td>0.000000</td>\n",
              "      <td>0.000000</td>\n",
              "      <td>0.000000</td>\n",
              "      <td>0.000000</td>\n",
              "      <td>0.000000</td>\n",
              "      <td>0.000000</td>\n",
              "      <td>0.000000</td>\n",
              "      <td>0.000000</td>\n",
              "    </tr>\n",
              "    <tr>\n",
              "      <th>A3OXHLG6DIBRW8</th>\n",
              "      <td>0.000000</td>\n",
              "      <td>0.000000</td>\n",
              "      <td>0.000000</td>\n",
              "      <td>0.000000</td>\n",
              "      <td>0.000</td>\n",
              "      <td>0.000000</td>\n",
              "      <td>0.000</td>\n",
              "      <td>0.000000</td>\n",
              "      <td>0.000000</td>\n",
              "      <td>0.000000</td>\n",
              "      <td>0.782609</td>\n",
              "      <td>0.000000</td>\n",
              "      <td>0.000000</td>\n",
              "      <td>0.000000</td>\n",
              "      <td>0.000000</td>\n",
              "      <td>0.000000</td>\n",
              "      <td>0.000000</td>\n",
              "    </tr>\n",
              "    <tr>\n",
              "      <th>AG8K92N37MT27</th>\n",
              "      <td>0.000000</td>\n",
              "      <td>0.500000</td>\n",
              "      <td>0.500000</td>\n",
              "      <td>0.000000</td>\n",
              "      <td>0.000</td>\n",
              "      <td>0.000000</td>\n",
              "      <td>0.000</td>\n",
              "      <td>0.782609</td>\n",
              "      <td>0.000000</td>\n",
              "      <td>0.000000</td>\n",
              "      <td>0.000000</td>\n",
              "      <td>0.000000</td>\n",
              "      <td>0.000000</td>\n",
              "      <td>0.000000</td>\n",
              "      <td>0.000000</td>\n",
              "      <td>0.000000</td>\n",
              "      <td>0.500000</td>\n",
              "    </tr>\n",
              "  </tbody>\n",
              "</table>\n",
              "</div>\n",
              "      <button class=\"colab-df-convert\" onclick=\"convertToInteractive('df-b21fa665-c838-4c49-9606-1fada01c5290')\"\n",
              "              title=\"Convert this dataframe to an interactive table.\"\n",
              "              style=\"display:none;\">\n",
              "        \n",
              "  <svg xmlns=\"http://www.w3.org/2000/svg\" height=\"24px\"viewBox=\"0 0 24 24\"\n",
              "       width=\"24px\">\n",
              "    <path d=\"M0 0h24v24H0V0z\" fill=\"none\"/>\n",
              "    <path d=\"M18.56 5.44l.94 2.06.94-2.06 2.06-.94-2.06-.94-.94-2.06-.94 2.06-2.06.94zm-11 1L8.5 8.5l.94-2.06 2.06-.94-2.06-.94L8.5 2.5l-.94 2.06-2.06.94zm10 10l.94 2.06.94-2.06 2.06-.94-2.06-.94-.94-2.06-.94 2.06-2.06.94z\"/><path d=\"M17.41 7.96l-1.37-1.37c-.4-.4-.92-.59-1.43-.59-.52 0-1.04.2-1.43.59L10.3 9.45l-7.72 7.72c-.78.78-.78 2.05 0 2.83L4 21.41c.39.39.9.59 1.41.59.51 0 1.02-.2 1.41-.59l7.78-7.78 2.81-2.81c.8-.78.8-2.07 0-2.86zM5.41 20L4 18.59l7.72-7.72 1.47 1.35L5.41 20z\"/>\n",
              "  </svg>\n",
              "      </button>\n",
              "      \n",
              "  <style>\n",
              "    .colab-df-container {\n",
              "      display:flex;\n",
              "      flex-wrap:wrap;\n",
              "      gap: 12px;\n",
              "    }\n",
              "\n",
              "    .colab-df-convert {\n",
              "      background-color: #E8F0FE;\n",
              "      border: none;\n",
              "      border-radius: 50%;\n",
              "      cursor: pointer;\n",
              "      display: none;\n",
              "      fill: #1967D2;\n",
              "      height: 32px;\n",
              "      padding: 0 0 0 0;\n",
              "      width: 32px;\n",
              "    }\n",
              "\n",
              "    .colab-df-convert:hover {\n",
              "      background-color: #E2EBFA;\n",
              "      box-shadow: 0px 1px 2px rgba(60, 64, 67, 0.3), 0px 1px 3px 1px rgba(60, 64, 67, 0.15);\n",
              "      fill: #174EA6;\n",
              "    }\n",
              "\n",
              "    [theme=dark] .colab-df-convert {\n",
              "      background-color: #3B4455;\n",
              "      fill: #D2E3FC;\n",
              "    }\n",
              "\n",
              "    [theme=dark] .colab-df-convert:hover {\n",
              "      background-color: #434B5C;\n",
              "      box-shadow: 0px 1px 3px 1px rgba(0, 0, 0, 0.15);\n",
              "      filter: drop-shadow(0px 1px 2px rgba(0, 0, 0, 0.3));\n",
              "      fill: #FFFFFF;\n",
              "    }\n",
              "  </style>\n",
              "\n",
              "      <script>\n",
              "        const buttonEl =\n",
              "          document.querySelector('#df-b21fa665-c838-4c49-9606-1fada01c5290 button.colab-df-convert');\n",
              "        buttonEl.style.display =\n",
              "          google.colab.kernel.accessAllowed ? 'block' : 'none';\n",
              "\n",
              "        async function convertToInteractive(key) {\n",
              "          const element = document.querySelector('#df-b21fa665-c838-4c49-9606-1fada01c5290');\n",
              "          const dataTable =\n",
              "            await google.colab.kernel.invokeFunction('convertToInteractive',\n",
              "                                                     [key], {});\n",
              "          if (!dataTable) return;\n",
              "\n",
              "          const docLinkHtml = 'Like what you see? Visit the ' +\n",
              "            '<a target=\"_blank\" href=https://colab.research.google.com/notebooks/data_table.ipynb>data table notebook</a>'\n",
              "            + ' to learn more about interactive tables.';\n",
              "          element.innerHTML = '';\n",
              "          dataTable['output_type'] = 'display_data';\n",
              "          await google.colab.output.renderOutput(dataTable, element);\n",
              "          const docLink = document.createElement('div');\n",
              "          docLink.innerHTML = docLinkHtml;\n",
              "          element.appendChild(docLink);\n",
              "        }\n",
              "      </script>\n",
              "    </div>\n",
              "  </div>\n",
              "  "
            ]
          },
          "metadata": {},
          "execution_count": 104
        }
      ]
    },
    {
      "cell_type": "markdown",
      "id": "83f7d3fb",
      "metadata": {
        "id": "83f7d3fb"
      },
      "source": [
        "From the user_book_matrix, we should build SVD embeddings from this. We will use Scipy's svds package to accomplish this. From this, we get 64 length embeddings for each book and and for each user. These embeddings can be thought of as learned features that represent groupings of books in an abstract way."
      ]
    },
    {
      "cell_type": "code",
      "execution_count": 105,
      "id": "d6629b2a",
      "metadata": {
        "id": "d6629b2a"
      },
      "outputs": [],
      "source": [
        "def build_SVD_embeddings(user_book_matrix, embedding_length):\n",
        "    #Builds SVD embeddings to be used later on\n",
        "    print(user_book_matrix.shape)\n",
        "    U, Sigma, VT = svds(user_book_matrix, k = embedding_length)\n",
        "    user_embed_df = pd.DataFrame(U, index = user_book_matrix.index)\n",
        "    VT_T = np.transpose(VT)\n",
        "    book_embed_df = pd.DataFrame(VT_T, index = user_book_matrix.columns)\n",
        "    \n",
        "    return user_embed_df, book_embed_df\n"
      ]
    },
    {
      "cell_type": "code",
      "source": [
        "user_book_matrix.shape[0],user_book_matrix.shape[1]"
      ],
      "metadata": {
        "colab": {
          "base_uri": "https://localhost:8080/"
        },
        "id": "2MEE1OWecfuk",
        "outputId": "7993f922-1c00-462e-9e16-21814c096a75"
      },
      "id": "2MEE1OWecfuk",
      "execution_count": 109,
      "outputs": [
        {
          "output_type": "execute_result",
          "data": {
            "text/plain": [
              "(11, 17)"
            ]
          },
          "metadata": {},
          "execution_count": 109
        }
      ]
    },
    {
      "cell_type": "code",
      "execution_count": 110,
      "id": "e91112e6",
      "metadata": {
        "colab": {
          "base_uri": "https://localhost:8080/"
        },
        "id": "e91112e6",
        "outputId": "0a5db4dc-399b-4464-a477-1f1b20a07d1d"
      },
      "outputs": [
        {
          "output_type": "stream",
          "name": "stdout",
          "text": [
            "(11, 17)\n"
          ]
        }
      ],
      "source": [
        "embedding_length = min(64,user_book_matrix.shape[0],user_book_matrix.shape[1])-1\n",
        "user_embed_df, book_embed_df = build_SVD_embeddings(user_book_matrix, embedding_length)\n"
      ]
    },
    {
      "cell_type": "code",
      "execution_count": 111,
      "id": "edbc5d95",
      "metadata": {
        "colab": {
          "base_uri": "https://localhost:8080/",
          "height": 368
        },
        "id": "edbc5d95",
        "outputId": "daf77c7a-b752-472f-ad37-a7ea37836c4a"
      },
      "outputs": [
        {
          "output_type": "execute_result",
          "data": {
            "text/plain": [
              "                           0             1             2             3  \\\n",
              "User-ID                                                                  \n",
              "A1TPW86OHXTXFC  1.128398e-01  2.229936e-01 -5.156618e-03  1.055101e-02   \n",
              "A1UQBFCERIP7VJ -2.218801e-01 -9.113051e-01 -4.716262e-02  4.561576e-02   \n",
              "A1WX42M589VAMQ -3.248561e-01  1.776325e-01 -7.221165e-01  2.287233e-01   \n",
              "A1X1CEGHTHMBL1  3.126912e-02 -3.013523e-02  5.823519e-03 -2.983996e-01   \n",
              "A1ZPY91VE3IDN1  2.359224e-16  4.163336e-17 -4.163336e-17 -1.110223e-16   \n",
              "\n",
              "                           4             5         6             7  \\\n",
              "User-ID                                                              \n",
              "A1TPW86OHXTXFC  6.208636e-02  6.383782e-16  0.250315 -2.220446e-16   \n",
              "A1UQBFCERIP7VJ  1.234998e-01  2.185752e-15  0.245785 -1.266348e-16   \n",
              "A1WX42M589VAMQ  2.195287e-01  2.688821e-15  0.253723  4.857226e-17   \n",
              "A1X1CEGHTHMBL1  1.851127e-01  1.776357e-15  0.216800  2.220446e-16   \n",
              "A1ZPY91VE3IDN1  1.665335e-16 -1.110223e-16  0.000000 -1.000000e+00   \n",
              "\n",
              "                           8             9  \n",
              "User-ID                                     \n",
              "A1TPW86OHXTXFC -6.497598e-01  6.687942e-01  \n",
              "A1UQBFCERIP7VJ -1.825971e-01  6.247244e-02  \n",
              "A1WX42M589VAMQ  3.465811e-01  2.136369e-01  \n",
              "A1X1CEGHTHMBL1  2.055541e-01  6.113093e-02  \n",
              "A1ZPY91VE3IDN1  4.201117e-16 -2.688247e-16  "
            ],
            "text/html": [
              "\n",
              "  <div id=\"df-e429817c-3d99-41b8-b683-aebefb2a690f\">\n",
              "    <div class=\"colab-df-container\">\n",
              "      <div>\n",
              "<style scoped>\n",
              "    .dataframe tbody tr th:only-of-type {\n",
              "        vertical-align: middle;\n",
              "    }\n",
              "\n",
              "    .dataframe tbody tr th {\n",
              "        vertical-align: top;\n",
              "    }\n",
              "\n",
              "    .dataframe thead th {\n",
              "        text-align: right;\n",
              "    }\n",
              "</style>\n",
              "<table border=\"1\" class=\"dataframe\">\n",
              "  <thead>\n",
              "    <tr style=\"text-align: right;\">\n",
              "      <th></th>\n",
              "      <th>0</th>\n",
              "      <th>1</th>\n",
              "      <th>2</th>\n",
              "      <th>3</th>\n",
              "      <th>4</th>\n",
              "      <th>5</th>\n",
              "      <th>6</th>\n",
              "      <th>7</th>\n",
              "      <th>8</th>\n",
              "      <th>9</th>\n",
              "    </tr>\n",
              "    <tr>\n",
              "      <th>User-ID</th>\n",
              "      <th></th>\n",
              "      <th></th>\n",
              "      <th></th>\n",
              "      <th></th>\n",
              "      <th></th>\n",
              "      <th></th>\n",
              "      <th></th>\n",
              "      <th></th>\n",
              "      <th></th>\n",
              "      <th></th>\n",
              "    </tr>\n",
              "  </thead>\n",
              "  <tbody>\n",
              "    <tr>\n",
              "      <th>A1TPW86OHXTXFC</th>\n",
              "      <td>1.128398e-01</td>\n",
              "      <td>2.229936e-01</td>\n",
              "      <td>-5.156618e-03</td>\n",
              "      <td>1.055101e-02</td>\n",
              "      <td>6.208636e-02</td>\n",
              "      <td>6.383782e-16</td>\n",
              "      <td>0.250315</td>\n",
              "      <td>-2.220446e-16</td>\n",
              "      <td>-6.497598e-01</td>\n",
              "      <td>6.687942e-01</td>\n",
              "    </tr>\n",
              "    <tr>\n",
              "      <th>A1UQBFCERIP7VJ</th>\n",
              "      <td>-2.218801e-01</td>\n",
              "      <td>-9.113051e-01</td>\n",
              "      <td>-4.716262e-02</td>\n",
              "      <td>4.561576e-02</td>\n",
              "      <td>1.234998e-01</td>\n",
              "      <td>2.185752e-15</td>\n",
              "      <td>0.245785</td>\n",
              "      <td>-1.266348e-16</td>\n",
              "      <td>-1.825971e-01</td>\n",
              "      <td>6.247244e-02</td>\n",
              "    </tr>\n",
              "    <tr>\n",
              "      <th>A1WX42M589VAMQ</th>\n",
              "      <td>-3.248561e-01</td>\n",
              "      <td>1.776325e-01</td>\n",
              "      <td>-7.221165e-01</td>\n",
              "      <td>2.287233e-01</td>\n",
              "      <td>2.195287e-01</td>\n",
              "      <td>2.688821e-15</td>\n",
              "      <td>0.253723</td>\n",
              "      <td>4.857226e-17</td>\n",
              "      <td>3.465811e-01</td>\n",
              "      <td>2.136369e-01</td>\n",
              "    </tr>\n",
              "    <tr>\n",
              "      <th>A1X1CEGHTHMBL1</th>\n",
              "      <td>3.126912e-02</td>\n",
              "      <td>-3.013523e-02</td>\n",
              "      <td>5.823519e-03</td>\n",
              "      <td>-2.983996e-01</td>\n",
              "      <td>1.851127e-01</td>\n",
              "      <td>1.776357e-15</td>\n",
              "      <td>0.216800</td>\n",
              "      <td>2.220446e-16</td>\n",
              "      <td>2.055541e-01</td>\n",
              "      <td>6.113093e-02</td>\n",
              "    </tr>\n",
              "    <tr>\n",
              "      <th>A1ZPY91VE3IDN1</th>\n",
              "      <td>2.359224e-16</td>\n",
              "      <td>4.163336e-17</td>\n",
              "      <td>-4.163336e-17</td>\n",
              "      <td>-1.110223e-16</td>\n",
              "      <td>1.665335e-16</td>\n",
              "      <td>-1.110223e-16</td>\n",
              "      <td>0.000000</td>\n",
              "      <td>-1.000000e+00</td>\n",
              "      <td>4.201117e-16</td>\n",
              "      <td>-2.688247e-16</td>\n",
              "    </tr>\n",
              "  </tbody>\n",
              "</table>\n",
              "</div>\n",
              "      <button class=\"colab-df-convert\" onclick=\"convertToInteractive('df-e429817c-3d99-41b8-b683-aebefb2a690f')\"\n",
              "              title=\"Convert this dataframe to an interactive table.\"\n",
              "              style=\"display:none;\">\n",
              "        \n",
              "  <svg xmlns=\"http://www.w3.org/2000/svg\" height=\"24px\"viewBox=\"0 0 24 24\"\n",
              "       width=\"24px\">\n",
              "    <path d=\"M0 0h24v24H0V0z\" fill=\"none\"/>\n",
              "    <path d=\"M18.56 5.44l.94 2.06.94-2.06 2.06-.94-2.06-.94-.94-2.06-.94 2.06-2.06.94zm-11 1L8.5 8.5l.94-2.06 2.06-.94-2.06-.94L8.5 2.5l-.94 2.06-2.06.94zm10 10l.94 2.06.94-2.06 2.06-.94-2.06-.94-.94-2.06-.94 2.06-2.06.94z\"/><path d=\"M17.41 7.96l-1.37-1.37c-.4-.4-.92-.59-1.43-.59-.52 0-1.04.2-1.43.59L10.3 9.45l-7.72 7.72c-.78.78-.78 2.05 0 2.83L4 21.41c.39.39.9.59 1.41.59.51 0 1.02-.2 1.41-.59l7.78-7.78 2.81-2.81c.8-.78.8-2.07 0-2.86zM5.41 20L4 18.59l7.72-7.72 1.47 1.35L5.41 20z\"/>\n",
              "  </svg>\n",
              "      </button>\n",
              "      \n",
              "  <style>\n",
              "    .colab-df-container {\n",
              "      display:flex;\n",
              "      flex-wrap:wrap;\n",
              "      gap: 12px;\n",
              "    }\n",
              "\n",
              "    .colab-df-convert {\n",
              "      background-color: #E8F0FE;\n",
              "      border: none;\n",
              "      border-radius: 50%;\n",
              "      cursor: pointer;\n",
              "      display: none;\n",
              "      fill: #1967D2;\n",
              "      height: 32px;\n",
              "      padding: 0 0 0 0;\n",
              "      width: 32px;\n",
              "    }\n",
              "\n",
              "    .colab-df-convert:hover {\n",
              "      background-color: #E2EBFA;\n",
              "      box-shadow: 0px 1px 2px rgba(60, 64, 67, 0.3), 0px 1px 3px 1px rgba(60, 64, 67, 0.15);\n",
              "      fill: #174EA6;\n",
              "    }\n",
              "\n",
              "    [theme=dark] .colab-df-convert {\n",
              "      background-color: #3B4455;\n",
              "      fill: #D2E3FC;\n",
              "    }\n",
              "\n",
              "    [theme=dark] .colab-df-convert:hover {\n",
              "      background-color: #434B5C;\n",
              "      box-shadow: 0px 1px 3px 1px rgba(0, 0, 0, 0.15);\n",
              "      filter: drop-shadow(0px 1px 2px rgba(0, 0, 0, 0.3));\n",
              "      fill: #FFFFFF;\n",
              "    }\n",
              "  </style>\n",
              "\n",
              "      <script>\n",
              "        const buttonEl =\n",
              "          document.querySelector('#df-e429817c-3d99-41b8-b683-aebefb2a690f button.colab-df-convert');\n",
              "        buttonEl.style.display =\n",
              "          google.colab.kernel.accessAllowed ? 'block' : 'none';\n",
              "\n",
              "        async function convertToInteractive(key) {\n",
              "          const element = document.querySelector('#df-e429817c-3d99-41b8-b683-aebefb2a690f');\n",
              "          const dataTable =\n",
              "            await google.colab.kernel.invokeFunction('convertToInteractive',\n",
              "                                                     [key], {});\n",
              "          if (!dataTable) return;\n",
              "\n",
              "          const docLinkHtml = 'Like what you see? Visit the ' +\n",
              "            '<a target=\"_blank\" href=https://colab.research.google.com/notebooks/data_table.ipynb>data table notebook</a>'\n",
              "            + ' to learn more about interactive tables.';\n",
              "          element.innerHTML = '';\n",
              "          dataTable['output_type'] = 'display_data';\n",
              "          await google.colab.output.renderOutput(dataTable, element);\n",
              "          const docLink = document.createElement('div');\n",
              "          docLink.innerHTML = docLinkHtml;\n",
              "          element.appendChild(docLink);\n",
              "        }\n",
              "      </script>\n",
              "    </div>\n",
              "  </div>\n",
              "  "
            ]
          },
          "metadata": {},
          "execution_count": 111
        }
      ],
      "source": [
        "user_embed_df.head()"
      ]
    },
    {
      "cell_type": "code",
      "execution_count": 112,
      "id": "1f70c1e5",
      "metadata": {
        "colab": {
          "base_uri": "https://localhost:8080/",
          "height": 368
        },
        "id": "1f70c1e5",
        "outputId": "fa9899d6-82c3-4974-fb8d-cced275fadbf"
      },
      "outputs": [
        {
          "output_type": "execute_result",
          "data": {
            "text/plain": [
              "                       0             1             2             3  \\\n",
              "Book-ID                                                              \n",
              "B000168QTU  3.046436e-02 -4.512011e-02  7.811136e-02  3.537609e-02   \n",
              "B0001LO3FG  8.395182e-02 -1.075235e-02 -6.886642e-02  1.971556e-02   \n",
              "B000F4DKAI  8.395182e-02 -1.075235e-02 -6.886642e-02  1.971556e-02   \n",
              "B000H2XXRS -1.303249e-01 -4.946930e-02 -5.317903e-01  1.299061e-01   \n",
              "B000HDK0DC  4.708648e-16  6.007978e-17 -4.691019e-17 -1.174460e-16   \n",
              "\n",
              "                       4             5         6             7             8  \\\n",
              "Book-ID                                                                        \n",
              "B000168QTU  2.242907e-01  2.987273e-15  0.389305  2.842745e-16  6.346415e-01   \n",
              "B0001LO3FG  1.175661e-01  1.426118e-15 -0.266027 -1.504807e-16  3.014399e-02   \n",
              "B000F4DKAI  1.175661e-01  1.426118e-15 -0.266027 -1.504807e-16  3.014399e-02   \n",
              "B000H2XXRS -1.100076e-01 -1.535230e-15  0.035130  6.948391e-17  3.318548e-01   \n",
              "B000HDK0DC  1.567081e-16 -1.015602e-16  0.000000 -7.071068e-01  2.159917e-16   \n",
              "\n",
              "                       9  \n",
              "Book-ID                   \n",
              "B000168QTU  3.139493e-01  \n",
              "B0001LO3FG  3.760492e-01  \n",
              "B000F4DKAI  3.760492e-01  \n",
              "B000H2XXRS  2.043608e-01  \n",
              "B000HDK0DC -8.505141e-17  "
            ],
            "text/html": [
              "\n",
              "  <div id=\"df-d1670df7-d6d8-4cf2-85bd-468fdca7934a\">\n",
              "    <div class=\"colab-df-container\">\n",
              "      <div>\n",
              "<style scoped>\n",
              "    .dataframe tbody tr th:only-of-type {\n",
              "        vertical-align: middle;\n",
              "    }\n",
              "\n",
              "    .dataframe tbody tr th {\n",
              "        vertical-align: top;\n",
              "    }\n",
              "\n",
              "    .dataframe thead th {\n",
              "        text-align: right;\n",
              "    }\n",
              "</style>\n",
              "<table border=\"1\" class=\"dataframe\">\n",
              "  <thead>\n",
              "    <tr style=\"text-align: right;\">\n",
              "      <th></th>\n",
              "      <th>0</th>\n",
              "      <th>1</th>\n",
              "      <th>2</th>\n",
              "      <th>3</th>\n",
              "      <th>4</th>\n",
              "      <th>5</th>\n",
              "      <th>6</th>\n",
              "      <th>7</th>\n",
              "      <th>8</th>\n",
              "      <th>9</th>\n",
              "    </tr>\n",
              "    <tr>\n",
              "      <th>Book-ID</th>\n",
              "      <th></th>\n",
              "      <th></th>\n",
              "      <th></th>\n",
              "      <th></th>\n",
              "      <th></th>\n",
              "      <th></th>\n",
              "      <th></th>\n",
              "      <th></th>\n",
              "      <th></th>\n",
              "      <th></th>\n",
              "    </tr>\n",
              "  </thead>\n",
              "  <tbody>\n",
              "    <tr>\n",
              "      <th>B000168QTU</th>\n",
              "      <td>3.046436e-02</td>\n",
              "      <td>-4.512011e-02</td>\n",
              "      <td>7.811136e-02</td>\n",
              "      <td>3.537609e-02</td>\n",
              "      <td>2.242907e-01</td>\n",
              "      <td>2.987273e-15</td>\n",
              "      <td>0.389305</td>\n",
              "      <td>2.842745e-16</td>\n",
              "      <td>6.346415e-01</td>\n",
              "      <td>3.139493e-01</td>\n",
              "    </tr>\n",
              "    <tr>\n",
              "      <th>B0001LO3FG</th>\n",
              "      <td>8.395182e-02</td>\n",
              "      <td>-1.075235e-02</td>\n",
              "      <td>-6.886642e-02</td>\n",
              "      <td>1.971556e-02</td>\n",
              "      <td>1.175661e-01</td>\n",
              "      <td>1.426118e-15</td>\n",
              "      <td>-0.266027</td>\n",
              "      <td>-1.504807e-16</td>\n",
              "      <td>3.014399e-02</td>\n",
              "      <td>3.760492e-01</td>\n",
              "    </tr>\n",
              "    <tr>\n",
              "      <th>B000F4DKAI</th>\n",
              "      <td>8.395182e-02</td>\n",
              "      <td>-1.075235e-02</td>\n",
              "      <td>-6.886642e-02</td>\n",
              "      <td>1.971556e-02</td>\n",
              "      <td>1.175661e-01</td>\n",
              "      <td>1.426118e-15</td>\n",
              "      <td>-0.266027</td>\n",
              "      <td>-1.504807e-16</td>\n",
              "      <td>3.014399e-02</td>\n",
              "      <td>3.760492e-01</td>\n",
              "    </tr>\n",
              "    <tr>\n",
              "      <th>B000H2XXRS</th>\n",
              "      <td>-1.303249e-01</td>\n",
              "      <td>-4.946930e-02</td>\n",
              "      <td>-5.317903e-01</td>\n",
              "      <td>1.299061e-01</td>\n",
              "      <td>-1.100076e-01</td>\n",
              "      <td>-1.535230e-15</td>\n",
              "      <td>0.035130</td>\n",
              "      <td>6.948391e-17</td>\n",
              "      <td>3.318548e-01</td>\n",
              "      <td>2.043608e-01</td>\n",
              "    </tr>\n",
              "    <tr>\n",
              "      <th>B000HDK0DC</th>\n",
              "      <td>4.708648e-16</td>\n",
              "      <td>6.007978e-17</td>\n",
              "      <td>-4.691019e-17</td>\n",
              "      <td>-1.174460e-16</td>\n",
              "      <td>1.567081e-16</td>\n",
              "      <td>-1.015602e-16</td>\n",
              "      <td>0.000000</td>\n",
              "      <td>-7.071068e-01</td>\n",
              "      <td>2.159917e-16</td>\n",
              "      <td>-8.505141e-17</td>\n",
              "    </tr>\n",
              "  </tbody>\n",
              "</table>\n",
              "</div>\n",
              "      <button class=\"colab-df-convert\" onclick=\"convertToInteractive('df-d1670df7-d6d8-4cf2-85bd-468fdca7934a')\"\n",
              "              title=\"Convert this dataframe to an interactive table.\"\n",
              "              style=\"display:none;\">\n",
              "        \n",
              "  <svg xmlns=\"http://www.w3.org/2000/svg\" height=\"24px\"viewBox=\"0 0 24 24\"\n",
              "       width=\"24px\">\n",
              "    <path d=\"M0 0h24v24H0V0z\" fill=\"none\"/>\n",
              "    <path d=\"M18.56 5.44l.94 2.06.94-2.06 2.06-.94-2.06-.94-.94-2.06-.94 2.06-2.06.94zm-11 1L8.5 8.5l.94-2.06 2.06-.94-2.06-.94L8.5 2.5l-.94 2.06-2.06.94zm10 10l.94 2.06.94-2.06 2.06-.94-2.06-.94-.94-2.06-.94 2.06-2.06.94z\"/><path d=\"M17.41 7.96l-1.37-1.37c-.4-.4-.92-.59-1.43-.59-.52 0-1.04.2-1.43.59L10.3 9.45l-7.72 7.72c-.78.78-.78 2.05 0 2.83L4 21.41c.39.39.9.59 1.41.59.51 0 1.02-.2 1.41-.59l7.78-7.78 2.81-2.81c.8-.78.8-2.07 0-2.86zM5.41 20L4 18.59l7.72-7.72 1.47 1.35L5.41 20z\"/>\n",
              "  </svg>\n",
              "      </button>\n",
              "      \n",
              "  <style>\n",
              "    .colab-df-container {\n",
              "      display:flex;\n",
              "      flex-wrap:wrap;\n",
              "      gap: 12px;\n",
              "    }\n",
              "\n",
              "    .colab-df-convert {\n",
              "      background-color: #E8F0FE;\n",
              "      border: none;\n",
              "      border-radius: 50%;\n",
              "      cursor: pointer;\n",
              "      display: none;\n",
              "      fill: #1967D2;\n",
              "      height: 32px;\n",
              "      padding: 0 0 0 0;\n",
              "      width: 32px;\n",
              "    }\n",
              "\n",
              "    .colab-df-convert:hover {\n",
              "      background-color: #E2EBFA;\n",
              "      box-shadow: 0px 1px 2px rgba(60, 64, 67, 0.3), 0px 1px 3px 1px rgba(60, 64, 67, 0.15);\n",
              "      fill: #174EA6;\n",
              "    }\n",
              "\n",
              "    [theme=dark] .colab-df-convert {\n",
              "      background-color: #3B4455;\n",
              "      fill: #D2E3FC;\n",
              "    }\n",
              "\n",
              "    [theme=dark] .colab-df-convert:hover {\n",
              "      background-color: #434B5C;\n",
              "      box-shadow: 0px 1px 3px 1px rgba(0, 0, 0, 0.15);\n",
              "      filter: drop-shadow(0px 1px 2px rgba(0, 0, 0, 0.3));\n",
              "      fill: #FFFFFF;\n",
              "    }\n",
              "  </style>\n",
              "\n",
              "      <script>\n",
              "        const buttonEl =\n",
              "          document.querySelector('#df-d1670df7-d6d8-4cf2-85bd-468fdca7934a button.colab-df-convert');\n",
              "        buttonEl.style.display =\n",
              "          google.colab.kernel.accessAllowed ? 'block' : 'none';\n",
              "\n",
              "        async function convertToInteractive(key) {\n",
              "          const element = document.querySelector('#df-d1670df7-d6d8-4cf2-85bd-468fdca7934a');\n",
              "          const dataTable =\n",
              "            await google.colab.kernel.invokeFunction('convertToInteractive',\n",
              "                                                     [key], {});\n",
              "          if (!dataTable) return;\n",
              "\n",
              "          const docLinkHtml = 'Like what you see? Visit the ' +\n",
              "            '<a target=\"_blank\" href=https://colab.research.google.com/notebooks/data_table.ipynb>data table notebook</a>'\n",
              "            + ' to learn more about interactive tables.';\n",
              "          element.innerHTML = '';\n",
              "          dataTable['output_type'] = 'display_data';\n",
              "          await google.colab.output.renderOutput(dataTable, element);\n",
              "          const docLink = document.createElement('div');\n",
              "          docLink.innerHTML = docLinkHtml;\n",
              "          element.appendChild(docLink);\n",
              "        }\n",
              "      </script>\n",
              "    </div>\n",
              "  </div>\n",
              "  "
            ]
          },
          "metadata": {},
          "execution_count": 112
        }
      ],
      "source": [
        "book_embed_df.head()"
      ]
    },
    {
      "cell_type": "markdown",
      "id": "73d03431",
      "metadata": {
        "id": "73d03431"
      },
      "source": [
        "Based on these initial embeddings, we can check how well these book and user embeddings work when we take the dot product to predict the rating."
      ]
    },
    {
      "cell_type": "code",
      "execution_count": 114,
      "id": "af0c3919",
      "metadata": {
        "id": "af0c3919"
      },
      "outputs": [],
      "source": [
        "def SVD_Dot_RSME(user_book_matrix, embedding_length):\n",
        "    U, Sigma, VT = svds(user_book_matrix, k = embedding_length)\n",
        "    USigma = np.matmul(U, np.diag(Sigma))\n",
        "    pred_matrix = np.matmul(USigma, VT)\n",
        "    \n",
        "    from sklearn.metrics import mean_squared_error\n",
        "    rmse = mean_squared_error(np.array(user_book_matrix), pred_matrix)\n",
        "    return pred_matrix\n",
        "\n",
        "\n",
        "pred_matrix = SVD_Dot_RSME(user_book_matrix, embedding_length)\n",
        "from sklearn.preprocessing import MinMaxScaler\n",
        "\n",
        "scaler = MinMaxScaler()\n",
        "\n",
        "pred_matrix = scaler.fit_transform(pred_matrix)\n",
        "pred_matrix = pd.DataFrame(pred_matrix, index = user_book_matrix.index, columns = user_book_matrix.columns)"
      ]
    },
    {
      "cell_type": "code",
      "execution_count": 115,
      "id": "dab87ba1",
      "metadata": {
        "colab": {
          "base_uri": "https://localhost:8080/",
          "height": 490
        },
        "id": "dab87ba1",
        "outputId": "cd570b6e-33c4-4947-9563-0d635dc507bc"
      },
      "outputs": [
        {
          "output_type": "execute_result",
          "data": {
            "text/plain": [
              "Book-ID         B000168QTU  B0001LO3FG  B000F4DKAI  B000H2XXRS    B000HDK0DC  \\\n",
              "User-ID                                                                        \n",
              "A1TPW86OHXTXFC    0.004888    0.827809    0.827809    0.068780  3.971044e-16   \n",
              "A1UQBFCERIP7VJ    0.019078    0.012710    0.012710    0.052690  3.448909e-16   \n",
              "A1WX42M589VAMQ    0.685497    0.312231    0.312231    0.995433  3.279264e-16   \n",
              "A1X1CEGHTHMBL1    0.414135    0.051865    0.051865    0.215011  0.000000e+00   \n",
              "A1ZPY91VE3IDN1    0.010623    0.015023    0.015023    0.062277  1.000000e+00   \n",
              "A281NPSIMI1C2R    1.000000    1.000000    1.000000    1.000000  3.604771e-16   \n",
              "A2GJX2KCUSR0EI    0.783618    0.004880    0.004880    0.020230  5.157397e-16   \n",
              "A2MNB77YGJ3CN0    0.010623    0.015023    0.015023    0.062277  3.282768e-16   \n",
              "A3OXHLG6DIBRW8    0.065545    0.000000    0.000000    0.000000  5.864938e-16   \n",
              "AG8K92N37MT27     0.002577    0.695696    0.695696    0.071401  3.812782e-16   \n",
              "AY12DBB0U420B     0.000000    0.017928    0.017928    0.074323  3.102935e-16   \n",
              "\n",
              "Book-ID           B000V1AWBK    B000X3TPHS  B000YN2GVY  B00117YT4Y  \\\n",
              "User-ID                                                              \n",
              "A1TPW86OHXTXFC  4.133197e-17  3.971044e-16    0.042833    0.030230   \n",
              "A1UQBFCERIP7VJ  6.474238e-17  3.448909e-16    0.047545    0.023159   \n",
              "A1WX42M589VAMQ  1.270194e-16  3.279264e-16    0.050001    0.019474   \n",
              "A1X1CEGHTHMBL1  2.080875e-16  0.000000e+00    0.000000    0.094502   \n",
              "A1ZPY91VE3IDN1  0.000000e+00  1.000000e+00    0.044737    0.027372   \n",
              "A281NPSIMI1C2R  9.880907e-17  3.604771e-16    0.048663    1.000000   \n",
              "A2GJX2KCUSR0EI  1.639602e-16  5.157397e-16    0.057053    0.008892   \n",
              "A2MNB77YGJ3CN0  1.000000e+00  3.282768e-16    0.044737    0.027372   \n",
              "A3OXHLG6DIBRW8  1.132345e-16  5.864938e-16    0.062979    0.000000   \n",
              "AG8K92N37MT27   3.315852e-17  3.812782e-16    1.000000    0.031383   \n",
              "AY12DBB0U420B   6.270082e-17  3.102935e-16    0.041209    0.032667   \n",
              "\n",
              "Book-ID         B0014WYXYW  B001D0KG1Y  B00542YXFW  B008QMX2SG  B00BUKL666  \\\n",
              "User-ID                                                                      \n",
              "A1TPW86OHXTXFC    1.000000    0.013196    0.094233    1.000000    0.937355   \n",
              "A1UQBFCERIP7VJ    0.017033    0.008823    0.072189    0.034282    0.009025   \n",
              "A1WX42M589VAMQ    0.904961    0.006545    0.060705    0.036053    0.009491   \n",
              "A1X1CEGHTHMBL1    0.069506    0.409833    0.294580    0.000000    0.000000   \n",
              "A1ZPY91VE3IDN1    0.020132    0.011429    0.085324    0.032258    0.008492   \n",
              "A281NPSIMI1C2R    0.015800    0.007786    0.066961    0.035088    1.000000   \n",
              "A2GJX2KCUSR0EI    0.006540    0.000000    1.000000    0.041138    0.010830   \n",
              "A2MNB77YGJ3CN0    0.020132    0.011429    0.085324    0.032258    0.008492   \n",
              "A3OXHLG6DIBRW8    0.000000    1.000000    0.000000    0.045411    0.011955   \n",
              "AG8K92N37MT27     0.023082    0.013909    0.097825    0.030331    0.007985   \n",
              "AY12DBB0U420B     0.024026    0.014703    0.101828    0.029713    0.746279   \n",
              "\n",
              "Book-ID         B00D3M2QP4  B00WFDMRDI  B00XA8XWGS  \n",
              "User-ID                                             \n",
              "A1TPW86OHXTXFC    1.000000    1.000000    1.000000  \n",
              "A1UQBFCERIP7VJ    0.034282    0.797536    0.005097  \n",
              "A1WX42M589VAMQ    0.036053    0.001694    0.005361  \n",
              "A1X1CEGHTHMBL1    0.000000    0.008220    0.000000  \n",
              "A1ZPY91VE3IDN1    0.032258    0.002381    0.004796  \n",
              "A281NPSIMI1C2R    0.035088    0.001868    0.780709  \n",
              "A2GJX2KCUSR0EI    0.041138    0.000773    0.006117  \n",
              "A2MNB77YGJ3CN0    0.032258    0.002381    0.004796  \n",
              "A3OXHLG6DIBRW8    0.045411    0.000000    0.006752  \n",
              "AG8K92N37MT27     0.030331    0.002730    0.536937  \n",
              "AY12DBB0U420B     0.029713    0.002841    0.004418  "
            ],
            "text/html": [
              "\n",
              "  <div id=\"df-76d8d6d5-8eaf-4fde-a0cc-ded2bde62e9e\">\n",
              "    <div class=\"colab-df-container\">\n",
              "      <div>\n",
              "<style scoped>\n",
              "    .dataframe tbody tr th:only-of-type {\n",
              "        vertical-align: middle;\n",
              "    }\n",
              "\n",
              "    .dataframe tbody tr th {\n",
              "        vertical-align: top;\n",
              "    }\n",
              "\n",
              "    .dataframe thead th {\n",
              "        text-align: right;\n",
              "    }\n",
              "</style>\n",
              "<table border=\"1\" class=\"dataframe\">\n",
              "  <thead>\n",
              "    <tr style=\"text-align: right;\">\n",
              "      <th>Book-ID</th>\n",
              "      <th>B000168QTU</th>\n",
              "      <th>B0001LO3FG</th>\n",
              "      <th>B000F4DKAI</th>\n",
              "      <th>B000H2XXRS</th>\n",
              "      <th>B000HDK0DC</th>\n",
              "      <th>B000V1AWBK</th>\n",
              "      <th>B000X3TPHS</th>\n",
              "      <th>B000YN2GVY</th>\n",
              "      <th>B00117YT4Y</th>\n",
              "      <th>B0014WYXYW</th>\n",
              "      <th>B001D0KG1Y</th>\n",
              "      <th>B00542YXFW</th>\n",
              "      <th>B008QMX2SG</th>\n",
              "      <th>B00BUKL666</th>\n",
              "      <th>B00D3M2QP4</th>\n",
              "      <th>B00WFDMRDI</th>\n",
              "      <th>B00XA8XWGS</th>\n",
              "    </tr>\n",
              "    <tr>\n",
              "      <th>User-ID</th>\n",
              "      <th></th>\n",
              "      <th></th>\n",
              "      <th></th>\n",
              "      <th></th>\n",
              "      <th></th>\n",
              "      <th></th>\n",
              "      <th></th>\n",
              "      <th></th>\n",
              "      <th></th>\n",
              "      <th></th>\n",
              "      <th></th>\n",
              "      <th></th>\n",
              "      <th></th>\n",
              "      <th></th>\n",
              "      <th></th>\n",
              "      <th></th>\n",
              "      <th></th>\n",
              "    </tr>\n",
              "  </thead>\n",
              "  <tbody>\n",
              "    <tr>\n",
              "      <th>A1TPW86OHXTXFC</th>\n",
              "      <td>0.004888</td>\n",
              "      <td>0.827809</td>\n",
              "      <td>0.827809</td>\n",
              "      <td>0.068780</td>\n",
              "      <td>3.971044e-16</td>\n",
              "      <td>4.133197e-17</td>\n",
              "      <td>3.971044e-16</td>\n",
              "      <td>0.042833</td>\n",
              "      <td>0.030230</td>\n",
              "      <td>1.000000</td>\n",
              "      <td>0.013196</td>\n",
              "      <td>0.094233</td>\n",
              "      <td>1.000000</td>\n",
              "      <td>0.937355</td>\n",
              "      <td>1.000000</td>\n",
              "      <td>1.000000</td>\n",
              "      <td>1.000000</td>\n",
              "    </tr>\n",
              "    <tr>\n",
              "      <th>A1UQBFCERIP7VJ</th>\n",
              "      <td>0.019078</td>\n",
              "      <td>0.012710</td>\n",
              "      <td>0.012710</td>\n",
              "      <td>0.052690</td>\n",
              "      <td>3.448909e-16</td>\n",
              "      <td>6.474238e-17</td>\n",
              "      <td>3.448909e-16</td>\n",
              "      <td>0.047545</td>\n",
              "      <td>0.023159</td>\n",
              "      <td>0.017033</td>\n",
              "      <td>0.008823</td>\n",
              "      <td>0.072189</td>\n",
              "      <td>0.034282</td>\n",
              "      <td>0.009025</td>\n",
              "      <td>0.034282</td>\n",
              "      <td>0.797536</td>\n",
              "      <td>0.005097</td>\n",
              "    </tr>\n",
              "    <tr>\n",
              "      <th>A1WX42M589VAMQ</th>\n",
              "      <td>0.685497</td>\n",
              "      <td>0.312231</td>\n",
              "      <td>0.312231</td>\n",
              "      <td>0.995433</td>\n",
              "      <td>3.279264e-16</td>\n",
              "      <td>1.270194e-16</td>\n",
              "      <td>3.279264e-16</td>\n",
              "      <td>0.050001</td>\n",
              "      <td>0.019474</td>\n",
              "      <td>0.904961</td>\n",
              "      <td>0.006545</td>\n",
              "      <td>0.060705</td>\n",
              "      <td>0.036053</td>\n",
              "      <td>0.009491</td>\n",
              "      <td>0.036053</td>\n",
              "      <td>0.001694</td>\n",
              "      <td>0.005361</td>\n",
              "    </tr>\n",
              "    <tr>\n",
              "      <th>A1X1CEGHTHMBL1</th>\n",
              "      <td>0.414135</td>\n",
              "      <td>0.051865</td>\n",
              "      <td>0.051865</td>\n",
              "      <td>0.215011</td>\n",
              "      <td>0.000000e+00</td>\n",
              "      <td>2.080875e-16</td>\n",
              "      <td>0.000000e+00</td>\n",
              "      <td>0.000000</td>\n",
              "      <td>0.094502</td>\n",
              "      <td>0.069506</td>\n",
              "      <td>0.409833</td>\n",
              "      <td>0.294580</td>\n",
              "      <td>0.000000</td>\n",
              "      <td>0.000000</td>\n",
              "      <td>0.000000</td>\n",
              "      <td>0.008220</td>\n",
              "      <td>0.000000</td>\n",
              "    </tr>\n",
              "    <tr>\n",
              "      <th>A1ZPY91VE3IDN1</th>\n",
              "      <td>0.010623</td>\n",
              "      <td>0.015023</td>\n",
              "      <td>0.015023</td>\n",
              "      <td>0.062277</td>\n",
              "      <td>1.000000e+00</td>\n",
              "      <td>0.000000e+00</td>\n",
              "      <td>1.000000e+00</td>\n",
              "      <td>0.044737</td>\n",
              "      <td>0.027372</td>\n",
              "      <td>0.020132</td>\n",
              "      <td>0.011429</td>\n",
              "      <td>0.085324</td>\n",
              "      <td>0.032258</td>\n",
              "      <td>0.008492</td>\n",
              "      <td>0.032258</td>\n",
              "      <td>0.002381</td>\n",
              "      <td>0.004796</td>\n",
              "    </tr>\n",
              "    <tr>\n",
              "      <th>A281NPSIMI1C2R</th>\n",
              "      <td>1.000000</td>\n",
              "      <td>1.000000</td>\n",
              "      <td>1.000000</td>\n",
              "      <td>1.000000</td>\n",
              "      <td>3.604771e-16</td>\n",
              "      <td>9.880907e-17</td>\n",
              "      <td>3.604771e-16</td>\n",
              "      <td>0.048663</td>\n",
              "      <td>1.000000</td>\n",
              "      <td>0.015800</td>\n",
              "      <td>0.007786</td>\n",
              "      <td>0.066961</td>\n",
              "      <td>0.035088</td>\n",
              "      <td>1.000000</td>\n",
              "      <td>0.035088</td>\n",
              "      <td>0.001868</td>\n",
              "      <td>0.780709</td>\n",
              "    </tr>\n",
              "    <tr>\n",
              "      <th>A2GJX2KCUSR0EI</th>\n",
              "      <td>0.783618</td>\n",
              "      <td>0.004880</td>\n",
              "      <td>0.004880</td>\n",
              "      <td>0.020230</td>\n",
              "      <td>5.157397e-16</td>\n",
              "      <td>1.639602e-16</td>\n",
              "      <td>5.157397e-16</td>\n",
              "      <td>0.057053</td>\n",
              "      <td>0.008892</td>\n",
              "      <td>0.006540</td>\n",
              "      <td>0.000000</td>\n",
              "      <td>1.000000</td>\n",
              "      <td>0.041138</td>\n",
              "      <td>0.010830</td>\n",
              "      <td>0.041138</td>\n",
              "      <td>0.000773</td>\n",
              "      <td>0.006117</td>\n",
              "    </tr>\n",
              "    <tr>\n",
              "      <th>A2MNB77YGJ3CN0</th>\n",
              "      <td>0.010623</td>\n",
              "      <td>0.015023</td>\n",
              "      <td>0.015023</td>\n",
              "      <td>0.062277</td>\n",
              "      <td>3.282768e-16</td>\n",
              "      <td>1.000000e+00</td>\n",
              "      <td>3.282768e-16</td>\n",
              "      <td>0.044737</td>\n",
              "      <td>0.027372</td>\n",
              "      <td>0.020132</td>\n",
              "      <td>0.011429</td>\n",
              "      <td>0.085324</td>\n",
              "      <td>0.032258</td>\n",
              "      <td>0.008492</td>\n",
              "      <td>0.032258</td>\n",
              "      <td>0.002381</td>\n",
              "      <td>0.004796</td>\n",
              "    </tr>\n",
              "    <tr>\n",
              "      <th>A3OXHLG6DIBRW8</th>\n",
              "      <td>0.065545</td>\n",
              "      <td>0.000000</td>\n",
              "      <td>0.000000</td>\n",
              "      <td>0.000000</td>\n",
              "      <td>5.864938e-16</td>\n",
              "      <td>1.132345e-16</td>\n",
              "      <td>5.864938e-16</td>\n",
              "      <td>0.062979</td>\n",
              "      <td>0.000000</td>\n",
              "      <td>0.000000</td>\n",
              "      <td>1.000000</td>\n",
              "      <td>0.000000</td>\n",
              "      <td>0.045411</td>\n",
              "      <td>0.011955</td>\n",
              "      <td>0.045411</td>\n",
              "      <td>0.000000</td>\n",
              "      <td>0.006752</td>\n",
              "    </tr>\n",
              "    <tr>\n",
              "      <th>AG8K92N37MT27</th>\n",
              "      <td>0.002577</td>\n",
              "      <td>0.695696</td>\n",
              "      <td>0.695696</td>\n",
              "      <td>0.071401</td>\n",
              "      <td>3.812782e-16</td>\n",
              "      <td>3.315852e-17</td>\n",
              "      <td>3.812782e-16</td>\n",
              "      <td>1.000000</td>\n",
              "      <td>0.031383</td>\n",
              "      <td>0.023082</td>\n",
              "      <td>0.013909</td>\n",
              "      <td>0.097825</td>\n",
              "      <td>0.030331</td>\n",
              "      <td>0.007985</td>\n",
              "      <td>0.030331</td>\n",
              "      <td>0.002730</td>\n",
              "      <td>0.536937</td>\n",
              "    </tr>\n",
              "    <tr>\n",
              "      <th>AY12DBB0U420B</th>\n",
              "      <td>0.000000</td>\n",
              "      <td>0.017928</td>\n",
              "      <td>0.017928</td>\n",
              "      <td>0.074323</td>\n",
              "      <td>3.102935e-16</td>\n",
              "      <td>6.270082e-17</td>\n",
              "      <td>3.102935e-16</td>\n",
              "      <td>0.041209</td>\n",
              "      <td>0.032667</td>\n",
              "      <td>0.024026</td>\n",
              "      <td>0.014703</td>\n",
              "      <td>0.101828</td>\n",
              "      <td>0.029713</td>\n",
              "      <td>0.746279</td>\n",
              "      <td>0.029713</td>\n",
              "      <td>0.002841</td>\n",
              "      <td>0.004418</td>\n",
              "    </tr>\n",
              "  </tbody>\n",
              "</table>\n",
              "</div>\n",
              "      <button class=\"colab-df-convert\" onclick=\"convertToInteractive('df-76d8d6d5-8eaf-4fde-a0cc-ded2bde62e9e')\"\n",
              "              title=\"Convert this dataframe to an interactive table.\"\n",
              "              style=\"display:none;\">\n",
              "        \n",
              "  <svg xmlns=\"http://www.w3.org/2000/svg\" height=\"24px\"viewBox=\"0 0 24 24\"\n",
              "       width=\"24px\">\n",
              "    <path d=\"M0 0h24v24H0V0z\" fill=\"none\"/>\n",
              "    <path d=\"M18.56 5.44l.94 2.06.94-2.06 2.06-.94-2.06-.94-.94-2.06-.94 2.06-2.06.94zm-11 1L8.5 8.5l.94-2.06 2.06-.94-2.06-.94L8.5 2.5l-.94 2.06-2.06.94zm10 10l.94 2.06.94-2.06 2.06-.94-2.06-.94-.94-2.06-.94 2.06-2.06.94z\"/><path d=\"M17.41 7.96l-1.37-1.37c-.4-.4-.92-.59-1.43-.59-.52 0-1.04.2-1.43.59L10.3 9.45l-7.72 7.72c-.78.78-.78 2.05 0 2.83L4 21.41c.39.39.9.59 1.41.59.51 0 1.02-.2 1.41-.59l7.78-7.78 2.81-2.81c.8-.78.8-2.07 0-2.86zM5.41 20L4 18.59l7.72-7.72 1.47 1.35L5.41 20z\"/>\n",
              "  </svg>\n",
              "      </button>\n",
              "      \n",
              "  <style>\n",
              "    .colab-df-container {\n",
              "      display:flex;\n",
              "      flex-wrap:wrap;\n",
              "      gap: 12px;\n",
              "    }\n",
              "\n",
              "    .colab-df-convert {\n",
              "      background-color: #E8F0FE;\n",
              "      border: none;\n",
              "      border-radius: 50%;\n",
              "      cursor: pointer;\n",
              "      display: none;\n",
              "      fill: #1967D2;\n",
              "      height: 32px;\n",
              "      padding: 0 0 0 0;\n",
              "      width: 32px;\n",
              "    }\n",
              "\n",
              "    .colab-df-convert:hover {\n",
              "      background-color: #E2EBFA;\n",
              "      box-shadow: 0px 1px 2px rgba(60, 64, 67, 0.3), 0px 1px 3px 1px rgba(60, 64, 67, 0.15);\n",
              "      fill: #174EA6;\n",
              "    }\n",
              "\n",
              "    [theme=dark] .colab-df-convert {\n",
              "      background-color: #3B4455;\n",
              "      fill: #D2E3FC;\n",
              "    }\n",
              "\n",
              "    [theme=dark] .colab-df-convert:hover {\n",
              "      background-color: #434B5C;\n",
              "      box-shadow: 0px 1px 3px 1px rgba(0, 0, 0, 0.15);\n",
              "      filter: drop-shadow(0px 1px 2px rgba(0, 0, 0, 0.3));\n",
              "      fill: #FFFFFF;\n",
              "    }\n",
              "  </style>\n",
              "\n",
              "      <script>\n",
              "        const buttonEl =\n",
              "          document.querySelector('#df-76d8d6d5-8eaf-4fde-a0cc-ded2bde62e9e button.colab-df-convert');\n",
              "        buttonEl.style.display =\n",
              "          google.colab.kernel.accessAllowed ? 'block' : 'none';\n",
              "\n",
              "        async function convertToInteractive(key) {\n",
              "          const element = document.querySelector('#df-76d8d6d5-8eaf-4fde-a0cc-ded2bde62e9e');\n",
              "          const dataTable =\n",
              "            await google.colab.kernel.invokeFunction('convertToInteractive',\n",
              "                                                     [key], {});\n",
              "          if (!dataTable) return;\n",
              "\n",
              "          const docLinkHtml = 'Like what you see? Visit the ' +\n",
              "            '<a target=\"_blank\" href=https://colab.research.google.com/notebooks/data_table.ipynb>data table notebook</a>'\n",
              "            + ' to learn more about interactive tables.';\n",
              "          element.innerHTML = '';\n",
              "          dataTable['output_type'] = 'display_data';\n",
              "          await google.colab.output.renderOutput(dataTable, element);\n",
              "          const docLink = document.createElement('div');\n",
              "          docLink.innerHTML = docLinkHtml;\n",
              "          element.appendChild(docLink);\n",
              "        }\n",
              "      </script>\n",
              "    </div>\n",
              "  </div>\n",
              "  "
            ]
          },
          "metadata": {},
          "execution_count": 115
        }
      ],
      "source": [
        "pred_matrix"
      ]
    },
    {
      "cell_type": "code",
      "execution_count": 116,
      "id": "2be198bd",
      "metadata": {
        "colab": {
          "base_uri": "https://localhost:8080/",
          "height": 407
        },
        "id": "2be198bd",
        "outputId": "90d7c860-9900-4c6e-cd76-cf617ebedfb2"
      },
      "outputs": [
        {
          "output_type": "execute_result",
          "data": {
            "text/plain": [
              "           User-ID     Book-ID  \\\n",
              "0   A1TPW86OHXTXFC  B0001LO3FG   \n",
              "2   A1TPW86OHXTXFC  B000F4DKAI   \n",
              "4   A1TPW86OHXTXFC  B0014WYXYW   \n",
              "5   A1TPW86OHXTXFC  B008QMX2SG   \n",
              "7   A1TPW86OHXTXFC  B00BUKL666   \n",
              "10  A1TPW86OHXTXFC  B00D3M2QP4   \n",
              "12  A1TPW86OHXTXFC  B00WFDMRDI   \n",
              "13  A1TPW86OHXTXFC  B00XA8XWGS   \n",
              "14  A1UQBFCERIP7VJ  B00WFDMRDI   \n",
              "15  A1WX42M589VAMQ  B000168QTU   \n",
              "\n",
              "                                           reviewText reviewLen Rating  \\\n",
              "0   Long a era drinker. I drink coffee in the morn...     179.0  209.0   \n",
              "2   Long a era drinker. I drink coffee in the morn...     179.0  209.0   \n",
              "4   My granddaughter loves fizzy drinks as she cal...     120.0  106.0   \n",
              "5   Carrots, celery etc get to be very tiresome fo...     176.0  165.0   \n",
              "7   Carrots, celery etc get to be very tiresome fo...     176.0  197.0   \n",
              "10  Carrots, celery etc get to be very tiresome fo...     176.0  165.0   \n",
              "12  Chocolate covered blueberries sounded like a d...     142.0  102.0   \n",
              "13  While in England, on my first trip, I enjoyed ...     164.0  146.0   \n",
              "14  This trail mix contains a very nice selection ...     107.0  102.0   \n",
              "15  I have been so hooked on my Rishi and Twinings...     237.0  149.0   \n",
              "\n",
              "   flair_sentiment ReviewRating  Pred_Rating  \n",
              "0           0.9998     0.597826     0.827809  \n",
              "2           0.9998     0.597826     0.827809  \n",
              "4           0.9996     0.548913     1.000000  \n",
              "5              4.0     0.820652     1.000000  \n",
              "7              4.0     0.820652     0.937355  \n",
              "10             4.0     0.820652     1.000000  \n",
              "12             8.0     0.913043     1.000000  \n",
              "13            15.0     0.934783     1.000000  \n",
              "14             1.0     0.728261     0.797536  \n",
              "15          0.9999     0.652174     0.685497  "
            ],
            "text/html": [
              "\n",
              "  <div id=\"df-86d1c162-2fab-4d37-9dbe-4224058d7da0\">\n",
              "    <div class=\"colab-df-container\">\n",
              "      <div>\n",
              "<style scoped>\n",
              "    .dataframe tbody tr th:only-of-type {\n",
              "        vertical-align: middle;\n",
              "    }\n",
              "\n",
              "    .dataframe tbody tr th {\n",
              "        vertical-align: top;\n",
              "    }\n",
              "\n",
              "    .dataframe thead th {\n",
              "        text-align: right;\n",
              "    }\n",
              "</style>\n",
              "<table border=\"1\" class=\"dataframe\">\n",
              "  <thead>\n",
              "    <tr style=\"text-align: right;\">\n",
              "      <th></th>\n",
              "      <th>User-ID</th>\n",
              "      <th>Book-ID</th>\n",
              "      <th>reviewText</th>\n",
              "      <th>reviewLen</th>\n",
              "      <th>Rating</th>\n",
              "      <th>flair_sentiment</th>\n",
              "      <th>ReviewRating</th>\n",
              "      <th>Pred_Rating</th>\n",
              "    </tr>\n",
              "  </thead>\n",
              "  <tbody>\n",
              "    <tr>\n",
              "      <th>0</th>\n",
              "      <td>A1TPW86OHXTXFC</td>\n",
              "      <td>B0001LO3FG</td>\n",
              "      <td>Long a era drinker. I drink coffee in the morn...</td>\n",
              "      <td>179.0</td>\n",
              "      <td>209.0</td>\n",
              "      <td>0.9998</td>\n",
              "      <td>0.597826</td>\n",
              "      <td>0.827809</td>\n",
              "    </tr>\n",
              "    <tr>\n",
              "      <th>2</th>\n",
              "      <td>A1TPW86OHXTXFC</td>\n",
              "      <td>B000F4DKAI</td>\n",
              "      <td>Long a era drinker. I drink coffee in the morn...</td>\n",
              "      <td>179.0</td>\n",
              "      <td>209.0</td>\n",
              "      <td>0.9998</td>\n",
              "      <td>0.597826</td>\n",
              "      <td>0.827809</td>\n",
              "    </tr>\n",
              "    <tr>\n",
              "      <th>4</th>\n",
              "      <td>A1TPW86OHXTXFC</td>\n",
              "      <td>B0014WYXYW</td>\n",
              "      <td>My granddaughter loves fizzy drinks as she cal...</td>\n",
              "      <td>120.0</td>\n",
              "      <td>106.0</td>\n",
              "      <td>0.9996</td>\n",
              "      <td>0.548913</td>\n",
              "      <td>1.000000</td>\n",
              "    </tr>\n",
              "    <tr>\n",
              "      <th>5</th>\n",
              "      <td>A1TPW86OHXTXFC</td>\n",
              "      <td>B008QMX2SG</td>\n",
              "      <td>Carrots, celery etc get to be very tiresome fo...</td>\n",
              "      <td>176.0</td>\n",
              "      <td>165.0</td>\n",
              "      <td>4.0</td>\n",
              "      <td>0.820652</td>\n",
              "      <td>1.000000</td>\n",
              "    </tr>\n",
              "    <tr>\n",
              "      <th>7</th>\n",
              "      <td>A1TPW86OHXTXFC</td>\n",
              "      <td>B00BUKL666</td>\n",
              "      <td>Carrots, celery etc get to be very tiresome fo...</td>\n",
              "      <td>176.0</td>\n",
              "      <td>197.0</td>\n",
              "      <td>4.0</td>\n",
              "      <td>0.820652</td>\n",
              "      <td>0.937355</td>\n",
              "    </tr>\n",
              "    <tr>\n",
              "      <th>10</th>\n",
              "      <td>A1TPW86OHXTXFC</td>\n",
              "      <td>B00D3M2QP4</td>\n",
              "      <td>Carrots, celery etc get to be very tiresome fo...</td>\n",
              "      <td>176.0</td>\n",
              "      <td>165.0</td>\n",
              "      <td>4.0</td>\n",
              "      <td>0.820652</td>\n",
              "      <td>1.000000</td>\n",
              "    </tr>\n",
              "    <tr>\n",
              "      <th>12</th>\n",
              "      <td>A1TPW86OHXTXFC</td>\n",
              "      <td>B00WFDMRDI</td>\n",
              "      <td>Chocolate covered blueberries sounded like a d...</td>\n",
              "      <td>142.0</td>\n",
              "      <td>102.0</td>\n",
              "      <td>8.0</td>\n",
              "      <td>0.913043</td>\n",
              "      <td>1.000000</td>\n",
              "    </tr>\n",
              "    <tr>\n",
              "      <th>13</th>\n",
              "      <td>A1TPW86OHXTXFC</td>\n",
              "      <td>B00XA8XWGS</td>\n",
              "      <td>While in England, on my first trip, I enjoyed ...</td>\n",
              "      <td>164.0</td>\n",
              "      <td>146.0</td>\n",
              "      <td>15.0</td>\n",
              "      <td>0.934783</td>\n",
              "      <td>1.000000</td>\n",
              "    </tr>\n",
              "    <tr>\n",
              "      <th>14</th>\n",
              "      <td>A1UQBFCERIP7VJ</td>\n",
              "      <td>B00WFDMRDI</td>\n",
              "      <td>This trail mix contains a very nice selection ...</td>\n",
              "      <td>107.0</td>\n",
              "      <td>102.0</td>\n",
              "      <td>1.0</td>\n",
              "      <td>0.728261</td>\n",
              "      <td>0.797536</td>\n",
              "    </tr>\n",
              "    <tr>\n",
              "      <th>15</th>\n",
              "      <td>A1WX42M589VAMQ</td>\n",
              "      <td>B000168QTU</td>\n",
              "      <td>I have been so hooked on my Rishi and Twinings...</td>\n",
              "      <td>237.0</td>\n",
              "      <td>149.0</td>\n",
              "      <td>0.9999</td>\n",
              "      <td>0.652174</td>\n",
              "      <td>0.685497</td>\n",
              "    </tr>\n",
              "  </tbody>\n",
              "</table>\n",
              "</div>\n",
              "      <button class=\"colab-df-convert\" onclick=\"convertToInteractive('df-86d1c162-2fab-4d37-9dbe-4224058d7da0')\"\n",
              "              title=\"Convert this dataframe to an interactive table.\"\n",
              "              style=\"display:none;\">\n",
              "        \n",
              "  <svg xmlns=\"http://www.w3.org/2000/svg\" height=\"24px\"viewBox=\"0 0 24 24\"\n",
              "       width=\"24px\">\n",
              "    <path d=\"M0 0h24v24H0V0z\" fill=\"none\"/>\n",
              "    <path d=\"M18.56 5.44l.94 2.06.94-2.06 2.06-.94-2.06-.94-.94-2.06-.94 2.06-2.06.94zm-11 1L8.5 8.5l.94-2.06 2.06-.94-2.06-.94L8.5 2.5l-.94 2.06-2.06.94zm10 10l.94 2.06.94-2.06 2.06-.94-2.06-.94-.94-2.06-.94 2.06-2.06.94z\"/><path d=\"M17.41 7.96l-1.37-1.37c-.4-.4-.92-.59-1.43-.59-.52 0-1.04.2-1.43.59L10.3 9.45l-7.72 7.72c-.78.78-.78 2.05 0 2.83L4 21.41c.39.39.9.59 1.41.59.51 0 1.02-.2 1.41-.59l7.78-7.78 2.81-2.81c.8-.78.8-2.07 0-2.86zM5.41 20L4 18.59l7.72-7.72 1.47 1.35L5.41 20z\"/>\n",
              "  </svg>\n",
              "      </button>\n",
              "      \n",
              "  <style>\n",
              "    .colab-df-container {\n",
              "      display:flex;\n",
              "      flex-wrap:wrap;\n",
              "      gap: 12px;\n",
              "    }\n",
              "\n",
              "    .colab-df-convert {\n",
              "      background-color: #E8F0FE;\n",
              "      border: none;\n",
              "      border-radius: 50%;\n",
              "      cursor: pointer;\n",
              "      display: none;\n",
              "      fill: #1967D2;\n",
              "      height: 32px;\n",
              "      padding: 0 0 0 0;\n",
              "      width: 32px;\n",
              "    }\n",
              "\n",
              "    .colab-df-convert:hover {\n",
              "      background-color: #E2EBFA;\n",
              "      box-shadow: 0px 1px 2px rgba(60, 64, 67, 0.3), 0px 1px 3px 1px rgba(60, 64, 67, 0.15);\n",
              "      fill: #174EA6;\n",
              "    }\n",
              "\n",
              "    [theme=dark] .colab-df-convert {\n",
              "      background-color: #3B4455;\n",
              "      fill: #D2E3FC;\n",
              "    }\n",
              "\n",
              "    [theme=dark] .colab-df-convert:hover {\n",
              "      background-color: #434B5C;\n",
              "      box-shadow: 0px 1px 3px 1px rgba(0, 0, 0, 0.15);\n",
              "      filter: drop-shadow(0px 1px 2px rgba(0, 0, 0, 0.3));\n",
              "      fill: #FFFFFF;\n",
              "    }\n",
              "  </style>\n",
              "\n",
              "      <script>\n",
              "        const buttonEl =\n",
              "          document.querySelector('#df-86d1c162-2fab-4d37-9dbe-4224058d7da0 button.colab-df-convert');\n",
              "        buttonEl.style.display =\n",
              "          google.colab.kernel.accessAllowed ? 'block' : 'none';\n",
              "\n",
              "        async function convertToInteractive(key) {\n",
              "          const element = document.querySelector('#df-86d1c162-2fab-4d37-9dbe-4224058d7da0');\n",
              "          const dataTable =\n",
              "            await google.colab.kernel.invokeFunction('convertToInteractive',\n",
              "                                                     [key], {});\n",
              "          if (!dataTable) return;\n",
              "\n",
              "          const docLinkHtml = 'Like what you see? Visit the ' +\n",
              "            '<a target=\"_blank\" href=https://colab.research.google.com/notebooks/data_table.ipynb>data table notebook</a>'\n",
              "            + ' to learn more about interactive tables.';\n",
              "          element.innerHTML = '';\n",
              "          dataTable['output_type'] = 'display_data';\n",
              "          await google.colab.output.renderOutput(dataTable, element);\n",
              "          const docLink = document.createElement('div');\n",
              "          docLink.innerHTML = docLinkHtml;\n",
              "          element.appendChild(docLink);\n",
              "        }\n",
              "      </script>\n",
              "    </div>\n",
              "  </div>\n",
              "  "
            ]
          },
          "metadata": {},
          "execution_count": 116
        }
      ],
      "source": [
        "def find_pivot_value(x):\n",
        "    val = pred_matrix.loc[x[0],x[1]]\n",
        "    return val\n",
        "\n",
        "predicted_df = combined.copy()\n",
        "predicted_df['Pred_Rating'] = predicted_df[['User-ID','Book-ID']].apply(find_pivot_value, axis = 1)\n",
        "\n",
        "predicted_df.head(10)"
      ]
    },
    {
      "cell_type": "code",
      "execution_count": 119,
      "id": "439e1f5b",
      "metadata": {
        "colab": {
          "base_uri": "https://localhost:8080/"
        },
        "id": "439e1f5b",
        "outputId": "ac6155cc-0005-4941-ec8f-d40beb744a14"
      },
      "outputs": [
        {
          "output_type": "execute_result",
          "data": {
            "text/plain": [
              "0.037601812607740766"
            ]
          },
          "metadata": {},
          "execution_count": 119
        }
      ],
      "source": [
        "from sklearn.metrics import mean_squared_error\n",
        "score = mean_squared_error(predicted_df['ReviewRating'], predicted_df['Pred_Rating'])\n",
        "score"
      ]
    },
    {
      "cell_type": "markdown",
      "id": "19a1d877",
      "metadata": {
        "id": "19a1d877"
      },
      "source": [
        "#### Neural Network\n",
        "\n",
        "Now, let's train the NN to make the embeddings fit the ReviewRating data much more effectively. First, we need to append them to the Full DataFrame\n"
      ]
    },
    {
      "cell_type": "code",
      "execution_count": 120,
      "id": "36f5f123",
      "metadata": {
        "id": "36f5f123"
      },
      "outputs": [],
      "source": [
        "def append_embeddings(df, user_embed_df, book_embed_df):\n",
        "    #Append embeddings to the full list of rated user-book combinations\n",
        "    #Returns df with appended embeddings [user] + [book] in a column\n",
        "    def find_user_book(x):\n",
        "        #Functions used to \n",
        "        user_row = user_embed_df.loc[user_embed_df.index == x[0]]\n",
        "        book_row = book_embed_df.loc[book_embed_df.index == x[1]]\n",
        "        return np.concatenate((np.array(user_row),np.array(book_row)), axis = None)\n",
        "    \n",
        "    df['Full-Vector'] = df[['User-ID','Book-ID']].apply(find_user_book, axis = 1)\n",
        "\n",
        "    return df\n"
      ]
    },
    {
      "cell_type": "code",
      "execution_count": 121,
      "id": "8a934459",
      "metadata": {
        "colab": {
          "base_uri": "https://localhost:8080/",
          "height": 548
        },
        "id": "8a934459",
        "outputId": "299e530c-c220-47e6-ee7e-2c98b26ca92d"
      },
      "outputs": [
        {
          "output_type": "execute_result",
          "data": {
            "text/plain": [
              "          User-ID     Book-ID  \\\n",
              "0  A1TPW86OHXTXFC  B0001LO3FG   \n",
              "1  A1TPW86OHXTXFC  B0001LO3FG   \n",
              "2  A1TPW86OHXTXFC  B000F4DKAI   \n",
              "3  A1TPW86OHXTXFC  B000F4DKAI   \n",
              "4  A1TPW86OHXTXFC  B0014WYXYW   \n",
              "\n",
              "                                          reviewText  reviewLen  Rating  \\\n",
              "0  Long a era drinker. I drink coffee in the morn...      179.0   209.0   \n",
              "1  While in England, on my first trip, I enjoyed ...      164.0   209.0   \n",
              "2  Long a era drinker. I drink coffee in the morn...      179.0   209.0   \n",
              "3  While in England, on my first trip, I enjoyed ...      164.0   209.0   \n",
              "4  My granddaughter loves fizzy drinks as she cal...      120.0   106.0   \n",
              "\n",
              "   flair_sentiment  ReviewRating  ReviewRating  ReviewRating  ReviewRating  \\\n",
              "0           0.9998      0.597826      0.597826      0.597826      0.597826   \n",
              "1          15.0000      0.934783      0.934783      0.934783      0.934783   \n",
              "2           0.9998      0.597826      0.597826      0.597826      0.597826   \n",
              "3          15.0000      0.934783      0.934783      0.934783      0.934783   \n",
              "4           0.9996      0.548913      0.548913      0.548913      0.548913   \n",
              "\n",
              "                                         Full-Vector  \n",
              "0  [0.11283980262409404, 0.22299359049092451, -0....  \n",
              "1  [0.11283980262409404, 0.22299359049092451, -0....  \n",
              "2  [0.11283980262409404, 0.22299359049092451, -0....  \n",
              "3  [0.11283980262409404, 0.22299359049092451, -0....  \n",
              "4  [0.11283980262409404, 0.22299359049092451, -0....  "
            ],
            "text/html": [
              "\n",
              "  <div id=\"df-fc8e1c76-bcc1-4ff7-969f-4581118c9277\">\n",
              "    <div class=\"colab-df-container\">\n",
              "      <div>\n",
              "<style scoped>\n",
              "    .dataframe tbody tr th:only-of-type {\n",
              "        vertical-align: middle;\n",
              "    }\n",
              "\n",
              "    .dataframe tbody tr th {\n",
              "        vertical-align: top;\n",
              "    }\n",
              "\n",
              "    .dataframe thead th {\n",
              "        text-align: right;\n",
              "    }\n",
              "</style>\n",
              "<table border=\"1\" class=\"dataframe\">\n",
              "  <thead>\n",
              "    <tr style=\"text-align: right;\">\n",
              "      <th></th>\n",
              "      <th>User-ID</th>\n",
              "      <th>Book-ID</th>\n",
              "      <th>reviewText</th>\n",
              "      <th>reviewLen</th>\n",
              "      <th>Rating</th>\n",
              "      <th>flair_sentiment</th>\n",
              "      <th>ReviewRating</th>\n",
              "      <th>ReviewRating</th>\n",
              "      <th>ReviewRating</th>\n",
              "      <th>ReviewRating</th>\n",
              "      <th>Full-Vector</th>\n",
              "    </tr>\n",
              "  </thead>\n",
              "  <tbody>\n",
              "    <tr>\n",
              "      <th>0</th>\n",
              "      <td>A1TPW86OHXTXFC</td>\n",
              "      <td>B0001LO3FG</td>\n",
              "      <td>Long a era drinker. I drink coffee in the morn...</td>\n",
              "      <td>179.0</td>\n",
              "      <td>209.0</td>\n",
              "      <td>0.9998</td>\n",
              "      <td>0.597826</td>\n",
              "      <td>0.597826</td>\n",
              "      <td>0.597826</td>\n",
              "      <td>0.597826</td>\n",
              "      <td>[0.11283980262409404, 0.22299359049092451, -0....</td>\n",
              "    </tr>\n",
              "    <tr>\n",
              "      <th>1</th>\n",
              "      <td>A1TPW86OHXTXFC</td>\n",
              "      <td>B0001LO3FG</td>\n",
              "      <td>While in England, on my first trip, I enjoyed ...</td>\n",
              "      <td>164.0</td>\n",
              "      <td>209.0</td>\n",
              "      <td>15.0000</td>\n",
              "      <td>0.934783</td>\n",
              "      <td>0.934783</td>\n",
              "      <td>0.934783</td>\n",
              "      <td>0.934783</td>\n",
              "      <td>[0.11283980262409404, 0.22299359049092451, -0....</td>\n",
              "    </tr>\n",
              "    <tr>\n",
              "      <th>2</th>\n",
              "      <td>A1TPW86OHXTXFC</td>\n",
              "      <td>B000F4DKAI</td>\n",
              "      <td>Long a era drinker. I drink coffee in the morn...</td>\n",
              "      <td>179.0</td>\n",
              "      <td>209.0</td>\n",
              "      <td>0.9998</td>\n",
              "      <td>0.597826</td>\n",
              "      <td>0.597826</td>\n",
              "      <td>0.597826</td>\n",
              "      <td>0.597826</td>\n",
              "      <td>[0.11283980262409404, 0.22299359049092451, -0....</td>\n",
              "    </tr>\n",
              "    <tr>\n",
              "      <th>3</th>\n",
              "      <td>A1TPW86OHXTXFC</td>\n",
              "      <td>B000F4DKAI</td>\n",
              "      <td>While in England, on my first trip, I enjoyed ...</td>\n",
              "      <td>164.0</td>\n",
              "      <td>209.0</td>\n",
              "      <td>15.0000</td>\n",
              "      <td>0.934783</td>\n",
              "      <td>0.934783</td>\n",
              "      <td>0.934783</td>\n",
              "      <td>0.934783</td>\n",
              "      <td>[0.11283980262409404, 0.22299359049092451, -0....</td>\n",
              "    </tr>\n",
              "    <tr>\n",
              "      <th>4</th>\n",
              "      <td>A1TPW86OHXTXFC</td>\n",
              "      <td>B0014WYXYW</td>\n",
              "      <td>My granddaughter loves fizzy drinks as she cal...</td>\n",
              "      <td>120.0</td>\n",
              "      <td>106.0</td>\n",
              "      <td>0.9996</td>\n",
              "      <td>0.548913</td>\n",
              "      <td>0.548913</td>\n",
              "      <td>0.548913</td>\n",
              "      <td>0.548913</td>\n",
              "      <td>[0.11283980262409404, 0.22299359049092451, -0....</td>\n",
              "    </tr>\n",
              "  </tbody>\n",
              "</table>\n",
              "</div>\n",
              "      <button class=\"colab-df-convert\" onclick=\"convertToInteractive('df-fc8e1c76-bcc1-4ff7-969f-4581118c9277')\"\n",
              "              title=\"Convert this dataframe to an interactive table.\"\n",
              "              style=\"display:none;\">\n",
              "        \n",
              "  <svg xmlns=\"http://www.w3.org/2000/svg\" height=\"24px\"viewBox=\"0 0 24 24\"\n",
              "       width=\"24px\">\n",
              "    <path d=\"M0 0h24v24H0V0z\" fill=\"none\"/>\n",
              "    <path d=\"M18.56 5.44l.94 2.06.94-2.06 2.06-.94-2.06-.94-.94-2.06-.94 2.06-2.06.94zm-11 1L8.5 8.5l.94-2.06 2.06-.94-2.06-.94L8.5 2.5l-.94 2.06-2.06.94zm10 10l.94 2.06.94-2.06 2.06-.94-2.06-.94-.94-2.06-.94 2.06-2.06.94z\"/><path d=\"M17.41 7.96l-1.37-1.37c-.4-.4-.92-.59-1.43-.59-.52 0-1.04.2-1.43.59L10.3 9.45l-7.72 7.72c-.78.78-.78 2.05 0 2.83L4 21.41c.39.39.9.59 1.41.59.51 0 1.02-.2 1.41-.59l7.78-7.78 2.81-2.81c.8-.78.8-2.07 0-2.86zM5.41 20L4 18.59l7.72-7.72 1.47 1.35L5.41 20z\"/>\n",
              "  </svg>\n",
              "      </button>\n",
              "      \n",
              "  <style>\n",
              "    .colab-df-container {\n",
              "      display:flex;\n",
              "      flex-wrap:wrap;\n",
              "      gap: 12px;\n",
              "    }\n",
              "\n",
              "    .colab-df-convert {\n",
              "      background-color: #E8F0FE;\n",
              "      border: none;\n",
              "      border-radius: 50%;\n",
              "      cursor: pointer;\n",
              "      display: none;\n",
              "      fill: #1967D2;\n",
              "      height: 32px;\n",
              "      padding: 0 0 0 0;\n",
              "      width: 32px;\n",
              "    }\n",
              "\n",
              "    .colab-df-convert:hover {\n",
              "      background-color: #E2EBFA;\n",
              "      box-shadow: 0px 1px 2px rgba(60, 64, 67, 0.3), 0px 1px 3px 1px rgba(60, 64, 67, 0.15);\n",
              "      fill: #174EA6;\n",
              "    }\n",
              "\n",
              "    [theme=dark] .colab-df-convert {\n",
              "      background-color: #3B4455;\n",
              "      fill: #D2E3FC;\n",
              "    }\n",
              "\n",
              "    [theme=dark] .colab-df-convert:hover {\n",
              "      background-color: #434B5C;\n",
              "      box-shadow: 0px 1px 3px 1px rgba(0, 0, 0, 0.15);\n",
              "      filter: drop-shadow(0px 1px 2px rgba(0, 0, 0, 0.3));\n",
              "      fill: #FFFFFF;\n",
              "    }\n",
              "  </style>\n",
              "\n",
              "      <script>\n",
              "        const buttonEl =\n",
              "          document.querySelector('#df-fc8e1c76-bcc1-4ff7-969f-4581118c9277 button.colab-df-convert');\n",
              "        buttonEl.style.display =\n",
              "          google.colab.kernel.accessAllowed ? 'block' : 'none';\n",
              "\n",
              "        async function convertToInteractive(key) {\n",
              "          const element = document.querySelector('#df-fc8e1c76-bcc1-4ff7-969f-4581118c9277');\n",
              "          const dataTable =\n",
              "            await google.colab.kernel.invokeFunction('convertToInteractive',\n",
              "                                                     [key], {});\n",
              "          if (!dataTable) return;\n",
              "\n",
              "          const docLinkHtml = 'Like what you see? Visit the ' +\n",
              "            '<a target=\"_blank\" href=https://colab.research.google.com/notebooks/data_table.ipynb>data table notebook</a>'\n",
              "            + ' to learn more about interactive tables.';\n",
              "          element.innerHTML = '';\n",
              "          dataTable['output_type'] = 'display_data';\n",
              "          await google.colab.output.renderOutput(dataTable, element);\n",
              "          const docLink = document.createElement('div');\n",
              "          docLink.innerHTML = docLinkHtml;\n",
              "          element.appendChild(docLink);\n",
              "        }\n",
              "      </script>\n",
              "    </div>\n",
              "  </div>\n",
              "  "
            ]
          },
          "metadata": {},
          "execution_count": 121
        }
      ],
      "source": [
        "reviews_filtered = append_embeddings(reviews_filtered, user_embed_df, book_embed_df)\n",
        "\n",
        "reviews_filtered.head()"
      ]
    },
    {
      "cell_type": "markdown",
      "id": "b95a4d4a",
      "metadata": {
        "id": "b95a4d4a"
      },
      "source": [
        "Split data into X_train, X_test, y_train, and y_test like you normally would"
      ]
    },
    {
      "cell_type": "code",
      "execution_count": 122,
      "id": "2ed8f55f",
      "metadata": {
        "id": "2ed8f55f"
      },
      "outputs": [],
      "source": [
        "def create_train_test(df, y_col = 'ReviewRating'):\n",
        "    #Manipulates the df with Full-Vector to the appropriate format needed for NN modeling.\n",
        "    #X_train, X_test, y_train, y_test data ready to be fed into NN model\n",
        "    X_total = df['Full-Vector']\n",
        "\n",
        "    X_total = np.stack((X_total))\n",
        "    \n",
        "    y_total = np.array(df[y_col])\n",
        "    y_total = np.expand_dims(y_total,axis = 1)\n",
        "    \n",
        "    from sklearn.model_selection import train_test_split\n",
        "    \n",
        "    X_train, X_test, y_train, y_test = train_test_split(X_total, y_total, test_size = 0.2 , random_state = 21)\n",
        "\n",
        "    return X_train, X_test, y_train, y_test\n"
      ]
    },
    {
      "cell_type": "code",
      "execution_count": 123,
      "id": "6e14248d",
      "metadata": {
        "id": "6e14248d"
      },
      "outputs": [],
      "source": [
        "X_train, X_test, y_train, y_test = create_train_test(reviews_filtered)\n"
      ]
    },
    {
      "cell_type": "markdown",
      "id": "2f8e6231",
      "metadata": {
        "id": "2f8e6231"
      },
      "source": [
        "Try baseline model. There are other models we tried, but the baseline one is the best one"
      ]
    },
    {
      "cell_type": "code",
      "execution_count": 124,
      "id": "2cf99446",
      "metadata": {
        "colab": {
          "base_uri": "https://localhost:8080/"
        },
        "id": "2cf99446",
        "outputId": "1b8ae9b3-5804-4351-aaa5-ecf790f5da3e"
      },
      "outputs": [
        {
          "output_type": "stream",
          "name": "stdout",
          "text": [
            "Model: \"model\"\n",
            "_________________________________________________________________\n",
            " Layer (type)                Output Shape              Param #   \n",
            "=================================================================\n",
            " input_1 (InputLayer)        [(None, 20)]              0         \n",
            "                                                                 \n",
            " dense (Dense)               (None, 2048)              43008     \n",
            "                                                                 \n",
            " dropout (Dropout)           (None, 2048)              0         \n",
            "                                                                 \n",
            " batch_normalization (BatchN  (None, 2048)             8192      \n",
            " ormalization)                                                   \n",
            "                                                                 \n",
            " dense_1 (Dense)             (None, 1024)              2098176   \n",
            "                                                                 \n",
            " dropout_1 (Dropout)         (None, 1024)              0         \n",
            "                                                                 \n",
            " batch_normalization_1 (Batc  (None, 1024)             4096      \n",
            " hNormalization)                                                 \n",
            "                                                                 \n",
            " dense_2 (Dense)             (None, 512)               524800    \n",
            "                                                                 \n",
            " dropout_2 (Dropout)         (None, 512)               0         \n",
            "                                                                 \n",
            " batch_normalization_2 (Batc  (None, 512)              2048      \n",
            " hNormalization)                                                 \n",
            "                                                                 \n",
            " dense_3 (Dense)             (None, 256)               131328    \n",
            "                                                                 \n",
            " dense_4 (Dense)             (None, 64)                16448     \n",
            "                                                                 \n",
            " dense_5 (Dense)             (None, 16)                1040      \n",
            "                                                                 \n",
            " dense_6 (Dense)             (None, 1)                 17        \n",
            "                                                                 \n",
            "=================================================================\n",
            "Total params: 2,829,153\n",
            "Trainable params: 2,821,985\n",
            "Non-trainable params: 7,168\n",
            "_________________________________________________________________\n"
          ]
        }
      ],
      "source": [
        "import NN_Model as NN\n",
        "\n",
        "model_list = []\n",
        "\n",
        "baseline_model = NN.baseline_model(embedding_length*2)\n",
        "baseline_model.compile(optimizer = 'adam', loss = 'mean_squared_error', metrics = ['mean_absolute_error'])\n",
        "model_list.append(baseline_model)\n"
      ]
    },
    {
      "cell_type": "markdown",
      "id": "8aa506f5",
      "metadata": {
        "id": "8aa506f5"
      },
      "source": [
        "Let's train the model for 35 epochs, using batch size of 128."
      ]
    },
    {
      "cell_type": "code",
      "execution_count": 125,
      "id": "499b9a14",
      "metadata": {
        "colab": {
          "base_uri": "https://localhost:8080/"
        },
        "id": "499b9a14",
        "outputId": "7818d09d-0db1-4c50-e9d1-b261dcf2ace7"
      },
      "outputs": [
        {
          "output_type": "stream",
          "name": "stdout",
          "text": [
            "train\n",
            "Epoch 1/35\n",
            "1/1 [==============================] - 2s 2s/step - loss: 0.3764 - mean_absolute_error: 0.5408 - val_loss: 0.4712 - val_mean_absolute_error: 0.6643\n",
            "Epoch 2/35\n",
            "1/1 [==============================] - 0s 99ms/step - loss: 0.3479 - mean_absolute_error: 0.5102 - val_loss: 0.4639 - val_mean_absolute_error: 0.6587\n",
            "Epoch 3/35\n",
            "1/1 [==============================] - 0s 75ms/step - loss: 0.5047 - mean_absolute_error: 0.5834 - val_loss: 0.4586 - val_mean_absolute_error: 0.6548\n",
            "Epoch 4/35\n",
            "1/1 [==============================] - 0s 84ms/step - loss: 0.6308 - mean_absolute_error: 0.6234 - val_loss: 0.4588 - val_mean_absolute_error: 0.6549\n",
            "Epoch 5/35\n",
            "1/1 [==============================] - 0s 79ms/step - loss: 0.3286 - mean_absolute_error: 0.4881 - val_loss: 0.4520 - val_mean_absolute_error: 0.6496\n",
            "Epoch 6/35\n",
            "1/1 [==============================] - 0s 77ms/step - loss: 0.3073 - mean_absolute_error: 0.4679 - val_loss: 0.4465 - val_mean_absolute_error: 0.6452\n",
            "Epoch 7/35\n",
            "1/1 [==============================] - 0s 79ms/step - loss: 0.2913 - mean_absolute_error: 0.4535 - val_loss: 0.4476 - val_mean_absolute_error: 0.6461\n",
            "Epoch 8/35\n",
            "1/1 [==============================] - 0s 86ms/step - loss: 0.3063 - mean_absolute_error: 0.4513 - val_loss: 0.4562 - val_mean_absolute_error: 0.6528\n",
            "Epoch 9/35\n",
            "1/1 [==============================] - 0s 74ms/step - loss: 0.3129 - mean_absolute_error: 0.4669 - val_loss: 0.4645 - val_mean_absolute_error: 0.6591\n",
            "Epoch 10/35\n",
            "1/1 [==============================] - 0s 74ms/step - loss: 0.2839 - mean_absolute_error: 0.4468 - val_loss: 0.4679 - val_mean_absolute_error: 0.6617\n",
            "Epoch 11/35\n",
            "1/1 [==============================] - 0s 80ms/step - loss: 0.2944 - mean_absolute_error: 0.4460 - val_loss: 0.4686 - val_mean_absolute_error: 0.6622\n",
            "Epoch 12/35\n",
            "1/1 [==============================] - 0s 75ms/step - loss: 0.2643 - mean_absolute_error: 0.4360 - val_loss: 0.4625 - val_mean_absolute_error: 0.6576\n",
            "Epoch 13/35\n",
            "1/1 [==============================] - 0s 76ms/step - loss: 0.2562 - mean_absolute_error: 0.4146 - val_loss: 0.4599 - val_mean_absolute_error: 0.6556\n",
            "Epoch 14/35\n",
            "1/1 [==============================] - 0s 82ms/step - loss: 0.2357 - mean_absolute_error: 0.3984 - val_loss: 0.4553 - val_mean_absolute_error: 0.6520\n",
            "Epoch 15/35\n",
            "1/1 [==============================] - 0s 80ms/step - loss: 0.2780 - mean_absolute_error: 0.4188 - val_loss: 0.4518 - val_mean_absolute_error: 0.6493\n",
            "Epoch 16/35\n",
            "1/1 [==============================] - 0s 92ms/step - loss: 0.2520 - mean_absolute_error: 0.4143 - val_loss: 0.4496 - val_mean_absolute_error: 0.6476\n",
            "Epoch 17/35\n",
            "1/1 [==============================] - 0s 84ms/step - loss: 0.2247 - mean_absolute_error: 0.3830 - val_loss: 0.4480 - val_mean_absolute_error: 0.6464\n",
            "Epoch 18/35\n",
            "1/1 [==============================] - 0s 78ms/step - loss: 0.2222 - mean_absolute_error: 0.3809 - val_loss: 0.4454 - val_mean_absolute_error: 0.6444\n",
            "Epoch 19/35\n",
            "1/1 [==============================] - 0s 76ms/step - loss: 0.2197 - mean_absolute_error: 0.3810 - val_loss: 0.4442 - val_mean_absolute_error: 0.6435\n",
            "Epoch 20/35\n",
            "1/1 [==============================] - 0s 78ms/step - loss: 0.2044 - mean_absolute_error: 0.3598 - val_loss: 0.4422 - val_mean_absolute_error: 0.6420\n",
            "Epoch 21/35\n",
            "1/1 [==============================] - 0s 76ms/step - loss: 0.1934 - mean_absolute_error: 0.3467 - val_loss: 0.4393 - val_mean_absolute_error: 0.6397\n",
            "Epoch 22/35\n",
            "1/1 [==============================] - 0s 73ms/step - loss: 0.2103 - mean_absolute_error: 0.3714 - val_loss: 0.4397 - val_mean_absolute_error: 0.6401\n",
            "Epoch 23/35\n",
            "1/1 [==============================] - 0s 79ms/step - loss: 0.1964 - mean_absolute_error: 0.3512 - val_loss: 0.4416 - val_mean_absolute_error: 0.6415\n",
            "Epoch 24/35\n",
            "1/1 [==============================] - 0s 77ms/step - loss: 0.1854 - mean_absolute_error: 0.3392 - val_loss: 0.4425 - val_mean_absolute_error: 0.6422\n",
            "Epoch 25/35\n",
            "1/1 [==============================] - 0s 74ms/step - loss: 0.1766 - mean_absolute_error: 0.3311 - val_loss: 0.4436 - val_mean_absolute_error: 0.6430\n",
            "Epoch 26/35\n",
            "1/1 [==============================] - 0s 82ms/step - loss: 0.1828 - mean_absolute_error: 0.3364 - val_loss: 0.4457 - val_mean_absolute_error: 0.6446\n",
            "Epoch 27/35\n",
            "1/1 [==============================] - 0s 78ms/step - loss: 0.1644 - mean_absolute_error: 0.3217 - val_loss: 0.4468 - val_mean_absolute_error: 0.6454\n",
            "Epoch 28/35\n",
            "1/1 [==============================] - 0s 87ms/step - loss: 0.1704 - mean_absolute_error: 0.3267 - val_loss: 0.4463 - val_mean_absolute_error: 0.6450\n",
            "Epoch 29/35\n",
            "1/1 [==============================] - 0s 95ms/step - loss: 0.1585 - mean_absolute_error: 0.3136 - val_loss: 0.4471 - val_mean_absolute_error: 0.6455\n",
            "Epoch 30/35\n",
            "1/1 [==============================] - 0s 77ms/step - loss: 0.1644 - mean_absolute_error: 0.3136 - val_loss: 0.4472 - val_mean_absolute_error: 0.6456\n",
            "Epoch 31/35\n",
            "1/1 [==============================] - 0s 72ms/step - loss: 0.1789 - mean_absolute_error: 0.3341 - val_loss: 0.4461 - val_mean_absolute_error: 0.6448\n",
            "Epoch 32/35\n",
            "1/1 [==============================] - 0s 75ms/step - loss: 0.1823 - mean_absolute_error: 0.3333 - val_loss: 0.4462 - val_mean_absolute_error: 0.6448\n",
            "Epoch 33/35\n",
            "1/1 [==============================] - 0s 69ms/step - loss: 0.1820 - mean_absolute_error: 0.3438 - val_loss: 0.4439 - val_mean_absolute_error: 0.6430\n",
            "Epoch 34/35\n",
            "1/1 [==============================] - 0s 71ms/step - loss: 0.1568 - mean_absolute_error: 0.3073 - val_loss: 0.4448 - val_mean_absolute_error: 0.6438\n",
            "Epoch 35/35\n",
            "1/1 [==============================] - 0s 72ms/step - loss: 0.1515 - mean_absolute_error: 0.3059 - val_loss: 0.4470 - val_mean_absolute_error: 0.6455\n"
          ]
        }
      ],
      "source": [
        "trained_mods, results_list = MF.train_multiple_models(model_list, X_train, y_train, 128, 35)\n"
      ]
    },
    {
      "cell_type": "markdown",
      "id": "2f682a73",
      "metadata": {
        "id": "2f682a73"
      },
      "source": [
        "Now that the model has been trained, we can evaluate the Mean Squared Error of this model on the test set."
      ]
    },
    {
      "cell_type": "code",
      "source": [
        "def test_multiple_models(model_list, X_test, y_test):\n",
        "    \n",
        "    from sklearn.metrics import mean_squared_error\n",
        "    \n",
        "    pred_list = []\n",
        "    mse_list = []\n",
        "    for model_item in model_list:\n",
        "        y_pred = model_item.predict(X_test)\n",
        "        pred_list.append(y_pred)\n",
        "        mse = mean_squared_error(y_test, y_pred)\n",
        "        mse_list.append(mse)\n",
        "    \n",
        "    return mse_list, pred_list"
      ],
      "metadata": {
        "id": "iX9hA3mkib3W"
      },
      "id": "iX9hA3mkib3W",
      "execution_count": 140,
      "outputs": []
    },
    {
      "cell_type": "code",
      "source": [
        "print(X_test.shape,y_test.shape)\n",
        "print(y_test)"
      ],
      "metadata": {
        "colab": {
          "base_uri": "https://localhost:8080/"
        },
        "id": "8mGQtGSFi7We",
        "outputId": "56bbcfaa-6e42-400d-ec96-021c637d99c0"
      },
      "id": "8mGQtGSFi7We",
      "execution_count": 143,
      "outputs": [
        {
          "output_type": "stream",
          "name": "stdout",
          "text": [
            "(12, 20) (12, 4)\n",
            "[[0.82065217 0.82065217 0.82065217 0.82065217]\n",
            " [0.5        0.5        0.5        0.5       ]\n",
            " [0.41666667 0.41666667 0.41666667 0.41666667]\n",
            " [0.875      0.875      0.875      0.875     ]\n",
            " [0.72826087 0.72826087 0.72826087 0.72826087]\n",
            " [0.59782609 0.59782609 0.59782609 0.59782609]\n",
            " [0.57065217 0.57065217 0.57065217 0.57065217]\n",
            " [0.72826087 0.72826087 0.72826087 0.72826087]\n",
            " [0.22222222 0.22222222 0.22222222 0.22222222]\n",
            " [0.7826087  0.7826087  0.7826087  0.7826087 ]\n",
            " [0.72826087 0.72826087 0.72826087 0.72826087]\n",
            " [0.59782609 0.59782609 0.59782609 0.59782609]]\n"
          ]
        }
      ]
    },
    {
      "cell_type": "code",
      "execution_count": 146,
      "id": "39af900a",
      "metadata": {
        "colab": {
          "base_uri": "https://localhost:8080/"
        },
        "id": "39af900a",
        "outputId": "52b6b1e8-fb72-4ba2-e032-acbc9bcef993"
      },
      "outputs": [
        {
          "output_type": "stream",
          "name": "stdout",
          "text": [
            "[0.82065217 0.5        0.41666667 0.875      0.72826087 0.59782609\n",
            " 0.57065217 0.72826087 0.22222222 0.7826087  0.72826087 0.59782609]\n"
          ]
        },
        {
          "output_type": "execute_result",
          "data": {
            "text/plain": [
              "0.3731812445136904"
            ]
          },
          "metadata": {},
          "execution_count": 146
        }
      ],
      "source": [
        "if len(y_test.shape)>1:\n",
        "    y_test1 = y_test[:,0]\n",
        "    print(y_test1)\n",
        "try:\n",
        "    mae_list, pred_list = test_multiple_models(trained_mods, X_test, y_test)\n",
        "except:\n",
        "    mae_list, pred_list = test_multiple_models(trained_mods, X_test, y_test1)\n",
        "\n",
        "mae_list[0]"
      ]
    },
    {
      "cell_type": "markdown",
      "id": "f0f4376e",
      "metadata": {
        "id": "f0f4376e"
      },
      "source": [
        "We can see that this is 0.0563, a large improvement from 0.131 from basic Matrix Factorization. Our NN allows our embeddings to interact more effectively with our target values.\n",
        "\n",
        "Plotting out or loss, we can see that the training loss keeps decreasing, but the validation loss levels out, so we should terminate the training at this Epoch."
      ]
    },
    {
      "cell_type": "code",
      "execution_count": 147,
      "id": "fa580bfc",
      "metadata": {
        "id": "fa580bfc"
      },
      "outputs": [],
      "source": [
        "def plot_loss(results):\n",
        "    #Plot the training loss and the validation loss\n",
        "    f, (ax1) = plt.subplots(1, 1, figsize=(12, 8))\n",
        "    t = f.suptitle('CNN Performance', fontsize=12)\n",
        "    f.subplots_adjust(top=0.85, wspace=0.3)\n",
        "    \n",
        "    max_epoch = len(results.history['loss'])+1\n",
        "    epoch_list = list(range(1,max_epoch))\n",
        "    ax1.plot(epoch_list, results.history['loss'], label='Train MSE')\n",
        "    ax1.plot(epoch_list, results.history['val_loss'], label='Validation MSE')\n",
        "    ax1.set_xticks(np.arange(1, max_epoch, 5))\n",
        "    ax1.set_ylabel('MSE Value')\n",
        "    ax1.set_xlabel('Epoch')\n",
        "    ax1.set_title('MSE')\n",
        "    l1 = ax1.legend(loc=\"best\")\n",
        "\n"
      ]
    },
    {
      "cell_type": "code",
      "execution_count": 148,
      "id": "f84dc134",
      "metadata": {
        "colab": {
          "base_uri": "https://localhost:8080/",
          "height": 554
        },
        "id": "f84dc134",
        "outputId": "49d55b5b-aec1-449e-b4b2-83db8cab7629"
      },
      "outputs": [
        {
          "output_type": "display_data",
          "data": {
            "text/plain": [
              "<Figure size 864x576 with 1 Axes>"
            ],
            "image/png": "[encoded data removed]"
          },
          "metadata": {
            "needs_background": "light"
          }
        }
      ],
      "source": [
        "history1 = results_list[0]\n",
        "plot_loss(history1)\n",
        "\n"
      ]
    },
    {
      "cell_type": "markdown",
      "id": "5be16e9d",
      "metadata": {
        "id": "5be16e9d"
      },
      "source": [
        "Finally, it's good to test it out on an example. First step is to get the title names of every book in the Dataset. This is done by matching the ASIN with the Metadata, which contains book titles."
      ]
    },
    {
      "cell_type": "code",
      "source": [
        "!wget http://deepyeti.ucsd.edu/jianmo/amazon/metaFiles2/meta_Grocery_and_Gourmet_Food.json.gz"
      ],
      "metadata": {
        "colab": {
          "base_uri": "https://localhost:8080/"
        },
        "id": "x-Q_obRwkrN9",
        "outputId": "39355afa-e6c9-4bc9-ce9f-b83adb89b6c1"
      },
      "id": "x-Q_obRwkrN9",
      "execution_count": 154,
      "outputs": [
        {
          "output_type": "stream",
          "name": "stdout",
          "text": [
            "--2022-04-28 09:50:38--  http://deepyeti.ucsd.edu/jianmo/amazon/metaFiles2/meta_Grocery_and_Gourmet_Food.json.gz\n",
            "Resolving deepyeti.ucsd.edu (deepyeti.ucsd.edu)... 169.228.63.50\n",
            "Connecting to deepyeti.ucsd.edu (deepyeti.ucsd.edu)|169.228.63.50|:80... connected.\n",
            "HTTP request sent, awaiting response... 200 OK\n",
            "Length: 109586529 (105M) [application/octet-stream]\n",
            "Saving to: ‘meta_Grocery_and_Gourmet_Food.json.gz’\n",
            "\n",
            "meta_Grocery_and_Go 100%[===================>] 104.51M  40.1MB/s    in 2.6s    \n",
            "\n",
            "2022-04-28 09:50:41 (40.1 MB/s) - ‘meta_Grocery_and_Gourmet_Food.json.gz’ saved [109586529/109586529]\n",
            "\n"
          ]
        }
      ]
    },
    {
      "cell_type": "code",
      "source": [
        "!gunzip -k meta_Grocery_and_Gourmet_Food.json.gz"
      ],
      "metadata": {
        "id": "4C5gqF-MlMf4"
      },
      "id": "4C5gqF-MlMf4",
      "execution_count": 155,
      "outputs": []
    },
    {
      "cell_type": "code",
      "execution_count": 156,
      "id": "9e3b2013",
      "metadata": {
        "colab": {
          "base_uri": "https://localhost:8080/",
          "height": 363
        },
        "id": "9e3b2013",
        "outputId": "ac751407-93b3-4756-eff4-be32b9b78ffc"
      },
      "outputs": [
        {
          "output_type": "execute_result",
          "data": {
            "text/plain": [
              "      Book-ID                                              title        asin\n",
              "0  B000168QTU      Celestial Seasonings Tension Tamer Tea, 20 ct  B000168QTU\n",
              "1  B0001LO3FG  Twinings of London Pure Camomile Herbal Tea Ba...  B0001LO3FG\n",
              "2  B000F4DKAI  Twinings of London English Afternoon Black Tea...  B000F4DKAI\n",
              "3  B000H2XXRS  Nutiva Organic, Cold-Pressed, Unrefined, Virgi...  B000H2XXRS\n",
              "4  B000HDK0DC  YumEarth Organic Lollipops, Assorted Flavors, ...  B000HDK0DC\n",
              "5  B000V1AWBK  Kitchens Of India Recipe Paste, Vegetable Biry...  B000V1AWBK\n",
              "6  B000X3TPHS  YumEarth Organic Lollipops, Assorted Flavors, ...  B000X3TPHS\n",
              "7  B000YN2GVY  Bragg Organic Unfiltered Apple Cider Vinegar, ...  B000YN2GVY\n",
              "8  B00117YT4Y  Designer Whey Premium Natural 100% Whey Protei...  B00117YT4Y\n",
              "9  B0014WYXYW  IZZE Sparkling Juice, Blackberry, 8.4 oz Cans,...  B0014WYXYW"
            ],
            "text/html": [
              "\n",
              "  <div id=\"df-abea11ae-3abd-4f79-baf0-b7b57348e425\">\n",
              "    <div class=\"colab-df-container\">\n",
              "      <div>\n",
              "<style scoped>\n",
              "    .dataframe tbody tr th:only-of-type {\n",
              "        vertical-align: middle;\n",
              "    }\n",
              "\n",
              "    .dataframe tbody tr th {\n",
              "        vertical-align: top;\n",
              "    }\n",
              "\n",
              "    .dataframe thead th {\n",
              "        text-align: right;\n",
              "    }\n",
              "</style>\n",
              "<table border=\"1\" class=\"dataframe\">\n",
              "  <thead>\n",
              "    <tr style=\"text-align: right;\">\n",
              "      <th></th>\n",
              "      <th>Book-ID</th>\n",
              "      <th>title</th>\n",
              "      <th>asin</th>\n",
              "    </tr>\n",
              "  </thead>\n",
              "  <tbody>\n",
              "    <tr>\n",
              "      <th>0</th>\n",
              "      <td>B000168QTU</td>\n",
              "      <td>Celestial Seasonings Tension Tamer Tea, 20 ct</td>\n",
              "      <td>B000168QTU</td>\n",
              "    </tr>\n",
              "    <tr>\n",
              "      <th>1</th>\n",
              "      <td>B0001LO3FG</td>\n",
              "      <td>Twinings of London Pure Camomile Herbal Tea Ba...</td>\n",
              "      <td>B0001LO3FG</td>\n",
              "    </tr>\n",
              "    <tr>\n",
              "      <th>2</th>\n",
              "      <td>B000F4DKAI</td>\n",
              "      <td>Twinings of London English Afternoon Black Tea...</td>\n",
              "      <td>B000F4DKAI</td>\n",
              "    </tr>\n",
              "    <tr>\n",
              "      <th>3</th>\n",
              "      <td>B000H2XXRS</td>\n",
              "      <td>Nutiva Organic, Cold-Pressed, Unrefined, Virgi...</td>\n",
              "      <td>B000H2XXRS</td>\n",
              "    </tr>\n",
              "    <tr>\n",
              "      <th>4</th>\n",
              "      <td>B000HDK0DC</td>\n",
              "      <td>YumEarth Organic Lollipops, Assorted Flavors, ...</td>\n",
              "      <td>B000HDK0DC</td>\n",
              "    </tr>\n",
              "    <tr>\n",
              "      <th>5</th>\n",
              "      <td>B000V1AWBK</td>\n",
              "      <td>Kitchens Of India Recipe Paste, Vegetable Biry...</td>\n",
              "      <td>B000V1AWBK</td>\n",
              "    </tr>\n",
              "    <tr>\n",
              "      <th>6</th>\n",
              "      <td>B000X3TPHS</td>\n",
              "      <td>YumEarth Organic Lollipops, Assorted Flavors, ...</td>\n",
              "      <td>B000X3TPHS</td>\n",
              "    </tr>\n",
              "    <tr>\n",
              "      <th>7</th>\n",
              "      <td>B000YN2GVY</td>\n",
              "      <td>Bragg Organic Unfiltered Apple Cider Vinegar, ...</td>\n",
              "      <td>B000YN2GVY</td>\n",
              "    </tr>\n",
              "    <tr>\n",
              "      <th>8</th>\n",
              "      <td>B00117YT4Y</td>\n",
              "      <td>Designer Whey Premium Natural 100% Whey Protei...</td>\n",
              "      <td>B00117YT4Y</td>\n",
              "    </tr>\n",
              "    <tr>\n",
              "      <th>9</th>\n",
              "      <td>B0014WYXYW</td>\n",
              "      <td>IZZE Sparkling Juice, Blackberry, 8.4 oz Cans,...</td>\n",
              "      <td>B0014WYXYW</td>\n",
              "    </tr>\n",
              "  </tbody>\n",
              "</table>\n",
              "</div>\n",
              "      <button class=\"colab-df-convert\" onclick=\"convertToInteractive('df-abea11ae-3abd-4f79-baf0-b7b57348e425')\"\n",
              "              title=\"Convert this dataframe to an interactive table.\"\n",
              "              style=\"display:none;\">\n",
              "        \n",
              "  <svg xmlns=\"http://www.w3.org/2000/svg\" height=\"24px\"viewBox=\"0 0 24 24\"\n",
              "       width=\"24px\">\n",
              "    <path d=\"M0 0h24v24H0V0z\" fill=\"none\"/>\n",
              "    <path d=\"M18.56 5.44l.94 2.06.94-2.06 2.06-.94-2.06-.94-.94-2.06-.94 2.06-2.06.94zm-11 1L8.5 8.5l.94-2.06 2.06-.94-2.06-.94L8.5 2.5l-.94 2.06-2.06.94zm10 10l.94 2.06.94-2.06 2.06-.94-2.06-.94-.94-2.06-.94 2.06-2.06.94z\"/><path d=\"M17.41 7.96l-1.37-1.37c-.4-.4-.92-.59-1.43-.59-.52 0-1.04.2-1.43.59L10.3 9.45l-7.72 7.72c-.78.78-.78 2.05 0 2.83L4 21.41c.39.39.9.59 1.41.59.51 0 1.02-.2 1.41-.59l7.78-7.78 2.81-2.81c.8-.78.8-2.07 0-2.86zM5.41 20L4 18.59l7.72-7.72 1.47 1.35L5.41 20z\"/>\n",
              "  </svg>\n",
              "      </button>\n",
              "      \n",
              "  <style>\n",
              "    .colab-df-container {\n",
              "      display:flex;\n",
              "      flex-wrap:wrap;\n",
              "      gap: 12px;\n",
              "    }\n",
              "\n",
              "    .colab-df-convert {\n",
              "      background-color: #E8F0FE;\n",
              "      border: none;\n",
              "      border-radius: 50%;\n",
              "      cursor: pointer;\n",
              "      display: none;\n",
              "      fill: #1967D2;\n",
              "      height: 32px;\n",
              "      padding: 0 0 0 0;\n",
              "      width: 32px;\n",
              "    }\n",
              "\n",
              "    .colab-df-convert:hover {\n",
              "      background-color: #E2EBFA;\n",
              "      box-shadow: 0px 1px 2px rgba(60, 64, 67, 0.3), 0px 1px 3px 1px rgba(60, 64, 67, 0.15);\n",
              "      fill: #174EA6;\n",
              "    }\n",
              "\n",
              "    [theme=dark] .colab-df-convert {\n",
              "      background-color: #3B4455;\n",
              "      fill: #D2E3FC;\n",
              "    }\n",
              "\n",
              "    [theme=dark] .colab-df-convert:hover {\n",
              "      background-color: #434B5C;\n",
              "      box-shadow: 0px 1px 3px 1px rgba(0, 0, 0, 0.15);\n",
              "      filter: drop-shadow(0px 1px 2px rgba(0, 0, 0, 0.3));\n",
              "      fill: #FFFFFF;\n",
              "    }\n",
              "  </style>\n",
              "\n",
              "      <script>\n",
              "        const buttonEl =\n",
              "          document.querySelector('#df-abea11ae-3abd-4f79-baf0-b7b57348e425 button.colab-df-convert');\n",
              "        buttonEl.style.display =\n",
              "          google.colab.kernel.accessAllowed ? 'block' : 'none';\n",
              "\n",
              "        async function convertToInteractive(key) {\n",
              "          const element = document.querySelector('#df-abea11ae-3abd-4f79-baf0-b7b57348e425');\n",
              "          const dataTable =\n",
              "            await google.colab.kernel.invokeFunction('convertToInteractive',\n",
              "                                                     [key], {});\n",
              "          if (!dataTable) return;\n",
              "\n",
              "          const docLinkHtml = 'Like what you see? Visit the ' +\n",
              "            '<a target=\"_blank\" href=https://colab.research.google.com/notebooks/data_table.ipynb>data table notebook</a>'\n",
              "            + ' to learn more about interactive tables.';\n",
              "          element.innerHTML = '';\n",
              "          dataTable['output_type'] = 'display_data';\n",
              "          await google.colab.output.renderOutput(dataTable, element);\n",
              "          const docLink = document.createElement('div');\n",
              "          docLink.innerHTML = docLinkHtml;\n",
              "          element.appendChild(docLink);\n",
              "        }\n",
              "      </script>\n",
              "    </div>\n",
              "  </div>\n",
              "  "
            ]
          },
          "metadata": {},
          "execution_count": 156
        }
      ],
      "source": [
        "def create_book_title_list(df):\n",
        "    #Starting from a df with a list of Book-IDS, we can create a dataframe that is a directory of the bookIDS with the Actual Title of the Book.\n",
        "    #Could be useful to add category and author too...Think about this\n",
        "    meta_json_path = 'meta_Grocery_and_Gourmet_Food.json'\n",
        "\n",
        "    size = 100000\n",
        "    meta = pd.read_json(meta_json_path, lines=True,\n",
        "                          chunksize=size)\n",
        "    \n",
        "    book_ids = pd.DataFrame(df['Book-ID'].unique())\n",
        "    book_ids = book_ids.rename(columns = {0: 'Book-ID'})\n",
        "    \n",
        "    book_list = []\n",
        "    for chunk_meta in meta:\n",
        "        book_merged = book_ids.merge(chunk_meta[['asin','title']], how = 'inner' ,left_on ='Book-ID', right_on = 'asin')\n",
        "        book_list.append(book_merged)\n",
        "        \n",
        "    \n",
        "    book_merged = pd.concat(book_list, ignore_index=True, join='outer', axis=0)\n",
        "    book_merged2 = book_merged.groupby(by = ['Book-ID','title'], as_index = False).first()\n",
        "\n",
        "    return book_merged2\n",
        "    \n",
        "\n",
        "\n",
        "book_IDS = create_book_title_list(combined)\n",
        "\n",
        "book_IDS.head(10)"
      ]
    },
    {
      "cell_type": "markdown",
      "id": "b0c11c64",
      "metadata": {
        "id": "b0c11c64"
      },
      "source": [
        "Next, we want to get the Top 5 Books (ordered by Sentiment ReviewRating) this user has Read, the Bottom 5 Books, and the Top 5 Recommendations to this user that they have not read. The function below performs this task"
      ]
    },
    {
      "cell_type": "code",
      "execution_count": 157,
      "id": "d18c8a43",
      "metadata": {
        "id": "d18c8a43"
      },
      "outputs": [],
      "source": [
        "def get_top_matches(user_embed_df, book_embed_df, combined_final, book_merged, query_index, model, k_matches = 5):\n",
        "    #dd\n",
        "    sampled_user_vector = user_embed_df.iloc[[query_index]]\n",
        "    sampled_user_ID = sampled_user_vector.index[0]\n",
        "    \n",
        "    sampled_user_vector = np.array(user_embed_df.iloc[query_index])\n",
        "    \n",
        "    prediction_df = pd.DataFrame(index = book_embed_df.index)\n",
        "    \n",
        "    prediction_df.reset_index(inplace = True)\n",
        "    prediction_df['User-ID'] = sampled_user_ID\n",
        "    \n",
        "    def build_prediction_embeddings(x):\n",
        "        book_row = book_embed_df.loc[book_embed_df.index == x]\n",
        "        return np.concatenate((sampled_user_vector,np.array(book_row)), axis = None)\n",
        "    \n",
        "    \n",
        "    prediction_df['Full-Vector'] = prediction_df['Book-ID'].apply(build_prediction_embeddings)\n",
        "    \n",
        "    X_to_train = np.stack(prediction_df['Full-Vector'])\n",
        "    \n",
        "    Y_to_train = model.predict(X_to_train)\n",
        "    \n",
        "    prediction_df = prediction_df.merge(book_merged[['Book-ID','title']] , how  = 'outer', on = 'Book-ID')\n",
        "    prediction_df['Trained_Items'] = Y_to_train\n",
        "    \n",
        "    already_read = combined_final[combined_final['User-ID'] == sampled_user_ID]\n",
        "    \n",
        "    prediction_df_2 = prediction_df.merge(already_read[['Book-ID','ReviewRating']] , how  = 'left', on = 'Book-ID')\n",
        "    \n",
        "    top_5_unrated = prediction_df_2.loc[prediction_df_2['ReviewRating'].isna() == True]\n",
        "    \n",
        "    top_5_unrated.sort_values(by = ['Trained_Items'], inplace = True, ascending = False)\n",
        "    \n",
        "    top_5_unrated = top_5_unrated.iloc[0:k_matches]\n",
        "    \n",
        "    \n",
        "    rated_books = prediction_df_2.loc[prediction_df_2['ReviewRating'].isna() == False]\n",
        "    rated_books.sort_values(by = ['ReviewRating'], inplace = True, ascending = False)\n",
        "    top_5_rated = rated_books.iloc[0:k_matches]\n",
        "\n",
        "    bottom_5_rated = rated_books.iloc[-k_matches:]\n",
        "    \n",
        "    number_of_read_books = rated_books.shape\n",
        "    return top_5_rated, bottom_5_rated, top_5_unrated, number_of_read_books\n"
      ]
    },
    {
      "cell_type": "code",
      "execution_count": 158,
      "id": "ab7c543f",
      "metadata": {
        "colab": {
          "base_uri": "https://localhost:8080/"
        },
        "id": "ab7c543f",
        "outputId": "a229aa11-0259-41a5-855d-1e8f4a8fd23e"
      },
      "outputs": [
        {
          "output_type": "stream",
          "name": "stderr",
          "text": [
            "/usr/local/lib/python3.7/dist-packages/pandas/util/_decorators.py:311: SettingWithCopyWarning: \n",
            "A value is trying to be set on a copy of a slice from a DataFrame\n",
            "\n",
            "See the caveats in the documentation: https://pandas.pydata.org/pandas-docs/stable/user_guide/indexing.html#returning-a-view-versus-a-copy\n",
            "  return func(*args, **kwargs)\n"
          ]
        }
      ],
      "source": [
        "query_index = np.random.choice(user_book_matrix.shape[0])\n",
        "\n",
        "user_id = user_book_matrix.index[query_index]\n",
        "top_5_rated, bottom_5_rated, top_5_unrated, number_of_read_books = get_top_matches(user_embed_df, book_embed_df, combined, book_IDS, query_index, trained_mods[0], k_matches = 5)\n"
      ]
    },
    {
      "cell_type": "markdown",
      "id": "5e7c7db3",
      "metadata": {
        "id": "5e7c7db3"
      },
      "source": [
        "The top 5 Books this user reviewed are listed below. They seem to be into fantasy books"
      ]
    },
    {
      "cell_type": "code",
      "execution_count": 159,
      "id": "9467b73f",
      "metadata": {
        "colab": {
          "base_uri": "https://localhost:8080/",
          "height": 190
        },
        "id": "9467b73f",
        "outputId": "0824fece-7018-4118-eadd-c4bd740f7763"
      },
      "outputs": [
        {
          "output_type": "execute_result",
          "data": {
            "text/plain": [
              "       Book-ID         User-ID  \\\n",
              "0   B000168QTU  A1X1CEGHTHMBL1   \n",
              "10  B001D0KG1Y  A1X1CEGHTHMBL1   \n",
              "\n",
              "                                          Full-Vector  \\\n",
              "0   [0.031269118976285315, -0.03013522798160398, 0...   \n",
              "10  [0.031269118976285315, -0.03013522798160398, 0...   \n",
              "\n",
              "                                                title  Trained_Items  \\\n",
              "0       Celestial Seasonings Tension Tamer Tea, 20 ct       0.059241   \n",
              "10  Timothy's World Coffee, Morning Blend, K-Cup P...       0.047759   \n",
              "\n",
              "   ReviewRating  \n",
              "0      0.532609  \n",
              "10     0.277778  "
            ],
            "text/html": [
              "\n",
              "  <div id=\"df-e169529e-2b6d-4378-bc77-2057578439d2\">\n",
              "    <div class=\"colab-df-container\">\n",
              "      <div>\n",
              "<style scoped>\n",
              "    .dataframe tbody tr th:only-of-type {\n",
              "        vertical-align: middle;\n",
              "    }\n",
              "\n",
              "    .dataframe tbody tr th {\n",
              "        vertical-align: top;\n",
              "    }\n",
              "\n",
              "    .dataframe thead th {\n",
              "        text-align: right;\n",
              "    }\n",
              "</style>\n",
              "<table border=\"1\" class=\"dataframe\">\n",
              "  <thead>\n",
              "    <tr style=\"text-align: right;\">\n",
              "      <th></th>\n",
              "      <th>Book-ID</th>\n",
              "      <th>User-ID</th>\n",
              "      <th>Full-Vector</th>\n",
              "      <th>title</th>\n",
              "      <th>Trained_Items</th>\n",
              "      <th>ReviewRating</th>\n",
              "    </tr>\n",
              "  </thead>\n",
              "  <tbody>\n",
              "    <tr>\n",
              "      <th>0</th>\n",
              "      <td>B000168QTU</td>\n",
              "      <td>A1X1CEGHTHMBL1</td>\n",
              "      <td>[0.031269118976285315, -0.03013522798160398, 0...</td>\n",
              "      <td>Celestial Seasonings Tension Tamer Tea, 20 ct</td>\n",
              "      <td>0.059241</td>\n",
              "      <td>0.532609</td>\n",
              "    </tr>\n",
              "    <tr>\n",
              "      <th>10</th>\n",
              "      <td>B001D0KG1Y</td>\n",
              "      <td>A1X1CEGHTHMBL1</td>\n",
              "      <td>[0.031269118976285315, -0.03013522798160398, 0...</td>\n",
              "      <td>Timothy's World Coffee, Morning Blend, K-Cup P...</td>\n",
              "      <td>0.047759</td>\n",
              "      <td>0.277778</td>\n",
              "    </tr>\n",
              "  </tbody>\n",
              "</table>\n",
              "</div>\n",
              "      <button class=\"colab-df-convert\" onclick=\"convertToInteractive('df-e169529e-2b6d-4378-bc77-2057578439d2')\"\n",
              "              title=\"Convert this dataframe to an interactive table.\"\n",
              "              style=\"display:none;\">\n",
              "        \n",
              "  <svg xmlns=\"http://www.w3.org/2000/svg\" height=\"24px\"viewBox=\"0 0 24 24\"\n",
              "       width=\"24px\">\n",
              "    <path d=\"M0 0h24v24H0V0z\" fill=\"none\"/>\n",
              "    <path d=\"M18.56 5.44l.94 2.06.94-2.06 2.06-.94-2.06-.94-.94-2.06-.94 2.06-2.06.94zm-11 1L8.5 8.5l.94-2.06 2.06-.94-2.06-.94L8.5 2.5l-.94 2.06-2.06.94zm10 10l.94 2.06.94-2.06 2.06-.94-2.06-.94-.94-2.06-.94 2.06-2.06.94z\"/><path d=\"M17.41 7.96l-1.37-1.37c-.4-.4-.92-.59-1.43-.59-.52 0-1.04.2-1.43.59L10.3 9.45l-7.72 7.72c-.78.78-.78 2.05 0 2.83L4 21.41c.39.39.9.59 1.41.59.51 0 1.02-.2 1.41-.59l7.78-7.78 2.81-2.81c.8-.78.8-2.07 0-2.86zM5.41 20L4 18.59l7.72-7.72 1.47 1.35L5.41 20z\"/>\n",
              "  </svg>\n",
              "      </button>\n",
              "      \n",
              "  <style>\n",
              "    .colab-df-container {\n",
              "      display:flex;\n",
              "      flex-wrap:wrap;\n",
              "      gap: 12px;\n",
              "    }\n",
              "\n",
              "    .colab-df-convert {\n",
              "      background-color: #E8F0FE;\n",
              "      border: none;\n",
              "      border-radius: 50%;\n",
              "      cursor: pointer;\n",
              "      display: none;\n",
              "      fill: #1967D2;\n",
              "      height: 32px;\n",
              "      padding: 0 0 0 0;\n",
              "      width: 32px;\n",
              "    }\n",
              "\n",
              "    .colab-df-convert:hover {\n",
              "      background-color: #E2EBFA;\n",
              "      box-shadow: 0px 1px 2px rgba(60, 64, 67, 0.3), 0px 1px 3px 1px rgba(60, 64, 67, 0.15);\n",
              "      fill: #174EA6;\n",
              "    }\n",
              "\n",
              "    [theme=dark] .colab-df-convert {\n",
              "      background-color: #3B4455;\n",
              "      fill: #D2E3FC;\n",
              "    }\n",
              "\n",
              "    [theme=dark] .colab-df-convert:hover {\n",
              "      background-color: #434B5C;\n",
              "      box-shadow: 0px 1px 3px 1px rgba(0, 0, 0, 0.15);\n",
              "      filter: drop-shadow(0px 1px 2px rgba(0, 0, 0, 0.3));\n",
              "      fill: #FFFFFF;\n",
              "    }\n",
              "  </style>\n",
              "\n",
              "      <script>\n",
              "        const buttonEl =\n",
              "          document.querySelector('#df-e169529e-2b6d-4378-bc77-2057578439d2 button.colab-df-convert');\n",
              "        buttonEl.style.display =\n",
              "          google.colab.kernel.accessAllowed ? 'block' : 'none';\n",
              "\n",
              "        async function convertToInteractive(key) {\n",
              "          const element = document.querySelector('#df-e169529e-2b6d-4378-bc77-2057578439d2');\n",
              "          const dataTable =\n",
              "            await google.colab.kernel.invokeFunction('convertToInteractive',\n",
              "                                                     [key], {});\n",
              "          if (!dataTable) return;\n",
              "\n",
              "          const docLinkHtml = 'Like what you see? Visit the ' +\n",
              "            '<a target=\"_blank\" href=https://colab.research.google.com/notebooks/data_table.ipynb>data table notebook</a>'\n",
              "            + ' to learn more about interactive tables.';\n",
              "          element.innerHTML = '';\n",
              "          dataTable['output_type'] = 'display_data';\n",
              "          await google.colab.output.renderOutput(dataTable, element);\n",
              "          const docLink = document.createElement('div');\n",
              "          docLink.innerHTML = docLinkHtml;\n",
              "          element.appendChild(docLink);\n",
              "        }\n",
              "      </script>\n",
              "    </div>\n",
              "  </div>\n",
              "  "
            ]
          },
          "metadata": {},
          "execution_count": 159
        }
      ],
      "source": [
        "top_5_rated"
      ]
    },
    {
      "cell_type": "markdown",
      "id": "fb5adda5",
      "metadata": {
        "id": "fb5adda5"
      },
      "source": [
        "This user did not like Da Vinci Code or Precious, so perhaps they are quite critical of non fantasy books."
      ]
    },
    {
      "cell_type": "code",
      "execution_count": 160,
      "id": "0608ad9c",
      "metadata": {
        "colab": {
          "base_uri": "https://localhost:8080/",
          "height": 190
        },
        "id": "0608ad9c",
        "outputId": "cb14277c-9f59-48d9-9c40-5a402d1ac1f1"
      },
      "outputs": [
        {
          "output_type": "execute_result",
          "data": {
            "text/plain": [
              "       Book-ID         User-ID  \\\n",
              "0   B000168QTU  A1X1CEGHTHMBL1   \n",
              "10  B001D0KG1Y  A1X1CEGHTHMBL1   \n",
              "\n",
              "                                          Full-Vector  \\\n",
              "0   [0.031269118976285315, -0.03013522798160398, 0...   \n",
              "10  [0.031269118976285315, -0.03013522798160398, 0...   \n",
              "\n",
              "                                                title  Trained_Items  \\\n",
              "0       Celestial Seasonings Tension Tamer Tea, 20 ct       0.059241   \n",
              "10  Timothy's World Coffee, Morning Blend, K-Cup P...       0.047759   \n",
              "\n",
              "   ReviewRating  \n",
              "0      0.532609  \n",
              "10     0.277778  "
            ],
            "text/html": [
              "\n",
              "  <div id=\"df-02ec15fb-afab-495b-8c0b-0eff8970df82\">\n",
              "    <div class=\"colab-df-container\">\n",
              "      <div>\n",
              "<style scoped>\n",
              "    .dataframe tbody tr th:only-of-type {\n",
              "        vertical-align: middle;\n",
              "    }\n",
              "\n",
              "    .dataframe tbody tr th {\n",
              "        vertical-align: top;\n",
              "    }\n",
              "\n",
              "    .dataframe thead th {\n",
              "        text-align: right;\n",
              "    }\n",
              "</style>\n",
              "<table border=\"1\" class=\"dataframe\">\n",
              "  <thead>\n",
              "    <tr style=\"text-align: right;\">\n",
              "      <th></th>\n",
              "      <th>Book-ID</th>\n",
              "      <th>User-ID</th>\n",
              "      <th>Full-Vector</th>\n",
              "      <th>title</th>\n",
              "      <th>Trained_Items</th>\n",
              "      <th>ReviewRating</th>\n",
              "    </tr>\n",
              "  </thead>\n",
              "  <tbody>\n",
              "    <tr>\n",
              "      <th>0</th>\n",
              "      <td>B000168QTU</td>\n",
              "      <td>A1X1CEGHTHMBL1</td>\n",
              "      <td>[0.031269118976285315, -0.03013522798160398, 0...</td>\n",
              "      <td>Celestial Seasonings Tension Tamer Tea, 20 ct</td>\n",
              "      <td>0.059241</td>\n",
              "      <td>0.532609</td>\n",
              "    </tr>\n",
              "    <tr>\n",
              "      <th>10</th>\n",
              "      <td>B001D0KG1Y</td>\n",
              "      <td>A1X1CEGHTHMBL1</td>\n",
              "      <td>[0.031269118976285315, -0.03013522798160398, 0...</td>\n",
              "      <td>Timothy's World Coffee, Morning Blend, K-Cup P...</td>\n",
              "      <td>0.047759</td>\n",
              "      <td>0.277778</td>\n",
              "    </tr>\n",
              "  </tbody>\n",
              "</table>\n",
              "</div>\n",
              "      <button class=\"colab-df-convert\" onclick=\"convertToInteractive('df-02ec15fb-afab-495b-8c0b-0eff8970df82')\"\n",
              "              title=\"Convert this dataframe to an interactive table.\"\n",
              "              style=\"display:none;\">\n",
              "        \n",
              "  <svg xmlns=\"http://www.w3.org/2000/svg\" height=\"24px\"viewBox=\"0 0 24 24\"\n",
              "       width=\"24px\">\n",
              "    <path d=\"M0 0h24v24H0V0z\" fill=\"none\"/>\n",
              "    <path d=\"M18.56 5.44l.94 2.06.94-2.06 2.06-.94-2.06-.94-.94-2.06-.94 2.06-2.06.94zm-11 1L8.5 8.5l.94-2.06 2.06-.94-2.06-.94L8.5 2.5l-.94 2.06-2.06.94zm10 10l.94 2.06.94-2.06 2.06-.94-2.06-.94-.94-2.06-.94 2.06-2.06.94z\"/><path d=\"M17.41 7.96l-1.37-1.37c-.4-.4-.92-.59-1.43-.59-.52 0-1.04.2-1.43.59L10.3 9.45l-7.72 7.72c-.78.78-.78 2.05 0 2.83L4 21.41c.39.39.9.59 1.41.59.51 0 1.02-.2 1.41-.59l7.78-7.78 2.81-2.81c.8-.78.8-2.07 0-2.86zM5.41 20L4 18.59l7.72-7.72 1.47 1.35L5.41 20z\"/>\n",
              "  </svg>\n",
              "      </button>\n",
              "      \n",
              "  <style>\n",
              "    .colab-df-container {\n",
              "      display:flex;\n",
              "      flex-wrap:wrap;\n",
              "      gap: 12px;\n",
              "    }\n",
              "\n",
              "    .colab-df-convert {\n",
              "      background-color: #E8F0FE;\n",
              "      border: none;\n",
              "      border-radius: 50%;\n",
              "      cursor: pointer;\n",
              "      display: none;\n",
              "      fill: #1967D2;\n",
              "      height: 32px;\n",
              "      padding: 0 0 0 0;\n",
              "      width: 32px;\n",
              "    }\n",
              "\n",
              "    .colab-df-convert:hover {\n",
              "      background-color: #E2EBFA;\n",
              "      box-shadow: 0px 1px 2px rgba(60, 64, 67, 0.3), 0px 1px 3px 1px rgba(60, 64, 67, 0.15);\n",
              "      fill: #174EA6;\n",
              "    }\n",
              "\n",
              "    [theme=dark] .colab-df-convert {\n",
              "      background-color: #3B4455;\n",
              "      fill: #D2E3FC;\n",
              "    }\n",
              "\n",
              "    [theme=dark] .colab-df-convert:hover {\n",
              "      background-color: #434B5C;\n",
              "      box-shadow: 0px 1px 3px 1px rgba(0, 0, 0, 0.15);\n",
              "      filter: drop-shadow(0px 1px 2px rgba(0, 0, 0, 0.3));\n",
              "      fill: #FFFFFF;\n",
              "    }\n",
              "  </style>\n",
              "\n",
              "      <script>\n",
              "        const buttonEl =\n",
              "          document.querySelector('#df-02ec15fb-afab-495b-8c0b-0eff8970df82 button.colab-df-convert');\n",
              "        buttonEl.style.display =\n",
              "          google.colab.kernel.accessAllowed ? 'block' : 'none';\n",
              "\n",
              "        async function convertToInteractive(key) {\n",
              "          const element = document.querySelector('#df-02ec15fb-afab-495b-8c0b-0eff8970df82');\n",
              "          const dataTable =\n",
              "            await google.colab.kernel.invokeFunction('convertToInteractive',\n",
              "                                                     [key], {});\n",
              "          if (!dataTable) return;\n",
              "\n",
              "          const docLinkHtml = 'Like what you see? Visit the ' +\n",
              "            '<a target=\"_blank\" href=https://colab.research.google.com/notebooks/data_table.ipynb>data table notebook</a>'\n",
              "            + ' to learn more about interactive tables.';\n",
              "          element.innerHTML = '';\n",
              "          dataTable['output_type'] = 'display_data';\n",
              "          await google.colab.output.renderOutput(dataTable, element);\n",
              "          const docLink = document.createElement('div');\n",
              "          docLink.innerHTML = docLinkHtml;\n",
              "          element.appendChild(docLink);\n",
              "        }\n",
              "      </script>\n",
              "    </div>\n",
              "  </div>\n",
              "  "
            ]
          },
          "metadata": {},
          "execution_count": 160
        }
      ],
      "source": [
        "bottom_5_rated"
      ]
    },
    {
      "cell_type": "markdown",
      "id": "a06727b2",
      "metadata": {
        "id": "a06727b2"
      },
      "source": [
        "The top 5 recommendations are listed below. Our algorithm, based on this User's preferences has recommended the following books, which were reviewed positively by users that had similar tastes as this user. The books are mostly fantasy and mystery. So hopefully, this user enjoys these books!"
      ]
    },
    {
      "cell_type": "code",
      "execution_count": 161,
      "id": "44a1d4f3",
      "metadata": {
        "colab": {
          "base_uri": "https://localhost:8080/",
          "height": 337
        },
        "id": "44a1d4f3",
        "outputId": "01245416-8d1d-4e46-c4bd-bd38c2eca92c"
      },
      "outputs": [
        {
          "output_type": "execute_result",
          "data": {
            "text/plain": [
              "       Book-ID         User-ID  \\\n",
              "11  B00542YXFW  A1X1CEGHTHMBL1   \n",
              "3   B000H2XXRS  A1X1CEGHTHMBL1   \n",
              "8   B00117YT4Y  A1X1CEGHTHMBL1   \n",
              "15  B00WFDMRDI  A1X1CEGHTHMBL1   \n",
              "4   B000HDK0DC  A1X1CEGHTHMBL1   \n",
              "\n",
              "                                          Full-Vector  \\\n",
              "11  [0.031269118976285315, -0.03013522798160398, 0...   \n",
              "3   [0.031269118976285315, -0.03013522798160398, 0...   \n",
              "8   [0.031269118976285315, -0.03013522798160398, 0...   \n",
              "15  [0.031269118976285315, -0.03013522798160398, 0...   \n",
              "4   [0.031269118976285315, -0.03013522798160398, 0...   \n",
              "\n",
              "                                                title  Trained_Items  \\\n",
              "11      Davidson's Tea Bulk, Anise Seed, 16-Ounce Bag       0.044248   \n",
              "3   Nutiva Organic, Cold-Pressed, Unrefined, Virgi...       0.042502   \n",
              "8   Designer Whey Premium Natural 100% Whey Protei...       0.040737   \n",
              "15  ORCHARD VALLEY HARVEST Cranberry Almond Cashew...       0.040383   \n",
              "4   YumEarth Organic Lollipops, Assorted Flavors, ...       0.036709   \n",
              "\n",
              "   ReviewRating  \n",
              "11          NaN  \n",
              "3           NaN  \n",
              "8           NaN  \n",
              "15          NaN  \n",
              "4           NaN  "
            ],
            "text/html": [
              "\n",
              "  <div id=\"df-a861b3d9-c41c-4f73-b203-15712c112b5e\">\n",
              "    <div class=\"colab-df-container\">\n",
              "      <div>\n",
              "<style scoped>\n",
              "    .dataframe tbody tr th:only-of-type {\n",
              "        vertical-align: middle;\n",
              "    }\n",
              "\n",
              "    .dataframe tbody tr th {\n",
              "        vertical-align: top;\n",
              "    }\n",
              "\n",
              "    .dataframe thead th {\n",
              "        text-align: right;\n",
              "    }\n",
              "</style>\n",
              "<table border=\"1\" class=\"dataframe\">\n",
              "  <thead>\n",
              "    <tr style=\"text-align: right;\">\n",
              "      <th></th>\n",
              "      <th>Book-ID</th>\n",
              "      <th>User-ID</th>\n",
              "      <th>Full-Vector</th>\n",
              "      <th>title</th>\n",
              "      <th>Trained_Items</th>\n",
              "      <th>ReviewRating</th>\n",
              "    </tr>\n",
              "  </thead>\n",
              "  <tbody>\n",
              "    <tr>\n",
              "      <th>11</th>\n",
              "      <td>B00542YXFW</td>\n",
              "      <td>A1X1CEGHTHMBL1</td>\n",
              "      <td>[0.031269118976285315, -0.03013522798160398, 0...</td>\n",
              "      <td>Davidson's Tea Bulk, Anise Seed, 16-Ounce Bag</td>\n",
              "      <td>0.044248</td>\n",
              "      <td>NaN</td>\n",
              "    </tr>\n",
              "    <tr>\n",
              "      <th>3</th>\n",
              "      <td>B000H2XXRS</td>\n",
              "      <td>A1X1CEGHTHMBL1</td>\n",
              "      <td>[0.031269118976285315, -0.03013522798160398, 0...</td>\n",
              "      <td>Nutiva Organic, Cold-Pressed, Unrefined, Virgi...</td>\n",
              "      <td>0.042502</td>\n",
              "      <td>NaN</td>\n",
              "    </tr>\n",
              "    <tr>\n",
              "      <th>8</th>\n",
              "      <td>B00117YT4Y</td>\n",
              "      <td>A1X1CEGHTHMBL1</td>\n",
              "      <td>[0.031269118976285315, -0.03013522798160398, 0...</td>\n",
              "      <td>Designer Whey Premium Natural 100% Whey Protei...</td>\n",
              "      <td>0.040737</td>\n",
              "      <td>NaN</td>\n",
              "    </tr>\n",
              "    <tr>\n",
              "      <th>15</th>\n",
              "      <td>B00WFDMRDI</td>\n",
              "      <td>A1X1CEGHTHMBL1</td>\n",
              "      <td>[0.031269118976285315, -0.03013522798160398, 0...</td>\n",
              "      <td>ORCHARD VALLEY HARVEST Cranberry Almond Cashew...</td>\n",
              "      <td>0.040383</td>\n",
              "      <td>NaN</td>\n",
              "    </tr>\n",
              "    <tr>\n",
              "      <th>4</th>\n",
              "      <td>B000HDK0DC</td>\n",
              "      <td>A1X1CEGHTHMBL1</td>\n",
              "      <td>[0.031269118976285315, -0.03013522798160398, 0...</td>\n",
              "      <td>YumEarth Organic Lollipops, Assorted Flavors, ...</td>\n",
              "      <td>0.036709</td>\n",
              "      <td>NaN</td>\n",
              "    </tr>\n",
              "  </tbody>\n",
              "</table>\n",
              "</div>\n",
              "      <button class=\"colab-df-convert\" onclick=\"convertToInteractive('df-a861b3d9-c41c-4f73-b203-15712c112b5e')\"\n",
              "              title=\"Convert this dataframe to an interactive table.\"\n",
              "              style=\"display:none;\">\n",
              "        \n",
              "  <svg xmlns=\"http://www.w3.org/2000/svg\" height=\"24px\"viewBox=\"0 0 24 24\"\n",
              "       width=\"24px\">\n",
              "    <path d=\"M0 0h24v24H0V0z\" fill=\"none\"/>\n",
              "    <path d=\"M18.56 5.44l.94 2.06.94-2.06 2.06-.94-2.06-.94-.94-2.06-.94 2.06-2.06.94zm-11 1L8.5 8.5l.94-2.06 2.06-.94-2.06-.94L8.5 2.5l-.94 2.06-2.06.94zm10 10l.94 2.06.94-2.06 2.06-.94-2.06-.94-.94-2.06-.94 2.06-2.06.94z\"/><path d=\"M17.41 7.96l-1.37-1.37c-.4-.4-.92-.59-1.43-.59-.52 0-1.04.2-1.43.59L10.3 9.45l-7.72 7.72c-.78.78-.78 2.05 0 2.83L4 21.41c.39.39.9.59 1.41.59.51 0 1.02-.2 1.41-.59l7.78-7.78 2.81-2.81c.8-.78.8-2.07 0-2.86zM5.41 20L4 18.59l7.72-7.72 1.47 1.35L5.41 20z\"/>\n",
              "  </svg>\n",
              "      </button>\n",
              "      \n",
              "  <style>\n",
              "    .colab-df-container {\n",
              "      display:flex;\n",
              "      flex-wrap:wrap;\n",
              "      gap: 12px;\n",
              "    }\n",
              "\n",
              "    .colab-df-convert {\n",
              "      background-color: #E8F0FE;\n",
              "      border: none;\n",
              "      border-radius: 50%;\n",
              "      cursor: pointer;\n",
              "      display: none;\n",
              "      fill: #1967D2;\n",
              "      height: 32px;\n",
              "      padding: 0 0 0 0;\n",
              "      width: 32px;\n",
              "    }\n",
              "\n",
              "    .colab-df-convert:hover {\n",
              "      background-color: #E2EBFA;\n",
              "      box-shadow: 0px 1px 2px rgba(60, 64, 67, 0.3), 0px 1px 3px 1px rgba(60, 64, 67, 0.15);\n",
              "      fill: #174EA6;\n",
              "    }\n",
              "\n",
              "    [theme=dark] .colab-df-convert {\n",
              "      background-color: #3B4455;\n",
              "      fill: #D2E3FC;\n",
              "    }\n",
              "\n",
              "    [theme=dark] .colab-df-convert:hover {\n",
              "      background-color: #434B5C;\n",
              "      box-shadow: 0px 1px 3px 1px rgba(0, 0, 0, 0.15);\n",
              "      filter: drop-shadow(0px 1px 2px rgba(0, 0, 0, 0.3));\n",
              "      fill: #FFFFFF;\n",
              "    }\n",
              "  </style>\n",
              "\n",
              "      <script>\n",
              "        const buttonEl =\n",
              "          document.querySelector('#df-a861b3d9-c41c-4f73-b203-15712c112b5e button.colab-df-convert');\n",
              "        buttonEl.style.display =\n",
              "          google.colab.kernel.accessAllowed ? 'block' : 'none';\n",
              "\n",
              "        async function convertToInteractive(key) {\n",
              "          const element = document.querySelector('#df-a861b3d9-c41c-4f73-b203-15712c112b5e');\n",
              "          const dataTable =\n",
              "            await google.colab.kernel.invokeFunction('convertToInteractive',\n",
              "                                                     [key], {});\n",
              "          if (!dataTable) return;\n",
              "\n",
              "          const docLinkHtml = 'Like what you see? Visit the ' +\n",
              "            '<a target=\"_blank\" href=https://colab.research.google.com/notebooks/data_table.ipynb>data table notebook</a>'\n",
              "            + ' to learn more about interactive tables.';\n",
              "          element.innerHTML = '';\n",
              "          dataTable['output_type'] = 'display_data';\n",
              "          await google.colab.output.renderOutput(dataTable, element);\n",
              "          const docLink = document.createElement('div');\n",
              "          docLink.innerHTML = docLinkHtml;\n",
              "          element.appendChild(docLink);\n",
              "        }\n",
              "      </script>\n",
              "    </div>\n",
              "  </div>\n",
              "  "
            ]
          },
          "metadata": {},
          "execution_count": 161
        }
      ],
      "source": [
        "top_5_unrated"
      ]
    },
    {
      "cell_type": "code",
      "execution_count": 161,
      "id": "b3b22840",
      "metadata": {
        "id": "b3b22840"
      },
      "outputs": [],
      "source": [
        ""
      ]
    }
  ],
  "metadata": {
    "kernelspec": {
      "display_name": "Python 3",
      "language": "python",
      "name": "python3"
    },
    "language_info": {
      "codemirror_mode": {
        "name": "ipython",
        "version": 3
      },
      "file_extension": ".py",
      "mimetype": "text/x-python",
      "name": "python",
      "nbconvert_exporter": "python",
      "pygments_lexer": "ipython3",
      "version": "3.8.10"
    },
    "colab": {
      "name": "Full_Project.ipynb",
      "provenance": [],
      "collapsed_sections": [],
      "include_colab_link": true
    }
  },
  "nbformat": 4,
  "nbformat_minor": 5
}