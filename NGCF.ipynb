{
  "cells": [
    {
      "cell_type": "markdown",
      "metadata": {
        "id": "view-in-github",
        "colab_type": "text"
      },
      "source": [
        "<a href=\"https://colab.research.google.com/github/aSafarpoor/Seminar/blob/main/NGCF.ipynb\" target=\"_parent\"><img src=\"https://colab.research.google.com/assets/colab-badge.svg\" alt=\"Open In Colab\"/></a>"
      ]
    },
    {
      "cell_type": "code",
      "execution_count": 1,
      "metadata": {
        "colab": {
          "base_uri": "https://localhost:8080/"
        },
        "id": "vxkbi-1dPnKG",
        "outputId": "2050c9a6-6ad3-4eb5-e92b-f42c7b7f033c"
      },
      "outputs": [
        {
          "output_type": "stream",
          "name": "stdout",
          "text": [
            "Mounted at /content/drive\n"
          ]
        }
      ],
      "source": [
        "from google.colab import drive\n",
        "drive.mount('/content/drive')"
      ]
    },
    {
      "cell_type": "code",
      "execution_count": 2,
      "metadata": {
        "id": "Aq434_X99S_b"
      },
      "outputs": [],
      "source": [
        "from matplotlib import pyplot as plt"
      ]
    },
    {
      "cell_type": "code",
      "execution_count": 3,
      "metadata": {
        "colab": {
          "base_uri": "https://localhost:8080/"
        },
        "id": "phzv8AA5PwgL",
        "outputId": "ef498961-eaf6-4b52-b5de-4835785d6ea2"
      },
      "outputs": [
        {
          "output_type": "stream",
          "name": "stdout",
          "text": [
            "/content/drive/MyDrive/MSc/codes/NGCF\n",
            "dataPreprosessing.py  GCFmodel.py  __init__.py\trun.py\n",
            "DGLtest.py\t      GraphNCF\t   __pycache__\ttoyDataset\n"
          ]
        }
      ],
      "source": [
        "%cd drive/MyDrive/MSc/codes/NGCF\n",
        "!ls"
      ]
    },
    {
      "cell_type": "markdown",
      "metadata": {
        "id": "qDrivZKL6TeA"
      },
      "source": [
        "#DataPreprocessing"
      ]
    },
    {
      "cell_type": "code",
      "execution_count": 4,
      "metadata": {
        "id": "Tr1lsT15P_T4"
      },
      "outputs": [],
      "source": [
        "from torch.utils.data import Dataset\n",
        "\n",
        "# movielens 1k\n",
        "\n",
        "class ML1K(Dataset):\n",
        "\n",
        "    def __init__(self,rt):\n",
        "        super(Dataset,self).__init__()\n",
        "        self.uId = list(rt['userId'])\n",
        "        self.iId = list(rt['itemId'])\n",
        "        self.rt = list(rt['rating'])\n",
        "\n",
        "    def __len__(self):\n",
        "        return len(self.uId)\n",
        "\n",
        "    def __getitem__(self, item):\n",
        "        return (self.uId[item],self.iId[item],self.rt[item])"
      ]
    },
    {
      "cell_type": "markdown",
      "metadata": {
        "id": "kuADHdL66hRA"
      },
      "source": [
        "#load data"
      ]
    },
    {
      "cell_type": "code",
      "execution_count": 5,
      "metadata": {
        "id": "YC1Pb_Re8i6N",
        "colab": {
          "base_uri": "https://localhost:8080/"
        },
        "outputId": "64a691f2-1f12-4a41-997a-ed750345bb74"
      },
      "outputs": [
        {
          "output_type": "stream",
          "name": "stdout",
          "text": [
            "/content/drive/MyDrive/MSc/codes/NGCF\n",
            "dataPreprosessing.py  GCFmodel.py  __init__.py\trun.py\n",
            "DGLtest.py\t      GraphNCF\t   __pycache__\ttoyDataset\n"
          ]
        }
      ],
      "source": [
        "!pwd\n",
        "!ls"
      ]
    },
    {
      "cell_type": "code",
      "execution_count": 6,
      "metadata": {
        "id": "zi4nRNrVQIQ3"
      },
      "outputs": [],
      "source": [
        "import pandas as pd\n",
        "from os import path\n",
        "\n",
        "# load 100k data\n",
        "\n",
        "# path100k = path.dirname(__file__) + r'\\1K'\n",
        "path100k = 'toyDataset/1K/ml-100k'\n",
        "def load100KRatings():\n",
        "    df = pd.read_table(path100k+'/u.data',sep='\\t',names=['userId','itemId','rating','timestamp'])\n",
        "    return df\n",
        "\n",
        "def load100KItemSide():\n",
        "    import codecs\n",
        "    with codecs.open(path100k+'/u.item', 'r', 'utf-8', errors='ignore') as f:\n",
        "        movies = pd.read_table(f, delimiter='|', header=None,names=\"itemId| movie title | release date | video release date | IMDb URL | unknown | Action | Adventure | Animation | Children's | Comedy | Crime | Documentary | Drama | Fantasy | Film-Noir | Horror | Musical | Mystery | Romance | Sci-Fi | Thriller | War | Western \".split('|'))\n",
        "    return movies\n",
        "\n",
        "def load100kUserSide():\n",
        "    import codecs\n",
        "    with codecs.open(path100k + '/u.user', 'r', 'utf-8', errors='ignore') as f:\n",
        "        users = pd.read_table(f, delimiter='|', header=None,names=\"userId| age | gender | occupation | zip code\".split('|'))\n",
        "    return users"
      ]
    },
    {
      "cell_type": "markdown",
      "metadata": {
        "id": "BbdpRdhE6m0P"
      },
      "source": [
        "GCFmodel"
      ]
    },
    {
      "cell_type": "code",
      "execution_count": 7,
      "metadata": {
        "id": "TJ6KEdJE6bOn"
      },
      "outputs": [],
      "source": [
        "import torch\n",
        "import torch.nn as nn\n",
        "from torch.nn import Module\n",
        "from scipy.sparse import coo_matrix\n",
        "from scipy.sparse import vstack\n",
        "from scipy import sparse\n",
        "import numpy as np\n",
        "\n",
        "\n",
        "# several models for recommendations\n",
        "\n",
        "# RMSE\n",
        "# SVD dim = 50 50 epoch RMSE = 0.931\n",
        "# GNCF dim = 64 layer = [64,64,64] nn = [128,64,32,] 50 epoch RMSE = 0.916/RMSE =0.914\n",
        "# NCF dim = 64 50 nn = [128,54,32] epoch 50 RMSE = 0.928\n",
        "\n",
        "class SVD(Module):\n",
        "\n",
        "    def __init__(self,userNum,itemNum,dim):\n",
        "        super(SVD, self).__init__()\n",
        "        self.uEmbd = nn.Embedding(userNum,dim)\n",
        "        self.iEmbd = nn.Embedding(itemNum,dim)\n",
        "        self.uBias = nn.Embedding(userNum,1)\n",
        "        self.iBias = nn.Embedding(itemNum,1)\n",
        "        self.overAllBias = nn.Parameter(torch.Tensor([0]))\n",
        "\n",
        "    def forward(self, userIdx,itemIdx):\n",
        "        uembd = self.uEmbd(userIdx)\n",
        "        iembd = self.iEmbd(itemIdx)\n",
        "        ubias = self.uBias(userIdx)\n",
        "        ibias = self.iBias(itemIdx)\n",
        "\n",
        "        biases = ubias + ibias + self.overAllBias\n",
        "        prediction = torch.sum(torch.mul(uembd,iembd),dim=1) + biases.flatten()\n",
        "\n",
        "        return prediction"
      ]
    },
    {
      "cell_type": "code",
      "execution_count": 8,
      "metadata": {
        "id": "ZXlODC4J6tmo"
      },
      "outputs": [],
      "source": [
        "class NCF(Module):\n",
        "\n",
        "    def __init__(self,userNum,itemNum,dim,layers=[128,64,32,8]):\n",
        "        super(NCF, self).__init__()\n",
        "        self.uEmbd = nn.Embedding(userNum,dim)\n",
        "        self.iEmbd = nn.Embedding(itemNum,dim)\n",
        "        self.fc_layers = torch.nn.ModuleList()\n",
        "        self.finalLayer = torch.nn.Linear(layers[-1],1)\n",
        "\n",
        "        for From,To in zip(layers[:-1],layers[1:]):\n",
        "            self.fc_layers.append(nn.Linear(From,To))\n",
        "\n",
        "    def forward(self, userIdx,itemIdx):\n",
        "        uembd = self.uEmbd(userIdx)\n",
        "        iembd = self.iEmbd(itemIdx)\n",
        "        embd = torch.cat([uembd, iembd], dim=1)\n",
        "        x = embd\n",
        "        for l in self.fc_layers:\n",
        "            x = l(x)\n",
        "            x = nn.ReLU()(x)\n",
        "\n",
        "        prediction = self.finalLayer(x)\n",
        "        return prediction.flatten()\n"
      ]
    },
    {
      "cell_type": "code",
      "execution_count": 9,
      "metadata": {
        "id": "Ba5A5_j76xkD"
      },
      "outputs": [],
      "source": [
        "class GNNLayer(Module):\n",
        "\n",
        "    def __init__(self,inF,outF):\n",
        "\n",
        "        super(GNNLayer,self).__init__()\n",
        "        self.inF = inF\n",
        "        self.outF = outF\n",
        "        self.linear = torch.nn.Linear(in_features=inF,out_features=outF)\n",
        "        self.interActTransform = torch.nn.Linear(in_features=inF,out_features=outF)\n",
        "\n",
        "    def forward(self, laplacianMat,selfLoop,features):\n",
        "        # for GCF ajdMat is a (N+M) by (N+M) mat\n",
        "        # laplacianMat L = D^-1(A)D^-1 # 拉普拉斯矩阵\n",
        "        L1 = laplacianMat + selfLoop\n",
        "        L2 = laplacianMat.cuda()\n",
        "        L1 = L1.cuda()\n",
        "        inter_feature = torch.sparse.mm(L2,features)\n",
        "        inter_feature = torch.mul(inter_feature,features)\n",
        "\n",
        "        inter_part1 = self.linear(torch.sparse.mm(L1,features))\n",
        "        inter_part2 = self.interActTransform(torch.sparse.mm(L2,inter_feature))\n",
        "\n",
        "        return inter_part1+inter_part2\n",
        "\n",
        "\n"
      ]
    },
    {
      "cell_type": "code",
      "execution_count": 10,
      "metadata": {
        "id": "NyMI3i8U61to"
      },
      "outputs": [],
      "source": [
        "class GCF(Module):\n",
        "\n",
        "    def __init__(self,userNum,itemNum,rt,embedSize=100,layers=[100,80,50],useCuda=True):\n",
        "\n",
        "        super(GCF,self).__init__()\n",
        "        self.useCuda = useCuda\n",
        "        self.userNum = userNum\n",
        "        self.itemNum = itemNum\n",
        "        self.uEmbd = nn.Embedding(userNum,embedSize)\n",
        "        self.iEmbd = nn.Embedding(itemNum,embedSize)\n",
        "        self.GNNlayers = torch.nn.ModuleList()\n",
        "        self.LaplacianMat = self.buildLaplacianMat(rt) # sparse format\n",
        "        self.leakyRelu = nn.LeakyReLU()\n",
        "        self.selfLoop = self.getSparseEye(self.userNum+self.itemNum)\n",
        "\n",
        "        self.transForm1 = nn.Linear(in_features=layers[-1]*(len(layers))*2,out_features=64)\n",
        "        self.transForm2 = nn.Linear(in_features=64,out_features=32)\n",
        "        self.transForm3 = nn.Linear(in_features=32,out_features=1)\n",
        "\n",
        "        for From,To in zip(layers[:-1],layers[1:]):\n",
        "            self.GNNlayers.append(GNNLayer(From,To))\n",
        "\n",
        "    def getSparseEye(self,num):\n",
        "        i = torch.LongTensor([[k for k in range(0,num)],[j for j in range(0,num)]])\n",
        "        val = torch.FloatTensor([1]*num)\n",
        "        return torch.sparse.FloatTensor(i,val)\n",
        "\n",
        "    def buildLaplacianMat(self,rt):\n",
        "\n",
        "        rt_item = rt['itemId'] + self.userNum\n",
        "        uiMat = coo_matrix((rt['rating'], (rt['userId'], rt['itemId'])))\n",
        "\n",
        "        uiMat_upperPart = coo_matrix((rt['rating'], (rt['userId'], rt_item)))\n",
        "        uiMat = uiMat.transpose()\n",
        "        uiMat.resize((self.itemNum, self.userNum + self.itemNum))\n",
        "\n",
        "        A = sparse.vstack([uiMat_upperPart,uiMat])\n",
        "        selfLoop = sparse.eye(self.userNum+self.itemNum)\n",
        "        sumArr = (A>0).sum(axis=1)\n",
        "        diag = list(np.array(sumArr.flatten())[0])\n",
        "        diag = np.power(diag,-0.5)\n",
        "        D = sparse.diags(diag)\n",
        "        L = D * A * D\n",
        "        L = sparse.coo_matrix(L)\n",
        "        row = L.row\n",
        "        col = L.col\n",
        "        i = torch.LongTensor([row,col])\n",
        "        data = torch.FloatTensor(L.data)\n",
        "        SparseL = torch.sparse.FloatTensor(i,data)\n",
        "        return SparseL\n",
        "\n",
        "    def getFeatureMat(self):\n",
        "        uidx = torch.LongTensor([i for i in range(self.userNum)])\n",
        "        iidx = torch.LongTensor([i for i in range(self.itemNum)])\n",
        "        if self.useCuda == True:\n",
        "            uidx = uidx.cuda()\n",
        "            iidx = iidx.cuda()\n",
        "\n",
        "        userEmbd = self.uEmbd(uidx)\n",
        "        itemEmbd = self.iEmbd(iidx)\n",
        "        features = torch.cat([userEmbd,itemEmbd],dim=0)\n",
        "        return features\n",
        "\n",
        "    def forward(self,userIdx,itemIdx):\n",
        "\n",
        "        itemIdx = itemIdx + self.userNum\n",
        "        userIdx = list(userIdx.cpu().data)\n",
        "        itemIdx = list(itemIdx.cpu().data)\n",
        "        # gcf data propagation\n",
        "        features = self.getFeatureMat()\n",
        "        finalEmbd = features.clone()\n",
        "        for gnn in self.GNNlayers:\n",
        "            features = gnn(self.LaplacianMat,self.selfLoop,features)\n",
        "            features = nn.ReLU()(features)\n",
        "            finalEmbd = torch.cat([finalEmbd,features.clone()],dim=1)\n",
        "\n",
        "        userEmbd = finalEmbd[userIdx]\n",
        "        itemEmbd = finalEmbd[itemIdx]\n",
        "        embd = torch.cat([userEmbd,itemEmbd],dim=1)\n",
        "\n",
        "        embd = nn.ReLU()(self.transForm1(embd))\n",
        "        embd = self.transForm2(embd)\n",
        "        embd = self.transForm3(embd)\n",
        "        prediction = embd.flatten()\n",
        "\n",
        "        return prediction\n"
      ]
    },
    {
      "cell_type": "code",
      "execution_count": 11,
      "metadata": {
        "id": "qVNe_gRV65Vg",
        "colab": {
          "base_uri": "https://localhost:8080/"
        },
        "outputId": "2f619083-1e4c-46fb-9383-d4b649b0a6f8"
      },
      "outputs": [
        {
          "output_type": "stream",
          "name": "stderr",
          "text": [
            "/usr/local/lib/python3.7/dist-packages/ipykernel_launcher.py:47: UserWarning: Creating a tensor from a list of numpy.ndarrays is extremely slow. Please consider converting the list to a single numpy.ndarray with numpy.array() before converting to a tensor. (Triggered internally at  ../torch/csrc/utils/tensor_new.cpp:210.)\n"
          ]
        }
      ],
      "source": [
        "\n",
        "if __name__ == '__main__':\n",
        "    # from toyDataset.loaddata import load100KRatings\n",
        "\n",
        "    rt = load100KRatings()\n",
        "    userNum = rt['userId'].max()\n",
        "    itemNum = rt['itemId'].max()\n",
        "\n",
        "    rt['userId'] = rt['userId'] - 1\n",
        "    rt['itemId'] = rt['itemId'] - 1\n",
        "    gcf = GCF(userNum,itemNum,rt)"
      ]
    },
    {
      "cell_type": "markdown",
      "metadata": {
        "id": "rVzk76Wg67pY"
      },
      "source": [
        "# run"
      ]
    },
    {
      "cell_type": "code",
      "execution_count": 13,
      "metadata": {
        "colab": {
          "base_uri": "https://localhost:8080/"
        },
        "id": "q2JX8m1i67yQ",
        "outputId": "bb542333-3b63-4856-ac34-189c8e7aac6b"
      },
      "outputs": [
        {
          "output_type": "stream",
          "name": "stderr",
          "text": [
            "100%|██████████| 100/100 [02:27<00:00,  1.48s/it]"
          ]
        },
        {
          "output_type": "stream",
          "name": "stdout",
          "text": [
            "0.8537408113479614\n"
          ]
        },
        {
          "output_type": "stream",
          "name": "stderr",
          "text": [
            "\n"
          ]
        }
      ],
      "source": [
        "import torch\n",
        "from torch import nn as nn\n",
        "from scipy.sparse import coo_matrix\n",
        "import pandas as pd\n",
        "import numpy as np\n",
        "from numpy import diag\n",
        "from torch.utils.data import DataLoader\n",
        "from torch.utils.data import random_split\n",
        "from torch.optim import Adam\n",
        "from torch.nn import MSELoss\n",
        "from tqdm import tqdm\n",
        "\n",
        "rt = load100KRatings()\n",
        "userNum = rt['userId'].max()\n",
        "itemNum = rt['itemId'].max()\n",
        "\n",
        "rt['userId'] = rt['userId'] - 1\n",
        "rt['itemId'] = rt['itemId'] - 1\n",
        "#\n",
        "# rtIt = rt['itemId'] + userNum\n",
        "# uiMat = coo_matrix((rt['rating'],(rt['userId'],rt['itemId'])))\n",
        "# uiMat_upperPart = coo_matrix((rt['rating'],(rt['userId'],rtIt)))\n",
        "# uiMat = uiMat.transpose()\n",
        "# uiMat.resize((itemNum,userNum+itemNum))\n",
        "# uiMat = uiMat.todense()\n",
        "# uiMat_t = uiMat.transpose()\n",
        "# zeros1 = np.zeros((userNum,userNum))\n",
        "# zeros2 = np.zeros((itemNum,itemNum))\n",
        "#\n",
        "# p1 = np.concatenate([zeros1,uiMat],axis=1)\n",
        "# p2 = np.concatenate([uiMat_t,zeros2],axis=1)\n",
        "# mat = np.concatenate([p1,p2])\n",
        "#\n",
        "# count = (mat > 0)+0\n",
        "# diagval = np.array(count.sum(axis=0))[0]\n",
        "# diagval = np.power(diagval,(-1/2))\n",
        "# D_ = diag(diagval)\n",
        "#\n",
        "# L = np.dot(np.dot(D_,mat),D_)\n",
        "#\n",
        "para = {\n",
        "    'epoch':100,\n",
        "    'lr':0.01,\n",
        "    'batch_size':2048,\n",
        "    'train':0.8\n",
        "}\n",
        "\n",
        "ds = ML1K(rt)\n",
        "trainLen = int(para['train']*len(ds))\n",
        "train,test = random_split(ds,[trainLen,len(ds)-trainLen])\n",
        "dl = DataLoader(train,batch_size=para['batch_size'],shuffle=True,pin_memory=True)\n",
        "\n",
        "model = GCF(userNum, itemNum, rt, 80, layers=[80,80,]).cuda()\n",
        "# model = SVD(userNum,itemNum,50).cuda()\n",
        "# model = NCF(userNum,itemNum,64,layers=[128,64,32,16,8]).cuda()\n",
        "optim = Adam(model.parameters(), lr=para['lr'])\n",
        "lossfn = MSELoss()\n",
        "\n",
        "loss_list_reg = []\n",
        "for i in tqdm(range(para['epoch'])):\n",
        "    # print('epoch num: ',i+1)\n",
        "    for id,batch in enumerate(dl):\n",
        "        # print('epoch:',i,' batch:',id)\n",
        "        optim.zero_grad()\n",
        "        prediction = model(batch[0].cuda(), batch[1].cuda())\n",
        "        loss = lossfn(batch[2].float().cuda(),prediction)\n",
        "\n",
        "        l2_lambda = 0.01\n",
        "        l2_reg = torch.tensor(0.).cuda()\n",
        "        for param in model.parameters():\n",
        "            l2_reg += torch.norm(param)\n",
        "        loss += l2_lambda * l2_reg\n",
        "\n",
        "\n",
        "        loss.backward()\n",
        "        optim.step()\n",
        "    try:\n",
        "        for data in testdl:\n",
        "            testdl = DataLoader(test,batch_size=len(test),)\n",
        "            prediction = model(data[0].cuda(),data[1].cuda())\n",
        "            loss = lossfn(data[2].float().cuda(),prediction)\n",
        "            loss_list_reg.append(round(loss.item(),3))\n",
        "    except Exception as e:\n",
        "        print('some little error:',e)\n",
        "\n",
        "\n",
        "testdl = DataLoader(test,batch_size=len(test),)\n",
        "for data in testdl:\n",
        "    prediction = model(data[0].cuda(),data[1].cuda())\n",
        "    loss = lossfn(data[2].float().cuda(),prediction)\n",
        "\n",
        "\n",
        "print(loss.item()) # MSEloss\n",
        "\n"
      ]
    },
    {
      "cell_type": "code",
      "execution_count": null,
      "metadata": {
        "id": "LR6ltyBOGFtW"
      },
      "outputs": [],
      "source": [
        "# plt.plot(range(len(loss_list_wd)),loss_list_wd,label='weight decay')\n",
        "# plt.plot(range(len(loss_list_no_reg)),loss_list_no_reg,label='without reguliozer')\n",
        "# plt.plot(range(len(loss_list_reg)),loss_list_reg,label = 'with regulizer')\n",
        "# plt.legend()"
      ]
    },
    {
      "cell_type": "code",
      "execution_count": 15,
      "metadata": {
        "id": "MH_SO3KwGMTe"
      },
      "outputs": [],
      "source": [
        "testdl = DataLoader(test,batch_size=len(test),)\n",
        "for data in testdl:\n",
        "    d = data.copy()\n",
        "    break"
      ]
    },
    {
      "cell_type": "markdown",
      "source": [
        "![sexrdctfgvbyjmniko.png](data:image/png;base64,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)"
      ],
      "metadata": {
        "id": "rLSyjlYcpLfu"
      }
    }
  ],
  "metadata": {
    "accelerator": "GPU",
    "colab": {
      "name": "NGCF.ipynb",
      "provenance": [],
      "authorship_tag": "ABX9TyNpZvBdbYNwmW8PcWmcYHEm",
      "include_colab_link": true
    },
    "kernelspec": {
      "display_name": "Python 3",
      "name": "python3"
    },
    "language_info": {
      "name": "python"
    }
  },
  "nbformat": 4,
  "nbformat_minor": 0
}