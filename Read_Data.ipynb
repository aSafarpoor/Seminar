{
  "nbformat": 4,
  "nbformat_minor": 0,
  "metadata": {
    "colab": {
      "name": "Read Data.ipynb",
      "provenance": [],
      "collapsed_sections": [
        "RMP8xLzB2cIE"
      ],
      "authorship_tag": "ABX9TyM1J4zHSCFlyD0xx81Nxew5",
      "include_colab_link": true
    },
    "kernelspec": {
      "name": "python3",
      "display_name": "Python 3"
    },
    "language_info": {
      "name": "python"
    }
  },
  "cells": [
    {
      "cell_type": "markdown",
      "metadata": {
        "id": "view-in-github",
        "colab_type": "text"
      },
      "source": [
        "<a href=\"https://colab.research.google.com/github/aSafarpoor/Seminar/blob/main/Read_Data.ipynb\" target=\"_parent\"><img src=\"https://colab.research.google.com/assets/colab-badge.svg\" alt=\"Open In Colab\"/></a>"
      ]
    },
    {
      "cell_type": "markdown",
      "source": [
        "source link: http://deepyeti.ucsd.edu/jianmo/amazon/index.html"
      ],
      "metadata": {
        "id": "NHhZ0okjmyAP"
      }
    },
    {
      "cell_type": "code",
      "source": [
        "import json\n",
        "from tqdm import tqdm\n",
        "import random\n",
        "from collections import Counter\n",
        "import pandas as pd\n",
        "import pickle"
      ],
      "metadata": {
        "id": "Z400ixCItKw7"
      },
      "execution_count": 100,
      "outputs": []
    },
    {
      "cell_type": "code",
      "source": [
        "from google.colab import drive\n",
        "drive.mount('/content/drive')"
      ],
      "metadata": {
        "colab": {
          "base_uri": "https://localhost:8080/"
        },
        "id": "xWzCWEIVnGbc",
        "outputId": "99822e3e-ba6c-4a97-9caa-145b41193596"
      },
      "execution_count": null,
      "outputs": [
        {
          "output_type": "stream",
          "name": "stdout",
          "text": [
            "Mounted at /content/drive\n"
          ]
        }
      ]
    },
    {
      "cell_type": "code",
      "source": [
        "%cd drive\n",
        "%cd MyDrive\n",
        "%cd Seminar\n",
        "!ls"
      ],
      "metadata": {
        "colab": {
          "base_uri": "https://localhost:8080/"
        },
        "id": "4BNhP78LnXIU",
        "outputId": "4dd0731f-8052-4c85-8629-c4744a7533c5"
      },
      "execution_count": null,
      "outputs": [
        {
          "output_type": "stream",
          "name": "stdout",
          "text": [
            "/content/drive\n",
            "/content/drive/MyDrive\n",
            "/content/drive/MyDrive/Seminar\n",
            "AMAZON_FASHION.json\tmeta_AMAZON_FASHION.json\n",
            "AMAZON_FASHION.json.gz\tmeta_AMAZON_FASHION.json.gz\n"
          ]
        }
      ]
    },
    {
      "cell_type": "code",
      "execution_count": null,
      "metadata": {
        "id": "AYnlqP1UmmH2"
      },
      "outputs": [],
      "source": [
        "# !wget http://deepyeti.ucsd.edu/jianmo/amazon/categoryFiles/AMAZON_FASHION.json.gz"
      ]
    },
    {
      "cell_type": "code",
      "source": [
        "# !wget http://deepyeti.ucsd.edu/jianmo/amazon/metaFiles2/meta_AMAZON_FASHION.json.gz"
      ],
      "metadata": {
        "id": "5FGlF571n6ie"
      },
      "execution_count": null,
      "outputs": []
    },
    {
      "cell_type": "code",
      "source": [
        "# !ls"
      ],
      "metadata": {
        "id": "2cSFNYNSn_b_"
      },
      "execution_count": null,
      "outputs": []
    },
    {
      "cell_type": "code",
      "source": [
        "# !gunzip -k AMAZON_FASHION.json.gz"
      ],
      "metadata": {
        "id": "yOn0a3xqoB18"
      },
      "execution_count": null,
      "outputs": []
    },
    {
      "cell_type": "code",
      "source": [
        "# !gunzip -k meta_AMAZON_FASHION.json.gz"
      ],
      "metadata": {
        "id": "UsRddgodoG0U"
      },
      "execution_count": null,
      "outputs": []
    },
    {
      "cell_type": "code",
      "source": [
        "!ls"
      ],
      "metadata": {
        "colab": {
          "base_uri": "https://localhost:8080/"
        },
        "id": "ySQ0VKi9p28C",
        "outputId": "fba00dbb-adcf-4348-e94f-f83ac0b3b03c"
      },
      "execution_count": null,
      "outputs": [
        {
          "output_type": "stream",
          "name": "stdout",
          "text": [
            "AMAZON_FASHION.json\tmeta_AMAZON_FASHION.json\n",
            "AMAZON_FASHION.json.gz\tmeta_AMAZON_FASHION.json.gz\n"
          ]
        }
      ]
    },
    {
      "cell_type": "markdown",
      "source": [
        "# data fast overview"
      ],
      "metadata": {
        "id": "UCnOYu3L2YZy"
      }
    },
    {
      "cell_type": "code",
      "source": [
        "tweets = []\n",
        "for line in open('AMAZON_FASHION.json', 'r'):\n",
        "    tweets.append(json.loads(line))"
      ],
      "metadata": {
        "id": "FU0jxkO9tQlw"
      },
      "execution_count": null,
      "outputs": []
    },
    {
      "cell_type": "code",
      "source": [
        "len(tweets) , '\\n' , tweets[0]"
      ],
      "metadata": {
        "colab": {
          "base_uri": "https://localhost:8080/"
        },
        "id": "c3RFYKm78WCJ",
        "outputId": "7ca5808c-cb29-4ba5-bbcb-696c19bb1cd5"
      },
      "execution_count": null,
      "outputs": [
        {
          "output_type": "execute_result",
          "data": {
            "text/plain": [
              "(883636,\n",
              " '\\n',\n",
              " {'asin': '7106116521',\n",
              "  'overall': 5.0,\n",
              "  'reviewText': 'Exactly what I needed.',\n",
              "  'reviewTime': '10 20, 2014',\n",
              "  'reviewerID': 'A1D4G1SNUZWQOT',\n",
              "  'reviewerName': 'Tracy',\n",
              "  'summary': 'perfect replacements!!',\n",
              "  'unixReviewTime': 1413763200,\n",
              "  'verified': True})"
            ]
          },
          "metadata": {},
          "execution_count": 11
        }
      ]
    },
    {
      "cell_type": "code",
      "source": [
        "meta_data = []\n",
        "for line in open('meta_AMAZON_FASHION.json', 'r'):\n",
        "    meta_data.append(json.loads(line))"
      ],
      "metadata": {
        "id": "L3t3s9Vc8jbL"
      },
      "execution_count": null,
      "outputs": []
    },
    {
      "cell_type": "code",
      "source": [
        "len(meta_data) , '\\n' , meta_data[0]"
      ],
      "metadata": {
        "colab": {
          "base_uri": "https://localhost:8080/"
        },
        "id": "fch95C_q9Ajk",
        "outputId": "3f8a61c5-5584-45cf-d77b-849ba771827e"
      },
      "execution_count": null,
      "outputs": [
        {
          "output_type": "execute_result",
          "data": {
            "text/plain": [
              "(186637,\n",
              " '\\n',\n",
              " {'asin': '0764443682',\n",
              "  'brand': 'Group Publishing (CO)',\n",
              "  'date': '8.70 inches',\n",
              "  'feature': ['Product Dimensions:\\n                    \\n8.7 x 3.6 x 11.4 inches',\n",
              "   'Shipping Weight:\\n                    \\n2.4 pounds'],\n",
              "  'imageURL': ['https://images-na.ssl-images-amazon.com/images/I/51bSrINiWpL._US40_.jpg'],\n",
              "  'imageURLHighRes': ['https://images-na.ssl-images-amazon.com/images/I/51bSrINiWpL.jpg'],\n",
              "  'rank': '13,052,976inClothing,Shoesamp;Jewelry(',\n",
              "  'title': 'Slime Time Fall Fest [With CDROM and Collector Cards and Neutron Balls, Incredi-Ball and Glow Stick Necklace, Paper Fram'})"
            ]
          },
          "metadata": {},
          "execution_count": 13
        }
      ]
    },
    {
      "cell_type": "code",
      "source": [
        "t_count = i_count = hi_count = 0\n",
        "tlen= []\n",
        "for i in meta_data:\n",
        "    if 'title' in list(i.keys()):\n",
        "        t_count +=1\n",
        "        tlen.append(len(i['title']))\n",
        "    if 'imageURL' in list(i.keys()):\n",
        "        i_count +=1\n",
        "    if 'imageURLHighRes' in list(i.keys()):\n",
        "        hi_count +=1\n",
        "\n",
        "t_count , i_count , hi_count , len(meta_data)"
      ],
      "metadata": {
        "colab": {
          "base_uri": "https://localhost:8080/"
        },
        "id": "FS9kNCcJ9DzC",
        "outputId": "23ae291f-f31b-4a6b-99bf-b42e4d62ea3e"
      },
      "execution_count": null,
      "outputs": [
        {
          "output_type": "execute_result",
          "data": {
            "text/plain": [
              "(186632, 132017, 132017, 186637)"
            ]
          },
          "metadata": {},
          "execution_count": 14
        }
      ]
    },
    {
      "cell_type": "code",
      "source": [
        "min(tlen) , sum(tlen)/len(tlen) , max(tlen)"
      ],
      "metadata": {
        "colab": {
          "base_uri": "https://localhost:8080/"
        },
        "id": "G9LtJ9PX9ich",
        "outputId": "56f40666-6c32-48fa-dddc-c1fdfdefe8ae"
      },
      "execution_count": null,
      "outputs": [
        {
          "output_type": "execute_result",
          "data": {
            "text/plain": [
              "(1, 225.24316301598867, 424341)"
            ]
          },
          "metadata": {},
          "execution_count": 15
        }
      ]
    },
    {
      "cell_type": "code",
      "source": [
        "c = 0\n",
        "for i in tqdm(range(len(tlen))):\n",
        "    if tlen[i]<50:\n",
        "        c+=1\n",
        "        # print(c, ' --> ' , meta_data[i]['title'])\n",
        "print('\\n',len(tlen)-c)"
      ],
      "metadata": {
        "colab": {
          "base_uri": "https://localhost:8080/"
        },
        "id": "uH_8Q5K-9_81",
        "outputId": "18b49110-d30c-4bb0-b3b3-bfdcc0e5868a"
      },
      "execution_count": null,
      "outputs": [
        {
          "output_type": "stream",
          "name": "stderr",
          "text": [
            "100%|██████████| 186632/186632 [00:00<00:00, 2056140.90it/s]"
          ]
        },
        {
          "output_type": "stream",
          "name": "stdout",
          "text": [
            "\n",
            " 158048\n"
          ]
        },
        {
          "output_type": "stream",
          "name": "stderr",
          "text": [
            "\n"
          ]
        }
      ]
    },
    {
      "cell_type": "code",
      "source": [
        "for i in meta_data[0:3]:\n",
        "    print(i['rank'])\n",
        "    try:\n",
        "        for j in i['feature']:\n",
        "            print(j)\n",
        "    except:\n",
        "        print('')\n",
        "    print('\\n ==================== \\n')\n",
        "    "
      ],
      "metadata": {
        "colab": {
          "base_uri": "https://localhost:8080/"
        },
        "id": "58wUA8LI-fcc",
        "outputId": "341d3d42-ebdb-48e1-e7bf-824911fb00f9"
      },
      "execution_count": null,
      "outputs": [
        {
          "output_type": "stream",
          "name": "stdout",
          "text": [
            "13,052,976inClothing,Shoesamp;Jewelry(\n",
            "Product Dimensions:\n",
            "                    \n",
            "8.7 x 3.6 x 11.4 inches\n",
            "Shipping Weight:\n",
            "                    \n",
            "2.4 pounds\n",
            "\n",
            " ==================== \n",
            "\n",
            "11,654,581inClothing,Shoesamp;Jewelry(\n",
            "\n",
            "\n",
            " ==================== \n",
            "\n",
            "19,308,073inClothing,ShoesJewelry(\n",
            "Package Dimensions:\n",
            "                    \n",
            "8.5 x 5.5 x 0.4 inches\n",
            "Shipping Weight:\n",
            "                    \n",
            "6.1 ounces\n",
            "\n",
            " ==================== \n",
            "\n"
          ]
        }
      ]
    },
    {
      "cell_type": "markdown",
      "source": [
        "# data better overview"
      ],
      "metadata": {
        "id": "RMP8xLzB2cIE"
      }
    },
    {
      "cell_type": "code",
      "source": [
        "tweets[0]"
      ],
      "metadata": {
        "colab": {
          "base_uri": "https://localhost:8080/"
        },
        "id": "646OabsZ3rnH",
        "outputId": "98c66a6c-9dd4-4a20-ca9b-1989d3d166a5"
      },
      "execution_count": null,
      "outputs": [
        {
          "output_type": "execute_result",
          "data": {
            "text/plain": [
              "{'asin': '7106116521',\n",
              " 'overall': 5.0,\n",
              " 'reviewText': 'Exactly what I needed.',\n",
              " 'reviewTime': '10 20, 2014',\n",
              " 'reviewerID': 'A1D4G1SNUZWQOT',\n",
              " 'reviewerName': 'Tracy',\n",
              " 'summary': 'perfect replacements!!',\n",
              " 'unixReviewTime': 1413763200,\n",
              " 'verified': True}"
            ]
          },
          "metadata": {},
          "execution_count": 20
        }
      ]
    },
    {
      "cell_type": "code",
      "source": [
        "meta_data[4:6]"
      ],
      "metadata": {
        "colab": {
          "base_uri": "https://localhost:8080/"
        },
        "id": "ad4I8bpf36Ii",
        "outputId": "586a573b-4281-407b-fdef-0784eb938e09"
      },
      "execution_count": null,
      "outputs": [
        {
          "output_type": "execute_result",
          "data": {
            "text/plain": [
              "[{'asin': '1940967805',\n",
              "  'date': '5 star',\n",
              "  'feature': ['Package Dimensions:\\n                    \\n10.5 x 6.5 x 0.2 inches',\n",
              "   'Shipping Weight:\\n                    \\n6.4 ounces (View shipping rates and policies)'],\n",
              "  'imageURL': ['https://images-na.ssl-images-amazon.com/images/I/418HGjTDbRL._SR38,50_.jpg'],\n",
              "  'imageURLHighRes': ['https://images-na.ssl-images-amazon.com/images/I/418HGjTDbRL.jpg'],\n",
              "  'price': '$4.50',\n",
              "  'rank': '10,558,646inClothing,Shoesamp;Jewelry(',\n",
              "  'title': 'Aether & Empire #1 - 2016 First Printing Comic Book Special Edition - Rare! - Blue Juice Comics'},\n",
              " {'asin': '1942705034',\n",
              "  'date': '5 star',\n",
              "  'imageURL': ['https://images-na.ssl-images-amazon.com/images/I/41XfVtdsiJL._SR38,50_.jpg',\n",
              "   'https://images-na.ssl-images-amazon.com/images/I/41%2BNbtV5c5L._SR38,50_.jpg',\n",
              "   'https://images-na.ssl-images-amazon.com/images/I/41DvPo37jNL._SR38,50_.jpg',\n",
              "   'https://images-na.ssl-images-amazon.com/images/I/41KvxNrHleL._SR38,50_.jpg'],\n",
              "  'imageURLHighRes': ['https://images-na.ssl-images-amazon.com/images/I/41XfVtdsiJL.jpg',\n",
              "   'https://images-na.ssl-images-amazon.com/images/I/41%2BNbtV5c5L.jpg',\n",
              "   'https://images-na.ssl-images-amazon.com/images/I/41DvPo37jNL.jpg',\n",
              "   'https://images-na.ssl-images-amazon.com/images/I/41KvxNrHleL.jpg'],\n",
              "  'rank': '16,179,013inClothing,Shoesamp;Jewelry(',\n",
              "  'title': '365 Affirmations for a Year of Love, Peace & Prosperity'}]"
            ]
          },
          "metadata": {},
          "execution_count": 52
        }
      ]
    },
    {
      "cell_type": "code",
      "source": [
        "reviewerid_dictionary = {}\n",
        "\n",
        "for tweet in tweets:\n",
        "    id = tweet['reviewerID']\n",
        "    if id in reviewerid_dictionary:\n",
        "        reviewerid_dictionary[id].append(tweet['asin'])\n",
        "    else:\n",
        "        reviewerid_dictionary[id] = [tweet['asin']]"
      ],
      "metadata": {
        "id": "RLi3Lk7k_Dwt"
      },
      "execution_count": null,
      "outputs": []
    },
    {
      "cell_type": "code",
      "source": [
        "len(reviewerid_dictionary)"
      ],
      "metadata": {
        "colab": {
          "base_uri": "https://localhost:8080/"
        },
        "id": "-UDdyZ7B2i8n",
        "outputId": "3712d32f-47cd-4b8e-a13b-632179515400"
      },
      "execution_count": null,
      "outputs": [
        {
          "output_type": "execute_result",
          "data": {
            "text/plain": [
              "749233"
            ]
          },
          "metadata": {},
          "execution_count": 22
        }
      ]
    },
    {
      "cell_type": "code",
      "source": [
        "meta_data = sorted(meta_data, key=lambda d: d['asin']) "
      ],
      "metadata": {
        "id": "znzT-PyR44Se"
      },
      "execution_count": null,
      "outputs": []
    },
    {
      "cell_type": "code",
      "source": [
        "meta_data2 = meta_data[:]\n",
        "meta_data = [meta_data2[0]]\n",
        "asins = [meta_data2[0]['asin']]\n",
        "for i in range(1,len(meta_data2)):\n",
        "    if meta_data2[i]['asin'] == meta_data2[i-1]['asin']:\n",
        "        if meta_data2[i]['asin'] != meta_data2[i-1]['asin']:\n",
        "            print(meta_data2[i],meta_data2[i-1])\n",
        "    else:\n",
        "        asins.append(meta_data2[i]['asin'])\n",
        "        meta_data.append(meta_data2[i])\n",
        "del meta_data2"
      ],
      "metadata": {
        "id": "rUnMp-bK30G3"
      },
      "execution_count": null,
      "outputs": []
    },
    {
      "cell_type": "code",
      "source": [
        "asins2 = [i[\"asin\"] for i in tweets]"
      ],
      "metadata": {
        "id": "fpa0OfoQ4RNt"
      },
      "execution_count": null,
      "outputs": []
    },
    {
      "cell_type": "code",
      "source": [
        "count_user = 0\n",
        "for i in reviewerid_dictionary:\n",
        "    if len(reviewerid_dictionary[i]) == 0 :\n",
        "        count_user += 1\n",
        "asins2 = list(set(asins2))\n",
        "print('cold start items=',abs(len(asins)-len(asins2)))\n",
        "print('cold start users=',count_user)\n"
      ],
      "metadata": {
        "colab": {
          "base_uri": "https://localhost:8080/"
        },
        "id": "gP64KBWz6Nit",
        "outputId": "5d579da8-18b7-4337-8f88-d7654ea8b32d"
      },
      "execution_count": 61,
      "outputs": [
        {
          "output_type": "stream",
          "name": "stdout",
          "text": [
            "cold start items= 5\n",
            "cold start users= 0\n"
          ]
        }
      ]
    },
    {
      "cell_type": "markdown",
      "source": [
        "* cold start items= 5\n",
        "\n",
        "* cold start users= 0\n",
        "\n",
        "        so for creat user cold start we should remove some users behavioural \n",
        "\n",
        "* 132K with imageURL\n",
        "\n",
        "    * some has more than one image\n",
        "\n",
        "* 158K has description with more than 50 character and white space"
      ],
      "metadata": {
        "id": "7x89klxUBQDn"
      }
    },
    {
      "cell_type": "markdown",
      "source": [
        "# save clean dataframe from users:"
      ],
      "metadata": {
        "id": "Dc9fdQoFKxh9"
      }
    },
    {
      "cell_type": "code",
      "source": [
        "samples = random.sample(tweets,3)\n",
        "for sample in samples:\n",
        "    for j in sample:\n",
        "        print(j,' ==> ',sample[j])\n",
        "    print('====================================================================')"
      ],
      "metadata": {
        "colab": {
          "base_uri": "https://localhost:8080/"
        },
        "id": "bxtt24DJKwdT",
        "outputId": "8207080e-f48f-48f6-e58b-071cf00ef5c5"
      },
      "execution_count": 68,
      "outputs": [
        {
          "output_type": "stream",
          "name": "stdout",
          "text": [
            "overall  ==>  1.0\n",
            "verified  ==>  True\n",
            "reviewTime  ==>  04 29, 2017\n",
            "reviewerID  ==>  A3QLXKP31H7UGX\n",
            "asin  ==>  B00SXU2TEO\n",
            "style  ==>  {'Size:': ' Large', 'Color:': ' Multicolor'}\n",
            "reviewerName  ==>  Amazon Customer\n",
            "reviewText  ==>  So pretty!!  However, returned because the cut was weird in the armscye and made the shirt pull uncomfortably  when arms lifted.\n",
            "summary  ==>  Wanted to like this\n",
            "unixReviewTime  ==>  1493424000\n",
            "====================================================================\n",
            "overall  ==>  4.0\n",
            "verified  ==>  True\n",
            "reviewTime  ==>  05 25, 2016\n",
            "reviewerID  ==>  AAV1QLAVQLQIB\n",
            "asin  ==>  B0109W7PCE\n",
            "reviewerName  ==>  Anon\n",
            "reviewText  ==>  It's not too small, per se. Just tight. Needs to be worn and stretched a little\n",
            "summary  ==>  Good for support, but can be annoying with how tight it is\n",
            "unixReviewTime  ==>  1464134400\n",
            "====================================================================\n",
            "overall  ==>  5.0\n",
            "verified  ==>  True\n",
            "reviewTime  ==>  10 1, 2015\n",
            "reviewerID  ==>  A12FQLIZVJUM7P\n",
            "asin  ==>  B000P0X15G\n",
            "style  ==>  {'Size:': ' Toddler', 'Color:': ' Aqua'}\n",
            "reviewerName  ==>  An Author\n",
            "reviewText  ==>  Great look/quality. Fourth one I've purchased.\n",
            "summary  ==>  Five Stars\n",
            "unixReviewTime  ==>  1443657600\n",
            "====================================================================\n"
          ]
        }
      ]
    },
    {
      "cell_type": "code",
      "source": [
        "user_item_matrix = []\n",
        "\n",
        "user_tweets = {}\n",
        "for tweet in tqdm(tweets):\n",
        "    asin = tweet['asin']\n",
        "    user_id = tweet['reviewerID']\n",
        "    if user_id in user_tweets:\n",
        "        if asin not in user_tweets[user_id]:\n",
        "            user_tweets[user_id].append([tweet])\n",
        "    else:\n",
        "        user_tweets[user_id] = [tweet]\n",
        "    user_item_matrix.append({'user':user_id, 'item':asin, 'rate':tweet['overall']})"
      ],
      "metadata": {
        "colab": {
          "base_uri": "https://localhost:8080/"
        },
        "id": "3V-DefzFLQud",
        "outputId": "e1a2326b-1bf0-451c-c076-1829a2990fcd"
      },
      "execution_count": 86,
      "outputs": [
        {
          "output_type": "stream",
          "name": "stderr",
          "text": [
            "100%|██████████| 883636/883636 [00:03<00:00, 258857.86it/s]\n"
          ]
        }
      ]
    },
    {
      "cell_type": "code",
      "source": [
        "len(user_item_matrix),len(user_tweets),len(tweets),len(meta_data)"
      ],
      "metadata": {
        "colab": {
          "base_uri": "https://localhost:8080/"
        },
        "id": "WuWCXrl5NNZd",
        "outputId": "ca87f677-d5a9-432e-a9c7-9e9d61a176e0"
      },
      "execution_count": 87,
      "outputs": [
        {
          "output_type": "execute_result",
          "data": {
            "text/plain": [
              "(883636, 749233, 883636, 186194)"
            ]
          },
          "metadata": {},
          "execution_count": 87
        }
      ]
    },
    {
      "cell_type": "code",
      "source": [
        "c = 0\n",
        "len_ = []\n",
        "for ut in tqdm(user_tweets):\n",
        "    # print(ut,len(user_tweets[ut]))\n",
        "    len_.append(len(user_tweets[ut]))"
      ],
      "metadata": {
        "colab": {
          "base_uri": "https://localhost:8080/"
        },
        "id": "PJ5OsDiONRN5",
        "outputId": "f9f58b6f-e451-45e1-c68e-04521e076702"
      },
      "execution_count": 88,
      "outputs": [
        {
          "output_type": "stream",
          "name": "stderr",
          "text": [
            "100%|██████████| 749233/749233 [00:00<00:00, 1139429.40it/s]\n"
          ]
        }
      ]
    },
    {
      "cell_type": "code",
      "source": [
        "Counter(len_)"
      ],
      "metadata": {
        "colab": {
          "base_uri": "https://localhost:8080/"
        },
        "id": "F_j1EQGnNfQP",
        "outputId": "b4df7ae3-7ae2-4ecd-8cf4-180e294faea5"
      },
      "execution_count": 93,
      "outputs": [
        {
          "output_type": "execute_result",
          "data": {
            "text/plain": [
              "Counter({1: 655320,\n",
              "         2: 71534,\n",
              "         3: 13493,\n",
              "         4: 5168,\n",
              "         5: 1709,\n",
              "         6: 736,\n",
              "         7: 377,\n",
              "         8: 510,\n",
              "         9: 146,\n",
              "         10: 82,\n",
              "         11: 42,\n",
              "         12: 27,\n",
              "         13: 26,\n",
              "         14: 11,\n",
              "         15: 13,\n",
              "         16: 9,\n",
              "         17: 9,\n",
              "         18: 3,\n",
              "         19: 4,\n",
              "         20: 1,\n",
              "         21: 1,\n",
              "         22: 1,\n",
              "         24: 2,\n",
              "         25: 1,\n",
              "         26: 2,\n",
              "         27: 1,\n",
              "         29: 1,\n",
              "         31: 1,\n",
              "         32: 1,\n",
              "         36: 1,\n",
              "         40: 1})"
            ]
          },
          "metadata": {},
          "execution_count": 93
        }
      ]
    },
    {
      "cell_type": "markdown",
      "source": [
        "about 100K with multiple buys"
      ],
      "metadata": {
        "id": "g-i8MwwLPmEa"
      }
    },
    {
      "cell_type": "code",
      "source": [
        "# user_tweets"
      ],
      "metadata": {
        "id": "b17n8uP3P8LD"
      },
      "execution_count": 98,
      "outputs": []
    },
    {
      "cell_type": "code",
      "source": [
        "import pickle\n",
        "with open('user_tweets.p', 'wb') as fp:\n",
        "    pickle.dump(user_tweets, fp, protocol=pickle.HIGHEST_PROTOCOL)\n",
        "'''\n",
        "with open('data.p', 'rb') as fp:\n",
        "    data = pickle.load(fp)\n",
        "'''"
      ],
      "metadata": {
        "id": "N3IYRaq3Oqjx"
      },
      "execution_count": 97,
      "outputs": []
    },
    {
      "cell_type": "code",
      "source": [
        "with open('user_item_matrix.p', 'wb') as fp:\n",
        "    pickle.dump(user_item_matrix, fp, protocol=pickle.HIGHEST_PROTOCOL)"
      ],
      "metadata": {
        "id": "RDcoMgW8QBe9"
      },
      "execution_count": 99,
      "outputs": []
    },
    {
      "cell_type": "code",
      "source": [
        "with open('meta_data.p', 'wb') as fp:\n",
        "    pickle.dump(meta_data, fp, protocol=pickle.HIGHEST_PROTOCOL)"
      ],
      "metadata": {
        "id": "50858R8NRBsh"
      },
      "execution_count": 101,
      "outputs": []
    },
    {
      "cell_type": "code",
      "source": [
        ""
      ],
      "metadata": {
        "id": "5k4vX3ZMRRDy"
      },
      "execution_count": null,
      "outputs": []
    }
  ]
}