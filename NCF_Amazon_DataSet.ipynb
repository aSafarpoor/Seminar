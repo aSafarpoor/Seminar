{
  "nbformat": 4,
  "nbformat_minor": 0,
  "metadata": {
    "colab": {
      "name": "NCF-Amazon DataSet.ipynb",
      "provenance": [],
      "collapsed_sections": [
        "i7GGqxeWEPst",
        "XnF2Ec-WERsH",
        "ln_GIs7fERyv"
      ],
      "authorship_tag": "ABX9TyNuUaMeyI9OdXPJZssai/uc",
      "include_colab_link": true
    },
    "kernelspec": {
      "name": "python3",
      "display_name": "Python 3"
    },
    "language_info": {
      "name": "python"
    },
    "accelerator": "GPU"
  },
  "cells": [
    {
      "cell_type": "markdown",
      "metadata": {
        "id": "view-in-github",
        "colab_type": "text"
      },
      "source": [
        "<a href=\"https://colab.research.google.com/github/aSafarpoor/Seminar/blob/main/NCF_Amazon_DataSet.ipynb\" target=\"_parent\"><img src=\"https://colab.research.google.com/assets/colab-badge.svg\" alt=\"Open In Colab\"/></a>"
      ]
    },
    {
      "cell_type": "markdown",
      "source": [
        ""
      ],
      "metadata": {
        "id": "xWA3r-J5EGVY"
      }
    },
    {
      "cell_type": "markdown",
      "source": [
        "**A pytorch GPU implementation of He et al. \"Neural Collaborative Filtering\"**\n",
        "\n",
        "based on https://github.com/guoyang9/NCF"
      ],
      "metadata": {
        "id": "mjR8QG53EIV2"
      }
    },
    {
      "cell_type": "code",
      "source": [
        "batch_size=256 \n",
        "lr=0.001 \n",
        "factor_num=16"
      ],
      "metadata": {
        "id": "gYOCOuSuEYcc"
      },
      "execution_count": null,
      "outputs": []
    },
    {
      "cell_type": "code",
      "source": [
        "from google.colab import drive\n",
        "drive.mount('/content/drive')"
      ],
      "metadata": {
        "colab": {
          "base_uri": "https://localhost:8080/"
        },
        "id": "LLVzMQ3EIrdD",
        "outputId": "a1da25a7-024d-41eb-848c-b5b75cc76202"
      },
      "execution_count": null,
      "outputs": [
        {
          "output_type": "stream",
          "name": "stdout",
          "text": [
            "Mounted at /content/drive\n"
          ]
        }
      ]
    },
    {
      "cell_type": "code",
      "source": [
        "%cd drive/MyDrive/MSc/codes"
      ],
      "metadata": {
        "colab": {
          "base_uri": "https://localhost:8080/"
        },
        "id": "2Ms4MRdfIwBh",
        "outputId": "74decd8b-d01f-43de-99cf-a4dd076397aa"
      },
      "execution_count": null,
      "outputs": [
        {
          "output_type": "stream",
          "name": "stdout",
          "text": [
            "/content/drive/MyDrive/MSc/codes\n"
          ]
        }
      ]
    },
    {
      "cell_type": "markdown",
      "source": [
        "# amazon data preparetion as input"
      ],
      "metadata": {
        "id": "fRc6yRuW00SX"
      }
    },
    {
      "cell_type": "code",
      "source": [
        "import json\n",
        "from tqdm import tqdm\n",
        "import random\n",
        "from collections import Counter\n",
        "import pandas as pd\n",
        "import pickle\n",
        "import numpy as np"
      ],
      "metadata": {
        "id": "CYnwCnVm0yc5"
      },
      "execution_count": null,
      "outputs": []
    },
    {
      "cell_type": "code",
      "source": [
        "from google.colab import drive\n",
        "drive.mount('/content/drive')"
      ],
      "metadata": {
        "colab": {
          "base_uri": "https://localhost:8080/"
        },
        "id": "VVUUX-590yaC",
        "outputId": "d16a1a23-6b3b-4b16-b387-fa7d766f6671"
      },
      "execution_count": null,
      "outputs": [
        {
          "output_type": "stream",
          "name": "stdout",
          "text": [
            "Drive already mounted at /content/drive; to attempt to forcibly remount, call drive.mount(\"/content/drive\", force_remount=True).\n"
          ]
        }
      ]
    },
    {
      "cell_type": "code",
      "source": [
        "%cd ..\n",
        "%cd ..\n",
        "# %cd ..\n",
        "# %cd ..\n",
        "# %cd ..\n",
        "# %cd ..\n",
        "%cd MyDrive\n",
        "%cd Seminar\n",
        "!ls"
      ],
      "metadata": {
        "colab": {
          "base_uri": "https://localhost:8080/"
        },
        "id": "iJEYN8Z50yWo",
        "outputId": "07bf2a88-f6e1-4dd6-a995-555d1512ebb3"
      },
      "execution_count": null,
      "outputs": [
        {
          "output_type": "stream",
          "name": "stdout",
          "text": [
            "/content/drive/My Drive/MSc\n",
            "/content/drive/My Drive\n",
            "[Errno 2] No such file or directory: 'MyDrive'\n",
            "/content/drive/My Drive\n",
            "/content/drive/My Drive/Seminar\n",
            "AMAZON_FASHION.json\t     ml-1m.test.negative  runs\n",
            "AMAZON_FASHION.json.gz\t     ml-1m.test.rating\t  test.csv\n",
            "embedded_text.p\t\t     ml-1m.train.rating   train.csv\n",
            "meta_AMAZON_FASHION.json     model.bin\t\t  train.gsheet\n",
            "meta_AMAZON_FASHION.json.gz  model_plot.png\t  user_item_matrix.p\n",
            "meta_data.p\t\t     models\t\t  user_tweets.p\n"
          ]
        }
      ]
    },
    {
      "cell_type": "code",
      "source": [
        "tweets = []\n",
        "for line in open('AMAZON_FASHION.json', 'r'):\n",
        "    tweets.append(json.loads(line))"
      ],
      "metadata": {
        "id": "Ry7murzA0ySf"
      },
      "execution_count": null,
      "outputs": []
    },
    {
      "cell_type": "code",
      "source": [
        "elemans = []\n",
        "udic = {}\n",
        "idic = {}\n",
        "for tweet in tqdm(tweets):\n",
        "    uid = tweet['reviewerID']\n",
        "    iid = tweet['asin']\n",
        "\n",
        "    if uid in udic:\n",
        "        uid = udic[uid]\n",
        "    else:\n",
        "        udic[uid] = len(udic)\n",
        "        uid = udic[uid]\n",
        "\n",
        "    if iid in idic:\n",
        "        iid = idic[iid]\n",
        "    else:\n",
        "        idic[iid] = len(idic)\n",
        "        iid = idic[iid]\n",
        "\n",
        "    eleman = {'user':uid,'item':iid}\n",
        "    elemans.append(eleman)"
      ],
      "metadata": {
        "colab": {
          "base_uri": "https://localhost:8080/"
        },
        "id": "kIzC5ILM0yJP",
        "outputId": "138cd874-a99c-4dd7-f9d5-f5441a6f3e00"
      },
      "execution_count": null,
      "outputs": [
        {
          "output_type": "stream",
          "name": "stderr",
          "text": [
            "100%|██████████| 883636/883636 [00:02<00:00, 339779.75it/s]\n"
          ]
        }
      ]
    },
    {
      "cell_type": "code",
      "source": [
        "elemans = pd.DataFrame(elemans)\n",
        "elemans\n"
      ],
      "metadata": {
        "colab": {
          "base_uri": "https://localhost:8080/",
          "height": 423
        },
        "id": "PN2Z9_ZA0x8A",
        "outputId": "54b463f5-0994-4c80-81e4-c0e83af5837f"
      },
      "execution_count": null,
      "outputs": [
        {
          "output_type": "execute_result",
          "data": {
            "text/plain": [
              "          user    item\n",
              "0            0       0\n",
              "1            1       0\n",
              "2            2       0\n",
              "3            3       0\n",
              "4            4       0\n",
              "...        ...     ...\n",
              "883631  749229  186186\n",
              "883632  749230  186186\n",
              "883633    6782  186186\n",
              "883634  749231  186187\n",
              "883635  749232  186188\n",
              "\n",
              "[883636 rows x 2 columns]"
            ],
            "text/html": [
              "\n",
              "  <div id=\"df-2c22ecad-d44d-4306-8513-29ada201d33f\">\n",
              "    <div class=\"colab-df-container\">\n",
              "      <div>\n",
              "<style scoped>\n",
              "    .dataframe tbody tr th:only-of-type {\n",
              "        vertical-align: middle;\n",
              "    }\n",
              "\n",
              "    .dataframe tbody tr th {\n",
              "        vertical-align: top;\n",
              "    }\n",
              "\n",
              "    .dataframe thead th {\n",
              "        text-align: right;\n",
              "    }\n",
              "</style>\n",
              "<table border=\"1\" class=\"dataframe\">\n",
              "  <thead>\n",
              "    <tr style=\"text-align: right;\">\n",
              "      <th></th>\n",
              "      <th>user</th>\n",
              "      <th>item</th>\n",
              "    </tr>\n",
              "  </thead>\n",
              "  <tbody>\n",
              "    <tr>\n",
              "      <th>0</th>\n",
              "      <td>0</td>\n",
              "      <td>0</td>\n",
              "    </tr>\n",
              "    <tr>\n",
              "      <th>1</th>\n",
              "      <td>1</td>\n",
              "      <td>0</td>\n",
              "    </tr>\n",
              "    <tr>\n",
              "      <th>2</th>\n",
              "      <td>2</td>\n",
              "      <td>0</td>\n",
              "    </tr>\n",
              "    <tr>\n",
              "      <th>3</th>\n",
              "      <td>3</td>\n",
              "      <td>0</td>\n",
              "    </tr>\n",
              "    <tr>\n",
              "      <th>4</th>\n",
              "      <td>4</td>\n",
              "      <td>0</td>\n",
              "    </tr>\n",
              "    <tr>\n",
              "      <th>...</th>\n",
              "      <td>...</td>\n",
              "      <td>...</td>\n",
              "    </tr>\n",
              "    <tr>\n",
              "      <th>883631</th>\n",
              "      <td>749229</td>\n",
              "      <td>186186</td>\n",
              "    </tr>\n",
              "    <tr>\n",
              "      <th>883632</th>\n",
              "      <td>749230</td>\n",
              "      <td>186186</td>\n",
              "    </tr>\n",
              "    <tr>\n",
              "      <th>883633</th>\n",
              "      <td>6782</td>\n",
              "      <td>186186</td>\n",
              "    </tr>\n",
              "    <tr>\n",
              "      <th>883634</th>\n",
              "      <td>749231</td>\n",
              "      <td>186187</td>\n",
              "    </tr>\n",
              "    <tr>\n",
              "      <th>883635</th>\n",
              "      <td>749232</td>\n",
              "      <td>186188</td>\n",
              "    </tr>\n",
              "  </tbody>\n",
              "</table>\n",
              "<p>883636 rows × 2 columns</p>\n",
              "</div>\n",
              "      <button class=\"colab-df-convert\" onclick=\"convertToInteractive('df-2c22ecad-d44d-4306-8513-29ada201d33f')\"\n",
              "              title=\"Convert this dataframe to an interactive table.\"\n",
              "              style=\"display:none;\">\n",
              "        \n",
              "  <svg xmlns=\"http://www.w3.org/2000/svg\" height=\"24px\"viewBox=\"0 0 24 24\"\n",
              "       width=\"24px\">\n",
              "    <path d=\"M0 0h24v24H0V0z\" fill=\"none\"/>\n",
              "    <path d=\"M18.56 5.44l.94 2.06.94-2.06 2.06-.94-2.06-.94-.94-2.06-.94 2.06-2.06.94zm-11 1L8.5 8.5l.94-2.06 2.06-.94-2.06-.94L8.5 2.5l-.94 2.06-2.06.94zm10 10l.94 2.06.94-2.06 2.06-.94-2.06-.94-.94-2.06-.94 2.06-2.06.94z\"/><path d=\"M17.41 7.96l-1.37-1.37c-.4-.4-.92-.59-1.43-.59-.52 0-1.04.2-1.43.59L10.3 9.45l-7.72 7.72c-.78.78-.78 2.05 0 2.83L4 21.41c.39.39.9.59 1.41.59.51 0 1.02-.2 1.41-.59l7.78-7.78 2.81-2.81c.8-.78.8-2.07 0-2.86zM5.41 20L4 18.59l7.72-7.72 1.47 1.35L5.41 20z\"/>\n",
              "  </svg>\n",
              "      </button>\n",
              "      \n",
              "  <style>\n",
              "    .colab-df-container {\n",
              "      display:flex;\n",
              "      flex-wrap:wrap;\n",
              "      gap: 12px;\n",
              "    }\n",
              "\n",
              "    .colab-df-convert {\n",
              "      background-color: #E8F0FE;\n",
              "      border: none;\n",
              "      border-radius: 50%;\n",
              "      cursor: pointer;\n",
              "      display: none;\n",
              "      fill: #1967D2;\n",
              "      height: 32px;\n",
              "      padding: 0 0 0 0;\n",
              "      width: 32px;\n",
              "    }\n",
              "\n",
              "    .colab-df-convert:hover {\n",
              "      background-color: #E2EBFA;\n",
              "      box-shadow: 0px 1px 2px rgba(60, 64, 67, 0.3), 0px 1px 3px 1px rgba(60, 64, 67, 0.15);\n",
              "      fill: #174EA6;\n",
              "    }\n",
              "\n",
              "    [theme=dark] .colab-df-convert {\n",
              "      background-color: #3B4455;\n",
              "      fill: #D2E3FC;\n",
              "    }\n",
              "\n",
              "    [theme=dark] .colab-df-convert:hover {\n",
              "      background-color: #434B5C;\n",
              "      box-shadow: 0px 1px 3px 1px rgba(0, 0, 0, 0.15);\n",
              "      filter: drop-shadow(0px 1px 2px rgba(0, 0, 0, 0.3));\n",
              "      fill: #FFFFFF;\n",
              "    }\n",
              "  </style>\n",
              "\n",
              "      <script>\n",
              "        const buttonEl =\n",
              "          document.querySelector('#df-2c22ecad-d44d-4306-8513-29ada201d33f button.colab-df-convert');\n",
              "        buttonEl.style.display =\n",
              "          google.colab.kernel.accessAllowed ? 'block' : 'none';\n",
              "\n",
              "        async function convertToInteractive(key) {\n",
              "          const element = document.querySelector('#df-2c22ecad-d44d-4306-8513-29ada201d33f');\n",
              "          const dataTable =\n",
              "            await google.colab.kernel.invokeFunction('convertToInteractive',\n",
              "                                                     [key], {});\n",
              "          if (!dataTable) return;\n",
              "\n",
              "          const docLinkHtml = 'Like what you see? Visit the ' +\n",
              "            '<a target=\"_blank\" href=https://colab.research.google.com/notebooks/data_table.ipynb>data table notebook</a>'\n",
              "            + ' to learn more about interactive tables.';\n",
              "          element.innerHTML = '';\n",
              "          dataTable['output_type'] = 'display_data';\n",
              "          await google.colab.output.renderOutput(dataTable, element);\n",
              "          const docLink = document.createElement('div');\n",
              "          docLink.innerHTML = docLinkHtml;\n",
              "          element.appendChild(docLink);\n",
              "        }\n",
              "      </script>\n",
              "    </div>\n",
              "  </div>\n",
              "  "
            ]
          },
          "metadata": {},
          "execution_count": 11
        }
      ]
    },
    {
      "cell_type": "code",
      "source": [
        "number_of_users = max(elemans.user),\n",
        "number_of_items = max(elemans.item)"
      ],
      "metadata": {
        "id": "0prMLQehIesu"
      },
      "execution_count": null,
      "outputs": []
    },
    {
      "cell_type": "code",
      "source": [
        "len(elemans)"
      ],
      "metadata": {
        "colab": {
          "base_uri": "https://localhost:8080/"
        },
        "id": "yAYHeTft23hq",
        "outputId": "e5f1b3e7-0821-48b1-dd62-6d96b065d0d7"
      },
      "execution_count": null,
      "outputs": [
        {
          "output_type": "execute_result",
          "data": {
            "text/plain": [
              "883636"
            ]
          },
          "metadata": {},
          "execution_count": 13
        }
      ]
    },
    {
      "cell_type": "code",
      "source": [
        "np.random.shuffle(elemans.values)\n",
        "elemans"
      ],
      "metadata": {
        "colab": {
          "base_uri": "https://localhost:8080/",
          "height": 423
        },
        "id": "sHHhCcOzB1zg",
        "outputId": "3680f978-3654-47e8-eb7f-cad0be3c382c"
      },
      "execution_count": null,
      "outputs": [
        {
          "output_type": "execute_result",
          "data": {
            "text/plain": [
              "          user    item\n",
              "0       386870   26478\n",
              "1       546384   88960\n",
              "2       641837  131638\n",
              "3       670429  145830\n",
              "4       597688  111353\n",
              "...        ...     ...\n",
              "883631  474635   59190\n",
              "883632  123255    2754\n",
              "883633   23618     193\n",
              "883634  495360    5330\n",
              "883635  206275    5891\n",
              "\n",
              "[883636 rows x 2 columns]"
            ],
            "text/html": [
              "\n",
              "  <div id=\"df-d7a878ac-eaf5-4eb3-8b55-f6d9c83e744a\">\n",
              "    <div class=\"colab-df-container\">\n",
              "      <div>\n",
              "<style scoped>\n",
              "    .dataframe tbody tr th:only-of-type {\n",
              "        vertical-align: middle;\n",
              "    }\n",
              "\n",
              "    .dataframe tbody tr th {\n",
              "        vertical-align: top;\n",
              "    }\n",
              "\n",
              "    .dataframe thead th {\n",
              "        text-align: right;\n",
              "    }\n",
              "</style>\n",
              "<table border=\"1\" class=\"dataframe\">\n",
              "  <thead>\n",
              "    <tr style=\"text-align: right;\">\n",
              "      <th></th>\n",
              "      <th>user</th>\n",
              "      <th>item</th>\n",
              "    </tr>\n",
              "  </thead>\n",
              "  <tbody>\n",
              "    <tr>\n",
              "      <th>0</th>\n",
              "      <td>386870</td>\n",
              "      <td>26478</td>\n",
              "    </tr>\n",
              "    <tr>\n",
              "      <th>1</th>\n",
              "      <td>546384</td>\n",
              "      <td>88960</td>\n",
              "    </tr>\n",
              "    <tr>\n",
              "      <th>2</th>\n",
              "      <td>641837</td>\n",
              "      <td>131638</td>\n",
              "    </tr>\n",
              "    <tr>\n",
              "      <th>3</th>\n",
              "      <td>670429</td>\n",
              "      <td>145830</td>\n",
              "    </tr>\n",
              "    <tr>\n",
              "      <th>4</th>\n",
              "      <td>597688</td>\n",
              "      <td>111353</td>\n",
              "    </tr>\n",
              "    <tr>\n",
              "      <th>...</th>\n",
              "      <td>...</td>\n",
              "      <td>...</td>\n",
              "    </tr>\n",
              "    <tr>\n",
              "      <th>883631</th>\n",
              "      <td>474635</td>\n",
              "      <td>59190</td>\n",
              "    </tr>\n",
              "    <tr>\n",
              "      <th>883632</th>\n",
              "      <td>123255</td>\n",
              "      <td>2754</td>\n",
              "    </tr>\n",
              "    <tr>\n",
              "      <th>883633</th>\n",
              "      <td>23618</td>\n",
              "      <td>193</td>\n",
              "    </tr>\n",
              "    <tr>\n",
              "      <th>883634</th>\n",
              "      <td>495360</td>\n",
              "      <td>5330</td>\n",
              "    </tr>\n",
              "    <tr>\n",
              "      <th>883635</th>\n",
              "      <td>206275</td>\n",
              "      <td>5891</td>\n",
              "    </tr>\n",
              "  </tbody>\n",
              "</table>\n",
              "<p>883636 rows × 2 columns</p>\n",
              "</div>\n",
              "      <button class=\"colab-df-convert\" onclick=\"convertToInteractive('df-d7a878ac-eaf5-4eb3-8b55-f6d9c83e744a')\"\n",
              "              title=\"Convert this dataframe to an interactive table.\"\n",
              "              style=\"display:none;\">\n",
              "        \n",
              "  <svg xmlns=\"http://www.w3.org/2000/svg\" height=\"24px\"viewBox=\"0 0 24 24\"\n",
              "       width=\"24px\">\n",
              "    <path d=\"M0 0h24v24H0V0z\" fill=\"none\"/>\n",
              "    <path d=\"M18.56 5.44l.94 2.06.94-2.06 2.06-.94-2.06-.94-.94-2.06-.94 2.06-2.06.94zm-11 1L8.5 8.5l.94-2.06 2.06-.94-2.06-.94L8.5 2.5l-.94 2.06-2.06.94zm10 10l.94 2.06.94-2.06 2.06-.94-2.06-.94-.94-2.06-.94 2.06-2.06.94z\"/><path d=\"M17.41 7.96l-1.37-1.37c-.4-.4-.92-.59-1.43-.59-.52 0-1.04.2-1.43.59L10.3 9.45l-7.72 7.72c-.78.78-.78 2.05 0 2.83L4 21.41c.39.39.9.59 1.41.59.51 0 1.02-.2 1.41-.59l7.78-7.78 2.81-2.81c.8-.78.8-2.07 0-2.86zM5.41 20L4 18.59l7.72-7.72 1.47 1.35L5.41 20z\"/>\n",
              "  </svg>\n",
              "      </button>\n",
              "      \n",
              "  <style>\n",
              "    .colab-df-container {\n",
              "      display:flex;\n",
              "      flex-wrap:wrap;\n",
              "      gap: 12px;\n",
              "    }\n",
              "\n",
              "    .colab-df-convert {\n",
              "      background-color: #E8F0FE;\n",
              "      border: none;\n",
              "      border-radius: 50%;\n",
              "      cursor: pointer;\n",
              "      display: none;\n",
              "      fill: #1967D2;\n",
              "      height: 32px;\n",
              "      padding: 0 0 0 0;\n",
              "      width: 32px;\n",
              "    }\n",
              "\n",
              "    .colab-df-convert:hover {\n",
              "      background-color: #E2EBFA;\n",
              "      box-shadow: 0px 1px 2px rgba(60, 64, 67, 0.3), 0px 1px 3px 1px rgba(60, 64, 67, 0.15);\n",
              "      fill: #174EA6;\n",
              "    }\n",
              "\n",
              "    [theme=dark] .colab-df-convert {\n",
              "      background-color: #3B4455;\n",
              "      fill: #D2E3FC;\n",
              "    }\n",
              "\n",
              "    [theme=dark] .colab-df-convert:hover {\n",
              "      background-color: #434B5C;\n",
              "      box-shadow: 0px 1px 3px 1px rgba(0, 0, 0, 0.15);\n",
              "      filter: drop-shadow(0px 1px 2px rgba(0, 0, 0, 0.3));\n",
              "      fill: #FFFFFF;\n",
              "    }\n",
              "  </style>\n",
              "\n",
              "      <script>\n",
              "        const buttonEl =\n",
              "          document.querySelector('#df-d7a878ac-eaf5-4eb3-8b55-f6d9c83e744a button.colab-df-convert');\n",
              "        buttonEl.style.display =\n",
              "          google.colab.kernel.accessAllowed ? 'block' : 'none';\n",
              "\n",
              "        async function convertToInteractive(key) {\n",
              "          const element = document.querySelector('#df-d7a878ac-eaf5-4eb3-8b55-f6d9c83e744a');\n",
              "          const dataTable =\n",
              "            await google.colab.kernel.invokeFunction('convertToInteractive',\n",
              "                                                     [key], {});\n",
              "          if (!dataTable) return;\n",
              "\n",
              "          const docLinkHtml = 'Like what you see? Visit the ' +\n",
              "            '<a target=\"_blank\" href=https://colab.research.google.com/notebooks/data_table.ipynb>data table notebook</a>'\n",
              "            + ' to learn more about interactive tables.';\n",
              "          element.innerHTML = '';\n",
              "          dataTable['output_type'] = 'display_data';\n",
              "          await google.colab.output.renderOutput(dataTable, element);\n",
              "          const docLink = document.createElement('div');\n",
              "          docLink.innerHTML = docLinkHtml;\n",
              "          element.appendChild(docLink);\n",
              "        }\n",
              "      </script>\n",
              "    </div>\n",
              "  </div>\n",
              "  "
            ]
          },
          "metadata": {},
          "execution_count": 14
        }
      ]
    },
    {
      "cell_type": "code",
      "source": [
        ""
      ],
      "metadata": {
        "id": "up7YiNaOIS7f"
      },
      "execution_count": null,
      "outputs": []
    },
    {
      "cell_type": "code",
      "source": [
        "elemans1 = elemans.iloc[:1000, :] #int(0.7*len(elemans))\n",
        "elemans2 = elemans.iloc[1000:2000, :]"
      ],
      "metadata": {
        "id": "_MYzVMx823sn"
      },
      "execution_count": null,
      "outputs": []
    },
    {
      "cell_type": "code",
      "source": [
        "elemans2"
      ],
      "metadata": {
        "colab": {
          "base_uri": "https://localhost:8080/",
          "height": 423
        },
        "id": "bFg4DI2n7a1R",
        "outputId": "37219310-3dbe-4ee2-a027-e3381aa87868"
      },
      "execution_count": null,
      "outputs": [
        {
          "output_type": "execute_result",
          "data": {
            "text/plain": [
              "        user    item\n",
              "1000  514698   75212\n",
              "1001  207503   95600\n",
              "1002  329789  171293\n",
              "1003  332747   11359\n",
              "1004   61298     944\n",
              "...      ...     ...\n",
              "1995   83550    1485\n",
              "1996  655648  138461\n",
              "1997  419108   37709\n",
              "1998  244715    7293\n",
              "1999  525997    6255\n",
              "\n",
              "[1000 rows x 2 columns]"
            ],
            "text/html": [
              "\n",
              "  <div id=\"df-12f9f778-4733-481d-80b5-84c909206774\">\n",
              "    <div class=\"colab-df-container\">\n",
              "      <div>\n",
              "<style scoped>\n",
              "    .dataframe tbody tr th:only-of-type {\n",
              "        vertical-align: middle;\n",
              "    }\n",
              "\n",
              "    .dataframe tbody tr th {\n",
              "        vertical-align: top;\n",
              "    }\n",
              "\n",
              "    .dataframe thead th {\n",
              "        text-align: right;\n",
              "    }\n",
              "</style>\n",
              "<table border=\"1\" class=\"dataframe\">\n",
              "  <thead>\n",
              "    <tr style=\"text-align: right;\">\n",
              "      <th></th>\n",
              "      <th>user</th>\n",
              "      <th>item</th>\n",
              "    </tr>\n",
              "  </thead>\n",
              "  <tbody>\n",
              "    <tr>\n",
              "      <th>1000</th>\n",
              "      <td>514698</td>\n",
              "      <td>75212</td>\n",
              "    </tr>\n",
              "    <tr>\n",
              "      <th>1001</th>\n",
              "      <td>207503</td>\n",
              "      <td>95600</td>\n",
              "    </tr>\n",
              "    <tr>\n",
              "      <th>1002</th>\n",
              "      <td>329789</td>\n",
              "      <td>171293</td>\n",
              "    </tr>\n",
              "    <tr>\n",
              "      <th>1003</th>\n",
              "      <td>332747</td>\n",
              "      <td>11359</td>\n",
              "    </tr>\n",
              "    <tr>\n",
              "      <th>1004</th>\n",
              "      <td>61298</td>\n",
              "      <td>944</td>\n",
              "    </tr>\n",
              "    <tr>\n",
              "      <th>...</th>\n",
              "      <td>...</td>\n",
              "      <td>...</td>\n",
              "    </tr>\n",
              "    <tr>\n",
              "      <th>1995</th>\n",
              "      <td>83550</td>\n",
              "      <td>1485</td>\n",
              "    </tr>\n",
              "    <tr>\n",
              "      <th>1996</th>\n",
              "      <td>655648</td>\n",
              "      <td>138461</td>\n",
              "    </tr>\n",
              "    <tr>\n",
              "      <th>1997</th>\n",
              "      <td>419108</td>\n",
              "      <td>37709</td>\n",
              "    </tr>\n",
              "    <tr>\n",
              "      <th>1998</th>\n",
              "      <td>244715</td>\n",
              "      <td>7293</td>\n",
              "    </tr>\n",
              "    <tr>\n",
              "      <th>1999</th>\n",
              "      <td>525997</td>\n",
              "      <td>6255</td>\n",
              "    </tr>\n",
              "  </tbody>\n",
              "</table>\n",
              "<p>1000 rows × 2 columns</p>\n",
              "</div>\n",
              "      <button class=\"colab-df-convert\" onclick=\"convertToInteractive('df-12f9f778-4733-481d-80b5-84c909206774')\"\n",
              "              title=\"Convert this dataframe to an interactive table.\"\n",
              "              style=\"display:none;\">\n",
              "        \n",
              "  <svg xmlns=\"http://www.w3.org/2000/svg\" height=\"24px\"viewBox=\"0 0 24 24\"\n",
              "       width=\"24px\">\n",
              "    <path d=\"M0 0h24v24H0V0z\" fill=\"none\"/>\n",
              "    <path d=\"M18.56 5.44l.94 2.06.94-2.06 2.06-.94-2.06-.94-.94-2.06-.94 2.06-2.06.94zm-11 1L8.5 8.5l.94-2.06 2.06-.94-2.06-.94L8.5 2.5l-.94 2.06-2.06.94zm10 10l.94 2.06.94-2.06 2.06-.94-2.06-.94-.94-2.06-.94 2.06-2.06.94z\"/><path d=\"M17.41 7.96l-1.37-1.37c-.4-.4-.92-.59-1.43-.59-.52 0-1.04.2-1.43.59L10.3 9.45l-7.72 7.72c-.78.78-.78 2.05 0 2.83L4 21.41c.39.39.9.59 1.41.59.51 0 1.02-.2 1.41-.59l7.78-7.78 2.81-2.81c.8-.78.8-2.07 0-2.86zM5.41 20L4 18.59l7.72-7.72 1.47 1.35L5.41 20z\"/>\n",
              "  </svg>\n",
              "      </button>\n",
              "      \n",
              "  <style>\n",
              "    .colab-df-container {\n",
              "      display:flex;\n",
              "      flex-wrap:wrap;\n",
              "      gap: 12px;\n",
              "    }\n",
              "\n",
              "    .colab-df-convert {\n",
              "      background-color: #E8F0FE;\n",
              "      border: none;\n",
              "      border-radius: 50%;\n",
              "      cursor: pointer;\n",
              "      display: none;\n",
              "      fill: #1967D2;\n",
              "      height: 32px;\n",
              "      padding: 0 0 0 0;\n",
              "      width: 32px;\n",
              "    }\n",
              "\n",
              "    .colab-df-convert:hover {\n",
              "      background-color: #E2EBFA;\n",
              "      box-shadow: 0px 1px 2px rgba(60, 64, 67, 0.3), 0px 1px 3px 1px rgba(60, 64, 67, 0.15);\n",
              "      fill: #174EA6;\n",
              "    }\n",
              "\n",
              "    [theme=dark] .colab-df-convert {\n",
              "      background-color: #3B4455;\n",
              "      fill: #D2E3FC;\n",
              "    }\n",
              "\n",
              "    [theme=dark] .colab-df-convert:hover {\n",
              "      background-color: #434B5C;\n",
              "      box-shadow: 0px 1px 3px 1px rgba(0, 0, 0, 0.15);\n",
              "      filter: drop-shadow(0px 1px 2px rgba(0, 0, 0, 0.3));\n",
              "      fill: #FFFFFF;\n",
              "    }\n",
              "  </style>\n",
              "\n",
              "      <script>\n",
              "        const buttonEl =\n",
              "          document.querySelector('#df-12f9f778-4733-481d-80b5-84c909206774 button.colab-df-convert');\n",
              "        buttonEl.style.display =\n",
              "          google.colab.kernel.accessAllowed ? 'block' : 'none';\n",
              "\n",
              "        async function convertToInteractive(key) {\n",
              "          const element = document.querySelector('#df-12f9f778-4733-481d-80b5-84c909206774');\n",
              "          const dataTable =\n",
              "            await google.colab.kernel.invokeFunction('convertToInteractive',\n",
              "                                                     [key], {});\n",
              "          if (!dataTable) return;\n",
              "\n",
              "          const docLinkHtml = 'Like what you see? Visit the ' +\n",
              "            '<a target=\"_blank\" href=https://colab.research.google.com/notebooks/data_table.ipynb>data table notebook</a>'\n",
              "            + ' to learn more about interactive tables.';\n",
              "          element.innerHTML = '';\n",
              "          dataTable['output_type'] = 'display_data';\n",
              "          await google.colab.output.renderOutput(dataTable, element);\n",
              "          const docLink = document.createElement('div');\n",
              "          docLink.innerHTML = docLinkHtml;\n",
              "          element.appendChild(docLink);\n",
              "        }\n",
              "      </script>\n",
              "    </div>\n",
              "  </div>\n",
              "  "
            ]
          },
          "metadata": {},
          "execution_count": 16
        }
      ]
    },
    {
      "cell_type": "code",
      "source": [
        "elemans1.to_csv('train.csv', sep ='\\t', index=False)\n",
        "elemans2.to_csv('test.csv', sep ='\\t', index=False)"
      ],
      "metadata": {
        "id": "odsbt41v4cuf"
      },
      "execution_count": null,
      "outputs": []
    },
    {
      "cell_type": "code",
      "source": [
        "train = pd.read_csv('train.csv',sep='\\t', names=['user', 'item'],usecols=[0,1], index_col=False)\n",
        "train = train.iloc[1:]\n",
        "\n",
        "test = pd.read_csv('test.csv',sep='\\t', names=['user', 'item'],usecols=[0,1], index_col=False)\n",
        "test = test.iloc[1:]"
      ],
      "metadata": {
        "id": "1MRFHHxz8EKK"
      },
      "execution_count": null,
      "outputs": []
    },
    {
      "cell_type": "code",
      "source": [
        "# train.user.apply(int)\n",
        "# train.item.apply(int)"
      ],
      "metadata": {
        "id": "m5_qEt7F_gNp"
      },
      "execution_count": null,
      "outputs": []
    },
    {
      "cell_type": "code",
      "source": [
        "# %cd MSc/codes/"
      ],
      "metadata": {
        "id": "-6d88FbO5Dsb"
      },
      "execution_count": null,
      "outputs": []
    },
    {
      "cell_type": "code",
      "source": [
        "# # %mkdir recommendation\n",
        "# %cd recommendation\n",
        "# # %mkdir NCF-Data\n",
        "# %cd NCF-Data\n",
        "# !pwd"
      ],
      "metadata": {
        "id": "_p6ls7KDOAGY"
      },
      "execution_count": null,
      "outputs": []
    },
    {
      "cell_type": "code",
      "source": [
        "# !wget https://raw.githubusercontent.com/hexiangnan/neural_collaborative_filtering/master/Data/ml-1m.train.rating\n",
        "# !wget https://raw.githubusercontent.com/hexiangnan/neural_collaborative_filtering/master/Data/ml-1m.test.rating\n",
        "# !wget https://raw.githubusercontent.com/hexiangnan/neural_collaborative_filtering/master/Data/ml-1m.test.negative"
      ],
      "metadata": {
        "id": "vvDH4o5yPBn0"
      },
      "execution_count": null,
      "outputs": []
    },
    {
      "cell_type": "code",
      "source": [
        "# df = pd.read_csv('ml-1m.test.negative',\n",
        "#                              sep='\\t', header = None, \n",
        "#                              index_col=False)\n",
        "# df.head()"
      ],
      "metadata": {
        "id": "7_0zZY-CGGAZ"
      },
      "execution_count": null,
      "outputs": []
    },
    {
      "cell_type": "markdown",
      "source": [
        "# Config"
      ],
      "metadata": {
        "id": "JGPplZhlERQI"
      }
    },
    {
      "cell_type": "code",
      "source": [
        ""
      ],
      "metadata": {
        "id": "rdMGmZVwGF4h"
      },
      "execution_count": null,
      "outputs": []
    },
    {
      "cell_type": "code",
      "execution_count": null,
      "metadata": {
        "id": "5hjb4XKNERQJ"
      },
      "outputs": [],
      "source": [
        "class Config:\n",
        "    def __init__(self):\n",
        "        # dataset name \n",
        "        # self.dataset = 'ml-1m'\n",
        "\n",
        "        # model name \n",
        "        self.model = 'NeuMF-end'\n",
        "\n",
        "        # paths\n",
        "        self.main_path = '/Seminar/'\n",
        "\n",
        "        self.train_rating = self.main_path + 'train.csv'\n",
        "        self.test_rating = self.main_path + 'test.csv'\n",
        "        self.test_negative = self.main_path + 'test.negative.csv'\n",
        "\n",
        "        self.model_path = './models/'\n",
        "        self.GMF_model_path = self.model_path + 'GMF.pth'\n",
        "        self.MLP_model_path = self.model_path + 'MLP.pth'\n",
        "        self.NeuMF_model_path = self.model_path + 'NeuMF.pth'"
      ]
    },
    {
      "cell_type": "markdown",
      "source": [
        "# Data utils:"
      ],
      "metadata": {
        "id": "i7GGqxeWEPst"
      }
    },
    {
      "cell_type": "code",
      "source": [
        "import numpy as np \n",
        "import pandas as pd \n",
        "import scipy.sparse as sp\n",
        "import torch.utils.data as data\n",
        "\n",
        "config = Config()"
      ],
      "metadata": {
        "id": "_K5nnQQbEwP9"
      },
      "execution_count": null,
      "outputs": []
    },
    {
      "cell_type": "code",
      "source": [
        "import random"
      ],
      "metadata": {
        "id": "4ve7yUZeH4gq"
      },
      "execution_count": null,
      "outputs": []
    },
    {
      "cell_type": "code",
      "execution_count": null,
      "metadata": {
        "id": "vJWxhjDBEC7j",
        "colab": {
          "base_uri": "https://localhost:8080/"
        },
        "outputId": "9fc9df6b-158d-443c-8cbc-8213d157c197"
      },
      "outputs": [
        {
          "output_type": "stream",
          "name": "stderr",
          "text": [
            "100%|██████████| 1000/1000 [00:00<00:00, 77265.93it/s]\n"
          ]
        }
      ],
      "source": [
        "\n",
        "def load_all(test_num=100):\n",
        "    ''' We load all the three file here to save time in each epoch. '''\n",
        "    train_data = pd.read_csv('train.csv',\n",
        "                             sep='\\t', names=['user', 'item'],usecols=[0,1], \n",
        "                             index_col=False)\n",
        "    train_data = train_data.iloc[1:]\n",
        "    train_data['user'] = train_data['user'].apply(int)\n",
        "    train_data['item'] = train_data['item'].apply(int)\n",
        "    user_num = train_data['user'].max() + 1\n",
        "    item_num = train_data['item'].max() + 1\n",
        "\n",
        "    train_data = train_data.values.tolist()\n",
        "\n",
        "    # load ratings as a dok matrix\n",
        "    train_mat = sp.dok_matrix((user_num, item_num), dtype=np.float32)\n",
        "    \n",
        "    for x in tqdm(train_data):\n",
        "        train_mat[x[0], x[1]] = 1.0\n",
        "\n",
        "    test_data = []\n",
        "\n",
        "    '''\n",
        "    with open('/content/drive/MyDrive/Seminar' + config.test_negative, 'r') as fd:\n",
        "        line = fd.readline() #(0,25)\t106\n",
        "        while line != None and line != '':\n",
        "            arr = line.split('\\t')\n",
        "            u = eval(arr[0])[0]\n",
        "            test_data.append([u, eval(arr[0])[1]])\n",
        "            for i in arr[1:]:\n",
        "                test_data.append([u, int(i)])\n",
        "            line = fd.readline()'''\n",
        "\n",
        "    test_data = pd.read_csv('test.csv',\n",
        "                             sep='\\t', names=['user', 'item'],usecols=[0,1], \n",
        "                             index_col=False)\n",
        "    test_data = test_data.iloc[1:]\n",
        "    test_data['user'] = test_data['user'].apply(int)\n",
        "    test_data['item'] = test_data['item'].apply(int)\n",
        "\n",
        "    test_data = test_data.values.tolist()\n",
        "\n",
        "    # new_test_data = []\n",
        "    # for d in tqdm(test_data):\n",
        "    #     c = 4\n",
        "    #     while(c!=0):\n",
        "    #         rand_ = random.randint(0,number_of_items)\n",
        "    #         if [d[0],rand_] in test_data or [d[0],rand_] in train_data:\n",
        "    #             pass\n",
        "    #         else:\n",
        "    #             c-=1\n",
        "\n",
        "\n",
        "\n",
        "    return train_data, test_data, user_num, item_num, train_mat\t\t\n",
        "\n",
        "train_data, test_data, user_num, item_num, train_mat = load_all()"
      ]
    },
    {
      "cell_type": "code",
      "source": [
        "class NCFData(data.Dataset):\n",
        "\tdef __init__(self, features, \n",
        "\t\t\t\tnum_item, train_mat=None, num_ng=0, is_training=None):\n",
        "\t\tsuper(NCFData, self).__init__()\n",
        "\t\t\"\"\" Note that the labels are only useful when training, we thus \n",
        "\t\t\tadd them in the ng_sample() function.\n",
        "\t\t\"\"\"\n",
        "\t\tself.features_ps = features\n",
        "\t\tself.num_item = num_item\n",
        "\t\tself.train_mat = train_mat\n",
        "\t\tself.num_ng = num_ng\n",
        "\t\tself.is_training = is_training\n",
        "\t\tself.labels = [0 for _ in range(len(features))]\n",
        "\n",
        "\tdef ng_sample(self):\n",
        "\t\tassert self.is_training, 'no need to sampling when testing'\n",
        "\n",
        "\t\tself.features_ng = []\n",
        "\t\tfor x in self.features_ps:\n",
        "\t\t\tu = x[0]\n",
        "\t\t\tfor t in range(self.num_ng):\n",
        "\t\t\t\tj = np.random.randint(self.num_item)\n",
        "\t\t\t\twhile (u, j) in self.train_mat:\n",
        "\t\t\t\t\tj = np.random.randint(self.num_item)\n",
        "\t\t\t\tself.features_ng.append([u, j])\n",
        "\n",
        "\t\tlabels_ps = [1 for _ in range(len(self.features_ps))]\n",
        "\t\tlabels_ng = [0 for _ in range(len(self.features_ng))]\n",
        "\n",
        "\t\tself.features_fill = self.features_ps + self.features_ng\n",
        "\t\tself.labels_fill = labels_ps + labels_ng\n",
        "\n",
        "\tdef __len__(self):\n",
        "\t\treturn (self.num_ng + 1) * len(self.labels)\n",
        "\n",
        "\tdef __getitem__(self, idx):\n",
        "\t\tfeatures = self.features_fill if self.is_training \\\n",
        "\t\t\t\t\telse self.features_ps\n",
        "\t\tlabels = self.labels_fill if self.is_training \\\n",
        "\t\t\t\t\telse self.labels\n",
        "\n",
        "\t\tuser = features[idx][0]\n",
        "\t\titem = features[idx][1]\n",
        "\t\tlabel = labels[idx]\n",
        "\t\treturn user, item ,label"
      ],
      "metadata": {
        "id": "6CGYO1l_HRel"
      },
      "execution_count": null,
      "outputs": []
    },
    {
      "cell_type": "code",
      "source": [
        ""
      ],
      "metadata": {
        "id": "0LjG0FkmHWbB"
      },
      "execution_count": null,
      "outputs": []
    },
    {
      "cell_type": "markdown",
      "source": [
        "# evaluate"
      ],
      "metadata": {
        "id": "XnF2Ec-WERsH"
      }
    },
    {
      "cell_type": "code",
      "execution_count": null,
      "metadata": {
        "id": "1ma3QT0QERsH"
      },
      "outputs": [],
      "source": [
        "import numpy as np\n",
        "import torch"
      ]
    },
    {
      "cell_type": "code",
      "source": [
        "def hit(gt_item, pred_items):\n",
        "\tif gt_item in pred_items:\n",
        "\t\treturn 1\n",
        "\treturn 0"
      ],
      "metadata": {
        "id": "vGAPohD6FhR9"
      },
      "execution_count": null,
      "outputs": []
    },
    {
      "cell_type": "code",
      "source": [
        "def ndcg(gt_item, pred_items):\n",
        "\tif gt_item in pred_items:\n",
        "\t\tindex = pred_items.index(gt_item)\n",
        "\t\treturn np.reciprocal(np.log2(index+2))\n",
        "\treturn 0"
      ],
      "metadata": {
        "id": "hefpe2e0FfwV"
      },
      "execution_count": null,
      "outputs": []
    },
    {
      "cell_type": "code",
      "source": [
        "def metrics(model, test_loader, top_k):\n",
        "\tHR, NDCG = [], []\n",
        "\n",
        "\tfor user, item, label in test_loader:\n",
        "\t\tuser = user.cuda()\n",
        "\t\titem = item.cuda()\n",
        "\n",
        "\t\tpredictions = model(user, item)\n",
        "\t\t_, indices = torch.topk(predictions, top_k)\n",
        "\t\trecommends = torch.take(\n",
        "\t\t\t\titem, indices).cpu().numpy().tolist()\n",
        "\n",
        "\t\tgt_item = item[0].item()\n",
        "\t\tHR.append(hit(gt_item, recommends))\n",
        "\t\tNDCG.append(ndcg(gt_item, recommends))\n",
        "\n",
        "\treturn np.mean(HR), np.mean(NDCG)"
      ],
      "metadata": {
        "id": "7YIUo7UlFeRO"
      },
      "execution_count": null,
      "outputs": []
    },
    {
      "cell_type": "markdown",
      "source": [
        "# model:"
      ],
      "metadata": {
        "id": "ln_GIs7fERyv"
      }
    },
    {
      "cell_type": "code",
      "source": [
        "import torch\n",
        "import torch.nn as nn\n",
        "import torch.nn.functional as F "
      ],
      "metadata": {
        "id": "xpv0yz40Frdk"
      },
      "execution_count": null,
      "outputs": []
    },
    {
      "cell_type": "code",
      "execution_count": null,
      "metadata": {
        "id": "mbgu4dRCERyv"
      },
      "outputs": [],
      "source": [
        "class NCF(nn.Module):\n",
        "\tdef __init__(self, user_num, item_num, factor_num, num_layers,\n",
        "\t\t\t\t\tdropout, model, GMF_model=None, MLP_model=None):\n",
        "\t\tsuper(NCF, self).__init__()\n",
        "\t\t\"\"\"\n",
        "\t\tuser_num: number of users;\n",
        "\t\titem_num: number of items;\n",
        "\t\tfactor_num: number of predictive factors;\n",
        "\t\tnum_layers: the number of layers in MLP model;\n",
        "\t\tdropout: dropout rate between fully connected layers;\n",
        "\t\tmodel: 'MLP', 'GMF', 'NeuMF-end', and 'NeuMF-pre';\n",
        "\t\tGMF_model: pre-trained GMF weights;\n",
        "\t\tMLP_model: pre-trained MLP weights.\n",
        "\t\t\"\"\"\t\t\n",
        "\t\tself.dropout = dropout\n",
        "\t\tself.model = model\n",
        "\t\tself.GMF_model = GMF_model\n",
        "\t\tself.MLP_model = MLP_model\n",
        "\n",
        "\t\tself.embed_user_GMF = nn.Embedding(user_num, factor_num)\n",
        "\t\tself.embed_item_GMF = nn.Embedding(item_num, factor_num)\n",
        "\t\tself.embed_user_MLP = nn.Embedding(\n",
        "\t\t\t\tuser_num, factor_num * (2 ** (num_layers - 1)))\n",
        "\t\tself.embed_item_MLP = nn.Embedding(\n",
        "\t\t\t\titem_num, factor_num * (2 ** (num_layers - 1)))\n",
        "\n",
        "\t\tMLP_modules = []\n",
        "\t\tfor i in range(num_layers):\n",
        "\t\t\tinput_size = factor_num * (2 ** (num_layers - i))\n",
        "\t\t\tMLP_modules.append(nn.Dropout(p=self.dropout))\n",
        "\t\t\tMLP_modules.append(nn.Linear(input_size, input_size//2))\n",
        "\t\t\tMLP_modules.append(nn.ReLU())\n",
        "\t\tself.MLP_layers = nn.Sequential(*MLP_modules)\n",
        "\n",
        "\t\tif self.model in ['MLP', 'GMF']:\n",
        "\t\t\tpredict_size = factor_num \n",
        "\t\telse:\n",
        "\t\t\tpredict_size = factor_num * 2\n",
        "\t\tself.predict_layer = nn.Linear(predict_size, 1)\n",
        "\n",
        "\t\tself._init_weight_()\n",
        "\n",
        "\tdef _init_weight_(self):\n",
        "\t\t\"\"\" We leave the weights initialization here. \"\"\"\n",
        "\t\tif not self.model == 'NeuMF-pre':\n",
        "\t\t\tnn.init.normal_(self.embed_user_GMF.weight, std=0.01)\n",
        "\t\t\tnn.init.normal_(self.embed_user_MLP.weight, std=0.01)\n",
        "\t\t\tnn.init.normal_(self.embed_item_GMF.weight, std=0.01)\n",
        "\t\t\tnn.init.normal_(self.embed_item_MLP.weight, std=0.01)\n",
        "\n",
        "\t\t\tfor m in self.MLP_layers:\n",
        "\t\t\t\tif isinstance(m, nn.Linear):\n",
        "\t\t\t\t\tnn.init.xavier_uniform_(m.weight)\n",
        "\t\t\tnn.init.kaiming_uniform_(self.predict_layer.weight, \n",
        "\t\t\t\t\t\t\t\t\ta=1, nonlinearity='sigmoid')\n",
        "\n",
        "\t\t\tfor m in self.modules():\n",
        "\t\t\t\tif isinstance(m, nn.Linear) and m.bias is not None:\n",
        "\t\t\t\t\tm.bias.data.zero_()\n",
        "\t\telse:\n",
        "\t\t\t# embedding layers\n",
        "\t\t\tself.embed_user_GMF.weight.data.copy_(\n",
        "\t\t\t\t\t\t\tself.GMF_model.embed_user_GMF.weight)\n",
        "\t\t\tself.embed_item_GMF.weight.data.copy_(\n",
        "\t\t\t\t\t\t\tself.GMF_model.embed_item_GMF.weight)\n",
        "\t\t\tself.embed_user_MLP.weight.data.copy_(\n",
        "\t\t\t\t\t\t\tself.MLP_model.embed_user_MLP.weight)\n",
        "\t\t\tself.embed_item_MLP.weight.data.copy_(\n",
        "\t\t\t\t\t\t\tself.MLP_model.embed_item_MLP.weight)\n",
        "\n",
        "\t\t\t# mlp layers\n",
        "\t\t\tfor (m1, m2) in zip(\n",
        "\t\t\t\tself.MLP_layers, self.MLP_model.MLP_layers):\n",
        "\t\t\t\tif isinstance(m1, nn.Linear) and isinstance(m2, nn.Linear):\n",
        "\t\t\t\t\tm1.weight.data.copy_(m2.weight)\n",
        "\t\t\t\t\tm1.bias.data.copy_(m2.bias)\n",
        "\n",
        "\t\t\t# predict layers\n",
        "\t\t\tpredict_weight = torch.cat([\n",
        "\t\t\t\tself.GMF_model.predict_layer.weight, \n",
        "\t\t\t\tself.MLP_model.predict_layer.weight], dim=1)\n",
        "\t\t\tprecit_bias = self.GMF_model.predict_layer.bias + \\\n",
        "\t\t\t\t\t\tself.MLP_model.predict_layer.bias\n",
        "\n",
        "\t\t\tself.predict_layer.weight.data.copy_(0.5 * predict_weight)\n",
        "\t\t\tself.predict_layer.bias.data.copy_(0.5 * precit_bias)\n",
        "\n",
        "\tdef forward(self, user, item):\n",
        "\t\tif not self.model == 'MLP':\n",
        "\t\t\tembed_user_GMF = self.embed_user_GMF(user)\n",
        "\t\t\tembed_item_GMF = self.embed_item_GMF(item)\n",
        "\t\t\toutput_GMF = embed_user_GMF * embed_item_GMF\n",
        "\t\tif not self.model == 'GMF':\n",
        "\t\t\tembed_user_MLP = self.embed_user_MLP(user)\n",
        "\t\t\tembed_item_MLP = self.embed_item_MLP(item)\n",
        "\t\t\tinteraction = torch.cat((embed_user_MLP, embed_item_MLP), -1)\n",
        "\t\t\toutput_MLP = self.MLP_layers(interaction)\n",
        "\n",
        "\t\tif self.model == 'GMF':\n",
        "\t\t\tconcat = output_GMF\n",
        "\t\telif self.model == 'MLP':\n",
        "\t\t\tconcat = output_MLP\n",
        "\t\telse:\n",
        "\t\t\tconcat = torch.cat((output_GMF, output_MLP), -1)\n",
        "\n",
        "\t\tprediction = self.predict_layer(concat)\n",
        "\t\treturn prediction.view(-1)\n"
      ]
    },
    {
      "cell_type": "markdown",
      "source": [
        "# main:"
      ],
      "metadata": {
        "id": "syH7woQyER6I"
      }
    },
    {
      "cell_type": "code",
      "source": [
        "!pip install tensorboardX"
      ],
      "metadata": {
        "colab": {
          "base_uri": "https://localhost:8080/"
        },
        "id": "wJDoSTGnHBML",
        "outputId": "7891779e-09fe-45da-ed7b-bd0034c60bb1"
      },
      "execution_count": null,
      "outputs": [
        {
          "output_type": "stream",
          "name": "stdout",
          "text": [
            "Collecting tensorboardX\n",
            "  Downloading tensorboardX-2.5-py2.py3-none-any.whl (125 kB)\n",
            "\u001b[?25l\r\u001b[K     |██▋                             | 10 kB 17.8 MB/s eta 0:00:01\r\u001b[K     |█████▎                          | 20 kB 10.0 MB/s eta 0:00:01\r\u001b[K     |███████▉                        | 30 kB 8.4 MB/s eta 0:00:01\r\u001b[K     |██████████▌                     | 40 kB 7.9 MB/s eta 0:00:01\r\u001b[K     |█████████████                   | 51 kB 4.6 MB/s eta 0:00:01\r\u001b[K     |███████████████▊                | 61 kB 5.4 MB/s eta 0:00:01\r\u001b[K     |██████████████████▎             | 71 kB 5.3 MB/s eta 0:00:01\r\u001b[K     |█████████████████████           | 81 kB 5.1 MB/s eta 0:00:01\r\u001b[K     |███████████████████████▌        | 92 kB 5.4 MB/s eta 0:00:01\r\u001b[K     |██████████████████████████▏     | 102 kB 5.3 MB/s eta 0:00:01\r\u001b[K     |████████████████████████████▊   | 112 kB 5.3 MB/s eta 0:00:01\r\u001b[K     |███████████████████████████████▍| 122 kB 5.3 MB/s eta 0:00:01\r\u001b[K     |████████████████████████████████| 125 kB 5.3 MB/s \n",
            "\u001b[?25hRequirement already satisfied: protobuf>=3.8.0 in /usr/local/lib/python3.7/dist-packages (from tensorboardX) (3.17.3)\n",
            "Requirement already satisfied: six in /usr/local/lib/python3.7/dist-packages (from tensorboardX) (1.15.0)\n",
            "Requirement already satisfied: numpy in /usr/local/lib/python3.7/dist-packages (from tensorboardX) (1.21.5)\n",
            "Installing collected packages: tensorboardX\n",
            "Successfully installed tensorboardX-2.5\n"
          ]
        }
      ]
    },
    {
      "cell_type": "code",
      "source": [
        "import os\n",
        "import time\n",
        "import argparse\n",
        "import numpy as np\n",
        "\n",
        "import torch\n",
        "import torch.nn as nn\n",
        "import torch.optim as optim\n",
        "import torch.utils.data as data\n",
        "import torch.backends.cudnn as cudnn\n",
        "from tensorboardX import SummaryWriter\n",
        "\n",
        "'''\n",
        "import model\n",
        "import config\n",
        "import evaluate\n",
        "import data_utils\n",
        "'''"
      ],
      "metadata": {
        "colab": {
          "base_uri": "https://localhost:8080/",
          "height": 36
        },
        "id": "rcDqF9S2Fz5E",
        "outputId": "bd5f2549-6b67-46ae-dc68-415d439305e0"
      },
      "execution_count": null,
      "outputs": [
        {
          "output_type": "execute_result",
          "data": {
            "text/plain": [
              "'\\nimport model\\nimport config\\nimport evaluate\\nimport data_utils\\n'"
            ],
            "application/vnd.google.colaboratory.intrinsic+json": {
              "type": "string"
            }
          },
          "metadata": {},
          "execution_count": 36
        }
      ]
    },
    {
      "cell_type": "code",
      "source": [
        "parser={}\n",
        "parser[\"lr\"] = 0.001          #help=\"learning rate\"\n",
        "parser[\"dropout\"] = 0.0       #help=\"dropout rate\"\n",
        "parser[\"batch_size\"] = 256    #help=\"batch size for training\"\n",
        "parser[\"epochs\"] = 20         #help=\"training epoches\"\n",
        "parser[\"top_k\"] = 10          #help=\"compute metrics@top_k\"\n",
        "parser[\"factor_num\"] = 32     #help=\"predictive factors numbers in the model\"\n",
        "parser[\"num_layers\"] = 3      #help=\"number of layers in MLP model\"\n",
        "parser[\"num_ng\"] = 4          #help=\"sample negative items for training\"\n",
        "parser[\"test_num_ng\"] = 99    #help=\"sample part of negative items for testing\"\n",
        "parser[\"out\"] = True          #help=\"save model or   not\"\n",
        "parser[\"gpu\"] = \"0\"           #help=\"gpu card ID\""
      ],
      "metadata": {
        "id": "Xz6BBB-XGVzD"
      },
      "execution_count": null,
      "outputs": []
    },
    {
      "cell_type": "code",
      "source": [
        "os.environ[\"CUDA_VISIBLE_DEVICES\"] = parser[\"gpu\"]\n",
        "cudnn.benchmark = True"
      ],
      "metadata": {
        "id": "e5tIFUkXGiXU"
      },
      "execution_count": null,
      "outputs": []
    },
    {
      "cell_type": "code",
      "source": [
        ""
      ],
      "metadata": {
        "id": "a3dTqSU4QGgc"
      },
      "execution_count": null,
      "outputs": []
    },
    {
      "cell_type": "code",
      "source": [
        "!pwd"
      ],
      "metadata": {
        "colab": {
          "base_uri": "https://localhost:8080/"
        },
        "id": "QlO3GTKjEixa",
        "outputId": "ed30116e-fd06-44ff-9ced-4aead5439a06"
      },
      "execution_count": null,
      "outputs": [
        {
          "output_type": "stream",
          "name": "stdout",
          "text": [
            "/content/drive/MyDrive/Seminar\n"
          ]
        }
      ]
    },
    {
      "cell_type": "code",
      "source": [
        "############################## PREPARE DATASET ##########################\n",
        "\n",
        "train_data, test_data, user_num ,item_num, train_mat = load_all()\n",
        "\n",
        "# construct the train and test datasets\n",
        "train_dataset = NCFData(\n",
        "\t\ttrain_data, item_num, train_mat, parser[\"num_ng\"], True)\n",
        "test_dataset = NCFData(\n",
        "\t\ttest_data, item_num, train_mat, 0, False)\n",
        "train_loader = data.DataLoader(train_dataset,\n",
        "\t\tbatch_size=parser[\"batch_size\"], shuffle=True, num_workers=4)\n",
        "test_loader = data.DataLoader(test_dataset,\n",
        "\t\tbatch_size=parser[\"test_num_ng\"]+1, shuffle=False, num_workers=0)"
      ],
      "metadata": {
        "colab": {
          "base_uri": "https://localhost:8080/"
        },
        "id": "l151tuOlGkK7",
        "outputId": "2db54ec6-bb20-4f99-f72e-f71cbf0381bf"
      },
      "execution_count": null,
      "outputs": [
        {
          "output_type": "stream",
          "name": "stderr",
          "text": [
            "100%|██████████| 1000/1000 [00:00<00:00, 66859.61it/s]\n",
            "/usr/local/lib/python3.7/dist-packages/torch/utils/data/dataloader.py:481: UserWarning: This DataLoader will create 4 worker processes in total. Our suggested max number of worker in current system is 2, which is smaller than what this DataLoader is going to create. Please be aware that excessive worker creation might get DataLoader running slow or even freeze, lower the worker number to avoid potential slowness/freeze if necessary.\n",
            "  cpuset_checked))\n"
          ]
        }
      ]
    },
    {
      "cell_type": "code",
      "source": [
        "########################### CREATE MODEL #################################\n",
        "if config.model == 'NeuMF-pre':\n",
        "\tassert os.path.exists(config.GMF_model_path), 'lack of GMF model'\n",
        "\tassert os.path.exists(config.MLP_model_path), 'lack of MLP model'\n",
        "\tGMF_model = torch.load(config.GMF_model_path)\n",
        "\tMLP_model = torch.load(config.MLP_model_path)\n",
        "else:\n",
        "\tGMF_model = None\n",
        "\tMLP_model = None\n",
        "\n",
        "model = NCF(user_num, item_num, parser[\"factor_num\"], parser[\"num_layers\"], \n",
        "\t\t\t\t\t\tparser[\"dropout\"], config.model, GMF_model, MLP_model)\n",
        "model.cuda()\n",
        "loss_function = nn.BCEWithLogitsLoss()\n",
        "\n",
        "if config.model == 'NeuMF-pre':\n",
        "\toptimizer = optim.SGD(model.parameters(), lr=lr)\n",
        "else:\n",
        "\toptimizer = optim.Adam(model.parameters(), lr=lr)"
      ],
      "metadata": {
        "id": "P8wnQqwyGmRz"
      },
      "execution_count": null,
      "outputs": []
    },
    {
      "cell_type": "code",
      "source": [
        "writer = SummaryWriter() # for visualization"
      ],
      "metadata": {
        "id": "9wtbsIxBTtqb"
      },
      "execution_count": null,
      "outputs": []
    },
    {
      "cell_type": "code",
      "source": [
        "from tqdm import tqdm"
      ],
      "metadata": {
        "id": "rp26ifQSlVXQ"
      },
      "execution_count": null,
      "outputs": []
    },
    {
      "cell_type": "code",
      "execution_count": null,
      "metadata": {
        "id": "nCDEhRipER6I",
        "colab": {
          "base_uri": "https://localhost:8080/",
          "height": 1000
        },
        "outputId": "2b9cfc5e-3d54-44fb-caaf-0d92e814293b"
      },
      "outputs": [
        {
          "output_type": "stream",
          "name": "stderr",
          "text": [
            "\r  0%|          | 0/20 [00:00<?, ?it/s]/usr/local/lib/python3.7/dist-packages/torch/utils/data/dataloader.py:481: UserWarning: This DataLoader will create 4 worker processes in total. Our suggested max number of worker in current system is 2, which is smaller than what this DataLoader is going to create. Please be aware that excessive worker creation might get DataLoader running slow or even freeze, lower the worker number to avoid potential slowness/freeze if necessary.\n",
            "  cpuset_checked))\n",
            "100%|██████████| 20/20 [00:02<00:00,  7.27it/s]\n"
          ]
        },
        {
          "output_type": "stream",
          "name": "stdout",
          "text": [
            "The time elapse of epoch 000 is: 00: 00: 02\n",
            "HR: 0.200\tNDCG: 0.086\n"
          ]
        },
        {
          "output_type": "stream",
          "name": "stderr",
          "text": [
            "100%|██████████| 20/20 [00:02<00:00,  7.07it/s]\n"
          ]
        },
        {
          "output_type": "stream",
          "name": "stdout",
          "text": [
            "The time elapse of epoch 001 is: 00: 00: 03\n",
            "HR: 0.200\tNDCG: 0.075\n"
          ]
        },
        {
          "output_type": "stream",
          "name": "stderr",
          "text": [
            "100%|██████████| 20/20 [00:02<00:00,  7.06it/s]\n"
          ]
        },
        {
          "output_type": "stream",
          "name": "stdout",
          "text": [
            "The time elapse of epoch 002 is: 00: 00: 03\n",
            "HR: 0.100\tNDCG: 0.033\n"
          ]
        },
        {
          "output_type": "stream",
          "name": "stderr",
          "text": [
            "100%|██████████| 20/20 [00:03<00:00,  6.44it/s]\n"
          ]
        },
        {
          "output_type": "stream",
          "name": "stdout",
          "text": [
            "The time elapse of epoch 003 is: 00: 00: 03\n",
            "HR: 0.100\tNDCG: 0.036\n"
          ]
        },
        {
          "output_type": "stream",
          "name": "stderr",
          "text": [
            "100%|██████████| 20/20 [00:03<00:00,  5.70it/s]\n"
          ]
        },
        {
          "output_type": "stream",
          "name": "stdout",
          "text": [
            "The time elapse of epoch 004 is: 00: 00: 03\n",
            "HR: 0.100\tNDCG: 0.036\n"
          ]
        },
        {
          "output_type": "stream",
          "name": "stderr",
          "text": [
            "100%|██████████| 20/20 [00:03<00:00,  5.66it/s]\n"
          ]
        },
        {
          "output_type": "stream",
          "name": "stdout",
          "text": [
            "The time elapse of epoch 005 is: 00: 00: 03\n",
            "HR: 0.100\tNDCG: 0.036\n"
          ]
        },
        {
          "output_type": "stream",
          "name": "stderr",
          "text": [
            "100%|██████████| 20/20 [00:03<00:00,  6.52it/s]\n"
          ]
        },
        {
          "output_type": "stream",
          "name": "stdout",
          "text": [
            "The time elapse of epoch 006 is: 00: 00: 03\n",
            "HR: 0.100\tNDCG: 0.033\n"
          ]
        },
        {
          "output_type": "stream",
          "name": "stderr",
          "text": [
            "100%|██████████| 20/20 [00:02<00:00,  7.11it/s]\n"
          ]
        },
        {
          "output_type": "stream",
          "name": "stdout",
          "text": [
            "The time elapse of epoch 007 is: 00: 00: 02\n",
            "HR: 0.100\tNDCG: 0.033\n"
          ]
        },
        {
          "output_type": "stream",
          "name": "stderr",
          "text": [
            "100%|██████████| 20/20 [00:02<00:00,  7.64it/s]\n"
          ]
        },
        {
          "output_type": "stream",
          "name": "stdout",
          "text": [
            "The time elapse of epoch 008 is: 00: 00: 02\n",
            "HR: 0.100\tNDCG: 0.033\n"
          ]
        },
        {
          "output_type": "stream",
          "name": "stderr",
          "text": [
            "\r  0%|          | 0/20 [00:00<?, ?it/s]Exception ignored in: <function _releaseLock at 0x7f988ea7b8c0>\n",
            "Traceback (most recent call last):\n",
            "  File \"/usr/lib/python3.7/logging/__init__.py\", line 221, in _releaseLock\n",
            "    def _releaseLock():\n",
            "KeyboardInterrupt\n",
            "  0%|          | 0/20 [00:05<?, ?it/s]\n"
          ]
        },
        {
          "output_type": "error",
          "ename": "RuntimeError",
          "evalue": "ignored",
          "traceback": [
            "\u001b[0;31m---------------------------------------------------------------------------\u001b[0m",
            "\u001b[0;31mEmpty\u001b[0m                                     Traceback (most recent call last)",
            "\u001b[0;32m/usr/local/lib/python3.7/dist-packages/torch/utils/data/dataloader.py\u001b[0m in \u001b[0;36m_try_get_data\u001b[0;34m(self, timeout)\u001b[0m\n\u001b[1;32m    989\u001b[0m         \u001b[0;32mtry\u001b[0m\u001b[0;34m:\u001b[0m\u001b[0;34m\u001b[0m\u001b[0;34m\u001b[0m\u001b[0m\n\u001b[0;32m--> 990\u001b[0;31m             \u001b[0mdata\u001b[0m \u001b[0;34m=\u001b[0m \u001b[0mself\u001b[0m\u001b[0;34m.\u001b[0m\u001b[0m_data_queue\u001b[0m\u001b[0;34m.\u001b[0m\u001b[0mget\u001b[0m\u001b[0;34m(\u001b[0m\u001b[0mtimeout\u001b[0m\u001b[0;34m=\u001b[0m\u001b[0mtimeout\u001b[0m\u001b[0;34m)\u001b[0m\u001b[0;34m\u001b[0m\u001b[0;34m\u001b[0m\u001b[0m\n\u001b[0m\u001b[1;32m    991\u001b[0m             \u001b[0;32mreturn\u001b[0m \u001b[0;34m(\u001b[0m\u001b[0;32mTrue\u001b[0m\u001b[0;34m,\u001b[0m \u001b[0mdata\u001b[0m\u001b[0;34m)\u001b[0m\u001b[0;34m\u001b[0m\u001b[0;34m\u001b[0m\u001b[0m\n",
            "\u001b[0;32m/usr/lib/python3.7/multiprocessing/queues.py\u001b[0m in \u001b[0;36mget\u001b[0;34m(self, block, timeout)\u001b[0m\n\u001b[1;32m    104\u001b[0m                     \u001b[0;32mif\u001b[0m \u001b[0;32mnot\u001b[0m \u001b[0mself\u001b[0m\u001b[0;34m.\u001b[0m\u001b[0m_poll\u001b[0m\u001b[0;34m(\u001b[0m\u001b[0mtimeout\u001b[0m\u001b[0;34m)\u001b[0m\u001b[0;34m:\u001b[0m\u001b[0;34m\u001b[0m\u001b[0;34m\u001b[0m\u001b[0m\n\u001b[0;32m--> 105\u001b[0;31m                         \u001b[0;32mraise\u001b[0m \u001b[0mEmpty\u001b[0m\u001b[0;34m\u001b[0m\u001b[0;34m\u001b[0m\u001b[0m\n\u001b[0m\u001b[1;32m    106\u001b[0m                 \u001b[0;32melif\u001b[0m \u001b[0;32mnot\u001b[0m \u001b[0mself\u001b[0m\u001b[0;34m.\u001b[0m\u001b[0m_poll\u001b[0m\u001b[0;34m(\u001b[0m\u001b[0;34m)\u001b[0m\u001b[0;34m:\u001b[0m\u001b[0;34m\u001b[0m\u001b[0;34m\u001b[0m\u001b[0m\n",
            "\u001b[0;31mEmpty\u001b[0m: ",
            "\nThe above exception was the direct cause of the following exception:\n",
            "\u001b[0;31mRuntimeError\u001b[0m                              Traceback (most recent call last)",
            "\u001b[0;32m<ipython-input-44-ea861ddb6451>\u001b[0m in \u001b[0;36m<module>\u001b[0;34m()\u001b[0m\n\u001b[1;32m      5\u001b[0m         \u001b[0mstart_time\u001b[0m \u001b[0;34m=\u001b[0m \u001b[0mtime\u001b[0m\u001b[0;34m.\u001b[0m\u001b[0mtime\u001b[0m\u001b[0;34m(\u001b[0m\u001b[0;34m)\u001b[0m\u001b[0;34m\u001b[0m\u001b[0;34m\u001b[0m\u001b[0m\n\u001b[1;32m      6\u001b[0m         \u001b[0mtrain_loader\u001b[0m\u001b[0;34m.\u001b[0m\u001b[0mdataset\u001b[0m\u001b[0;34m.\u001b[0m\u001b[0mng_sample\u001b[0m\u001b[0;34m(\u001b[0m\u001b[0;34m)\u001b[0m\u001b[0;34m\u001b[0m\u001b[0;34m\u001b[0m\u001b[0m\n\u001b[0;32m----> 7\u001b[0;31m         \u001b[0;32mfor\u001b[0m \u001b[0muser\u001b[0m\u001b[0;34m,\u001b[0m \u001b[0mitem\u001b[0m\u001b[0;34m,\u001b[0m \u001b[0mlabel\u001b[0m \u001b[0;32min\u001b[0m \u001b[0mtqdm\u001b[0m\u001b[0;34m(\u001b[0m\u001b[0mtrain_loader\u001b[0m\u001b[0;34m)\u001b[0m\u001b[0;34m:\u001b[0m\u001b[0;34m\u001b[0m\u001b[0;34m\u001b[0m\u001b[0m\n\u001b[0m\u001b[1;32m      8\u001b[0m                 \u001b[0;32mtry\u001b[0m\u001b[0;34m:\u001b[0m\u001b[0;34m\u001b[0m\u001b[0;34m\u001b[0m\u001b[0m\n\u001b[1;32m      9\u001b[0m                         \u001b[0muser\u001b[0m \u001b[0;34m=\u001b[0m \u001b[0muser\u001b[0m\u001b[0;34m.\u001b[0m\u001b[0mcuda\u001b[0m\u001b[0;34m(\u001b[0m\u001b[0;34m)\u001b[0m\u001b[0;34m\u001b[0m\u001b[0;34m\u001b[0m\u001b[0m\n",
            "\u001b[0;32m/usr/local/lib/python3.7/dist-packages/tqdm/std.py\u001b[0m in \u001b[0;36m__iter__\u001b[0;34m(self)\u001b[0m\n\u001b[1;32m   1193\u001b[0m \u001b[0;34m\u001b[0m\u001b[0m\n\u001b[1;32m   1194\u001b[0m         \u001b[0;32mtry\u001b[0m\u001b[0;34m:\u001b[0m\u001b[0;34m\u001b[0m\u001b[0;34m\u001b[0m\u001b[0m\n\u001b[0;32m-> 1195\u001b[0;31m             \u001b[0;32mfor\u001b[0m \u001b[0mobj\u001b[0m \u001b[0;32min\u001b[0m \u001b[0miterable\u001b[0m\u001b[0;34m:\u001b[0m\u001b[0;34m\u001b[0m\u001b[0;34m\u001b[0m\u001b[0m\n\u001b[0m\u001b[1;32m   1196\u001b[0m                 \u001b[0;32myield\u001b[0m \u001b[0mobj\u001b[0m\u001b[0;34m\u001b[0m\u001b[0;34m\u001b[0m\u001b[0m\n\u001b[1;32m   1197\u001b[0m                 \u001b[0;31m# Update and possibly print the progressbar.\u001b[0m\u001b[0;34m\u001b[0m\u001b[0;34m\u001b[0m\u001b[0;34m\u001b[0m\u001b[0m\n",
            "\u001b[0;32m/usr/local/lib/python3.7/dist-packages/torch/utils/data/dataloader.py\u001b[0m in \u001b[0;36m__next__\u001b[0;34m(self)\u001b[0m\n\u001b[1;32m    519\u001b[0m             \u001b[0;32mif\u001b[0m \u001b[0mself\u001b[0m\u001b[0;34m.\u001b[0m\u001b[0m_sampler_iter\u001b[0m \u001b[0;32mis\u001b[0m \u001b[0;32mNone\u001b[0m\u001b[0;34m:\u001b[0m\u001b[0;34m\u001b[0m\u001b[0;34m\u001b[0m\u001b[0m\n\u001b[1;32m    520\u001b[0m                 \u001b[0mself\u001b[0m\u001b[0;34m.\u001b[0m\u001b[0m_reset\u001b[0m\u001b[0;34m(\u001b[0m\u001b[0;34m)\u001b[0m\u001b[0;34m\u001b[0m\u001b[0;34m\u001b[0m\u001b[0m\n\u001b[0;32m--> 521\u001b[0;31m             \u001b[0mdata\u001b[0m \u001b[0;34m=\u001b[0m \u001b[0mself\u001b[0m\u001b[0;34m.\u001b[0m\u001b[0m_next_data\u001b[0m\u001b[0;34m(\u001b[0m\u001b[0;34m)\u001b[0m\u001b[0;34m\u001b[0m\u001b[0;34m\u001b[0m\u001b[0m\n\u001b[0m\u001b[1;32m    522\u001b[0m             \u001b[0mself\u001b[0m\u001b[0;34m.\u001b[0m\u001b[0m_num_yielded\u001b[0m \u001b[0;34m+=\u001b[0m \u001b[0;36m1\u001b[0m\u001b[0;34m\u001b[0m\u001b[0;34m\u001b[0m\u001b[0m\n\u001b[1;32m    523\u001b[0m             \u001b[0;32mif\u001b[0m \u001b[0mself\u001b[0m\u001b[0;34m.\u001b[0m\u001b[0m_dataset_kind\u001b[0m \u001b[0;34m==\u001b[0m \u001b[0m_DatasetKind\u001b[0m\u001b[0;34m.\u001b[0m\u001b[0mIterable\u001b[0m \u001b[0;32mand\u001b[0m\u001b[0;31m \u001b[0m\u001b[0;31m\\\u001b[0m\u001b[0;34m\u001b[0m\u001b[0;34m\u001b[0m\u001b[0m\n",
            "\u001b[0;32m/usr/local/lib/python3.7/dist-packages/torch/utils/data/dataloader.py\u001b[0m in \u001b[0;36m_next_data\u001b[0;34m(self)\u001b[0m\n\u001b[1;32m   1184\u001b[0m \u001b[0;34m\u001b[0m\u001b[0m\n\u001b[1;32m   1185\u001b[0m             \u001b[0;32massert\u001b[0m \u001b[0;32mnot\u001b[0m \u001b[0mself\u001b[0m\u001b[0;34m.\u001b[0m\u001b[0m_shutdown\u001b[0m \u001b[0;32mand\u001b[0m \u001b[0mself\u001b[0m\u001b[0;34m.\u001b[0m\u001b[0m_tasks_outstanding\u001b[0m \u001b[0;34m>\u001b[0m \u001b[0;36m0\u001b[0m\u001b[0;34m\u001b[0m\u001b[0;34m\u001b[0m\u001b[0m\n\u001b[0;32m-> 1186\u001b[0;31m             \u001b[0midx\u001b[0m\u001b[0;34m,\u001b[0m \u001b[0mdata\u001b[0m \u001b[0;34m=\u001b[0m \u001b[0mself\u001b[0m\u001b[0;34m.\u001b[0m\u001b[0m_get_data\u001b[0m\u001b[0;34m(\u001b[0m\u001b[0;34m)\u001b[0m\u001b[0;34m\u001b[0m\u001b[0;34m\u001b[0m\u001b[0m\n\u001b[0m\u001b[1;32m   1187\u001b[0m             \u001b[0mself\u001b[0m\u001b[0;34m.\u001b[0m\u001b[0m_tasks_outstanding\u001b[0m \u001b[0;34m-=\u001b[0m \u001b[0;36m1\u001b[0m\u001b[0;34m\u001b[0m\u001b[0;34m\u001b[0m\u001b[0m\n\u001b[1;32m   1188\u001b[0m             \u001b[0;32mif\u001b[0m \u001b[0mself\u001b[0m\u001b[0;34m.\u001b[0m\u001b[0m_dataset_kind\u001b[0m \u001b[0;34m==\u001b[0m \u001b[0m_DatasetKind\u001b[0m\u001b[0;34m.\u001b[0m\u001b[0mIterable\u001b[0m\u001b[0;34m:\u001b[0m\u001b[0;34m\u001b[0m\u001b[0;34m\u001b[0m\u001b[0m\n",
            "\u001b[0;32m/usr/local/lib/python3.7/dist-packages/torch/utils/data/dataloader.py\u001b[0m in \u001b[0;36m_get_data\u001b[0;34m(self)\u001b[0m\n\u001b[1;32m   1150\u001b[0m         \u001b[0;32melse\u001b[0m\u001b[0;34m:\u001b[0m\u001b[0;34m\u001b[0m\u001b[0;34m\u001b[0m\u001b[0m\n\u001b[1;32m   1151\u001b[0m             \u001b[0;32mwhile\u001b[0m \u001b[0;32mTrue\u001b[0m\u001b[0;34m:\u001b[0m\u001b[0;34m\u001b[0m\u001b[0;34m\u001b[0m\u001b[0m\n\u001b[0;32m-> 1152\u001b[0;31m                 \u001b[0msuccess\u001b[0m\u001b[0;34m,\u001b[0m \u001b[0mdata\u001b[0m \u001b[0;34m=\u001b[0m \u001b[0mself\u001b[0m\u001b[0;34m.\u001b[0m\u001b[0m_try_get_data\u001b[0m\u001b[0;34m(\u001b[0m\u001b[0;34m)\u001b[0m\u001b[0;34m\u001b[0m\u001b[0;34m\u001b[0m\u001b[0m\n\u001b[0m\u001b[1;32m   1153\u001b[0m                 \u001b[0;32mif\u001b[0m \u001b[0msuccess\u001b[0m\u001b[0;34m:\u001b[0m\u001b[0;34m\u001b[0m\u001b[0;34m\u001b[0m\u001b[0m\n\u001b[1;32m   1154\u001b[0m                     \u001b[0;32mreturn\u001b[0m \u001b[0mdata\u001b[0m\u001b[0;34m\u001b[0m\u001b[0;34m\u001b[0m\u001b[0m\n",
            "\u001b[0;32m/usr/local/lib/python3.7/dist-packages/torch/utils/data/dataloader.py\u001b[0m in \u001b[0;36m_try_get_data\u001b[0;34m(self, timeout)\u001b[0m\n\u001b[1;32m   1001\u001b[0m             \u001b[0;32mif\u001b[0m \u001b[0mlen\u001b[0m\u001b[0;34m(\u001b[0m\u001b[0mfailed_workers\u001b[0m\u001b[0;34m)\u001b[0m \u001b[0;34m>\u001b[0m \u001b[0;36m0\u001b[0m\u001b[0;34m:\u001b[0m\u001b[0;34m\u001b[0m\u001b[0;34m\u001b[0m\u001b[0m\n\u001b[1;32m   1002\u001b[0m                 \u001b[0mpids_str\u001b[0m \u001b[0;34m=\u001b[0m \u001b[0;34m', '\u001b[0m\u001b[0;34m.\u001b[0m\u001b[0mjoin\u001b[0m\u001b[0;34m(\u001b[0m\u001b[0mstr\u001b[0m\u001b[0;34m(\u001b[0m\u001b[0mw\u001b[0m\u001b[0;34m.\u001b[0m\u001b[0mpid\u001b[0m\u001b[0;34m)\u001b[0m \u001b[0;32mfor\u001b[0m \u001b[0mw\u001b[0m \u001b[0;32min\u001b[0m \u001b[0mfailed_workers\u001b[0m\u001b[0;34m)\u001b[0m\u001b[0;34m\u001b[0m\u001b[0;34m\u001b[0m\u001b[0m\n\u001b[0;32m-> 1003\u001b[0;31m                 \u001b[0;32mraise\u001b[0m \u001b[0mRuntimeError\u001b[0m\u001b[0;34m(\u001b[0m\u001b[0;34m'DataLoader worker (pid(s) {}) exited unexpectedly'\u001b[0m\u001b[0;34m.\u001b[0m\u001b[0mformat\u001b[0m\u001b[0;34m(\u001b[0m\u001b[0mpids_str\u001b[0m\u001b[0;34m)\u001b[0m\u001b[0;34m)\u001b[0m \u001b[0;32mfrom\u001b[0m \u001b[0me\u001b[0m\u001b[0;34m\u001b[0m\u001b[0;34m\u001b[0m\u001b[0m\n\u001b[0m\u001b[1;32m   1004\u001b[0m             \u001b[0;32mif\u001b[0m \u001b[0misinstance\u001b[0m\u001b[0;34m(\u001b[0m\u001b[0me\u001b[0m\u001b[0;34m,\u001b[0m \u001b[0mqueue\u001b[0m\u001b[0;34m.\u001b[0m\u001b[0mEmpty\u001b[0m\u001b[0;34m)\u001b[0m\u001b[0;34m:\u001b[0m\u001b[0;34m\u001b[0m\u001b[0;34m\u001b[0m\u001b[0m\n\u001b[1;32m   1005\u001b[0m                 \u001b[0;32mreturn\u001b[0m \u001b[0;34m(\u001b[0m\u001b[0;32mFalse\u001b[0m\u001b[0;34m,\u001b[0m \u001b[0;32mNone\u001b[0m\u001b[0;34m)\u001b[0m\u001b[0;34m\u001b[0m\u001b[0;34m\u001b[0m\u001b[0m\n",
            "\u001b[0;31mRuntimeError\u001b[0m: DataLoader worker (pid(s) 532) exited unexpectedly"
          ]
        }
      ],
      "source": [
        "########################### TRAINING #####################################\n",
        "count, best_hr = 0, 0\n",
        "for epoch in range(parser[\"epochs\"]):\n",
        "\tmodel.train() # Enable dropout (if have).\n",
        "\tstart_time = time.time()\n",
        "\ttrain_loader.dataset.ng_sample()\n",
        "\tfor user, item, label in tqdm(train_loader):\n",
        "\t\ttry:\n",
        "\t\t\tuser = user.cuda()\n",
        "\t\t\titem = item.cuda()\n",
        "\t\t\tlabel = label.float().cuda()\n",
        "\n",
        "\t\t\tmodel.zero_grad()\n",
        "\t\t\tprediction = model(user, item)\n",
        "\t\t\tloss = loss_function(prediction, label)\n",
        "\t\t\tloss.backward()\n",
        "\t\t\toptimizer.step()\n",
        "\t\t\t# writer.add_scalar('data/loss', loss.item(), count)\n",
        "\t\t\tcount += 1\n",
        "\t\texcept:\n",
        "\t\t\tbreak\n",
        "\n",
        "\n",
        "\tmodel.eval()\n",
        "\tHR, NDCG = metrics(model, test_loader, parser[\"top_k\"])\n",
        "\n",
        "\telapsed_time = time.time() - start_time\n",
        "\tprint(\"The time elapse of epoch {:03d}\".format(epoch) + \" is: \" + \n",
        "\t\t\ttime.strftime(\"%H: %M: %S\", time.gmtime(elapsed_time)))\n",
        "\tprint(\"HR: {:.3f}\\tNDCG: {:.3f}\".format(np.mean(HR), np.mean(NDCG)))\n",
        "\n",
        "\tif HR > best_hr:\n",
        "\t\tbest_hr, best_ndcg, best_epoch = HR, NDCG, epoch\n",
        "\t\tif parser[\"out\"]:\n",
        "\t\t\tif not os.path.exists(config.model_path):\n",
        "\t\t\t\tos.mkdir(config.model_path)\n",
        "\t\t\ttorch.save(model, \n",
        "\t\t\t\t'{}{}.pth'.format(config.model_path, config.model))\n",
        "\n",
        "print(\"End. Best epoch {:03d}: HR = {:.3f}, NDCG = {:.3f}\".format(\n",
        "\t\t\t\t\t\t\t\t\tbest_epoch, best_hr, best_ndcg))\n"
      ]
    },
    {
      "cell_type": "code",
      "source": [
        ""
      ],
      "metadata": {
        "id": "abZTRIMPKw9I"
      },
      "execution_count": null,
      "outputs": []
    },
    {
      "cell_type": "code",
      "source": [
        ""
      ],
      "metadata": {
        "id": "o6wWMtBYKw_l"
      },
      "execution_count": null,
      "outputs": []
    }
  ]
}