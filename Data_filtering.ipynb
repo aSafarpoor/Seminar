{
  "nbformat": 4,
  "nbformat_minor": 0,
  "metadata": {
    "colab": {
      "name": "Data-filtering.ipynb",
      "provenance": [],
      "authorship_tag": "ABX9TyOdLoPj54cObr/yInTRiLzb",
      "include_colab_link": true
    },
    "kernelspec": {
      "name": "python3",
      "display_name": "Python 3"
    },
    "language_info": {
      "name": "python"
    }
  },
  "cells": [
    {
      "cell_type": "markdown",
      "metadata": {
        "id": "view-in-github",
        "colab_type": "text"
      },
      "source": [
        "<a href=\"https://colab.research.google.com/github/aSafarpoor/Seminar/blob/main/Data_filtering.ipynb\" target=\"_parent\"><img src=\"https://colab.research.google.com/assets/colab-badge.svg\" alt=\"Open In Colab\"/></a>"
      ]
    },
    {
      "cell_type": "markdown",
      "source": [
        "because lack of HW, I decided to remove part of my dataset and keep just part of its entities."
      ],
      "metadata": {
        "id": "_dNLxaf4lLk0"
      }
    },
    {
      "cell_type": "code",
      "source": [
        "from matplotlib import pyplot as plt\n",
        "from tqdm import tqdm"
      ],
      "metadata": {
        "id": "Jv2tVvZbrJI1"
      },
      "execution_count": null,
      "outputs": []
    },
    {
      "cell_type": "code",
      "execution_count": null,
      "metadata": {
        "colab": {
          "base_uri": "https://localhost:8080/"
        },
        "id": "Xw6ceZkClGiC",
        "outputId": "d77694e0-4627-403b-c8e9-5863586e3f37"
      },
      "outputs": [
        {
          "output_type": "stream",
          "name": "stdout",
          "text": [
            "86835\n"
          ]
        }
      ],
      "source": [
        "f = open(\"train.txt\", \"r\")\n",
        "\n",
        "e1_list = {}\n",
        "e2_list = {}\n",
        "\n",
        "c=0\n",
        "x_list = []\n",
        "for x in f:\n",
        "    x_list.append(x)\n",
        "    ere = x.split()\n",
        "    try:\n",
        "        e1_list[ere[0]]+=1\n",
        "    except:\n",
        "        e1_list[ere[0]]=1\n",
        "\n",
        "    try:\n",
        "        e2_list[ere[2]]+=1\n",
        "    except:\n",
        "        e2_list[ere[2]]=1\n",
        "    \n",
        "    c+=1\n",
        "\n",
        "print(c)"
      ]
    },
    {
      "cell_type": "code",
      "source": [
        "c = 0\n",
        "intersection_entity_list = []\n",
        "temp = e2_list.keys()\n",
        "for i in e1_list.keys():\n",
        "    if i in temp:\n",
        "        c+=1\n",
        "        intersection_entity_list.append(i)\n",
        "\n",
        "plt.bar(1,len(e1_list),label=\"e1=\"+str(len(e1_list)))\n",
        "plt.bar(2,len(e2_list),label=\"e2=\"+str(len(e2_list)))\n",
        "plt.bar(3,c,label=\"intersection\")\n",
        "plt.legend()\n",
        "plt.show()\n",
        "\n",
        "len_intersection_e = c"
      ],
      "metadata": {
        "colab": {
          "base_uri": "https://localhost:8080/",
          "height": 265
        },
        "id": "riHT4DH0qr5H",
        "outputId": "8ab08013-7b6f-476a-de6b-dd00050188f9"
      },
      "execution_count": null,
      "outputs": [
        {
          "output_type": "display_data",
          "data": {
            "text/plain": [
              "<Figure size 432x288 with 1 Axes>"
            ],
            "image/png": "[encoded data removed]"
          },
          "metadata": {
            "needs_background": "light"
          }
        }
      ]
    },
    {
      "cell_type": "code",
      "source": [
        "goal_entity_list = intersection_entity_list[:int(len(intersection_entity_list)*0.5)]"
      ],
      "metadata": {
        "id": "DgIiJms-rF7V"
      },
      "execution_count": null,
      "outputs": []
    },
    {
      "cell_type": "code",
      "source": [
        "len(goal_entity_list)"
      ],
      "metadata": {
        "colab": {
          "base_uri": "https://localhost:8080/"
        },
        "id": "Kzo0kwiHslxa",
        "outputId": "e55c1f71-3c84-4e65-b770-ebf9dba45b71"
      },
      "execution_count": null,
      "outputs": [
        {
          "output_type": "execute_result",
          "data": {
            "text/plain": [
              "15466"
            ]
          },
          "metadata": {},
          "execution_count": 31
        }
      ]
    },
    {
      "cell_type": "code",
      "source": [
        "out_list = []\n",
        "c = 0\n",
        "for x in tqdm(x_list):\n",
        "    c+=1\n",
        "    ere = x.split()\n",
        "    if ere[0] in goal_entity_list and ere[2] in goal_entity_list:\n",
        "        out_list.append(ere)"
      ],
      "metadata": {
        "colab": {
          "base_uri": "https://localhost:8080/"
        },
        "id": "v_qdiYZZsoXi",
        "outputId": "affd0295-6f4a-4ad4-c829-ae92b8947a7b"
      },
      "execution_count": null,
      "outputs": [
        {
          "output_type": "stream",
          "name": "stderr",
          "text": [
            "100%|██████████| 86835/86835 [00:36<00:00, 2396.65it/s]\n"
          ]
        }
      ]
    },
    {
      "cell_type": "code",
      "source": [
        "print(len(out_list),len(x_list))"
      ],
      "metadata": {
        "colab": {
          "base_uri": "https://localhost:8080/"
        },
        "id": "BwqEnLw6tF7S",
        "outputId": "640f309e-5dad-45d9-c44f-ee2514ccaa72"
      },
      "execution_count": null,
      "outputs": [
        {
          "output_type": "stream",
          "name": "stdout",
          "text": [
            "26736 86835\n"
          ]
        }
      ]
    },
    {
      "cell_type": "code",
      "source": [
        "print(\"mean_degree:\")\n",
        "print(\"original data:\")\n",
        "print(round(len(out_list)*2/len(goal_entity_list),2))\n",
        "print(\"partial data:\")\n",
        "print(round(len(x_list)*2/len_intersection_e,2))"
      ],
      "metadata": {
        "colab": {
          "base_uri": "https://localhost:8080/"
        },
        "id": "EJHCdwB-tzIB",
        "outputId": "b1d2fa8f-8c1f-471b-d9e4-27ccea08e65f"
      },
      "execution_count": null,
      "outputs": [
        {
          "output_type": "stream",
          "name": "stdout",
          "text": [
            "mean_degree:\n",
            "original data:\n",
            "3.46\n",
            "partial data:\n",
            "5.61\n"
          ]
        }
      ]
    },
    {
      "cell_type": "code",
      "source": [
        "f = open(\"train2.txt\", \"w\")\n",
        "for x in out_list:\n",
        "    s = '  '.join(x)\n",
        "    s += '\\n'\n",
        "    f.write(s)\n",
        "f.close()"
      ],
      "metadata": {
        "id": "GO-P-OWNuo0y"
      },
      "execution_count": null,
      "outputs": []
    },
    {
      "cell_type": "code",
      "source": [
        "\n",
        "def cleaner(entity_list,file_name,output_filename):\n",
        "    c = 0\n",
        "    t = 0\n",
        "    f = open(file_name, \"r\")\n",
        "    fout = open(output_filename, \"w\")\n",
        "    for x in f:\n",
        "        c+=1\n",
        "        ere = x.split()\n",
        "        if ere[0] in entity_list and ere[2] in entity_list:\n",
        "            fout.write(x)\n",
        "            t+=1\n",
        "\n",
        "    fout.close()\n",
        "    f.close()\n",
        "    print(c,t)"
      ],
      "metadata": {
        "id": "JG58izk1wgK_"
      },
      "execution_count": null,
      "outputs": []
    },
    {
      "cell_type": "code",
      "source": [
        "cleaner(goal_entity_list , \"train.txt\" , \"train2.txt\")\n",
        "cleaner(goal_entity_list , \"test.txt\"  , \"test2.txt\")\n",
        "cleaner(goal_entity_list , \"valid.txt\" , \"valid2.txt\")"
      ],
      "metadata": {
        "colab": {
          "base_uri": "https://localhost:8080/"
        },
        "id": "2Jn415HmwhA9",
        "outputId": "b73fa29c-5a01-412e-93c4-7c07e3627274"
      },
      "execution_count": null,
      "outputs": [
        {
          "output_type": "stream",
          "name": "stdout",
          "text": [
            "86835 26736\n",
            "3134 601\n",
            "3034 608\n"
          ]
        }
      ]
    },
    {
      "cell_type": "code",
      "source": [
        "plt.bar([0],[int(100*26736/86835)],label= 'train '+str(int(100*26736/86835))+\"%\")\n",
        "plt.bar([1],[int(100*601/3134)],label= 'test '+str(int(100*601/3134))+\"%\")\n",
        "plt.bar([2],[int(608*100/3034)],label= 'validation '+str(int(608*100/3034))+\"%\")\n",
        "plt.legend()\n",
        "plt.show()"
      ],
      "metadata": {
        "colab": {
          "base_uri": "https://localhost:8080/",
          "height": 265
        },
        "id": "OTJxJWIZy_MV",
        "outputId": "2bb12e73-2afc-4952-f6cb-5d670f45d4f2"
      },
      "execution_count": null,
      "outputs": [
        {
          "output_type": "display_data",
          "data": {
            "text/plain": [
              "<Figure size 432x288 with 1 Axes>"
            ],
            "image/png": "[encoded data removed]"
          },
          "metadata": {
            "needs_background": "light"
          }
        }
      ]
    },
    {
      "cell_type": "code",
      "source": [
        ""
      ],
      "metadata": {
        "id": "s-stXKrz0Xry"
      },
      "execution_count": null,
      "outputs": []
    }
  ]
}